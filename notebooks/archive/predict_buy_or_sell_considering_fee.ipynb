{
 "cells": [
  {
   "cell_type": "markdown",
   "metadata": {},
   "source": [
    "# Imports"
   ]
  },
  {
   "cell_type": "code",
   "execution_count": 97,
   "metadata": {},
   "outputs": [],
   "source": [
    "import torch\n",
    "from torch import nn\n",
    "import torch.nn.functional as F\n",
    "import numpy as np\n",
    "import pandas as pd\n",
    "import matplotlib.pyplot as plt\n",
    "import os\n",
    "from tqdm.auto import tqdm\n",
    "import wandb"
   ]
  },
  {
   "cell_type": "markdown",
   "metadata": {},
   "source": [
    "# Config"
   ]
  },
  {
   "cell_type": "code",
   "execution_count": 98,
   "metadata": {},
   "outputs": [],
   "source": [
    "FEE = 0.00055\n",
    "WINDOW_SIZE = 64\n",
    "HIDDEN_SIZES = [64, 64]\n",
    "BATCH_SIZE = 1024\n",
    "LEARNING_RATE = 0.001\n",
    "EPOCHS = 40\n",
    "DROPOUT_RATE = 0.1\n",
    "USE_RESIDUALS = True\n",
    "OUTPUTS = [\"BUY\", \"SELL\", \"HOLD\"]\n",
    "WANDB = False"
   ]
  },
  {
   "cell_type": "markdown",
   "metadata": {},
   "source": [
    "# Weights and Biases"
   ]
  },
  {
   "cell_type": "code",
   "execution_count": 99,
   "metadata": {},
   "outputs": [],
   "source": [
    "if WANDB:\n",
    "    wandb.init(project=\"bybit-trading-bot\")\n",
    "    wandb.config.update({\n",
    "        \"fee\": FEE,\n",
    "        \"window_size\": WINDOW_SIZE,\n",
    "        \"hidden_sizes\": HIDDEN_SIZES,\n",
    "        \"batch_size\": BATCH_SIZE,\n",
    "        \"learning_rate\": LEARNING_RATE,\n",
    "        \"epochs\": EPOCHS,\n",
    "        \"dropout_rate\": DROPOUT_RATE,\n",
    "        \"use_residuals\": USE_RESIDUALS,\n",
    "        \"outputs\": OUTPUTS\n",
    "    })"
   ]
  },
  {
   "cell_type": "markdown",
   "metadata": {},
   "source": [
    "# Preprocess data"
   ]
  },
  {
   "cell_type": "code",
   "execution_count": 100,
   "metadata": {},
   "outputs": [
    {
     "name": "stdout",
     "output_type": "stream",
     "text": [
      "[<class 'torch.Tensor'>, <class 'torch.Tensor'>, <class 'torch.Tensor'>, <class 'torch.Tensor'>, <class 'torch.Tensor'>, <class 'torch.Tensor'>, <class 'torch.Tensor'>, <class 'torch.Tensor'>, <class 'torch.Tensor'>, <class 'torch.Tensor'>, <class 'torch.Tensor'>, <class 'torch.Tensor'>, <class 'torch.Tensor'>, <class 'torch.Tensor'>, <class 'torch.Tensor'>, <class 'torch.Tensor'>, <class 'torch.Tensor'>, <class 'torch.Tensor'>, <class 'torch.Tensor'>, <class 'torch.Tensor'>, <class 'torch.Tensor'>, <class 'torch.Tensor'>, <class 'torch.Tensor'>, <class 'torch.Tensor'>, <class 'torch.Tensor'>]\n"
     ]
    },
    {
     "data": {
      "text/plain": [
       "(torch.Size([47030, 64]),\n",
       " torch.Size([47030]),\n",
       " torch.Size([720, 64]),\n",
       " torch.Size([720]))"
      ]
     },
     "execution_count": 100,
     "metadata": {},
     "output_type": "execute_result"
    }
   ],
   "source": [
    "from preprocess_data import rates_of_change_categorical, rates_of_change_regression\n",
    "\n",
    "Xtrain, Ytrain, Xtest_dict, Ytest_dict = rates_of_change_categorical(WINDOW_SIZE, FEE, OUTPUTS, 120)\n",
    "\n",
    "_, _, _, Ytest_regr_dict = rates_of_change_regression(WINDOW_SIZE, 120)\n",
    "\n",
    "Xtrain.shape, Ytrain.shape, Xtest_dict[\"BTCUSDT\"].shape, Ytest_dict[\"BTCUSDT\"].shape"
   ]
  },
  {
   "cell_type": "markdown",
   "metadata": {},
   "source": [
    "# Model class"
   ]
  },
  {
   "cell_type": "code",
   "execution_count": 101,
   "metadata": {},
   "outputs": [
    {
     "name": "stderr",
     "output_type": "stream",
     "text": [
      "C:\\Users\\marco\\AppData\\Local\\Temp\\ipykernel_11684\\136394109.py:6: UserWarning: To copy construct from a tensor, it is recommended to use sourceTensor.clone().detach() or sourceTensor.clone().detach().requires_grad_(True), rather than torch.tensor(sourceTensor).\n",
      "  dataset = TensorDataset(torch.tensor(Xtrain), torch.tensor(Ytrain))\n"
     ]
    }
   ],
   "source": [
    "import torch\n",
    "from torch import nn\n",
    "import torch.functional as F\n",
    "from torch.utils.data import TensorDataset, DataLoader\n",
    "\n",
    "dataset = TensorDataset(torch.tensor(Xtrain), torch.tensor(Ytrain))\n",
    "dataloader = DataLoader(dataset, batch_size=BATCH_SIZE, shuffle=True)\n",
    "\n",
    "\n",
    "class TradingNN(nn.Module):\n",
    "\n",
    "    def __init__(self):\n",
    "        super(TradingNN, self).__init__()\n",
    "        self.fc_input = nn.Linear(WINDOW_SIZE, HIDDEN_SIZES[0])\n",
    "\n",
    "        self.hidden_layers = nn.ModuleList()\n",
    "        for i in range(len(HIDDEN_SIZES) - 1):\n",
    "            self.hidden_layers.append(\n",
    "                nn.Linear(HIDDEN_SIZES[i], HIDDEN_SIZES[i + 1]))\n",
    "\n",
    "        self.fc_output = nn.Linear(HIDDEN_SIZES[-1], len(OUTPUTS))\n",
    "\n",
    "        self.dropout = nn.Dropout(DROPOUT_RATE)\n",
    "\n",
    "        self.activation = nn.SiLU()\n",
    "\n",
    "    def forward(self, x):\n",
    "        if USE_RESIDUALS and WINDOW_SIZE == HIDDEN_SIZES[0]:\n",
    "            x = self.activation(self.fc_input(x)) + x\n",
    "        else:\n",
    "            x = self.activation(self.fc_input(x))\n",
    "\n",
    "        if DROPOUT_RATE > 0:\n",
    "            x = self.dropout(x)\n",
    "\n",
    "        for i, layer in enumerate(self.hidden_layers):\n",
    "            if USE_RESIDUALS and HIDDEN_SIZES[i] == HIDDEN_SIZES[i + 1]:\n",
    "                x = self.activation(layer(x)) + x\n",
    "            else:\n",
    "                x = self.activation(layer(x))\n",
    "\n",
    "            if DROPOUT_RATE > 0:\n",
    "                x = self.dropout(x)\n",
    "\n",
    "        out = self.fc_output(x)\n",
    "\n",
    "        return out"
   ]
  },
  {
   "cell_type": "markdown",
   "metadata": {},
   "source": [
    "# Test run"
   ]
  },
  {
   "cell_type": "code",
   "execution_count": 102,
   "metadata": {},
   "outputs": [],
   "source": [
    "def test_run(model: nn.Module,\n",
    "             X: torch.Tensor,\n",
    "             Y_cat: torch.Tensor,\n",
    "             Y_regr: torch.Tensor,\n",
    "             thresholds: list[float],\n",
    "             print_to_file: bool = False):\n",
    "    money = {t: [torch.tensor(1.)] for t in thresholds}\n",
    "    always_long_money = [torch.tensor(1.)]\n",
    "\n",
    "    correct_rate = {t: 0 for t in thresholds}\n",
    "\n",
    "    steps = len(X)\n",
    "\n",
    "    if print_to_file:\n",
    "        f = open(\"test_run.txt\", \"w\")\n",
    "\n",
    "    with torch.no_grad():\n",
    "        for i in range(steps):\n",
    "            x = X[i]\n",
    "            y_cat = Y_cat[i]\n",
    "            y_regr = Y_regr[i]\n",
    "\n",
    "            if print_to_file:\n",
    "                f.write(f\"Step {i}\\n\")\n",
    "\n",
    "            y_pred = model(x)\n",
    "\n",
    "            if print_to_file:\n",
    "                f.write(f\"y_cat: {y_cat}\\n\")\n",
    "                f.write(f\"y_regr: {y_regr}\\n\")\n",
    "                f.write(f\"y_pred: {y_pred}\\n\")\n",
    "                f.write(f\"y_pred softmax: {torch.softmax(y_pred, dim=0)}\\n\")\n",
    "\n",
    "            action = OUTPUTS[torch.argmax(y_pred).item()]\n",
    "            probability = torch.softmax(y_pred,\n",
    "                                        dim=0)[OUTPUTS.index(action)].item()\n",
    "\n",
    "            if print_to_file:\n",
    "                f.write(f\"Action: {action}\\n\")\n",
    "            if print_to_file:\n",
    "                f.write(f\"Probability: {probability}\\n\")\n",
    "            if print_to_file:\n",
    "                f.write(f\"Correct action: {OUTPUTS[y_cat.item()]}\\n\")\n",
    "\n",
    "            for t in thresholds:\n",
    "                if print_to_file:\n",
    "                    f.write(f\"\\tThreshold: {t}\\n\")\n",
    "                if probability >= t:\n",
    "                    if print_to_file:\n",
    "                        f.write(\"Probability threshold reached!\\n\")\n",
    "                    if action == \"BUY\":\n",
    "                        next_money = money[t][-1] * (1 + y_regr - FEE)\n",
    "                        next_money -= next_money * FEE\n",
    "                        if print_to_file:\n",
    "                            f.write(f\"BUYING | Next money: {next_money}\\n\")\n",
    "                        money[t].append(next_money)\n",
    "                    elif action == \"SELL\":\n",
    "                        next_money = money[t][-1] * (1 - y_regr - FEE)\n",
    "                        next_money -= next_money * FEE\n",
    "                        if print_to_file:\n",
    "                            f.write(f\"SELLING | Next money: {next_money}\\n\")\n",
    "                        money[t].append(next_money)\n",
    "                    else:\n",
    "                        if print_to_file:\n",
    "                            f.write(\"HOLDING\\n\")\n",
    "                        money[t].append(money[t][-1])\n",
    "\n",
    "                    if action == OUTPUTS[y_cat.item()]:\n",
    "                        if print_to_file:\n",
    "                            f.write(\"Correct action!\\n\")\n",
    "                        correct_rate[t] += 1 / steps\n",
    "                    else:\n",
    "                        if print_to_file:\n",
    "                            f.write(\"Incorrect action!\\n\")\n",
    "\n",
    "                else:\n",
    "                    if print_to_file:\n",
    "                        f.write(\"Probability threshold NOT reached!\\n\")\n",
    "                    money[t].append(money[t][-1].clone())\n",
    "                    if action != OUTPUTS[y_cat.item()]:\n",
    "                        if print_to_file:\n",
    "                            f.write(\"Correctly avoided making a decision!\\n\")\n",
    "                        correct_rate[t] += 1 / steps\n",
    "                    else:\n",
    "                        if print_to_file:\n",
    "                            f.write(\"Should've listened to the prediction!\\n\")\n",
    "\n",
    "            always_long_money.append(always_long_money[-1] * (1 + y_regr))\n",
    "\n",
    "            if print_to_file:\n",
    "                f.write(\"\\n\\n----------\\n\")\n",
    "\n",
    "    if print_to_file:\n",
    "        f.close()\n",
    "\n",
    "    return money, always_long_money, correct_rate\n"
   ]
  },
  {
   "cell_type": "markdown",
   "metadata": {},
   "source": [
    "# Train loop"
   ]
  },
  {
   "cell_type": "code",
   "execution_count": 103,
   "metadata": {},
   "outputs": [
    {
     "name": "stderr",
     "output_type": "stream",
     "text": [
      "Epoch 0, loss: inf: 100%|██████████| 46/46 [00:00<00:00, 99.31it/s] \n",
      "C:\\Users\\marco\\AppData\\Local\\Temp\\ipykernel_11684\\110168401.py:57: UserWarning: To copy construct from a tensor, it is recommended to use sourceTensor.clone().detach() or sourceTensor.clone().detach().requires_grad_(True), rather than torch.tensor(sourceTensor).\n",
      "  money_sum_of_logs[t] += torch.log(torch.tensor(money[t][-1]))\n"
     ]
    },
    {
     "name": "stdout",
     "output_type": "stream",
     "text": [
      "Epoch 0, loss: 0.9149771332740784\n",
      "{0: tensor(-17.9110), 0.6: tensor(0.), 0.9: tensor(0.), 0.95: tensor(0.), 0.99: tensor(0.)}\n",
      "{0: tensor(16.4439), 0.6: tensor(27.), 0.9: tensor(27.), 0.95: tensor(27.), 0.99: tensor(27.)}\n",
      "max log money: 0.0\n",
      "max money: 27.0\n"
     ]
    },
    {
     "data": {
      "image/png": "[encoded data removed]",
      "text/plain": [
       "<Figure size 640x480 with 1 Axes>"
      ]
     },
     "metadata": {},
     "output_type": "display_data"
    },
    {
     "name": "stderr",
     "output_type": "stream",
     "text": [
      "Epoch 1, loss: 0.9150: 100%|██████████| 46/46 [00:00<00:00, 66.01it/s]\n",
      "Epoch 2, loss: 0.8273: 100%|██████████| 46/46 [00:00<00:00, 103.62it/s]\n",
      "Epoch 3, loss: 0.8319: 100%|██████████| 46/46 [00:00<00:00, 101.10it/s]\n",
      "Epoch 4, loss: 0.8448: 100%|██████████| 46/46 [00:00<00:00, 62.22it/s]\n",
      "Epoch 5, loss: 0.8764: 100%|██████████| 46/46 [00:00<00:00, 96.26it/s]\n",
      "Epoch 6, loss: 0.8253: 100%|██████████| 46/46 [00:00<00:00, 92.57it/s]\n",
      "Epoch 7, loss: 0.8268: 100%|██████████| 46/46 [00:00<00:00, 99.13it/s] \n",
      "Epoch 8, loss: 0.8435: 100%|██████████| 46/46 [00:00<00:00, 65.50it/s] \n",
      "Epoch 9, loss: 0.8237: 100%|██████████| 46/46 [00:00<00:00, 109.05it/s]\n",
      "Epoch 10, loss: 0.8527: 100%|██████████| 46/46 [00:00<00:00, 93.59it/s] \n"
     ]
    },
    {
     "name": "stdout",
     "output_type": "stream",
     "text": [
      "Epoch 10, loss: 0.8574573397636414\n",
      "{0: tensor(-14.4640), 0.6: tensor(-0.2975), 0.9: tensor(0.), 0.95: tensor(0.), 0.99: tensor(0.)}\n",
      "{0: tensor(20.8396), 0.6: tensor(27.4152), 0.9: tensor(27.), 0.95: tensor(27.), 0.99: tensor(27.)}\n",
      "max log money: 0.0\n",
      "max money: 27.41521644592285\n"
     ]
    },
    {
     "data": {
      "image/png": "[encoded data removed]",
      "text/plain": [
       "<Figure size 640x480 with 1 Axes>"
      ]
     },
     "metadata": {},
     "output_type": "display_data"
    },
    {
     "name": "stderr",
     "output_type": "stream",
     "text": [
      "Epoch 11, loss: 0.8575: 100%|██████████| 46/46 [00:00<00:00, 88.06it/s]\n",
      "Epoch 12, loss: 0.8339: 100%|██████████| 46/46 [00:00<00:00, 102.94it/s]\n",
      "Epoch 13, loss: 0.8494: 100%|██████████| 46/46 [00:00<00:00, 103.55it/s]\n",
      "Epoch 14, loss: 0.8376: 100%|██████████| 46/46 [00:00<00:00, 64.01it/s]\n",
      "Epoch 15, loss: 0.8393: 100%|██████████| 46/46 [00:00<00:00, 103.13it/s]\n",
      "Epoch 16, loss: 0.8655: 100%|██████████| 46/46 [00:00<00:00, 104.73it/s]\n",
      "Epoch 17, loss: 0.8481: 100%|██████████| 46/46 [00:00<00:00, 99.66it/s] \n",
      "Epoch 18, loss: 0.8515: 100%|██████████| 46/46 [00:00<00:00, 63.62it/s]\n",
      "Epoch 19, loss: 0.8388: 100%|██████████| 46/46 [00:00<00:00, 100.56it/s]\n",
      "Epoch 20, loss: 0.8177: 100%|██████████| 46/46 [00:00<00:00, 103.02it/s]\n"
     ]
    },
    {
     "name": "stdout",
     "output_type": "stream",
     "text": [
      "Epoch 20, loss: 0.854072093963623\n",
      "{0: tensor(-8.5969), 0.6: tensor(0.7442), 0.9: tensor(-0.0142), 0.95: tensor(0.), 0.99: tensor(0.)}\n",
      "{0: tensor(28.6319), 0.6: tensor(28.1966), 0.9: tensor(26.9859), 0.95: tensor(27.), 0.99: tensor(27.)}\n",
      "max log money: 0.7442172765731812\n",
      "max money: 28.631900787353516\n"
     ]
    },
    {
     "data": {
      "image/png": "[encoded data removed]",
      "text/plain": [
       "<Figure size 640x480 with 1 Axes>"
      ]
     },
     "metadata": {},
     "output_type": "display_data"
    },
    {
     "name": "stderr",
     "output_type": "stream",
     "text": [
      "Epoch 21, loss: 0.8541: 100%|██████████| 46/46 [00:00<00:00, 88.92it/s]\n",
      "Epoch 22, loss: 0.8429: 100%|██████████| 46/46 [00:00<00:00, 93.22it/s]\n",
      "Epoch 23, loss: 0.8668: 100%|██████████| 46/46 [00:00<00:00, 102.94it/s]\n",
      "Epoch 24, loss: 0.8330: 100%|██████████| 46/46 [00:00<00:00, 59.40it/s]\n",
      "Epoch 25, loss: 0.8334: 100%|██████████| 46/46 [00:00<00:00, 112.70it/s]\n",
      "Epoch 26, loss: 0.8376: 100%|██████████| 46/46 [00:00<00:00, 110.32it/s]\n",
      "Epoch 27, loss: 0.8383: 100%|██████████| 46/46 [00:00<00:00, 102.64it/s]\n",
      "Epoch 28, loss: 0.8102: 100%|██████████| 46/46 [00:00<00:00, 65.99it/s]\n",
      "Epoch 29, loss: 0.8172: 100%|██████████| 46/46 [00:00<00:00, 97.87it/s] \n",
      "Epoch 30, loss: 0.8383: 100%|██████████| 46/46 [00:00<00:00, 101.37it/s]\n"
     ]
    },
    {
     "name": "stdout",
     "output_type": "stream",
     "text": [
      "Epoch 30, loss: 0.8303974866867065\n",
      "{0: tensor(-10.5651), 0.6: tensor(0.5045), 0.9: tensor(-0.0142), 0.95: tensor(0.), 0.99: tensor(0.)}\n",
      "{0: tensor(25.1498), 0.6: tensor(28.3319), 0.9: tensor(26.9859), 0.95: tensor(27.), 0.99: tensor(27.)}\n",
      "max log money: 0.5044902563095093\n",
      "max money: 28.331893920898438\n"
     ]
    },
    {
     "data": {
      "image/png": "[encoded data removed]",
      "text/plain": [
       "<Figure size 640x480 with 1 Axes>"
      ]
     },
     "metadata": {},
     "output_type": "display_data"
    },
    {
     "name": "stderr",
     "output_type": "stream",
     "text": [
      "Epoch 31, loss: 0.8304: 100%|██████████| 46/46 [00:00<00:00, 102.84it/s]\n",
      "Epoch 32, loss: 0.8442: 100%|██████████| 46/46 [00:00<00:00, 98.66it/s] \n",
      "Epoch 33, loss: 0.8671: 100%|██████████| 46/46 [00:00<00:00, 61.96it/s]\n",
      "Epoch 34, loss: 0.8194: 100%|██████████| 46/46 [00:00<00:00, 104.09it/s]\n",
      "Epoch 35, loss: 0.8106: 100%|██████████| 46/46 [00:00<00:00, 102.88it/s]\n",
      "Epoch 36, loss: 0.8778: 100%|██████████| 46/46 [00:00<00:00, 102.31it/s]\n",
      "Epoch 37, loss: 0.8410: 100%|██████████| 46/46 [00:00<00:00, 66.05it/s]\n",
      "Epoch 38, loss: 0.8164: 100%|██████████| 46/46 [00:00<00:00, 106.41it/s]\n",
      "Epoch 39, loss: 0.8103: 100%|██████████| 46/46 [00:00<00:00, 96.00it/s] \n"
     ]
    }
   ],
   "source": [
    "dataset = torch.utils.data.TensorDataset(Xtrain, Ytrain)\n",
    "dataloader = torch.utils.data.DataLoader(dataset,\n",
    "                                         batch_size=BATCH_SIZE,\n",
    "                                         shuffle=True)\n",
    "\n",
    "model = TradingNN()\n",
    "criterion = nn.CrossEntropyLoss()\n",
    "optimizer = torch.optim.AdamW(model.parameters(), lr=LEARNING_RATE)\n",
    "\n",
    "best_sum_of_logs = -torch.inf\n",
    "best_sum = -torch.inf\n",
    "thresholds = [0, 0.6, 0.9, 0.95, 0.99]\n",
    "loss = torch.tensor(torch.inf)\n",
    "\n",
    "for epoch in range(EPOCHS):\n",
    "    for Xbatch, Ybatch in tqdm(dataloader,\n",
    "                               f\"Epoch {epoch}, loss: {loss.item():.4f}\"):\n",
    "        optimizer.zero_grad()\n",
    "\n",
    "        Y_pred = model(Xbatch)\n",
    "        loss = criterion(Y_pred, Ybatch)\n",
    "        loss.backward()\n",
    "        optimizer.step()\n",
    "\n",
    "    if WANDB:\n",
    "        wandb.log({\"loss\": loss.item()}, commit=False)\n",
    "\n",
    "    if epoch % 10 == 0:\n",
    "        print(f\"Epoch {epoch}, loss: {loss.item()}\")\n",
    "\n",
    "        model.eval()\n",
    "\n",
    "        money_sum_of_logs = {t: 0 for t in thresholds}\n",
    "\n",
    "        money_sum = {t: 0 for t in thresholds}\n",
    "\n",
    "        for symbol in Xtest_dict:\n",
    "            Xtest = Xtest_dict[symbol]\n",
    "            Ytest = Ytest_dict[symbol]\n",
    "            Yregr = Ytest_regr_dict[symbol]\n",
    "\n",
    "            money, _, correct_rate = test_run(model, Xtest, Ytest, Yregr,\n",
    "                                              thresholds, symbol == \"BTCUSDT\")\n",
    "\n",
    "            if symbol[0:3] == \"ADA\":\n",
    "                plt.plot([m.item() for m in money[0.9]], label=symbol)\n",
    "\n",
    "            for t in thresholds:\n",
    "                if WANDB:\n",
    "                    wandb.log(\n",
    "                        {\n",
    "                            f\"money_{symbol}_{t}\": money[t][-1].item(),\n",
    "                            f\"correct_rate_{symbol}_{t}\": correct_rate[t]\n",
    "                        },\n",
    "                        commit=False)\n",
    "\n",
    "                money_sum_of_logs[t] += torch.log(torch.tensor(money[t][-1]))\n",
    "                money_sum[t] += money[t][-1]\n",
    "\n",
    "        for t in thresholds:\n",
    "            if WANDB:\n",
    "                wandb.log(\n",
    "                    {\n",
    "                        f\"money_sum_of_logs_{t}\": money_sum_of_logs[t].item(),\n",
    "                        f\"money_sum_{t}\": money_sum[t].item()\n",
    "                    },\n",
    "                    commit=False)\n",
    "\n",
    "        print(money_sum_of_logs)\n",
    "        print(money_sum)\n",
    "\n",
    "        # best sum of logs\n",
    "\n",
    "        thresholds_arr = list(money_sum_of_logs.keys())\n",
    "        log_money_arr = list(money_sum_of_logs.values())\n",
    "\n",
    "        max_idx = max(range(len(log_money_arr)),\n",
    "                      key=lambda i: log_money_arr[i])\n",
    "        max_threshold = thresholds_arr[max_idx]\n",
    "        max_log_money = log_money_arr[max_idx]\n",
    "\n",
    "        print(f\"max log money: {max_log_money}\")\n",
    "\n",
    "        if max_log_money > best_sum_of_logs:\n",
    "            best_sum_of_logs = max_log_money\n",
    "            torch.save(\n",
    "                model.state_dict(),\n",
    "                f\"models/CategoricalBuyOrSellWithFee_BestSumOfLogs-{max_log_money}_threshold-{max_threshold}_epoch-{epoch}_.pt\"\n",
    "            )\n",
    "\n",
    "        # best sum\n",
    "\n",
    "        thresholds_arr = list(money_sum.keys())\n",
    "        money_arr = list(money_sum.values())\n",
    "\n",
    "        max_idx = max(range(len(money_arr)), key=lambda i: money_arr[i])\n",
    "        max_threshold = thresholds_arr[max_idx]\n",
    "        max_money = money_arr[max_idx]\n",
    "\n",
    "        print(f\"max money: {max_money}\")\n",
    "\n",
    "        if max_money > best_sum:\n",
    "            best_sum = max_money\n",
    "            torch.save(\n",
    "                model.state_dict(),\n",
    "                f\"CategoricalBuyOrSellWithFee_BestSum-{max_money}_threshold-{max_threshold}_.pt\"\n",
    "            )\n",
    "\n",
    "        plt.legend()\n",
    "        plt.show()\n",
    "\n",
    "        model.train()\n",
    "\n",
    "    if WANDB:\n",
    "        wandb.log({\"epoch\": epoch})\n"
   ]
  },
  {
   "cell_type": "markdown",
   "metadata": {},
   "source": []
  },
  {
   "cell_type": "code",
   "execution_count": 104,
   "metadata": {},
   "outputs": [],
   "source": [
    "if WANDB:\n",
    "    wandb.finish()"
   ]
  },
  {
   "cell_type": "code",
   "execution_count": 105,
   "metadata": {},
   "outputs": [
    {
     "data": {
      "text/plain": [
       "tensor(nan)"
      ]
     },
     "execution_count": 105,
     "metadata": {},
     "output_type": "execute_result"
    }
   ],
   "source": [
    "torch.log(torch.tensor(-1))"
   ]
  }
 ],
 "metadata": {
  "kernelspec": {
   "display_name": ".venv",
   "language": "python",
   "name": "python3"
  },
  "language_info": {
   "codemirror_mode": {
    "name": "ipython",
    "version": 3
   },
   "file_extension": ".py",
   "mimetype": "text/x-python",
   "name": "python",
   "nbconvert_exporter": "python",
   "pygments_lexer": "ipython3",
   "version": "3.11.4"
  }
 },
 "nbformat": 4,
 "nbformat_minor": 2
}
