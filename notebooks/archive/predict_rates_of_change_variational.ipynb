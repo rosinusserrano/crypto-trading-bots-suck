{
 "cells": [
  {
   "cell_type": "markdown",
   "metadata": {},
   "source": [
    "#### imports"
   ]
  },
  {
   "cell_type": "code",
   "execution_count": 1,
   "metadata": {},
   "outputs": [
    {
     "name": "stderr",
     "output_type": "stream",
     "text": [
      "c:\\Users\\marco\\Learning\\pybit-trading-bot\\.venv\\Lib\\site-packages\\tqdm\\auto.py:21: TqdmWarning: IProgress not found. Please update jupyter and ipywidgets. See https://ipywidgets.readthedocs.io/en/stable/user_install.html\n",
      "  from .autonotebook import tqdm as notebook_tqdm\n"
     ]
    }
   ],
   "source": [
    "import pandas as pd\n",
    "from datetime import datetime, timedelta\n",
    "import numpy as np\n",
    "from tqdm.auto import tqdm\n",
    "import matplotlib.pyplot as plt\n",
    "import os\n",
    "\n",
    "%load_ext autoreload\n",
    "%autoreload 2"
   ]
  },
  {
   "cell_type": "markdown",
   "metadata": {},
   "source": [
    "#### config"
   ]
  },
  {
   "cell_type": "code",
   "execution_count": 2,
   "metadata": {},
   "outputs": [],
   "source": [
    "WINDOW_SIZE = 128\n",
    "HIDDEN_SIZES = [128, 128, 128, 128, 256]\n",
    "CONFIDENCE_THRESHOLDS = [0.2]\n",
    "BATCH_SIZE = 2048\n",
    "DROPOUT_RATE = 0.00\n",
    "RESIDUAL_CONNECTIONS = True\n",
    "NUM_EPOCHS = 100000"
   ]
  },
  {
   "cell_type": "markdown",
   "metadata": {},
   "source": [
    "#### weights and biases"
   ]
  },
  {
   "cell_type": "code",
   "execution_count": 3,
   "metadata": {},
   "outputs": [
    {
     "name": "stderr",
     "output_type": "stream",
     "text": [
      "Failed to detect the name of this notebook, you can set it manually with the WANDB_NOTEBOOK_NAME environment variable to enable code saving.\n",
      "\u001b[34m\u001b[1mwandb\u001b[0m: Currently logged in as: \u001b[33mrosinusserrano\u001b[0m (\u001b[33mrosinusserrano-personal\u001b[0m). Use \u001b[1m`wandb login --relogin`\u001b[0m to force relogin\n"
     ]
    },
    {
     "data": {
      "text/html": [
       "wandb version 0.17.7 is available!  To upgrade, please run:\n",
       " $ pip install wandb --upgrade"
      ],
      "text/plain": [
       "<IPython.core.display.HTML object>"
      ]
     },
     "metadata": {},
     "output_type": "display_data"
    },
    {
     "data": {
      "text/html": [
       "Tracking run with wandb version 0.17.5"
      ],
      "text/plain": [
       "<IPython.core.display.HTML object>"
      ]
     },
     "metadata": {},
     "output_type": "display_data"
    },
    {
     "data": {
      "text/html": [
       "Run data is saved locally in <code>c:\\Users\\marco\\Learning\\pybit-trading-bot\\wandb\\run-20240818_124453-qsmth1ad</code>"
      ],
      "text/plain": [
       "<IPython.core.display.HTML object>"
      ]
     },
     "metadata": {},
     "output_type": "display_data"
    },
    {
     "data": {
      "text/html": [
       "Syncing run <strong><a href='https://wandb.ai/rosinusserrano-personal/bybit-trading-bot/runs/qsmth1ad' target=\"_blank\">royal-donkey-42</a></strong> to <a href='https://wandb.ai/rosinusserrano-personal/bybit-trading-bot' target=\"_blank\">Weights & Biases</a> (<a href='https://wandb.me/run' target=\"_blank\">docs</a>)<br/>"
      ],
      "text/plain": [
       "<IPython.core.display.HTML object>"
      ]
     },
     "metadata": {},
     "output_type": "display_data"
    },
    {
     "data": {
      "text/html": [
       " View project at <a href='https://wandb.ai/rosinusserrano-personal/bybit-trading-bot' target=\"_blank\">https://wandb.ai/rosinusserrano-personal/bybit-trading-bot</a>"
      ],
      "text/plain": [
       "<IPython.core.display.HTML object>"
      ]
     },
     "metadata": {},
     "output_type": "display_data"
    },
    {
     "data": {
      "text/html": [
       " View run at <a href='https://wandb.ai/rosinusserrano-personal/bybit-trading-bot/runs/qsmth1ad' target=\"_blank\">https://wandb.ai/rosinusserrano-personal/bybit-trading-bot/runs/qsmth1ad</a>"
      ],
      "text/plain": [
       "<IPython.core.display.HTML object>"
      ]
     },
     "metadata": {},
     "output_type": "display_data"
    }
   ],
   "source": [
    "import wandb\n",
    "\n",
    "wandb.init(project=\"bybit-trading-bot\")\n",
    "\n",
    "wandb.config.window_size = WINDOW_SIZE\n",
    "wandb.config.hidden_sizes = HIDDEN_SIZES\n",
    "wandb.config.batch_size = BATCH_SIZE\n",
    "wandb.config.confidence_thresholds = CONFIDENCE_THRESHOLDS\n",
    "wandb.config.num_epochs = NUM_EPOCHS\n",
    "wandb.config.residual_connections = RESIDUAL_CONNECTIONS\n",
    "wandb.config.dropout_rate = DROPOUT_RATE"
   ]
  },
  {
   "cell_type": "markdown",
   "metadata": {},
   "source": [
    "#### preprocess data"
   ]
  },
  {
   "cell_type": "code",
   "execution_count": 9,
   "metadata": {},
   "outputs": [
    {
     "name": "stdout",
     "output_type": "stream",
     "text": [
      "Symbols: ['ADAUSDT-240.csv', 'APTUSDT-240.csv', 'AVAXUSDT-240.csv', 'BANANAUSDT-240.csv', 'BATUSDT-240.csv', 'BLZUSDT-240.csv', 'BNBUSDT-240.csv', 'BRETTUSDT-240.csv', 'BSVUSDT-240.csv', 'BTCUSDT-240.csv', 'C98USDT-240.csv', 'CEEKUSDT-240.csv', 'DOGEUSDT-240.csv', 'ETHUSDT-240.csv', 'LINKUSDT-240.csv', 'MEMEUSDT-240.csv', 'MNTUSDT-240.csv', 'ONDOUSDT-240.csv', 'OPUSDT-240.csv', 'POPCATUSDT-240.csv', 'SOLUSDT-240.csv', 'SUIUSDT-240.csv', 'TONUSDT-240.csv', 'WIFUSDT-240.csv', 'XRPUSDT-240.csv', 'ZENUSDT-240.csv', 'ZETAUSDT-240.csv']\n",
      "Train data: 113697 entries\n",
      "\tlast: 2024-06-19 10:00:00\n",
      "Test data: 9576 entries\n",
      "\tfirst: 2024-06-19 14:00:00\n",
      "Train data: (torch.Size([113569, 128]), torch.Size([113569]))\n",
      "Test data: (torch.Size([9448, 128]), torch.Size([9448]))\n",
      "Symbols: ['ADAUSDT-240.csv']\n",
      "Train data: 7142 entries\n",
      "\tlast: 2024-06-19 10:00:00\n",
      "Test data: 361 entries\n",
      "\tfirst: 2024-06-19 14:00:00\n",
      "Train data: (torch.Size([7014, 128]), torch.Size([7014]))\n",
      "Test data: (torch.Size([233, 128]), torch.Size([233]))\n",
      "Symbols: ['APTUSDT-240.csv']\n",
      "Train data: 3659 entries\n",
      "\tlast: 2024-06-19 10:00:00\n",
      "Test data: 362 entries\n",
      "\tfirst: 2024-06-19 14:00:00\n",
      "Train data: (torch.Size([3531, 128]), torch.Size([3531]))\n",
      "Test data: (torch.Size([234, 128]), torch.Size([234]))\n",
      "Symbols: ['AVAXUSDT-240.csv']\n",
      "Train data: 6054 entries\n",
      "\tlast: 2024-06-19 10:00:00\n",
      "Test data: 361 entries\n",
      "\tfirst: 2024-06-19 14:00:00\n",
      "Train data: (torch.Size([5926, 128]), torch.Size([5926]))\n",
      "Test data: (torch.Size([233, 128]), torch.Size([233]))\n",
      "Symbols: ['BANANAUSDT-240.csv']\n",
      "Train data: 0 entries\n",
      "Test data: 181 entries\n",
      "\tfirst: 2024-07-19 14:00:00\n",
      "No training data for symbol\n",
      "Test data: (torch.Size([53, 128]), torch.Size([53]))\n",
      "Symbols: ['BATUSDT-240.csv']\n",
      "Train data: 5634 entries\n",
      "\tlast: 2024-06-19 10:00:00\n",
      "Test data: 361 entries\n",
      "\tfirst: 2024-06-19 14:00:00\n",
      "Train data: (torch.Size([5506, 128]), torch.Size([5506]))\n",
      "Test data: (torch.Size([233, 128]), torch.Size([233]))\n",
      "Symbols: ['BLZUSDT-240.csv']\n",
      "Train data: 4468 entries\n",
      "\tlast: 2024-06-19 10:00:00\n",
      "Test data: 361 entries\n",
      "\tfirst: 2024-06-19 14:00:00\n",
      "Train data: (torch.Size([4340, 128]), torch.Size([4340]))\n",
      "Test data: (torch.Size([233, 128]), torch.Size([233]))\n",
      "Symbols: ['BNBUSDT-240.csv']\n",
      "Train data: 6523 entries\n",
      "\tlast: 2024-06-19 10:00:00\n",
      "Test data: 361 entries\n",
      "\tfirst: 2024-06-19 14:00:00\n",
      "Train data: (torch.Size([6395, 128]), torch.Size([6395]))\n",
      "Test data: (torch.Size([233, 128]), torch.Size([233]))\n",
      "Symbols: ['BRETTUSDT-240.csv']\n",
      "Train data: 323 entries\n",
      "\tlast: 2024-06-19 10:00:00\n",
      "Test data: 361 entries\n",
      "\tfirst: 2024-06-19 14:00:00\n",
      "Train data: (torch.Size([195, 128]), torch.Size([195]))\n",
      "Test data: (torch.Size([233, 128]), torch.Size([233]))\n",
      "Symbols: ['BSVUSDT-240.csv']\n",
      "Train data: 5537 entries\n",
      "\tlast: 2024-06-19 10:00:00\n",
      "Test data: 361 entries\n",
      "\tfirst: 2024-06-19 14:00:00\n",
      "Train data: (torch.Size([5409, 128]), torch.Size([5409]))\n",
      "Test data: (torch.Size([233, 128]), torch.Size([233]))\n",
      "Symbols: ['BTCUSDT-240.csv']\n",
      "Train data: 9291 entries\n",
      "\tlast: 2024-06-19 10:00:00\n",
      "Test data: 361 entries\n",
      "\tfirst: 2024-06-19 14:00:00\n",
      "Train data: (torch.Size([9163, 128]), torch.Size([9163]))\n",
      "Test data: (torch.Size([233, 128]), torch.Size([233]))\n",
      "Symbols: ['C98USDT-240.csv']\n",
      "Train data: 5814 entries\n",
      "\tlast: 2024-06-19 10:00:00\n",
      "Test data: 362 entries\n",
      "\tfirst: 2024-06-19 14:00:00\n",
      "Train data: (torch.Size([5686, 128]), torch.Size([5686]))\n",
      "Test data: (torch.Size([234, 128]), torch.Size([234]))\n",
      "Symbols: ['CEEKUSDT-240.csv']\n",
      "Train data: 4216 entries\n",
      "\tlast: 2024-06-19 10:00:00\n",
      "Test data: 361 entries\n",
      "\tfirst: 2024-06-19 14:00:00\n",
      "Train data: (torch.Size([4088, 128]), torch.Size([4088]))\n",
      "Test data: (torch.Size([233, 128]), torch.Size([233]))\n",
      "Symbols: ['DOGEUSDT-240.csv']\n",
      "Train data: 6684 entries\n",
      "\tlast: 2024-06-19 10:00:00\n",
      "Test data: 362 entries\n",
      "\tfirst: 2024-06-19 14:00:00\n",
      "Train data: (torch.Size([6556, 128]), torch.Size([6556]))\n",
      "Test data: (torch.Size([234, 128]), torch.Size([234]))\n",
      "Symbols: ['ETHUSDT-240.csv']\n",
      "Train data: 7162 entries\n",
      "\tlast: 2024-06-19 10:00:00\n",
      "Test data: 361 entries\n",
      "\tfirst: 2024-06-19 14:00:00\n",
      "Train data: (torch.Size([7034, 128]), torch.Size([7034]))\n",
      "Test data: (torch.Size([233, 128]), torch.Size([233]))\n",
      "Symbols: ['LINKUSDT-240.csv']\n",
      "Train data: 8030 entries\n",
      "\tlast: 2024-06-19 10:00:00\n",
      "Test data: 361 entries\n",
      "\tfirst: 2024-06-19 14:00:00\n",
      "Train data: (torch.Size([7902, 128]), torch.Size([7902]))\n",
      "Test data: (torch.Size([233, 128]), torch.Size([233]))\n",
      "Symbols: ['MEMEUSDT-240.csv']\n",
      "Train data: 1374 entries\n",
      "\tlast: 2024-06-19 10:00:00\n",
      "Test data: 361 entries\n",
      "\tfirst: 2024-06-19 14:00:00\n",
      "Train data: (torch.Size([1246, 128]), torch.Size([1246]))\n",
      "Test data: (torch.Size([233, 128]), torch.Size([233]))\n",
      "Symbols: ['MNTUSDT-240.csv']\n",
      "Train data: 1568 entries\n",
      "\tlast: 2024-06-19 10:00:00\n",
      "Test data: 361 entries\n",
      "\tfirst: 2024-06-19 14:00:00\n",
      "Train data: (torch.Size([1440, 128]), torch.Size([1440]))\n",
      "Test data: (torch.Size([233, 128]), torch.Size([233]))\n",
      "Symbols: ['ONDOUSDT-240.csv']\n",
      "Train data: 888 entries\n",
      "\tlast: 2024-06-19 10:00:00\n",
      "Test data: 362 entries\n",
      "\tfirst: 2024-06-19 14:00:00\n",
      "Train data: (torch.Size([760, 128]), torch.Size([760]))\n",
      "Test data: (torch.Size([234, 128]), torch.Size([234]))\n",
      "Symbols: ['OPUSDT-240.csv']\n",
      "Train data: 4498 entries\n",
      "\tlast: 2024-06-19 10:00:00\n",
      "Test data: 361 entries\n",
      "\tfirst: 2024-06-19 14:00:00\n",
      "Train data: (torch.Size([4370, 128]), torch.Size([4370]))\n",
      "Test data: (torch.Size([233, 128]), torch.Size([233]))\n",
      "Symbols: ['POPCATUSDT-240.csv']\n",
      "Train data: 498 entries\n",
      "\tlast: 2024-06-19 10:00:00\n",
      "Test data: 361 entries\n",
      "\tfirst: 2024-06-19 14:00:00\n",
      "Train data: (torch.Size([370, 128]), torch.Size([370]))\n",
      "Test data: (torch.Size([233, 128]), torch.Size([233]))\n",
      "Symbols: ['SOLUSDT-240.csv']\n",
      "Train data: 5876 entries\n",
      "\tlast: 2024-06-19 10:00:00\n",
      "Test data: 362 entries\n",
      "\tfirst: 2024-06-19 14:00:00\n",
      "Train data: (torch.Size([5748, 128]), torch.Size([5748]))\n",
      "Test data: (torch.Size([234, 128]), torch.Size([234]))\n",
      "Symbols: ['SUIUSDT-240.csv']\n",
      "Train data: 2479 entries\n",
      "\tlast: 2024-06-19 10:00:00\n",
      "Test data: 361 entries\n",
      "\tfirst: 2024-06-19 14:00:00\n",
      "Train data: (torch.Size([2351, 128]), torch.Size([2351]))\n",
      "Test data: (torch.Size([233, 128]), torch.Size([233]))\n",
      "Symbols: ['TONUSDT-240.csv']\n",
      "Train data: 1760 entries\n",
      "\tlast: 2024-06-19 10:00:00\n",
      "Test data: 362 entries\n",
      "\tfirst: 2024-06-19 14:00:00\n",
      "Train data: (torch.Size([1632, 128]), torch.Size([1632]))\n",
      "Test data: (torch.Size([234, 128]), torch.Size([234]))\n",
      "Symbols: ['WIFUSDT-240.csv']\n",
      "Train data: 959 entries\n",
      "\tlast: 2024-06-19 10:00:00\n",
      "Test data: 362 entries\n",
      "\tfirst: 2024-06-19 14:00:00\n",
      "Train data: (torch.Size([831, 128]), torch.Size([831]))\n",
      "Test data: (torch.Size([234, 128]), torch.Size([234]))\n",
      "Symbols: ['XRPUSDT-240.csv']\n",
      "Train data: 6804 entries\n",
      "\tlast: 2024-06-19 10:00:00\n",
      "Test data: 362 entries\n",
      "\tfirst: 2024-06-19 14:00:00\n",
      "Train data: (torch.Size([6676, 128]), torch.Size([6676]))\n",
      "Test data: (torch.Size([234, 128]), torch.Size([234]))\n",
      "Symbols: ['ZENUSDT-240.csv']\n",
      "Train data: 5621 entries\n",
      "\tlast: 2024-06-19 10:00:00\n",
      "Test data: 361 entries\n",
      "\tfirst: 2024-06-19 14:00:00\n",
      "Train data: (torch.Size([5493, 128]), torch.Size([5493]))\n",
      "Test data: (torch.Size([233, 128]), torch.Size([233]))\n",
      "Symbols: ['ZETAUSDT-240.csv']\n",
      "Train data: 835 entries\n",
      "\tlast: 2024-06-19 10:00:00\n",
      "Test data: 362 entries\n",
      "\tfirst: 2024-06-19 14:00:00\n",
      "Train data: (torch.Size([707, 128]), torch.Size([707]))\n",
      "Test data: (torch.Size([234, 128]), torch.Size([234]))\n"
     ]
    }
   ],
   "source": [
    "from data_handling.preprocess import rates_of_change_regression, make_train_and_test, get_available_symbols\n",
    "\n",
    "start_time_for_testing = datetime.now() - timedelta(days=60)\n",
    "\n",
    "Xtrain, Ytrain, Xtest, Ytest = make_train_and_test(\n",
    "    rates_of_change_regression, {'window_size': WINDOW_SIZE},\n",
    "    start_testing_from=start_time_for_testing,\n",
    "    verbose=True)\n",
    "\n",
    "Ytest_dict = {}\n",
    "Xtest_dict = {}\n",
    "for filename in get_available_symbols(whole_filenames=True):\n",
    "    symbol = filename.split('-')[0]\n",
    "    _, _, X_tmp, Y_tmp = make_train_and_test(rates_of_change_regression,\n",
    "                                             {'window_size': WINDOW_SIZE},\n",
    "                                             start_time_for_testing,\n",
    "                                             filename,\n",
    "                                             verbose=True)\n",
    "    Xtest_dict[symbol] = X_tmp\n",
    "    Ytest_dict[symbol] = Y_tmp"
   ]
  },
  {
   "cell_type": "markdown",
   "metadata": {},
   "source": [
    "#### dataset and model class"
   ]
  },
  {
   "cell_type": "code",
   "execution_count": 10,
   "metadata": {},
   "outputs": [
    {
     "name": "stderr",
     "output_type": "stream",
     "text": [
      "C:\\Users\\marco\\AppData\\Local\\Temp\\ipykernel_28788\\1595941175.py:6: UserWarning: To copy construct from a tensor, it is recommended to use sourceTensor.clone().detach() or sourceTensor.clone().detach().requires_grad_(True), rather than torch.tensor(sourceTensor).\n",
      "  dataset = TensorDataset(torch.tensor(Xtrain), torch.tensor(Ytrain))\n"
     ]
    }
   ],
   "source": [
    "import torch\n",
    "from torch import nn\n",
    "import torch.functional as F\n",
    "from torch.utils.data import TensorDataset, DataLoader\n",
    "\n",
    "dataset = TensorDataset(torch.tensor(Xtrain), torch.tensor(Ytrain))\n",
    "dataloader = DataLoader(dataset, batch_size=BATCH_SIZE, shuffle=True)\n",
    "\n",
    "\n",
    "class TradingNN(nn.Module):\n",
    "\n",
    "    def __init__(self):\n",
    "        super(TradingNN, self).__init__()\n",
    "        self.fc_input = nn.Linear(WINDOW_SIZE, HIDDEN_SIZES[0])\n",
    "\n",
    "        self.hidden_layers = nn.ModuleList()\n",
    "        for i in range(len(HIDDEN_SIZES) - 1):\n",
    "            self.hidden_layers.append(\n",
    "                nn.Linear(HIDDEN_SIZES[i], HIDDEN_SIZES[i + 1]))\n",
    "\n",
    "        self.fc_mean = nn.Linear(HIDDEN_SIZES[-1], 1)\n",
    "        self.fc_logvar = nn.Linear(HIDDEN_SIZES[-1], 1)\n",
    "\n",
    "        self.dropout = nn.Dropout(DROPOUT_RATE)\n",
    "\n",
    "        self.activation = nn.SiLU()\n",
    "\n",
    "    def forward(self, x):\n",
    "        if RESIDUAL_CONNECTIONS and WINDOW_SIZE == HIDDEN_SIZES[0]:\n",
    "            x = self.activation(self.fc_input(x)) + x\n",
    "        else:\n",
    "            x = self.activation(self.fc_input(x))\n",
    "\n",
    "        if DROPOUT_RATE > 0:\n",
    "            x = self.dropout(x)\n",
    "\n",
    "        for i, layer in enumerate(self.hidden_layers):\n",
    "            if RESIDUAL_CONNECTIONS and HIDDEN_SIZES[i] == HIDDEN_SIZES[i + 1]:\n",
    "                x = self.activation(layer(x)) + x\n",
    "            else:\n",
    "                x = self.activation(layer(x))\n",
    "\n",
    "            if DROPOUT_RATE > 0:\n",
    "                x = self.dropout(x)\n",
    "\n",
    "        mean = self.fc_mean(x)\n",
    "        logvar = self.fc_logvar(x)\n",
    "\n",
    "        z = torch.randn_like(mean)\n",
    "\n",
    "        return (mean + z * torch.exp(logvar * 0.5)).squeeze(), mean, logvar\n"
   ]
  },
  {
   "cell_type": "markdown",
   "metadata": {},
   "source": [
    "#### test run"
   ]
  },
  {
   "cell_type": "code",
   "execution_count": 11,
   "metadata": {},
   "outputs": [],
   "source": [
    "def test_run(model, Xtest, Ytest, threshold, dirname, filename, fee: float = 0.0005):\n",
    "    if not os.path.exists(dirname):\n",
    "        os.makedirs(dirname)\n",
    "        \n",
    "    file = open(os.path.join(dirname, filename), \"w\")\n",
    "\n",
    "    money = torch.tensor(1, dtype=torch.float32)\n",
    "\n",
    "    always_long_money = torch.tensor(1, dtype=torch.float32)\n",
    "\n",
    "    correct_rate = 0\n",
    "\n",
    "    with torch.no_grad():\n",
    "        for i in range(len(Xtest)):\n",
    "            Xtest_ = torch.tensor(Xtest[i])\n",
    "            Ytest_ = torch.tensor(Ytest[i])\n",
    "\n",
    "            _, mean, logvar = model(torch.tensor(Xtest_).float())\n",
    "            std = torch.exp(logvar * 0.5)\n",
    "\n",
    "            if std / torch.abs(mean) > threshold:\n",
    "                correct = (torch.sign(mean[0]) != torch.sign(Ytest_)).item()\n",
    "                correct_str = \"Correct\" if correct else \"Incorrect\"\n",
    "                if correct:\n",
    "                    correct_rate += 1 / len(Xtest)\n",
    "                    \n",
    "                file.write(\n",
    "                    f\"[{i} | {correct_str} | {(correct_rate * 100):.1f}%] Model is not confident enough. Mean {mean} Std {std} Ytest {Ytest_}\\n\"\n",
    "                )\n",
    "                continue\n",
    "            \n",
    "            correct = (torch.sign(mean[0]) == torch.sign(Ytest_)).item()\n",
    "            correct_str = \"Correct\" if correct else \"Incorrect\"\n",
    "            if correct:\n",
    "                correct_rate += 1 / len(Xtest)\n",
    "\n",
    "            money += money * Ytest_ * torch.sign(mean[0])\n",
    "            money -= fee * money\n",
    "\n",
    "            always_long_money += always_long_money * Ytest_\n",
    "            always_long_money -= fee * always_long_money\n",
    "\n",
    "            if mean > fee:\n",
    "                file.write(\n",
    "                    f\"[{i} | {correct_str} | {(correct_rate * 100):.1f}%] Buying. Mean {mean} Std {std} Ytest {Ytest_}. Money is {money}\\n\"\n",
    "                )\n",
    "\n",
    "            elif mean < -fee:\n",
    "                file.write(\n",
    "                    f\"[{i} | {correct_str} | {(correct_rate * 100):.1f}%] Selling. Mean {mean} Std {std} Ytest {Ytest_}. Money is {money}\\n\"\n",
    "                )\n",
    "    \n",
    "    days_count = len(Xtest) / 6\n",
    "    return money, days_count, always_long_money, correct_rate"
   ]
  },
  {
   "cell_type": "markdown",
   "metadata": {},
   "source": [
    "#### train loop"
   ]
  },
  {
   "cell_type": "code",
   "execution_count": 12,
   "metadata": {},
   "outputs": [
    {
     "name": "stderr",
     "output_type": "stream",
     "text": [
      "C:\\Users\\marco\\AppData\\Local\\Temp\\ipykernel_28788\\1993733045.py:15: UserWarning: To copy construct from a tensor, it is recommended to use sourceTensor.clone().detach() or sourceTensor.clone().detach().requires_grad_(True), rather than torch.tensor(sourceTensor).\n",
      "  Xtest_ = torch.tensor(Xtest[i])\n",
      "C:\\Users\\marco\\AppData\\Local\\Temp\\ipykernel_28788\\1993733045.py:16: UserWarning: To copy construct from a tensor, it is recommended to use sourceTensor.clone().detach() or sourceTensor.clone().detach().requires_grad_(True), rather than torch.tensor(sourceTensor).\n",
      "  Ytest_ = torch.tensor(Ytest[i])\n",
      "C:\\Users\\marco\\AppData\\Local\\Temp\\ipykernel_28788\\1993733045.py:18: UserWarning: To copy construct from a tensor, it is recommended to use sourceTensor.clone().detach() or sourceTensor.clone().detach().requires_grad_(True), rather than torch.tensor(sourceTensor).\n",
      "  _, mean, logvar = model(torch.tensor(Xtest_).float())\n"
     ]
    },
    {
     "name": "stdout",
     "output_type": "stream",
     "text": [
      "Epoch 1 Loss: 0.0007220716215670109\n",
      "ADAUSDT 0.2 tensor(1.0609) 38 days 51.07% correct guesses\n",
      "APTUSDT 0.2 tensor(0.9449) 39 days 50.43% correct guesses\n",
      "AVAXUSDT 0.2 tensor(1.1272) 38 days 53.65% correct guesses\n",
      "BANANAUSDT 0.2 tensor(0.5344) 8 days 49.06% correct guesses\n",
      "BATUSDT 0.2 tensor(0.9958) 38 days 48.07% correct guesses\n",
      "BLZUSDT 0.2 tensor(1.1643) 38 days 50.64% correct guesses\n",
      "BNBUSDT 0.2 tensor(0.9274) 38 days 46.78% correct guesses\n",
      "BRETTUSDT 0.2 tensor(1.1350) 38 days 54.08% correct guesses\n",
      "BSVUSDT 0.2 tensor(0.7802) 38 days 49.79% correct guesses\n",
      "BTCUSDT 0.2 tensor(0.9093) 38 days 46.78% correct guesses\n",
      "C98USDT 0.2 tensor(1.2316) 39 days 50.00% correct guesses\n",
      "CEEKUSDT 0.2 tensor(1.0980) 38 days 52.79% correct guesses\n",
      "DOGEUSDT 0.2 tensor(0.8954) 39 days 47.01% correct guesses\n",
      "ETHUSDT 0.2 tensor(1.0716) 38 days 47.64% correct guesses\n",
      "LINKUSDT 0.2 tensor(1.1205) 38 days 50.21% correct guesses\n",
      "MEMEUSDT 0.2 tensor(1.2051) 38 days 50.21% correct guesses\n",
      "MNTUSDT 0.2 tensor(1.0192) 38 days 51.07% correct guesses\n",
      "ONDOUSDT 0.2 tensor(1.1200) 39 days 49.57% correct guesses\n",
      "OPUSDT 0.2 tensor(1.0602) 38 days 51.93% correct guesses\n",
      "POPCATUSDT 0.2 tensor(0.4035) 38 days 49.79% correct guesses\n",
      "SOLUSDT 0.2 tensor(0.8250) 39 days 46.58% correct guesses\n",
      "SUIUSDT 0.2 tensor(0.7384) 38 days 51.93% correct guesses\n",
      "TONUSDT 0.2 tensor(1.0070) 39 days 52.14% correct guesses\n",
      "WIFUSDT 0.2 tensor(0.7205) 39 days 51.28% correct guesses\n",
      "XRPUSDT 0.2 tensor(0.6675) 39 days 47.01% correct guesses\n",
      "ZENUSDT 0.2 tensor(1.0505) 38 days 53.22% correct guesses\n",
      "ZETAUSDT 0.2 tensor(1.0536) 39 days 55.13% correct guesses\n"
     ]
    },
    {
     "name": "stderr",
     "output_type": "stream",
     "text": [
      "                                               \r"
     ]
    },
    {
     "name": "stdout",
     "output_type": "stream",
     "text": [
      "Epoch 100 Loss: 0.0005329972482286394\n"
     ]
    },
    {
     "name": "stderr",
     "output_type": "stream",
     "text": [
      "                                               \r"
     ]
    },
    {
     "name": "stdout",
     "output_type": "stream",
     "text": [
      "Epoch 200 Loss: 0.0005957674002274871\n",
      "New best sum of logs 6.512720108032227\n"
     ]
    },
    {
     "name": "stderr",
     "output_type": "stream",
     "text": [
      "                                               \r"
     ]
    },
    {
     "name": "stdout",
     "output_type": "stream",
     "text": [
      "Epoch 300 Loss: 0.00036803146940656006\n"
     ]
    },
    {
     "name": "stderr",
     "output_type": "stream",
     "text": [
      "                                               \r"
     ]
    },
    {
     "name": "stdout",
     "output_type": "stream",
     "text": [
      "Epoch 400 Loss: 0.0005819760845042765\n"
     ]
    },
    {
     "name": "stderr",
     "output_type": "stream",
     "text": [
      "                                               \r"
     ]
    },
    {
     "name": "stdout",
     "output_type": "stream",
     "text": [
      "Epoch 500 Loss: 0.00036652147537097335\n",
      "ADAUSDT 0.2 tensor(0.9058) 38 days 50.21% correct guesses\n",
      "APTUSDT 0.2 tensor(1.1480) 39 days 53.42% correct guesses\n",
      "AVAXUSDT 0.2 tensor(1.1304) 38 days 52.36% correct guesses\n",
      "BANANAUSDT 0.2 tensor(1.4106) 8 days 52.83% correct guesses\n",
      "BATUSDT 0.2 tensor(1.0684) 38 days 49.36% correct guesses\n",
      "BLZUSDT 0.2 tensor(0.9351) 38 days 49.36% correct guesses\n",
      "BNBUSDT 0.2 tensor(1.0952) 38 days 50.64% correct guesses\n",
      "BRETTUSDT 0.2 tensor(0.3832) 38 days 42.06% correct guesses\n",
      "BSVUSDT 0.2 tensor(1.1477) 38 days 51.50% correct guesses\n",
      "BTCUSDT 0.2 tensor(0.8406) 38 days 48.93% correct guesses\n",
      "C98USDT 0.2 tensor(1.1250) 39 days 50.43% correct guesses\n",
      "CEEKUSDT 0.2 tensor(1.0688) 38 days 51.50% correct guesses\n",
      "DOGEUSDT 0.2 tensor(0.9029) 39 days 50.85% correct guesses\n",
      "ETHUSDT 0.2 tensor(0.7308) 38 days 46.78% correct guesses\n",
      "LINKUSDT 0.2 tensor(1.1871) 38 days 48.50% correct guesses\n",
      "MEMEUSDT 0.2 tensor(0.8916) 38 days 47.64% correct guesses\n",
      "MNTUSDT 0.2 tensor(0.8049) 38 days 48.50% correct guesses\n",
      "ONDOUSDT 0.2 tensor(1.3665) 39 days 52.99% correct guesses\n",
      "OPUSDT 0.2 tensor(1.0132) 38 days 48.93% correct guesses\n",
      "POPCATUSDT 0.2 tensor(1.1227) 38 days 53.22% correct guesses\n",
      "SOLUSDT 0.2 tensor(0.6640) 39 days 45.30% correct guesses\n",
      "SUIUSDT 0.2 tensor(0.7988) 38 days 51.50% correct guesses\n",
      "TONUSDT 0.2 tensor(1.4302) 39 days 53.85% correct guesses\n",
      "WIFUSDT 0.2 tensor(0.8067) 39 days 50.00% correct guesses\n",
      "XRPUSDT 0.2 tensor(1.6987) 39 days 52.99% correct guesses\n",
      "ZENUSDT 0.2 tensor(0.6665) 38 days 49.36% correct guesses\n",
      "ZETAUSDT 0.2 tensor(0.5774) 39 days 48.29% correct guesses\n"
     ]
    },
    {
     "name": "stderr",
     "output_type": "stream",
     "text": [
      "                                               \r"
     ]
    },
    {
     "name": "stdout",
     "output_type": "stream",
     "text": [
      "Epoch 600 Loss: 0.00042369854054413736\n"
     ]
    },
    {
     "name": "stderr",
     "output_type": "stream",
     "text": [
      "                                               \r"
     ]
    },
    {
     "name": "stdout",
     "output_type": "stream",
     "text": [
      "Epoch 700 Loss: 0.00039509349153377116\n"
     ]
    },
    {
     "name": "stderr",
     "output_type": "stream",
     "text": [
      "                                               \r"
     ]
    },
    {
     "name": "stdout",
     "output_type": "stream",
     "text": [
      "Epoch 800 Loss: 0.0004115389019716531\n"
     ]
    },
    {
     "name": "stderr",
     "output_type": "stream",
     "text": [
      "                                               \r"
     ]
    },
    {
     "name": "stdout",
     "output_type": "stream",
     "text": [
      "Epoch 900 Loss: 0.00047973706386983395\n"
     ]
    },
    {
     "name": "stderr",
     "output_type": "stream",
     "text": [
      "                                               \r"
     ]
    },
    {
     "name": "stdout",
     "output_type": "stream",
     "text": [
      "Epoch 1000 Loss: 0.00028614263283088803\n",
      "ADAUSDT 0.2 tensor(1.1578) 38 days 48.07% correct guesses\n",
      "APTUSDT 0.2 tensor(1.1172) 39 days 49.57% correct guesses\n",
      "AVAXUSDT 0.2 tensor(1.2921) 38 days 47.21% correct guesses\n",
      "BANANAUSDT 0.2 tensor(1.7704) 8 days 62.26% correct guesses\n",
      "BATUSDT 0.2 tensor(1.0517) 38 days 50.21% correct guesses\n",
      "BLZUSDT 0.2 tensor(0.9871) 38 days 46.78% correct guesses\n",
      "BNBUSDT 0.2 tensor(1.2984) 38 days 53.22% correct guesses\n",
      "BRETTUSDT 0.2 tensor(1.5197) 38 days 48.50% correct guesses\n",
      "BSVUSDT 0.2 tensor(0.7003) 38 days 48.07% correct guesses\n",
      "BTCUSDT 0.2 tensor(1.1014) 38 days 52.36% correct guesses\n",
      "C98USDT 0.2 tensor(1.4744) 39 days 47.01% correct guesses\n",
      "CEEKUSDT 0.2 tensor(1.2882) 38 days 51.50% correct guesses\n",
      "DOGEUSDT 0.2 tensor(1.1367) 39 days 50.00% correct guesses\n",
      "ETHUSDT 0.2 tensor(1.0384) 38 days 50.21% correct guesses\n",
      "LINKUSDT 0.2 tensor(1.0520) 38 days 51.50% correct guesses\n",
      "MEMEUSDT 0.2 tensor(1.0260) 38 days 47.21% correct guesses\n",
      "MNTUSDT 0.2 tensor(1.0602) 38 days 50.64% correct guesses\n",
      "ONDOUSDT 0.2 tensor(1.1150) 39 days 47.01% correct guesses\n",
      "OPUSDT 0.2 tensor(1.4412) 38 days 50.21% correct guesses\n",
      "POPCATUSDT 0.2 tensor(1.4342) 38 days 57.94% correct guesses\n",
      "SOLUSDT 0.2 tensor(1.3220) 39 days 52.14% correct guesses\n",
      "SUIUSDT 0.2 tensor(1.0862) 38 days 50.21% correct guesses\n",
      "TONUSDT 0.2 tensor(1.1532) 39 days 52.56% correct guesses\n",
      "WIFUSDT 0.2 tensor(0.5618) 39 days 45.30% correct guesses\n",
      "XRPUSDT 0.2 tensor(1.4468) 39 days 55.56% correct guesses\n",
      "ZENUSDT 0.2 tensor(1.0679) 38 days 49.79% correct guesses\n",
      "ZETAUSDT 0.2 tensor(1.1061) 39 days 51.71% correct guesses\n"
     ]
    },
    {
     "name": "stderr",
     "output_type": "stream",
     "text": [
      "                                               \r"
     ]
    },
    {
     "name": "stdout",
     "output_type": "stream",
     "text": [
      "Epoch 1100 Loss: 0.00025570153957232833\n"
     ]
    },
    {
     "name": "stderr",
     "output_type": "stream",
     "text": [
      "                                               \r"
     ]
    },
    {
     "name": "stdout",
     "output_type": "stream",
     "text": [
      "Epoch 1200 Loss: 0.00020121374109294266\n"
     ]
    },
    {
     "name": "stderr",
     "output_type": "stream",
     "text": [
      "                                               \r"
     ]
    },
    {
     "name": "stdout",
     "output_type": "stream",
     "text": [
      "Epoch 1300 Loss: 0.00014808090054430068\n"
     ]
    },
    {
     "name": "stderr",
     "output_type": "stream",
     "text": [
      "                                               \r"
     ]
    },
    {
     "name": "stdout",
     "output_type": "stream",
     "text": [
      "Epoch 1400 Loss: 0.00011891085159732029\n"
     ]
    },
    {
     "name": "stderr",
     "output_type": "stream",
     "text": [
      "                                               \r"
     ]
    },
    {
     "name": "stdout",
     "output_type": "stream",
     "text": [
      "Epoch 1500 Loss: 0.00010682357242330909\n",
      "ADAUSDT 0.2 tensor(0.6867) 38 days 45.06% correct guesses\n",
      "APTUSDT 0.2 tensor(1.4720) 39 days 53.42% correct guesses\n",
      "AVAXUSDT 0.2 tensor(1.3221) 38 days 50.21% correct guesses\n",
      "BANANAUSDT 0.2 tensor(0.7727) 8 days 49.06% correct guesses\n",
      "BATUSDT 0.2 tensor(0.8940) 38 days 50.21% correct guesses\n",
      "BLZUSDT 0.2 tensor(1.0911) 38 days 48.93% correct guesses\n",
      "BNBUSDT 0.2 tensor(0.9690) 38 days 51.50% correct guesses\n",
      "BRETTUSDT 0.2 tensor(0.2931) 38 days 47.21% correct guesses\n",
      "BSVUSDT 0.2 tensor(0.8175) 38 days 50.21% correct guesses\n",
      "BTCUSDT 0.2 tensor(0.9651) 38 days 51.07% correct guesses\n",
      "C98USDT 0.2 tensor(0.6152) 39 days 43.59% correct guesses\n",
      "CEEKUSDT 0.2 tensor(0.6937) 38 days 46.35% correct guesses\n",
      "DOGEUSDT 0.2 tensor(0.8732) 39 days 54.27% correct guesses\n",
      "ETHUSDT 0.2 tensor(1.4863) 38 days 52.79% correct guesses\n",
      "LINKUSDT 0.2 tensor(1.2494) 38 days 52.79% correct guesses\n",
      "MEMEUSDT 0.2 tensor(0.6881) 38 days 46.35% correct guesses\n",
      "MNTUSDT 0.2 tensor(1.0795) 38 days 49.79% correct guesses\n",
      "ONDOUSDT 0.2 tensor(1.0770) 39 days 50.00% correct guesses\n",
      "OPUSDT 0.2 tensor(1.1294) 38 days 50.64% correct guesses\n",
      "POPCATUSDT 0.2 tensor(0.6740) 38 days 50.21% correct guesses\n",
      "SOLUSDT 0.2 tensor(1.2038) 39 days 49.57% correct guesses\n",
      "SUIUSDT 0.2 tensor(1.7553) 38 days 53.65% correct guesses\n",
      "TONUSDT 0.2 tensor(1.0199) 39 days 53.42% correct guesses\n",
      "WIFUSDT 0.2 tensor(0.7906) 39 days 53.85% correct guesses\n",
      "XRPUSDT 0.2 tensor(0.5900) 39 days 44.87% correct guesses\n",
      "ZENUSDT 0.2 tensor(1.1242) 38 days 51.07% correct guesses\n",
      "ZETAUSDT 0.2 tensor(1.0457) 39 days 50.00% correct guesses\n"
     ]
    },
    {
     "name": "stderr",
     "output_type": "stream",
     "text": [
      "                                               \r"
     ]
    },
    {
     "name": "stdout",
     "output_type": "stream",
     "text": [
      "Epoch 1600 Loss: 8.639023144496605e-05\n"
     ]
    },
    {
     "name": "stderr",
     "output_type": "stream",
     "text": [
      "                                               \r"
     ]
    },
    {
     "name": "stdout",
     "output_type": "stream",
     "text": [
      "Epoch 1700 Loss: 7.474341691704467e-05\n"
     ]
    },
    {
     "name": "stderr",
     "output_type": "stream",
     "text": [
      "                                               \r"
     ]
    },
    {
     "name": "stdout",
     "output_type": "stream",
     "text": [
      "Epoch 1800 Loss: 6.935691635590047e-05\n"
     ]
    },
    {
     "name": "stderr",
     "output_type": "stream",
     "text": [
      "                                               \r"
     ]
    },
    {
     "name": "stdout",
     "output_type": "stream",
     "text": [
      "Epoch 1900 Loss: 6.717311771353707e-05\n"
     ]
    },
    {
     "name": "stderr",
     "output_type": "stream",
     "text": [
      "                                               \r"
     ]
    },
    {
     "name": "stdout",
     "output_type": "stream",
     "text": [
      "Epoch 2000 Loss: 5.2084502385696396e-05\n",
      "ADAUSDT 0.2 tensor(1.0751) 38 days 49.36% correct guesses\n",
      "APTUSDT 0.2 tensor(1.0879) 39 days 54.70% correct guesses\n",
      "AVAXUSDT 0.2 tensor(0.9407) 38 days 48.93% correct guesses\n",
      "BANANAUSDT 0.2 tensor(1.2705) 8 days 49.06% correct guesses\n",
      "BATUSDT 0.2 tensor(1.8161) 38 days 56.22% correct guesses\n",
      "BLZUSDT 0.2 tensor(1.2344) 38 days 51.50% correct guesses\n",
      "BNBUSDT 0.2 tensor(0.8034) 38 days 47.21% correct guesses\n",
      "BRETTUSDT 0.2 tensor(0.4006) 38 days 48.50% correct guesses\n",
      "BSVUSDT 0.2 tensor(0.6942) 38 days 43.78% correct guesses\n",
      "BTCUSDT 0.2 tensor(1.1496) 38 days 51.93% correct guesses\n",
      "C98USDT 0.2 tensor(0.9264) 39 days 49.15% correct guesses\n",
      "CEEKUSDT 0.2 tensor(0.8924) 38 days 46.35% correct guesses\n",
      "DOGEUSDT 0.2 tensor(1.2143) 39 days 55.13% correct guesses\n",
      "ETHUSDT 0.2 tensor(1.5402) 38 days 48.93% correct guesses\n",
      "LINKUSDT 0.2 tensor(1.4857) 38 days 54.51% correct guesses\n",
      "MEMEUSDT 0.2 tensor(1.0381) 38 days 50.21% correct guesses\n",
      "MNTUSDT 0.2 tensor(1.3320) 38 days 48.07% correct guesses\n",
      "ONDOUSDT 0.2 tensor(1.5734) 39 days 48.29% correct guesses\n",
      "OPUSDT 0.2 tensor(1.2625) 38 days 51.07% correct guesses\n",
      "POPCATUSDT 0.2 tensor(1.4115) 38 days 57.51% correct guesses\n",
      "SOLUSDT 0.2 tensor(0.9610) 39 days 48.72% correct guesses\n",
      "SUIUSDT 0.2 tensor(1.6696) 38 days 54.51% correct guesses\n",
      "TONUSDT 0.2 tensor(0.9499) 39 days 50.85% correct guesses\n",
      "WIFUSDT 0.2 tensor(1.3266) 39 days 57.69% correct guesses\n",
      "XRPUSDT 0.2 tensor(0.9294) 39 days 45.73% correct guesses\n",
      "ZENUSDT 0.2 tensor(1.0579) 38 days 53.65% correct guesses\n",
      "ZETAUSDT 0.2 tensor(0.8171) 39 days 48.72% correct guesses\n"
     ]
    },
    {
     "name": "stderr",
     "output_type": "stream",
     "text": [
      "                                               \r"
     ]
    },
    {
     "name": "stdout",
     "output_type": "stream",
     "text": [
      "Epoch 2100 Loss: 5.207936919759959e-05\n"
     ]
    },
    {
     "name": "stderr",
     "output_type": "stream",
     "text": [
      "                                               \r"
     ]
    },
    {
     "name": "stdout",
     "output_type": "stream",
     "text": [
      "Epoch 2200 Loss: 4.9012127419700846e-05\n"
     ]
    },
    {
     "name": "stderr",
     "output_type": "stream",
     "text": [
      "                                               \r"
     ]
    },
    {
     "name": "stdout",
     "output_type": "stream",
     "text": [
      "Epoch 2300 Loss: 4.657933459384367e-05\n"
     ]
    },
    {
     "name": "stderr",
     "output_type": "stream",
     "text": [
      "                                               \r"
     ]
    },
    {
     "name": "stdout",
     "output_type": "stream",
     "text": [
      "Epoch 2400 Loss: 4.4233824155526236e-05\n"
     ]
    },
    {
     "name": "stderr",
     "output_type": "stream",
     "text": [
      "                                               \r"
     ]
    },
    {
     "name": "stdout",
     "output_type": "stream",
     "text": [
      "Epoch 2500 Loss: 5.0145747081842273e-05\n",
      "ADAUSDT 0.2 tensor(1.2910) 38 days 50.21% correct guesses\n",
      "APTUSDT 0.2 tensor(1.3215) 39 days 55.56% correct guesses\n",
      "AVAXUSDT 0.2 tensor(1.0767) 38 days 48.07% correct guesses\n",
      "BANANAUSDT 0.2 tensor(1.2875) 8 days 50.94% correct guesses\n",
      "BATUSDT 0.2 tensor(1.5220) 38 days 54.08% correct guesses\n",
      "BLZUSDT 0.2 tensor(1.0507) 38 days 50.64% correct guesses\n",
      "BNBUSDT 0.2 tensor(1.0411) 38 days 50.21% correct guesses\n",
      "BRETTUSDT 0.2 tensor(1.2455) 38 days 50.21% correct guesses\n",
      "BSVUSDT 0.2 tensor(0.7171) 38 days 45.92% correct guesses\n",
      "BTCUSDT 0.2 tensor(1.2611) 38 days 54.08% correct guesses\n",
      "C98USDT 0.2 tensor(1.0269) 39 days 46.58% correct guesses\n",
      "CEEKUSDT 0.2 tensor(0.8307) 38 days 47.64% correct guesses\n",
      "DOGEUSDT 0.2 tensor(1.1846) 39 days 55.56% correct guesses\n",
      "ETHUSDT 0.2 tensor(1.4902) 38 days 50.64% correct guesses\n",
      "LINKUSDT 0.2 tensor(1.8835) 38 days 54.51% correct guesses\n",
      "MEMEUSDT 0.2 tensor(0.8974) 38 days 47.64% correct guesses\n",
      "MNTUSDT 0.2 tensor(1.1549) 38 days 47.21% correct guesses\n",
      "ONDOUSDT 0.2 tensor(1.5154) 39 days 47.44% correct guesses\n",
      "OPUSDT 0.2 tensor(1.4843) 38 days 50.64% correct guesses\n",
      "POPCATUSDT 0.2 tensor(5.2561) 38 days 56.65% correct guesses\n",
      "SOLUSDT 0.2 tensor(1.1307) 39 days 49.57% correct guesses\n",
      "SUIUSDT 0.2 tensor(0.9661) 38 days 48.50% correct guesses\n",
      "TONUSDT 0.2 tensor(0.9839) 39 days 51.28% correct guesses\n",
      "WIFUSDT 0.2 tensor(1.3011) 39 days 55.56% correct guesses\n",
      "XRPUSDT 0.2 tensor(1.1368) 39 days 49.57% correct guesses\n",
      "ZENUSDT 0.2 tensor(1.0506) 38 days 51.50% correct guesses\n",
      "ZETAUSDT 0.2 tensor(0.7201) 39 days 47.01% correct guesses\n"
     ]
    },
    {
     "name": "stderr",
     "output_type": "stream",
     "text": [
      "                                               \r"
     ]
    },
    {
     "name": "stdout",
     "output_type": "stream",
     "text": [
      "Epoch 2600 Loss: 3.7612429878208786e-05\n"
     ]
    },
    {
     "name": "stderr",
     "output_type": "stream",
     "text": [
      "                                               \r"
     ]
    },
    {
     "name": "stdout",
     "output_type": "stream",
     "text": [
      "Epoch 2700 Loss: 4.407863161759451e-05\n"
     ]
    },
    {
     "name": "stderr",
     "output_type": "stream",
     "text": [
      "                                               \r"
     ]
    },
    {
     "name": "stdout",
     "output_type": "stream",
     "text": [
      "Epoch 2800 Loss: 3.505878703435883e-05\n"
     ]
    },
    {
     "name": "stderr",
     "output_type": "stream",
     "text": [
      "                                               \r"
     ]
    },
    {
     "name": "stdout",
     "output_type": "stream",
     "text": [
      "Epoch 2900 Loss: 4.083280509803444e-05\n"
     ]
    },
    {
     "name": "stderr",
     "output_type": "stream",
     "text": [
      "                                               \r"
     ]
    },
    {
     "name": "stdout",
     "output_type": "stream",
     "text": [
      "Epoch 3000 Loss: 3.784376895055175e-05\n",
      "ADAUSDT 0.2 tensor(1.2354) 38 days 50.64% correct guesses\n",
      "APTUSDT 0.2 tensor(1.5286) 39 days 55.13% correct guesses\n",
      "AVAXUSDT 0.2 tensor(1.0153) 38 days 49.36% correct guesses\n",
      "BANANAUSDT 0.2 tensor(0.8443) 8 days 54.72% correct guesses\n",
      "BATUSDT 0.2 tensor(1.4416) 38 days 54.08% correct guesses\n",
      "BLZUSDT 0.2 tensor(1.7410) 38 days 56.65% correct guesses\n",
      "BNBUSDT 0.2 tensor(1.0409) 38 days 51.93% correct guesses\n",
      "BRETTUSDT 0.2 tensor(1.8936) 38 days 53.22% correct guesses\n",
      "BSVUSDT 0.2 tensor(1.0506) 38 days 48.93% correct guesses\n",
      "BTCUSDT 0.2 tensor(1.2257) 38 days 53.65% correct guesses\n",
      "C98USDT 0.2 tensor(1.3526) 39 days 47.01% correct guesses\n",
      "CEEKUSDT 0.2 tensor(0.9202) 38 days 46.35% correct guesses\n",
      "DOGEUSDT 0.2 tensor(1.1851) 39 days 58.55% correct guesses\n",
      "ETHUSDT 0.2 tensor(1.2648) 38 days 48.50% correct guesses\n",
      "LINKUSDT 0.2 tensor(1.7440) 38 days 55.36% correct guesses\n",
      "MEMEUSDT 0.2 tensor(0.9932) 38 days 50.64% correct guesses\n",
      "MNTUSDT 0.2 tensor(0.9996) 38 days 44.64% correct guesses\n",
      "ONDOUSDT 0.2 tensor(1.2585) 39 days 48.29% correct guesses\n",
      "OPUSDT 0.2 tensor(1.7782) 38 days 48.93% correct guesses\n",
      "POPCATUSDT 0.2 tensor(2.0301) 38 days 54.51% correct guesses\n",
      "SOLUSDT 0.2 tensor(0.9916) 39 days 50.00% correct guesses\n",
      "SUIUSDT 0.2 tensor(0.9250) 38 days 48.50% correct guesses\n",
      "TONUSDT 0.2 tensor(0.9791) 39 days 50.43% correct guesses\n",
      "WIFUSDT 0.2 tensor(0.5522) 39 days 51.28% correct guesses\n",
      "XRPUSDT 0.2 tensor(0.8702) 39 days 45.73% correct guesses\n",
      "ZENUSDT 0.2 tensor(0.9617) 38 days 49.79% correct guesses\n",
      "ZETAUSDT 0.2 tensor(0.7412) 39 days 46.58% correct guesses\n"
     ]
    },
    {
     "name": "stderr",
     "output_type": "stream",
     "text": [
      "                                               \r"
     ]
    },
    {
     "name": "stdout",
     "output_type": "stream",
     "text": [
      "Epoch 3100 Loss: 3.691202073241584e-05\n"
     ]
    },
    {
     "name": "stderr",
     "output_type": "stream",
     "text": [
      "                                               \r"
     ]
    },
    {
     "name": "stdout",
     "output_type": "stream",
     "text": [
      "Epoch 3200 Loss: 3.841775469481945e-05\n"
     ]
    },
    {
     "name": "stderr",
     "output_type": "stream",
     "text": [
      "                                               \r"
     ]
    },
    {
     "name": "stdout",
     "output_type": "stream",
     "text": [
      "Epoch 3300 Loss: 3.0442879506153986e-05\n"
     ]
    },
    {
     "name": "stderr",
     "output_type": "stream",
     "text": [
      "                                               \r"
     ]
    },
    {
     "name": "stdout",
     "output_type": "stream",
     "text": [
      "Epoch 3400 Loss: 3.081488102907315e-05\n"
     ]
    },
    {
     "name": "stderr",
     "output_type": "stream",
     "text": [
      "                                               \r"
     ]
    },
    {
     "name": "stdout",
     "output_type": "stream",
     "text": [
      "Epoch 3500 Loss: 2.9949967938591726e-05\n",
      "ADAUSDT 0.2 tensor(1.2668) 38 days 51.93% correct guesses\n",
      "APTUSDT 0.2 tensor(1.5073) 39 days 55.13% correct guesses\n",
      "AVAXUSDT 0.2 tensor(1.1026) 38 days 49.79% correct guesses\n",
      "BANANAUSDT 0.2 tensor(0.8412) 8 days 52.83% correct guesses\n",
      "BATUSDT 0.2 tensor(1.5024) 38 days 51.93% correct guesses\n",
      "BLZUSDT 0.2 tensor(1.5971) 38 days 55.36% correct guesses\n",
      "BNBUSDT 0.2 tensor(1.1291) 38 days 49.79% correct guesses\n",
      "BRETTUSDT 0.2 tensor(1.4545) 38 days 51.93% correct guesses\n",
      "BSVUSDT 0.2 tensor(1.0954) 38 days 49.36% correct guesses\n",
      "BTCUSDT 0.2 tensor(1.2088) 38 days 55.36% correct guesses\n",
      "C98USDT 0.2 tensor(1.1151) 39 days 49.57% correct guesses\n",
      "CEEKUSDT 0.2 tensor(0.7456) 38 days 42.06% correct guesses\n",
      "DOGEUSDT 0.2 tensor(0.9921) 39 days 55.98% correct guesses\n",
      "ETHUSDT 0.2 tensor(1.1678) 38 days 48.50% correct guesses\n",
      "LINKUSDT 0.2 tensor(1.4314) 38 days 53.65% correct guesses\n",
      "MEMEUSDT 0.2 tensor(0.8627) 38 days 48.50% correct guesses\n",
      "MNTUSDT 0.2 tensor(0.7626) 38 days 42.92% correct guesses\n",
      "ONDOUSDT 0.2 tensor(1.5489) 39 days 50.43% correct guesses\n",
      "OPUSDT 0.2 tensor(1.7162) 38 days 50.64% correct guesses\n",
      "POPCATUSDT 0.2 tensor(2.3124) 38 days 57.08% correct guesses\n",
      "SOLUSDT 0.2 tensor(1.1382) 39 days 51.28% correct guesses\n",
      "SUIUSDT 0.2 tensor(1.0135) 38 days 48.07% correct guesses\n",
      "TONUSDT 0.2 tensor(1.3346) 39 days 55.98% correct guesses\n",
      "WIFUSDT 0.2 tensor(0.6596) 39 days 50.43% correct guesses\n",
      "XRPUSDT 0.2 tensor(1.1442) 39 days 48.72% correct guesses\n",
      "ZENUSDT 0.2 tensor(0.9213) 38 days 49.79% correct guesses\n",
      "ZETAUSDT 0.2 tensor(0.6661) 39 days 45.30% correct guesses\n"
     ]
    },
    {
     "name": "stderr",
     "output_type": "stream",
     "text": [
      "                                               \r"
     ]
    },
    {
     "name": "stdout",
     "output_type": "stream",
     "text": [
      "Epoch 3600 Loss: 3.6696783354273066e-05\n"
     ]
    },
    {
     "name": "stderr",
     "output_type": "stream",
     "text": [
      "                                               \r"
     ]
    },
    {
     "name": "stdout",
     "output_type": "stream",
     "text": [
      "Epoch 3700 Loss: 3.3888962207129225e-05\n"
     ]
    },
    {
     "name": "stderr",
     "output_type": "stream",
     "text": [
      "                                               \r"
     ]
    },
    {
     "name": "stdout",
     "output_type": "stream",
     "text": [
      "Epoch 3800 Loss: 3.266671046731062e-05\n"
     ]
    },
    {
     "name": "stderr",
     "output_type": "stream",
     "text": [
      "                                               \r"
     ]
    },
    {
     "name": "stdout",
     "output_type": "stream",
     "text": [
      "Epoch 3900 Loss: 3.3732398151187226e-05\n"
     ]
    },
    {
     "name": "stderr",
     "output_type": "stream",
     "text": [
      "                                               \r"
     ]
    },
    {
     "name": "stdout",
     "output_type": "stream",
     "text": [
      "Epoch 4000 Loss: 3.1693456548964605e-05\n",
      "ADAUSDT 0.2 tensor(1.5814) 38 days 52.79% correct guesses\n",
      "APTUSDT 0.2 tensor(1.4905) 39 days 56.41% correct guesses\n",
      "AVAXUSDT 0.2 tensor(1.1103) 38 days 48.50% correct guesses\n",
      "BANANAUSDT 0.2 tensor(0.7616) 8 days 50.94% correct guesses\n",
      "BATUSDT 0.2 tensor(1.4003) 38 days 52.79% correct guesses\n",
      "BLZUSDT 0.2 tensor(1.3664) 38 days 51.93% correct guesses\n",
      "BNBUSDT 0.2 tensor(1.1696) 38 days 51.07% correct guesses\n",
      "BRETTUSDT 0.2 tensor(1.2768) 38 days 51.93% correct guesses\n",
      "BSVUSDT 0.2 tensor(1.1218) 38 days 51.50% correct guesses\n",
      "BTCUSDT 0.2 tensor(1.0121) 38 days 52.36% correct guesses\n",
      "C98USDT 0.2 tensor(1.0668) 39 days 49.15% correct guesses\n",
      "CEEKUSDT 0.2 tensor(0.6987) 38 days 44.21% correct guesses\n",
      "DOGEUSDT 0.2 tensor(1.0510) 39 days 55.98% correct guesses\n",
      "ETHUSDT 0.2 tensor(0.9453) 38 days 46.78% correct guesses\n",
      "LINKUSDT 0.2 tensor(1.5503) 38 days 54.08% correct guesses\n",
      "MEMEUSDT 0.2 tensor(0.9773) 38 days 48.07% correct guesses\n",
      "MNTUSDT 0.2 tensor(0.6014) 38 days 43.78% correct guesses\n",
      "ONDOUSDT 0.2 tensor(2.0165) 39 days 50.85% correct guesses\n",
      "OPUSDT 0.2 tensor(1.6491) 38 days 50.21% correct guesses\n",
      "POPCATUSDT 0.2 tensor(3.2244) 38 days 58.37% correct guesses\n",
      "SOLUSDT 0.2 tensor(1.2034) 39 days 51.71% correct guesses\n",
      "SUIUSDT 0.2 tensor(1.6027) 38 days 53.65% correct guesses\n",
      "TONUSDT 0.2 tensor(1.4095) 39 days 53.42% correct guesses\n",
      "WIFUSDT 0.2 tensor(0.7739) 39 days 50.43% correct guesses\n",
      "XRPUSDT 0.2 tensor(0.9524) 39 days 47.01% correct guesses\n",
      "ZENUSDT 0.2 tensor(0.9905) 38 days 51.07% correct guesses\n",
      "ZETAUSDT 0.2 tensor(0.5669) 39 days 42.31% correct guesses\n"
     ]
    },
    {
     "name": "stderr",
     "output_type": "stream",
     "text": [
      "                                               \r"
     ]
    },
    {
     "name": "stdout",
     "output_type": "stream",
     "text": [
      "Epoch 4100 Loss: 2.83211084024515e-05\n"
     ]
    },
    {
     "name": "stderr",
     "output_type": "stream",
     "text": [
      "                                               \r"
     ]
    },
    {
     "name": "stdout",
     "output_type": "stream",
     "text": [
      "Epoch 4200 Loss: 3.2475305488333106e-05\n"
     ]
    },
    {
     "name": "stderr",
     "output_type": "stream",
     "text": [
      "                                               \r"
     ]
    },
    {
     "name": "stdout",
     "output_type": "stream",
     "text": [
      "Epoch 4300 Loss: 3.334583016112447e-05\n"
     ]
    },
    {
     "name": "stderr",
     "output_type": "stream",
     "text": [
      "                                               \r"
     ]
    },
    {
     "name": "stdout",
     "output_type": "stream",
     "text": [
      "Epoch 4400 Loss: 3.107081283815205e-05\n"
     ]
    },
    {
     "name": "stderr",
     "output_type": "stream",
     "text": [
      "                                               \r"
     ]
    },
    {
     "name": "stdout",
     "output_type": "stream",
     "text": [
      "Epoch 4500 Loss: 2.9832590371370316e-05\n",
      "ADAUSDT 0.2 tensor(1.5217) 38 days 52.79% correct guesses\n",
      "APTUSDT 0.2 tensor(1.4465) 39 days 56.41% correct guesses\n",
      "AVAXUSDT 0.2 tensor(0.8771) 38 days 48.93% correct guesses\n",
      "BANANAUSDT 0.2 tensor(0.6802) 8 days 45.28% correct guesses\n",
      "BATUSDT 0.2 tensor(1.4583) 38 days 55.36% correct guesses\n",
      "BLZUSDT 0.2 tensor(1.2379) 38 days 51.50% correct guesses\n",
      "BNBUSDT 0.2 tensor(1.0823) 38 days 49.36% correct guesses\n",
      "BRETTUSDT 0.2 tensor(1.0837) 38 days 51.93% correct guesses\n",
      "BSVUSDT 0.2 tensor(1.2001) 38 days 51.07% correct guesses\n",
      "BTCUSDT 0.2 tensor(1.1320) 38 days 56.22% correct guesses\n",
      "C98USDT 0.2 tensor(1.0956) 39 days 50.85% correct guesses\n",
      "CEEKUSDT 0.2 tensor(0.7297) 38 days 45.92% correct guesses\n",
      "DOGEUSDT 0.2 tensor(1.1548) 39 days 55.98% correct guesses\n",
      "ETHUSDT 0.2 tensor(0.9223) 38 days 47.21% correct guesses\n",
      "LINKUSDT 0.2 tensor(1.6057) 38 days 51.93% correct guesses\n",
      "MEMEUSDT 0.2 tensor(1.0454) 38 days 47.64% correct guesses\n",
      "MNTUSDT 0.2 tensor(0.6736) 38 days 45.06% correct guesses\n",
      "ONDOUSDT 0.2 tensor(1.5846) 39 days 50.00% correct guesses\n",
      "OPUSDT 0.2 tensor(1.5567) 38 days 49.36% correct guesses\n",
      "POPCATUSDT 0.2 tensor(1.7999) 38 days 54.51% correct guesses\n",
      "SOLUSDT 0.2 tensor(1.0969) 39 days 50.85% correct guesses\n",
      "SUIUSDT 0.2 tensor(1.7120) 38 days 51.93% correct guesses\n",
      "TONUSDT 0.2 tensor(1.6944) 39 days 54.70% correct guesses\n",
      "WIFUSDT 0.2 tensor(1.0469) 39 days 52.99% correct guesses\n",
      "XRPUSDT 0.2 tensor(1.1344) 39 days 49.15% correct guesses\n",
      "ZENUSDT 0.2 tensor(1.4883) 38 days 51.93% correct guesses\n",
      "ZETAUSDT 0.2 tensor(0.8327) 39 days 44.02% correct guesses\n"
     ]
    },
    {
     "name": "stderr",
     "output_type": "stream",
     "text": [
      "                                               \r"
     ]
    },
    {
     "name": "stdout",
     "output_type": "stream",
     "text": [
      "Epoch 4600 Loss: 2.5077675672946498e-05\n"
     ]
    },
    {
     "name": "stderr",
     "output_type": "stream",
     "text": [
      "                                               \r"
     ]
    },
    {
     "name": "stdout",
     "output_type": "stream",
     "text": [
      "Epoch 4700 Loss: 2.960053097922355e-05\n"
     ]
    },
    {
     "name": "stderr",
     "output_type": "stream",
     "text": [
      "                                               \r"
     ]
    },
    {
     "name": "stdout",
     "output_type": "stream",
     "text": [
      "Epoch 4800 Loss: 2.8968504921067506e-05\n"
     ]
    },
    {
     "name": "stderr",
     "output_type": "stream",
     "text": [
      "                                               \r"
     ]
    },
    {
     "name": "stdout",
     "output_type": "stream",
     "text": [
      "Epoch 4900 Loss: 2.8889640816487372e-05\n"
     ]
    },
    {
     "name": "stderr",
     "output_type": "stream",
     "text": [
      "                                               \r"
     ]
    },
    {
     "name": "stdout",
     "output_type": "stream",
     "text": [
      "Epoch 5000 Loss: 2.6633741072146222e-05\n",
      "ADAUSDT 0.2 tensor(1.3605) 38 days 49.79% correct guesses\n",
      "APTUSDT 0.2 tensor(1.6533) 39 days 58.12% correct guesses\n",
      "AVAXUSDT 0.2 tensor(0.9197) 38 days 48.93% correct guesses\n",
      "BANANAUSDT 0.2 tensor(0.5985) 8 days 41.51% correct guesses\n",
      "BATUSDT 0.2 tensor(1.4192) 38 days 52.36% correct guesses\n",
      "BLZUSDT 0.2 tensor(1.2193) 38 days 50.21% correct guesses\n",
      "BNBUSDT 0.2 tensor(1.1069) 38 days 48.50% correct guesses\n",
      "BRETTUSDT 0.2 tensor(0.9782) 38 days 51.50% correct guesses\n",
      "BSVUSDT 0.2 tensor(1.0240) 38 days 49.36% correct guesses\n",
      "BTCUSDT 0.2 tensor(1.0975) 38 days 54.08% correct guesses\n",
      "C98USDT 0.2 tensor(1.0003) 39 days 50.00% correct guesses\n",
      "CEEKUSDT 0.2 tensor(0.7190) 38 days 45.92% correct guesses\n",
      "DOGEUSDT 0.2 tensor(1.1560) 39 days 55.56% correct guesses\n",
      "ETHUSDT 0.2 tensor(0.9209) 38 days 46.35% correct guesses\n",
      "LINKUSDT 0.2 tensor(1.7845) 38 days 54.51% correct guesses\n",
      "MEMEUSDT 0.2 tensor(0.9323) 38 days 45.92% correct guesses\n",
      "MNTUSDT 0.2 tensor(0.6340) 38 days 44.21% correct guesses\n",
      "ONDOUSDT 0.2 tensor(1.5416) 39 days 49.57% correct guesses\n",
      "OPUSDT 0.2 tensor(1.5384) 38 days 50.21% correct guesses\n",
      "POPCATUSDT 0.2 tensor(0.6347) 38 days 51.93% correct guesses\n",
      "SOLUSDT 0.2 tensor(1.2773) 39 days 50.85% correct guesses\n",
      "SUIUSDT 0.2 tensor(1.4109) 38 days 51.07% correct guesses\n",
      "TONUSDT 0.2 tensor(1.6463) 39 days 52.99% correct guesses\n",
      "WIFUSDT 0.2 tensor(1.3840) 39 days 56.41% correct guesses\n",
      "XRPUSDT 0.2 tensor(0.8263) 39 days 46.58% correct guesses\n",
      "ZENUSDT 0.2 tensor(1.8320) 38 days 50.21% correct guesses\n",
      "ZETAUSDT 0.2 tensor(0.7369) 39 days 46.15% correct guesses\n"
     ]
    },
    {
     "name": "stderr",
     "output_type": "stream",
     "text": [
      "                                               \r"
     ]
    },
    {
     "name": "stdout",
     "output_type": "stream",
     "text": [
      "Epoch 5100 Loss: 2.7141393729834817e-05\n"
     ]
    },
    {
     "name": "stderr",
     "output_type": "stream",
     "text": [
      "                                               \r"
     ]
    },
    {
     "name": "stdout",
     "output_type": "stream",
     "text": [
      "Epoch 5200 Loss: 2.6973983040079474e-05\n"
     ]
    },
    {
     "name": "stderr",
     "output_type": "stream",
     "text": [
      "                                               \r"
     ]
    },
    {
     "name": "stdout",
     "output_type": "stream",
     "text": [
      "Epoch 5300 Loss: 2.8488397219916806e-05\n"
     ]
    },
    {
     "name": "stderr",
     "output_type": "stream",
     "text": [
      "                                               \r"
     ]
    },
    {
     "name": "stdout",
     "output_type": "stream",
     "text": [
      "Epoch 5400 Loss: 2.6553527277428657e-05\n"
     ]
    },
    {
     "name": "stderr",
     "output_type": "stream",
     "text": [
      "                                               \r"
     ]
    },
    {
     "name": "stdout",
     "output_type": "stream",
     "text": [
      "Epoch 5500 Loss: 2.4979124646051787e-05\n",
      "ADAUSDT 0.2 tensor(1.3852) 38 days 50.21% correct guesses\n",
      "APTUSDT 0.2 tensor(1.0162) 39 days 55.56% correct guesses\n",
      "AVAXUSDT 0.2 tensor(1.0391) 38 days 48.50% correct guesses\n",
      "BANANAUSDT 0.2 tensor(0.6734) 8 days 47.17% correct guesses\n",
      "BATUSDT 0.2 tensor(1.3667) 38 days 52.36% correct guesses\n",
      "BLZUSDT 0.2 tensor(1.2009) 38 days 49.79% correct guesses\n",
      "BNBUSDT 0.2 tensor(1.0581) 38 days 48.93% correct guesses\n",
      "BRETTUSDT 0.2 tensor(1.5415) 38 days 51.93% correct guesses\n",
      "BSVUSDT 0.2 tensor(0.9750) 38 days 48.50% correct guesses\n",
      "BTCUSDT 0.2 tensor(1.0848) 38 days 52.79% correct guesses\n",
      "C98USDT 0.2 tensor(1.0862) 39 days 50.43% correct guesses\n",
      "CEEKUSDT 0.2 tensor(0.6924) 38 days 45.92% correct guesses\n",
      "DOGEUSDT 0.2 tensor(1.3971) 39 days 55.13% correct guesses\n",
      "ETHUSDT 0.2 tensor(0.9168) 38 days 46.35% correct guesses\n",
      "LINKUSDT 0.2 tensor(1.5517) 38 days 51.50% correct guesses\n",
      "MEMEUSDT 0.2 tensor(1.1734) 38 days 47.64% correct guesses\n",
      "MNTUSDT 0.2 tensor(0.5660) 38 days 44.21% correct guesses\n",
      "ONDOUSDT 0.2 tensor(1.7091) 39 days 49.57% correct guesses\n",
      "OPUSDT 0.2 tensor(1.7024) 38 days 50.21% correct guesses\n",
      "POPCATUSDT 0.2 tensor(0.6604) 38 days 51.93% correct guesses\n",
      "SOLUSDT 0.2 tensor(1.2892) 39 days 50.00% correct guesses\n",
      "SUIUSDT 0.2 tensor(1.6271) 38 days 53.65% correct guesses\n",
      "TONUSDT 0.2 tensor(1.4897) 39 days 52.99% correct guesses\n",
      "WIFUSDT 0.2 tensor(2.2539) 39 days 59.40% correct guesses\n",
      "XRPUSDT 0.2 tensor(0.9889) 39 days 45.73% correct guesses\n",
      "ZENUSDT 0.2 tensor(1.3099) 38 days 51.50% correct guesses\n",
      "ZETAUSDT 0.2 tensor(0.7015) 39 days 46.15% correct guesses\n"
     ]
    },
    {
     "name": "stderr",
     "output_type": "stream",
     "text": [
      "                                               \r"
     ]
    },
    {
     "name": "stdout",
     "output_type": "stream",
     "text": [
      "Epoch 5600 Loss: 2.9135673685232177e-05\n"
     ]
    },
    {
     "name": "stderr",
     "output_type": "stream",
     "text": [
      "                                               \r"
     ]
    },
    {
     "name": "stdout",
     "output_type": "stream",
     "text": [
      "Epoch 5700 Loss: 2.6661842639441602e-05\n"
     ]
    },
    {
     "name": "stderr",
     "output_type": "stream",
     "text": [
      "                                               \r"
     ]
    },
    {
     "name": "stdout",
     "output_type": "stream",
     "text": [
      "Epoch 5800 Loss: 2.3550928744953126e-05\n"
     ]
    },
    {
     "name": "stderr",
     "output_type": "stream",
     "text": [
      "                                               \r"
     ]
    },
    {
     "name": "stdout",
     "output_type": "stream",
     "text": [
      "Epoch 5900 Loss: 2.670059802767355e-05\n"
     ]
    },
    {
     "name": "stderr",
     "output_type": "stream",
     "text": [
      "                                               \r"
     ]
    },
    {
     "name": "stdout",
     "output_type": "stream",
     "text": [
      "Epoch 6000 Loss: 2.5497773094684817e-05\n",
      "ADAUSDT 0.2 tensor(1.1509) 38 days 47.64% correct guesses\n",
      "APTUSDT 0.2 tensor(1.2648) 39 days 56.41% correct guesses\n",
      "AVAXUSDT 0.2 tensor(1.0894) 38 days 49.36% correct guesses\n",
      "BANANAUSDT 0.2 tensor(0.7483) 8 days 54.72% correct guesses\n",
      "BATUSDT 0.2 tensor(1.2244) 38 days 53.22% correct guesses\n",
      "BLZUSDT 0.2 tensor(1.1012) 38 days 47.21% correct guesses\n",
      "BNBUSDT 0.2 tensor(1.0084) 38 days 47.64% correct guesses\n",
      "BRETTUSDT 0.2 tensor(1.5207) 38 days 52.36% correct guesses\n",
      "BSVUSDT 0.2 tensor(0.9538) 38 days 46.78% correct guesses\n",
      "BTCUSDT 0.2 tensor(1.1263) 38 days 52.79% correct guesses\n",
      "C98USDT 0.2 tensor(0.9858) 39 days 49.57% correct guesses\n",
      "CEEKUSDT 0.2 tensor(0.5233) 38 days 43.78% correct guesses\n",
      "DOGEUSDT 0.2 tensor(1.4231) 39 days 55.56% correct guesses\n",
      "ETHUSDT 0.2 tensor(0.8308) 38 days 44.64% correct guesses\n",
      "LINKUSDT 0.2 tensor(1.5497) 38 days 50.64% correct guesses\n",
      "MEMEUSDT 0.2 tensor(1.6676) 38 days 49.79% correct guesses\n",
      "MNTUSDT 0.2 tensor(0.6198) 38 days 45.49% correct guesses\n",
      "ONDOUSDT 0.2 tensor(1.3103) 39 days 48.29% correct guesses\n",
      "OPUSDT 0.2 tensor(1.6828) 38 days 50.64% correct guesses\n",
      "POPCATUSDT 0.2 tensor(0.6581) 38 days 52.36% correct guesses\n",
      "SOLUSDT 0.2 tensor(1.1345) 39 days 50.43% correct guesses\n",
      "SUIUSDT 0.2 tensor(1.6162) 38 days 53.65% correct guesses\n",
      "TONUSDT 0.2 tensor(1.4111) 39 days 52.14% correct guesses\n",
      "WIFUSDT 0.2 tensor(1.4872) 39 days 57.69% correct guesses\n",
      "XRPUSDT 0.2 tensor(0.9230) 39 days 48.29% correct guesses\n",
      "ZENUSDT 0.2 tensor(1.3839) 38 days 50.21% correct guesses\n",
      "ZETAUSDT 0.2 tensor(0.6373) 39 days 44.87% correct guesses\n"
     ]
    },
    {
     "name": "stderr",
     "output_type": "stream",
     "text": [
      "                                               \r"
     ]
    },
    {
     "name": "stdout",
     "output_type": "stream",
     "text": [
      "Epoch 6100 Loss: 2.5164421458612196e-05\n"
     ]
    },
    {
     "name": "stderr",
     "output_type": "stream",
     "text": [
      "                                               \r"
     ]
    },
    {
     "name": "stdout",
     "output_type": "stream",
     "text": [
      "Epoch 6200 Loss: 2.703091740841046e-05\n"
     ]
    },
    {
     "name": "stderr",
     "output_type": "stream",
     "text": [
      "                                               \r"
     ]
    },
    {
     "name": "stdout",
     "output_type": "stream",
     "text": [
      "Epoch 6300 Loss: 2.3143182261264883e-05\n"
     ]
    },
    {
     "name": "stderr",
     "output_type": "stream",
     "text": [
      "                                               \r"
     ]
    },
    {
     "name": "stdout",
     "output_type": "stream",
     "text": [
      "Epoch 6400 Loss: 2.3340720872511156e-05\n"
     ]
    },
    {
     "name": "stderr",
     "output_type": "stream",
     "text": [
      "                                               \r"
     ]
    },
    {
     "name": "stdout",
     "output_type": "stream",
     "text": [
      "Epoch 6500 Loss: 2.4350116291316226e-05\n",
      "ADAUSDT 0.2 tensor(1.1920) 38 days 47.64% correct guesses\n",
      "APTUSDT 0.2 tensor(1.0078) 39 days 55.13% correct guesses\n",
      "AVAXUSDT 0.2 tensor(0.9987) 38 days 46.78% correct guesses\n",
      "BANANAUSDT 0.2 tensor(0.9268) 8 days 49.06% correct guesses\n",
      "BATUSDT 0.2 tensor(1.2052) 38 days 52.79% correct guesses\n",
      "BLZUSDT 0.2 tensor(1.2368) 38 days 48.50% correct guesses\n",
      "BNBUSDT 0.2 tensor(0.8871) 38 days 48.93% correct guesses\n",
      "BRETTUSDT 0.2 tensor(1.6101) 38 days 52.36% correct guesses\n",
      "BSVUSDT 0.2 tensor(0.9509) 38 days 48.07% correct guesses\n",
      "BTCUSDT 0.2 tensor(0.9943) 38 days 52.36% correct guesses\n",
      "C98USDT 0.2 tensor(1.0262) 39 days 49.15% correct guesses\n",
      "CEEKUSDT 0.2 tensor(0.4959) 38 days 41.63% correct guesses\n",
      "DOGEUSDT 0.2 tensor(1.3536) 39 days 55.98% correct guesses\n",
      "ETHUSDT 0.2 tensor(0.8404) 38 days 44.21% correct guesses\n",
      "LINKUSDT 0.2 tensor(1.6649) 38 days 52.36% correct guesses\n",
      "MEMEUSDT 0.2 tensor(1.5652) 38 days 49.79% correct guesses\n",
      "MNTUSDT 0.2 tensor(0.7066) 38 days 44.21% correct guesses\n",
      "ONDOUSDT 0.2 tensor(1.6415) 39 days 50.00% correct guesses\n",
      "OPUSDT 0.2 tensor(1.5023) 38 days 50.64% correct guesses\n",
      "POPCATUSDT 0.2 tensor(0.5838) 38 days 52.36% correct guesses\n",
      "SOLUSDT 0.2 tensor(1.1854) 39 days 49.57% correct guesses\n",
      "SUIUSDT 0.2 tensor(1.6425) 38 days 54.08% correct guesses\n",
      "TONUSDT 0.2 tensor(1.4494) 39 days 52.56% correct guesses\n",
      "WIFUSDT 0.2 tensor(1.6800) 39 days 57.26% correct guesses\n",
      "XRPUSDT 0.2 tensor(0.7433) 39 days 47.44% correct guesses\n",
      "ZENUSDT 0.2 tensor(1.2486) 38 days 51.50% correct guesses\n",
      "ZETAUSDT 0.2 tensor(0.5924) 39 days 45.30% correct guesses\n"
     ]
    },
    {
     "name": "stderr",
     "output_type": "stream",
     "text": [
      "                                               \r"
     ]
    },
    {
     "name": "stdout",
     "output_type": "stream",
     "text": [
      "Epoch 6600 Loss: 2.720225165830925e-05\n"
     ]
    },
    {
     "name": "stderr",
     "output_type": "stream",
     "text": [
      "                                               \r"
     ]
    },
    {
     "name": "stdout",
     "output_type": "stream",
     "text": [
      "Epoch 6700 Loss: 2.4275659598060884e-05\n"
     ]
    },
    {
     "name": "stderr",
     "output_type": "stream",
     "text": [
      "                                               \r"
     ]
    },
    {
     "name": "stdout",
     "output_type": "stream",
     "text": [
      "Epoch 6800 Loss: 2.4796201614663005e-05\n"
     ]
    },
    {
     "name": "stderr",
     "output_type": "stream",
     "text": [
      "                                               \r"
     ]
    },
    {
     "name": "stdout",
     "output_type": "stream",
     "text": [
      "Epoch 6900 Loss: 2.21002301259432e-05\n"
     ]
    },
    {
     "name": "stderr",
     "output_type": "stream",
     "text": [
      "                                               \r"
     ]
    },
    {
     "name": "stdout",
     "output_type": "stream",
     "text": [
      "Epoch 7000 Loss: 2.4234852389781736e-05\n",
      "ADAUSDT 0.2 tensor(1.0925) 38 days 46.78% correct guesses\n",
      "APTUSDT 0.2 tensor(1.3038) 39 days 55.13% correct guesses\n",
      "AVAXUSDT 0.2 tensor(1.0218) 38 days 48.50% correct guesses\n",
      "BANANAUSDT 0.2 tensor(0.7887) 8 days 47.17% correct guesses\n",
      "BATUSDT 0.2 tensor(1.1934) 38 days 51.93% correct guesses\n",
      "BLZUSDT 0.2 tensor(1.1769) 38 days 48.50% correct guesses\n",
      "BNBUSDT 0.2 tensor(0.9570) 38 days 48.50% correct guesses\n",
      "BRETTUSDT 0.2 tensor(1.3671) 38 days 50.64% correct guesses\n",
      "BSVUSDT 0.2 tensor(0.9901) 38 days 48.07% correct guesses\n",
      "BTCUSDT 0.2 tensor(0.9871) 38 days 52.79% correct guesses\n",
      "C98USDT 0.2 tensor(1.1557) 39 days 49.57% correct guesses\n",
      "CEEKUSDT 0.2 tensor(0.4987) 38 days 42.06% correct guesses\n",
      "DOGEUSDT 0.2 tensor(1.2913) 39 days 55.56% correct guesses\n",
      "ETHUSDT 0.2 tensor(0.8373) 38 days 46.35% correct guesses\n",
      "LINKUSDT 0.2 tensor(1.5184) 38 days 51.50% correct guesses\n",
      "MEMEUSDT 0.2 tensor(1.8059) 38 days 51.93% correct guesses\n",
      "MNTUSDT 0.2 tensor(0.8074) 38 days 46.78% correct guesses\n",
      "ONDOUSDT 0.2 tensor(1.2742) 39 days 48.29% correct guesses\n",
      "OPUSDT 0.2 tensor(1.6001) 38 days 52.36% correct guesses\n",
      "POPCATUSDT 0.2 tensor(0.8656) 38 days 53.22% correct guesses\n",
      "SOLUSDT 0.2 tensor(1.1621) 39 days 49.15% correct guesses\n",
      "SUIUSDT 0.2 tensor(2.1099) 38 days 54.08% correct guesses\n",
      "TONUSDT 0.2 tensor(1.3539) 39 days 52.14% correct guesses\n",
      "WIFUSDT 0.2 tensor(1.6972) 39 days 56.84% correct guesses\n",
      "XRPUSDT 0.2 tensor(0.8447) 39 days 47.01% correct guesses\n",
      "ZENUSDT 0.2 tensor(1.6267) 38 days 53.22% correct guesses\n",
      "ZETAUSDT 0.2 tensor(0.4931) 39 days 44.02% correct guesses\n"
     ]
    },
    {
     "name": "stderr",
     "output_type": "stream",
     "text": [
      "                                               \r"
     ]
    },
    {
     "name": "stdout",
     "output_type": "stream",
     "text": [
      "Epoch 7100 Loss: 2.5403269319212995e-05\n"
     ]
    },
    {
     "name": "stderr",
     "output_type": "stream",
     "text": [
      "                                               \r"
     ]
    },
    {
     "name": "stdout",
     "output_type": "stream",
     "text": [
      "Epoch 7200 Loss: 2.2874808564665727e-05\n"
     ]
    },
    {
     "name": "stderr",
     "output_type": "stream",
     "text": [
      "                                               \r"
     ]
    },
    {
     "name": "stdout",
     "output_type": "stream",
     "text": [
      "Epoch 7300 Loss: 2.3977814635145478e-05\n"
     ]
    },
    {
     "name": "stderr",
     "output_type": "stream",
     "text": [
      "                                               \r"
     ]
    },
    {
     "name": "stdout",
     "output_type": "stream",
     "text": [
      "Epoch 7400 Loss: 2.1741971067967825e-05\n"
     ]
    },
    {
     "name": "stderr",
     "output_type": "stream",
     "text": [
      "                                               \r"
     ]
    },
    {
     "name": "stdout",
     "output_type": "stream",
     "text": [
      "Epoch 7500 Loss: 2.2049582184990868e-05\n",
      "ADAUSDT 0.2 tensor(1.1996) 38 days 46.35% correct guesses\n",
      "APTUSDT 0.2 tensor(1.2116) 39 days 55.13% correct guesses\n",
      "AVAXUSDT 0.2 tensor(0.9910) 38 days 48.50% correct guesses\n",
      "BANANAUSDT 0.2 tensor(0.5168) 8 days 49.06% correct guesses\n",
      "BATUSDT 0.2 tensor(1.2206) 38 days 51.93% correct guesses\n",
      "BLZUSDT 0.2 tensor(1.1670) 38 days 49.79% correct guesses\n",
      "BNBUSDT 0.2 tensor(0.8509) 38 days 46.78% correct guesses\n",
      "BRETTUSDT 0.2 tensor(1.7306) 38 days 51.93% correct guesses\n",
      "BSVUSDT 0.2 tensor(0.9046) 38 days 48.07% correct guesses\n",
      "BTCUSDT 0.2 tensor(0.9608) 38 days 51.93% correct guesses\n",
      "C98USDT 0.2 tensor(1.1243) 39 days 49.15% correct guesses\n",
      "CEEKUSDT 0.2 tensor(0.5622) 38 days 42.49% correct guesses\n",
      "DOGEUSDT 0.2 tensor(1.3827) 39 days 55.98% correct guesses\n",
      "ETHUSDT 0.2 tensor(0.8033) 38 days 43.78% correct guesses\n",
      "LINKUSDT 0.2 tensor(1.3603) 38 days 52.36% correct guesses\n",
      "MEMEUSDT 0.2 tensor(1.4648) 38 days 49.36% correct guesses\n",
      "MNTUSDT 0.2 tensor(0.8730) 38 days 48.07% correct guesses\n",
      "ONDOUSDT 0.2 tensor(1.3205) 39 days 50.00% correct guesses\n",
      "OPUSDT 0.2 tensor(1.8558) 38 days 52.79% correct guesses\n",
      "POPCATUSDT 0.2 tensor(0.6606) 38 days 51.93% correct guesses\n",
      "SOLUSDT 0.2 tensor(1.1390) 39 days 49.15% correct guesses\n",
      "SUIUSDT 0.2 tensor(1.8185) 38 days 51.93% correct guesses\n",
      "TONUSDT 0.2 tensor(1.2972) 39 days 52.14% correct guesses\n",
      "WIFUSDT 0.2 tensor(1.7125) 39 days 57.26% correct guesses\n",
      "XRPUSDT 0.2 tensor(0.8978) 39 days 47.44% correct guesses\n",
      "ZENUSDT 0.2 tensor(1.2815) 38 days 52.36% correct guesses\n",
      "ZETAUSDT 0.2 tensor(0.4886) 39 days 44.44% correct guesses\n"
     ]
    },
    {
     "name": "stderr",
     "output_type": "stream",
     "text": [
      "                                               \r"
     ]
    },
    {
     "name": "stdout",
     "output_type": "stream",
     "text": [
      "Epoch 7600 Loss: 2.0985791707062162e-05\n"
     ]
    },
    {
     "name": "stderr",
     "output_type": "stream",
     "text": [
      "                                               \r"
     ]
    },
    {
     "name": "stdout",
     "output_type": "stream",
     "text": [
      "Epoch 7700 Loss: 2.1773561456939206e-05\n"
     ]
    },
    {
     "name": "stderr",
     "output_type": "stream",
     "text": [
      "                                               \r"
     ]
    },
    {
     "name": "stdout",
     "output_type": "stream",
     "text": [
      "Epoch 7800 Loss: 2.4989265511976555e-05\n"
     ]
    },
    {
     "name": "stderr",
     "output_type": "stream",
     "text": [
      "                                               \r"
     ]
    },
    {
     "name": "stdout",
     "output_type": "stream",
     "text": [
      "Epoch 7900 Loss: 2.324506021977868e-05\n"
     ]
    },
    {
     "name": "stderr",
     "output_type": "stream",
     "text": [
      "                                               \r"
     ]
    },
    {
     "name": "stdout",
     "output_type": "stream",
     "text": [
      "Epoch 8000 Loss: 2.1182320779189467e-05\n",
      "ADAUSDT 0.2 tensor(1.3549) 38 days 46.78% correct guesses\n",
      "APTUSDT 0.2 tensor(1.3167) 39 days 56.84% correct guesses\n",
      "AVAXUSDT 0.2 tensor(1.2447) 38 days 50.21% correct guesses\n",
      "BANANAUSDT 0.2 tensor(0.5065) 8 days 49.06% correct guesses\n",
      "BATUSDT 0.2 tensor(1.1733) 38 days 51.50% correct guesses\n",
      "BLZUSDT 0.2 tensor(1.1754) 38 days 49.79% correct guesses\n",
      "BNBUSDT 0.2 tensor(0.7866) 38 days 43.78% correct guesses\n",
      "BRETTUSDT 0.2 tensor(1.6909) 38 days 51.93% correct guesses\n",
      "BSVUSDT 0.2 tensor(0.8510) 38 days 46.78% correct guesses\n",
      "BTCUSDT 0.2 tensor(0.9435) 38 days 51.07% correct guesses\n",
      "C98USDT 0.2 tensor(1.0702) 39 days 47.86% correct guesses\n",
      "CEEKUSDT 0.2 tensor(0.6587) 38 days 42.06% correct guesses\n",
      "DOGEUSDT 0.2 tensor(1.2013) 39 days 56.41% correct guesses\n",
      "ETHUSDT 0.2 tensor(0.9127) 38 days 47.64% correct guesses\n",
      "LINKUSDT 0.2 tensor(1.3052) 38 days 52.79% correct guesses\n",
      "MEMEUSDT 0.2 tensor(1.3601) 38 days 48.93% correct guesses\n",
      "MNTUSDT 0.2 tensor(0.9807) 38 days 50.64% correct guesses\n",
      "ONDOUSDT 0.2 tensor(1.3232) 39 days 50.00% correct guesses\n",
      "OPUSDT 0.2 tensor(1.5999) 38 days 52.79% correct guesses\n",
      "POPCATUSDT 0.2 tensor(0.9057) 38 days 54.51% correct guesses\n",
      "SOLUSDT 0.2 tensor(1.3057) 39 days 50.00% correct guesses\n",
      "SUIUSDT 0.2 tensor(1.9481) 38 days 51.93% correct guesses\n",
      "TONUSDT 0.2 tensor(1.4752) 39 days 51.28% correct guesses\n",
      "WIFUSDT 0.2 tensor(1.2736) 39 days 53.85% correct guesses\n",
      "XRPUSDT 0.2 tensor(1.0051) 39 days 48.29% correct guesses\n",
      "ZENUSDT 0.2 tensor(1.3506) 38 days 52.36% correct guesses\n",
      "ZETAUSDT 0.2 tensor(0.4314) 39 days 44.02% correct guesses\n"
     ]
    },
    {
     "name": "stderr",
     "output_type": "stream",
     "text": [
      "                                               \r"
     ]
    },
    {
     "name": "stdout",
     "output_type": "stream",
     "text": [
      "Epoch 8100 Loss: 2.761463292699773e-05\n"
     ]
    },
    {
     "name": "stderr",
     "output_type": "stream",
     "text": [
      "                                               \r"
     ]
    },
    {
     "name": "stdout",
     "output_type": "stream",
     "text": [
      "Epoch 8200 Loss: 2.1476129404618405e-05\n"
     ]
    },
    {
     "name": "stderr",
     "output_type": "stream",
     "text": [
      "                                               \r"
     ]
    },
    {
     "name": "stdout",
     "output_type": "stream",
     "text": [
      "Epoch 8300 Loss: 2.4698143533896655e-05\n"
     ]
    },
    {
     "name": "stderr",
     "output_type": "stream",
     "text": [
      "                                               \r"
     ]
    },
    {
     "name": "stdout",
     "output_type": "stream",
     "text": [
      "Epoch 8400 Loss: 2.499617221474182e-05\n"
     ]
    },
    {
     "name": "stderr",
     "output_type": "stream",
     "text": [
      "                                               \r"
     ]
    },
    {
     "name": "stdout",
     "output_type": "stream",
     "text": [
      "Epoch 8500 Loss: 2.1644011212629266e-05\n",
      "ADAUSDT 0.2 tensor(1.3573) 38 days 48.07% correct guesses\n",
      "APTUSDT 0.2 tensor(1.1560) 39 days 52.99% correct guesses\n",
      "AVAXUSDT 0.2 tensor(0.8022) 38 days 46.35% correct guesses\n",
      "BANANAUSDT 0.2 tensor(0.5819) 8 days 52.83% correct guesses\n",
      "BATUSDT 0.2 tensor(1.2127) 38 days 51.50% correct guesses\n",
      "BLZUSDT 0.2 tensor(1.1906) 38 days 50.64% correct guesses\n",
      "BNBUSDT 0.2 tensor(0.8795) 38 days 44.64% correct guesses\n",
      "BRETTUSDT 0.2 tensor(1.5571) 38 days 51.93% correct guesses\n",
      "BSVUSDT 0.2 tensor(1.1229) 38 days 48.07% correct guesses\n",
      "BTCUSDT 0.2 tensor(0.9492) 38 days 51.50% correct guesses\n",
      "C98USDT 0.2 tensor(1.1481) 39 days 48.29% correct guesses\n",
      "CEEKUSDT 0.2 tensor(0.7031) 38 days 43.78% correct guesses\n",
      "DOGEUSDT 0.2 tensor(1.6664) 39 days 58.55% correct guesses\n",
      "ETHUSDT 0.2 tensor(0.8405) 38 days 45.92% correct guesses\n",
      "LINKUSDT 0.2 tensor(1.3261) 38 days 51.93% correct guesses\n",
      "MEMEUSDT 0.2 tensor(1.5078) 38 days 51.07% correct guesses\n",
      "MNTUSDT 0.2 tensor(1.0044) 38 days 48.50% correct guesses\n",
      "ONDOUSDT 0.2 tensor(1.1881) 39 days 48.72% correct guesses\n",
      "OPUSDT 0.2 tensor(1.7838) 38 days 52.36% correct guesses\n",
      "POPCATUSDT 0.2 tensor(0.6008) 38 days 51.50% correct guesses\n",
      "SOLUSDT 0.2 tensor(1.2581) 39 days 50.00% correct guesses\n",
      "SUIUSDT 0.2 tensor(1.9126) 38 days 52.36% correct guesses\n",
      "TONUSDT 0.2 tensor(1.4623) 39 days 50.85% correct guesses\n",
      "WIFUSDT 0.2 tensor(1.4228) 39 days 55.13% correct guesses\n",
      "XRPUSDT 0.2 tensor(0.8460) 39 days 46.15% correct guesses\n",
      "ZENUSDT 0.2 tensor(0.8341) 38 days 51.07% correct guesses\n",
      "ZETAUSDT 0.2 tensor(0.4250) 39 days 43.59% correct guesses\n"
     ]
    },
    {
     "name": "stderr",
     "output_type": "stream",
     "text": [
      "                                               \r"
     ]
    },
    {
     "name": "stdout",
     "output_type": "stream",
     "text": [
      "Epoch 8600 Loss: 2.0006915292469785e-05\n"
     ]
    },
    {
     "name": "stderr",
     "output_type": "stream",
     "text": [
      "                                               \r"
     ]
    },
    {
     "name": "stdout",
     "output_type": "stream",
     "text": [
      "Epoch 8700 Loss: 2.3059285013005137e-05\n"
     ]
    },
    {
     "name": "stderr",
     "output_type": "stream",
     "text": [
      "                                               \r"
     ]
    },
    {
     "name": "stdout",
     "output_type": "stream",
     "text": [
      "Epoch 8800 Loss: 2.0082297851331532e-05\n"
     ]
    },
    {
     "name": "stderr",
     "output_type": "stream",
     "text": [
      "                                               \r"
     ]
    },
    {
     "name": "stdout",
     "output_type": "stream",
     "text": [
      "Epoch 8900 Loss: 2.209256126661785e-05\n"
     ]
    },
    {
     "name": "stderr",
     "output_type": "stream",
     "text": [
      "                                               \r"
     ]
    },
    {
     "name": "stdout",
     "output_type": "stream",
     "text": [
      "Epoch 9000 Loss: 2.2066591554903425e-05\n",
      "ADAUSDT 0.2 tensor(1.2440) 38 days 47.64% correct guesses\n",
      "APTUSDT 0.2 tensor(1.2502) 39 days 55.56% correct guesses\n",
      "AVAXUSDT 0.2 tensor(0.8252) 38 days 47.21% correct guesses\n",
      "BANANAUSDT 0.2 tensor(0.6638) 8 days 56.60% correct guesses\n",
      "BATUSDT 0.2 tensor(1.2423) 38 days 52.36% correct guesses\n",
      "BLZUSDT 0.2 tensor(1.5760) 38 days 51.50% correct guesses\n",
      "BNBUSDT 0.2 tensor(0.8327) 38 days 46.35% correct guesses\n",
      "BRETTUSDT 0.2 tensor(1.2634) 38 days 49.36% correct guesses\n",
      "BSVUSDT 0.2 tensor(0.9391) 38 days 46.35% correct guesses\n",
      "BTCUSDT 0.2 tensor(0.8958) 38 days 50.21% correct guesses\n",
      "C98USDT 0.2 tensor(1.0545) 39 days 47.01% correct guesses\n",
      "CEEKUSDT 0.2 tensor(0.6115) 38 days 41.63% correct guesses\n",
      "DOGEUSDT 0.2 tensor(1.5400) 39 days 55.98% correct guesses\n",
      "ETHUSDT 0.2 tensor(0.9067) 38 days 48.07% correct guesses\n",
      "LINKUSDT 0.2 tensor(1.6543) 38 days 55.79% correct guesses\n",
      "MEMEUSDT 0.2 tensor(1.4910) 38 days 51.50% correct guesses\n",
      "MNTUSDT 0.2 tensor(0.6987) 38 days 48.50% correct guesses\n",
      "ONDOUSDT 0.2 tensor(1.2819) 39 days 49.57% correct guesses\n",
      "OPUSDT 0.2 tensor(1.7907) 38 days 53.65% correct guesses\n",
      "POPCATUSDT 0.2 tensor(0.5852) 38 days 51.50% correct guesses\n",
      "SOLUSDT 0.2 tensor(1.3476) 39 days 51.28% correct guesses\n",
      "SUIUSDT 0.2 tensor(1.6766) 38 days 51.93% correct guesses\n",
      "TONUSDT 0.2 tensor(1.5337) 39 days 53.42% correct guesses\n",
      "WIFUSDT 0.2 tensor(1.2099) 39 days 53.85% correct guesses\n",
      "XRPUSDT 0.2 tensor(0.8585) 39 days 47.44% correct guesses\n",
      "ZENUSDT 0.2 tensor(1.2843) 38 days 51.07% correct guesses\n",
      "ZETAUSDT 0.2 tensor(0.4149) 39 days 41.88% correct guesses\n"
     ]
    },
    {
     "name": "stderr",
     "output_type": "stream",
     "text": [
      "                                               \r"
     ]
    },
    {
     "name": "stdout",
     "output_type": "stream",
     "text": [
      "Epoch 9100 Loss: 2.0506409782683477e-05\n"
     ]
    },
    {
     "name": "stderr",
     "output_type": "stream",
     "text": [
      "                                               \r"
     ]
    },
    {
     "name": "stdout",
     "output_type": "stream",
     "text": [
      "Epoch 9200 Loss: 2.2851481844554655e-05\n"
     ]
    },
    {
     "name": "stderr",
     "output_type": "stream",
     "text": [
      "                                               \r"
     ]
    },
    {
     "name": "stdout",
     "output_type": "stream",
     "text": [
      "Epoch 9300 Loss: 2.6448482458363287e-05\n"
     ]
    },
    {
     "name": "stderr",
     "output_type": "stream",
     "text": [
      "                                               \r"
     ]
    },
    {
     "name": "stdout",
     "output_type": "stream",
     "text": [
      "Epoch 9400 Loss: 2.0395666069816798e-05\n"
     ]
    },
    {
     "name": "stderr",
     "output_type": "stream",
     "text": [
      "                                               \r"
     ]
    },
    {
     "name": "stdout",
     "output_type": "stream",
     "text": [
      "Epoch 9500 Loss: 2.0943998606526293e-05\n",
      "ADAUSDT 0.2 tensor(1.3384) 38 days 46.35% correct guesses\n",
      "APTUSDT 0.2 tensor(1.0475) 39 days 52.14% correct guesses\n",
      "AVAXUSDT 0.2 tensor(0.9478) 38 days 48.93% correct guesses\n",
      "BANANAUSDT 0.2 tensor(0.6160) 8 days 52.83% correct guesses\n",
      "BATUSDT 0.2 tensor(1.2245) 38 days 51.50% correct guesses\n",
      "BLZUSDT 0.2 tensor(1.6394) 38 days 53.22% correct guesses\n",
      "BNBUSDT 0.2 tensor(0.9283) 38 days 46.78% correct guesses\n",
      "BRETTUSDT 0.2 tensor(1.5086) 38 days 50.21% correct guesses\n",
      "BSVUSDT 0.2 tensor(0.8680) 38 days 45.49% correct guesses\n",
      "BTCUSDT 0.2 tensor(0.8062) 38 days 49.79% correct guesses\n",
      "C98USDT 0.2 tensor(1.0351) 39 days 46.58% correct guesses\n",
      "CEEKUSDT 0.2 tensor(0.6818) 38 days 43.35% correct guesses\n",
      "DOGEUSDT 0.2 tensor(1.8720) 39 days 58.55% correct guesses\n",
      "ETHUSDT 0.2 tensor(0.9551) 38 days 46.78% correct guesses\n",
      "LINKUSDT 0.2 tensor(1.4943) 38 days 52.79% correct guesses\n",
      "MEMEUSDT 0.2 tensor(1.2215) 38 days 49.79% correct guesses\n",
      "MNTUSDT 0.2 tensor(0.8353) 38 days 50.21% correct guesses\n",
      "ONDOUSDT 0.2 tensor(1.0838) 39 days 47.86% correct guesses\n",
      "OPUSDT 0.2 tensor(1.8543) 38 days 54.08% correct guesses\n",
      "POPCATUSDT 0.2 tensor(0.6967) 38 days 52.79% correct guesses\n",
      "SOLUSDT 0.2 tensor(1.4698) 39 days 54.27% correct guesses\n",
      "SUIUSDT 0.2 tensor(1.6121) 38 days 50.21% correct guesses\n",
      "TONUSDT 0.2 tensor(1.2274) 39 days 49.57% correct guesses\n",
      "WIFUSDT 0.2 tensor(1.0051) 39 days 52.99% correct guesses\n",
      "XRPUSDT 0.2 tensor(1.0848) 39 days 47.86% correct guesses\n",
      "ZENUSDT 0.2 tensor(1.4331) 38 days 52.79% correct guesses\n",
      "ZETAUSDT 0.2 tensor(0.4430) 39 days 42.74% correct guesses\n"
     ]
    },
    {
     "name": "stderr",
     "output_type": "stream",
     "text": [
      "                                               \r"
     ]
    },
    {
     "name": "stdout",
     "output_type": "stream",
     "text": [
      "Epoch 9600 Loss: 2.3419437638949603e-05\n"
     ]
    },
    {
     "name": "stderr",
     "output_type": "stream",
     "text": [
      "                                               \r"
     ]
    },
    {
     "name": "stdout",
     "output_type": "stream",
     "text": [
      "Epoch 9700 Loss: 2.1440220734803006e-05\n"
     ]
    },
    {
     "name": "stderr",
     "output_type": "stream",
     "text": [
      "                                               \r"
     ]
    },
    {
     "name": "stdout",
     "output_type": "stream",
     "text": [
      "Epoch 9800 Loss: 2.217354267486371e-05\n"
     ]
    },
    {
     "name": "stderr",
     "output_type": "stream",
     "text": [
      "                                               \r"
     ]
    },
    {
     "name": "stdout",
     "output_type": "stream",
     "text": [
      "Epoch 9900 Loss: 2.0230174413882196e-05\n"
     ]
    },
    {
     "name": "stderr",
     "output_type": "stream",
     "text": [
      "                                               \r"
     ]
    },
    {
     "name": "stdout",
     "output_type": "stream",
     "text": [
      "Epoch 10000 Loss: 2.1945868866168894e-05\n",
      "ADAUSDT 0.2 tensor(1.2966) 38 days 46.35% correct guesses\n",
      "APTUSDT 0.2 tensor(1.0526) 39 days 50.85% correct guesses\n",
      "AVAXUSDT 0.2 tensor(0.9244) 38 days 48.93% correct guesses\n",
      "BANANAUSDT 0.2 tensor(1.0736) 8 days 56.60% correct guesses\n",
      "BATUSDT 0.2 tensor(1.2762) 38 days 51.93% correct guesses\n",
      "BLZUSDT 0.2 tensor(1.5448) 38 days 51.93% correct guesses\n",
      "BNBUSDT 0.2 tensor(0.8785) 38 days 48.07% correct guesses\n",
      "BRETTUSDT 0.2 tensor(1.4098) 38 days 48.93% correct guesses\n",
      "BSVUSDT 0.2 tensor(0.9040) 38 days 45.06% correct guesses\n",
      "BTCUSDT 0.2 tensor(0.8614) 38 days 49.36% correct guesses\n",
      "C98USDT 0.2 tensor(0.9303) 39 days 47.01% correct guesses\n",
      "CEEKUSDT 0.2 tensor(0.7142) 38 days 43.35% correct guesses\n",
      "DOGEUSDT 0.2 tensor(1.5728) 39 days 55.98% correct guesses\n",
      "ETHUSDT 0.2 tensor(0.8262) 38 days 44.64% correct guesses\n",
      "LINKUSDT 0.2 tensor(1.4484) 38 days 53.65% correct guesses\n",
      "MEMEUSDT 0.2 tensor(1.1306) 38 days 49.36% correct guesses\n",
      "MNTUSDT 0.2 tensor(0.8614) 38 days 50.21% correct guesses\n",
      "ONDOUSDT 0.2 tensor(1.2698) 39 days 47.86% correct guesses\n",
      "OPUSDT 0.2 tensor(1.3869) 38 days 52.79% correct guesses\n",
      "POPCATUSDT 0.2 tensor(1.0807) 38 days 52.79% correct guesses\n",
      "SOLUSDT 0.2 tensor(1.1145) 39 days 50.00% correct guesses\n",
      "SUIUSDT 0.2 tensor(1.8825) 38 days 53.22% correct guesses\n",
      "TONUSDT 0.2 tensor(1.1314) 39 days 51.28% correct guesses\n",
      "WIFUSDT 0.2 tensor(1.0025) 39 days 53.42% correct guesses\n",
      "XRPUSDT 0.2 tensor(0.9369) 39 days 47.01% correct guesses\n",
      "ZENUSDT 0.2 tensor(1.1164) 38 days 51.93% correct guesses\n",
      "ZETAUSDT 0.2 tensor(0.4830) 39 days 42.31% correct guesses\n"
     ]
    },
    {
     "name": "stderr",
     "output_type": "stream",
     "text": [
      "                                               \r"
     ]
    },
    {
     "name": "stdout",
     "output_type": "stream",
     "text": [
      "Epoch 10100 Loss: 1.9724207959370688e-05\n"
     ]
    },
    {
     "name": "stderr",
     "output_type": "stream",
     "text": [
      "                                               \r"
     ]
    },
    {
     "name": "stdout",
     "output_type": "stream",
     "text": [
      "Epoch 10200 Loss: 2.0508266970864497e-05\n"
     ]
    },
    {
     "name": "stderr",
     "output_type": "stream",
     "text": [
      "                                               \r"
     ]
    },
    {
     "name": "stdout",
     "output_type": "stream",
     "text": [
      "Epoch 10300 Loss: 2.1489384380402043e-05\n"
     ]
    },
    {
     "name": "stderr",
     "output_type": "stream",
     "text": [
      "                                               \r"
     ]
    },
    {
     "name": "stdout",
     "output_type": "stream",
     "text": [
      "Epoch 10400 Loss: 1.8627222743816674e-05\n"
     ]
    },
    {
     "name": "stderr",
     "output_type": "stream",
     "text": [
      "                                               \r"
     ]
    },
    {
     "name": "stdout",
     "output_type": "stream",
     "text": [
      "Epoch 10500 Loss: 2.1029572963016108e-05\n",
      "ADAUSDT 0.2 tensor(1.3260) 38 days 47.21% correct guesses\n",
      "APTUSDT 0.2 tensor(1.2142) 39 days 52.56% correct guesses\n",
      "AVAXUSDT 0.2 tensor(0.9930) 38 days 48.93% correct guesses\n",
      "BANANAUSDT 0.2 tensor(1.0895) 8 days 58.49% correct guesses\n",
      "BATUSDT 0.2 tensor(1.2404) 38 days 51.50% correct guesses\n",
      "BLZUSDT 0.2 tensor(1.5837) 38 days 50.64% correct guesses\n",
      "BNBUSDT 0.2 tensor(0.8055) 38 days 45.49% correct guesses\n",
      "BRETTUSDT 0.2 tensor(1.4343) 38 days 48.07% correct guesses\n",
      "BSVUSDT 0.2 tensor(0.9842) 38 days 47.64% correct guesses\n",
      "BTCUSDT 0.2 tensor(0.8011) 38 days 48.93% correct guesses\n",
      "C98USDT 0.2 tensor(0.9934) 39 days 47.86% correct guesses\n",
      "CEEKUSDT 0.2 tensor(0.6984) 38 days 41.63% correct guesses\n",
      "DOGEUSDT 0.2 tensor(1.6410) 39 days 55.98% correct guesses\n",
      "ETHUSDT 0.2 tensor(0.9215) 38 days 46.78% correct guesses\n",
      "LINKUSDT 0.2 tensor(1.4497) 38 days 53.22% correct guesses\n",
      "MEMEUSDT 0.2 tensor(1.1227) 38 days 49.79% correct guesses\n",
      "MNTUSDT 0.2 tensor(0.7988) 38 days 48.07% correct guesses\n",
      "ONDOUSDT 0.2 tensor(1.3422) 39 days 48.72% correct guesses\n",
      "OPUSDT 0.2 tensor(1.5019) 38 days 52.36% correct guesses\n",
      "POPCATUSDT 0.2 tensor(0.8597) 38 days 51.50% correct guesses\n",
      "SOLUSDT 0.2 tensor(1.3728) 39 days 50.85% correct guesses\n",
      "SUIUSDT 0.2 tensor(1.5724) 38 days 51.93% correct guesses\n",
      "TONUSDT 0.2 tensor(1.1771) 39 days 51.71% correct guesses\n",
      "WIFUSDT 0.2 tensor(1.5356) 39 days 53.85% correct guesses\n",
      "XRPUSDT 0.2 tensor(0.9927) 39 days 47.86% correct guesses\n",
      "ZENUSDT 0.2 tensor(1.2017) 38 days 52.36% correct guesses\n",
      "ZETAUSDT 0.2 tensor(0.5590) 39 days 44.44% correct guesses\n"
     ]
    },
    {
     "name": "stderr",
     "output_type": "stream",
     "text": [
      "                                               \r"
     ]
    },
    {
     "name": "stdout",
     "output_type": "stream",
     "text": [
      "Epoch 10600 Loss: 2.6976851586368866e-05\n"
     ]
    },
    {
     "name": "stderr",
     "output_type": "stream",
     "text": [
      "                                               \r"
     ]
    },
    {
     "name": "stdout",
     "output_type": "stream",
     "text": [
      "Epoch 10700 Loss: 1.8980417735292576e-05\n"
     ]
    },
    {
     "name": "stderr",
     "output_type": "stream",
     "text": [
      "                                               \r"
     ]
    },
    {
     "name": "stdout",
     "output_type": "stream",
     "text": [
      "Epoch 10800 Loss: 2.1915724573773332e-05\n"
     ]
    },
    {
     "name": "stderr",
     "output_type": "stream",
     "text": [
      "                                               \r"
     ]
    },
    {
     "name": "stdout",
     "output_type": "stream",
     "text": [
      "Epoch 10900 Loss: 1.8350336176808923e-05\n"
     ]
    },
    {
     "name": "stderr",
     "output_type": "stream",
     "text": [
      "                                               \r"
     ]
    },
    {
     "name": "stdout",
     "output_type": "stream",
     "text": [
      "Epoch 11000 Loss: 2.2926926249056123e-05\n",
      "ADAUSDT 0.2 tensor(1.3470) 38 days 47.21% correct guesses\n",
      "APTUSDT 0.2 tensor(1.0172) 39 days 50.43% correct guesses\n",
      "AVAXUSDT 0.2 tensor(1.0112) 38 days 49.36% correct guesses\n",
      "BANANAUSDT 0.2 tensor(0.9115) 8 days 50.94% correct guesses\n",
      "BATUSDT 0.2 tensor(1.1492) 38 days 50.64% correct guesses\n",
      "BLZUSDT 0.2 tensor(1.4931) 38 days 49.79% correct guesses\n",
      "BNBUSDT 0.2 tensor(0.8400) 38 days 46.78% correct guesses\n",
      "BRETTUSDT 0.2 tensor(1.9614) 38 days 50.64% correct guesses\n",
      "BSVUSDT 0.2 tensor(0.9966) 38 days 48.93% correct guesses\n",
      "BTCUSDT 0.2 tensor(0.7649) 38 days 49.79% correct guesses\n",
      "C98USDT 0.2 tensor(0.9421) 39 days 47.44% correct guesses\n",
      "CEEKUSDT 0.2 tensor(0.7685) 38 days 45.49% correct guesses\n",
      "DOGEUSDT 0.2 tensor(1.5129) 39 days 57.26% correct guesses\n",
      "ETHUSDT 0.2 tensor(0.8597) 38 days 45.92% correct guesses\n",
      "LINKUSDT 0.2 tensor(1.4868) 38 days 53.22% correct guesses\n",
      "MEMEUSDT 0.2 tensor(0.9363) 38 days 47.64% correct guesses\n",
      "MNTUSDT 0.2 tensor(0.9031) 38 days 47.21% correct guesses\n",
      "ONDOUSDT 0.2 tensor(1.0690) 39 days 47.44% correct guesses\n",
      "OPUSDT 0.2 tensor(1.7917) 38 days 53.22% correct guesses\n",
      "POPCATUSDT 0.2 tensor(1.6541) 38 days 54.94% correct guesses\n",
      "SOLUSDT 0.2 tensor(1.1169) 39 days 50.00% correct guesses\n",
      "SUIUSDT 0.2 tensor(1.8105) 38 days 52.79% correct guesses\n",
      "TONUSDT 0.2 tensor(1.3184) 39 days 51.71% correct guesses\n",
      "WIFUSDT 0.2 tensor(1.0085) 39 days 54.70% correct guesses\n",
      "XRPUSDT 0.2 tensor(0.9038) 39 days 47.01% correct guesses\n",
      "ZENUSDT 0.2 tensor(1.2684) 38 days 53.22% correct guesses\n",
      "ZETAUSDT 0.2 tensor(0.5557) 39 days 43.16% correct guesses\n"
     ]
    },
    {
     "name": "stderr",
     "output_type": "stream",
     "text": [
      "                                               \r"
     ]
    },
    {
     "name": "stdout",
     "output_type": "stream",
     "text": [
      "Epoch 11100 Loss: 2.0373678125906736e-05\n"
     ]
    },
    {
     "name": "stderr",
     "output_type": "stream",
     "text": [
      "                                               \r"
     ]
    },
    {
     "name": "stdout",
     "output_type": "stream",
     "text": [
      "Epoch 11200 Loss: 1.972445534192957e-05\n"
     ]
    },
    {
     "name": "stderr",
     "output_type": "stream",
     "text": [
      "                                               \r"
     ]
    },
    {
     "name": "stdout",
     "output_type": "stream",
     "text": [
      "Epoch 11300 Loss: 2.223523915745318e-05\n"
     ]
    },
    {
     "name": "stderr",
     "output_type": "stream",
     "text": [
      "                                               \r"
     ]
    },
    {
     "name": "stdout",
     "output_type": "stream",
     "text": [
      "Epoch 11400 Loss: 2.4844301151460968e-05\n"
     ]
    },
    {
     "name": "stderr",
     "output_type": "stream",
     "text": [
      "                                               \r"
     ]
    },
    {
     "name": "stdout",
     "output_type": "stream",
     "text": [
      "Epoch 11500 Loss: 2.2077778339735232e-05\n",
      "ADAUSDT 0.2 tensor(1.3451) 38 days 47.64% correct guesses\n",
      "APTUSDT 0.2 tensor(1.0545) 39 days 52.14% correct guesses\n",
      "AVAXUSDT 0.2 tensor(1.3706) 38 days 51.50% correct guesses\n",
      "BANANAUSDT 0.2 tensor(0.8245) 8 days 45.28% correct guesses\n",
      "BATUSDT 0.2 tensor(1.2786) 38 days 51.93% correct guesses\n",
      "BLZUSDT 0.2 tensor(1.5289) 38 days 51.50% correct guesses\n",
      "BNBUSDT 0.2 tensor(0.7411) 38 days 45.49% correct guesses\n",
      "BRETTUSDT 0.2 tensor(1.8507) 38 days 50.21% correct guesses\n",
      "BSVUSDT 0.2 tensor(0.9238) 38 days 48.50% correct guesses\n",
      "BTCUSDT 0.2 tensor(0.7780) 38 days 49.36% correct guesses\n",
      "C98USDT 0.2 tensor(0.8986) 39 days 47.44% correct guesses\n",
      "CEEKUSDT 0.2 tensor(0.7597) 38 days 45.49% correct guesses\n",
      "DOGEUSDT 0.2 tensor(1.3551) 39 days 56.84% correct guesses\n",
      "ETHUSDT 0.2 tensor(0.9451) 38 days 46.35% correct guesses\n",
      "LINKUSDT 0.2 tensor(1.0560) 38 days 52.36% correct guesses\n",
      "MEMEUSDT 0.2 tensor(1.0749) 38 days 48.07% correct guesses\n",
      "MNTUSDT 0.2 tensor(0.7921) 38 days 47.21% correct guesses\n",
      "ONDOUSDT 0.2 tensor(1.2889) 39 days 48.72% correct guesses\n",
      "OPUSDT 0.2 tensor(1.6377) 38 days 51.50% correct guesses\n",
      "POPCATUSDT 0.2 tensor(1.8881) 38 days 54.94% correct guesses\n",
      "SOLUSDT 0.2 tensor(1.0729) 39 days 49.15% correct guesses\n",
      "SUIUSDT 0.2 tensor(1.5334) 38 days 52.79% correct guesses\n",
      "TONUSDT 0.2 tensor(1.1824) 39 days 51.71% correct guesses\n",
      "WIFUSDT 0.2 tensor(0.8584) 39 days 53.42% correct guesses\n",
      "XRPUSDT 0.2 tensor(1.2156) 39 days 48.72% correct guesses\n",
      "ZENUSDT 0.2 tensor(1.6872) 38 days 53.22% correct guesses\n",
      "ZETAUSDT 0.2 tensor(0.6098) 39 days 43.59% correct guesses\n"
     ]
    },
    {
     "name": "stderr",
     "output_type": "stream",
     "text": [
      "                                               \r"
     ]
    },
    {
     "name": "stdout",
     "output_type": "stream",
     "text": [
      "Epoch 11600 Loss: 1.8391088815405965e-05\n"
     ]
    },
    {
     "name": "stderr",
     "output_type": "stream",
     "text": [
      "                                               \r"
     ]
    },
    {
     "name": "stdout",
     "output_type": "stream",
     "text": [
      "Epoch 11700 Loss: 2.219028101535514e-05\n"
     ]
    },
    {
     "name": "stderr",
     "output_type": "stream",
     "text": [
      "                                               \r"
     ]
    },
    {
     "name": "stdout",
     "output_type": "stream",
     "text": [
      "Epoch 11800 Loss: 2.2103951778262854e-05\n"
     ]
    },
    {
     "name": "stderr",
     "output_type": "stream",
     "text": [
      "                                               \r"
     ]
    },
    {
     "name": "stdout",
     "output_type": "stream",
     "text": [
      "Epoch 11900 Loss: 1.9604804037953727e-05\n"
     ]
    },
    {
     "name": "stderr",
     "output_type": "stream",
     "text": [
      "                                               \r"
     ]
    },
    {
     "name": "stdout",
     "output_type": "stream",
     "text": [
      "Epoch 12000 Loss: 1.8339287635171786e-05\n",
      "ADAUSDT 0.2 tensor(1.2364) 38 days 46.35% correct guesses\n",
      "APTUSDT 0.2 tensor(1.0178) 39 days 50.85% correct guesses\n",
      "AVAXUSDT 0.2 tensor(0.9832) 38 days 48.93% correct guesses\n",
      "BANANAUSDT 0.2 tensor(0.8433) 8 days 50.94% correct guesses\n",
      "BATUSDT 0.2 tensor(1.1800) 38 days 50.21% correct guesses\n",
      "BLZUSDT 0.2 tensor(1.4010) 38 days 50.21% correct guesses\n",
      "BNBUSDT 0.2 tensor(0.8380) 38 days 47.21% correct guesses\n",
      "BRETTUSDT 0.2 tensor(1.8865) 38 days 53.22% correct guesses\n",
      "BSVUSDT 0.2 tensor(1.1709) 38 days 48.07% correct guesses\n",
      "BTCUSDT 0.2 tensor(0.9436) 38 days 50.21% correct guesses\n",
      "C98USDT 0.2 tensor(0.9574) 39 days 47.86% correct guesses\n",
      "CEEKUSDT 0.2 tensor(0.7739) 38 days 45.92% correct guesses\n",
      "DOGEUSDT 0.2 tensor(1.7905) 39 days 58.97% correct guesses\n",
      "ETHUSDT 0.2 tensor(0.9407) 38 days 47.21% correct guesses\n",
      "LINKUSDT 0.2 tensor(1.5039) 38 days 53.22% correct guesses\n",
      "MEMEUSDT 0.2 tensor(1.2363) 38 days 51.07% correct guesses\n",
      "MNTUSDT 0.2 tensor(0.8238) 38 days 49.79% correct guesses\n",
      "ONDOUSDT 0.2 tensor(1.1689) 39 days 49.15% correct guesses\n",
      "OPUSDT 0.2 tensor(1.9488) 38 days 52.36% correct guesses\n",
      "POPCATUSDT 0.2 tensor(1.0039) 38 days 52.36% correct guesses\n",
      "SOLUSDT 0.2 tensor(1.1479) 39 days 50.85% correct guesses\n",
      "SUIUSDT 0.2 tensor(1.9889) 38 days 52.36% correct guesses\n",
      "TONUSDT 0.2 tensor(1.1418) 39 days 50.85% correct guesses\n",
      "WIFUSDT 0.2 tensor(0.7797) 39 days 52.14% correct guesses\n",
      "XRPUSDT 0.2 tensor(0.9137) 39 days 48.29% correct guesses\n",
      "ZENUSDT 0.2 tensor(1.7433) 38 days 54.08% correct guesses\n",
      "ZETAUSDT 0.2 tensor(0.5913) 39 days 43.16% correct guesses\n"
     ]
    },
    {
     "name": "stderr",
     "output_type": "stream",
     "text": [
      "                                               \r"
     ]
    },
    {
     "name": "stdout",
     "output_type": "stream",
     "text": [
      "Epoch 12100 Loss: 2.1671168724424206e-05\n"
     ]
    },
    {
     "name": "stderr",
     "output_type": "stream",
     "text": [
      "                                               \r"
     ]
    },
    {
     "name": "stdout",
     "output_type": "stream",
     "text": [
      "Epoch 12200 Loss: 2.2041227566660382e-05\n"
     ]
    },
    {
     "name": "stderr",
     "output_type": "stream",
     "text": [
      "                                               \r"
     ]
    },
    {
     "name": "stdout",
     "output_type": "stream",
     "text": [
      "Epoch 12300 Loss: 2.0366100216051564e-05\n"
     ]
    },
    {
     "name": "stderr",
     "output_type": "stream",
     "text": [
      "                                               \r"
     ]
    },
    {
     "name": "stdout",
     "output_type": "stream",
     "text": [
      "Epoch 12400 Loss: 2.0541086996672675e-05\n"
     ]
    },
    {
     "name": "stderr",
     "output_type": "stream",
     "text": [
      "                                               \r"
     ]
    },
    {
     "name": "stdout",
     "output_type": "stream",
     "text": [
      "Epoch 12500 Loss: 2.7494335881783627e-05\n",
      "ADAUSDT 0.2 tensor(1.3924) 38 days 49.36% correct guesses\n",
      "APTUSDT 0.2 tensor(1.0473) 39 days 50.85% correct guesses\n",
      "AVAXUSDT 0.2 tensor(1.0508) 38 days 50.21% correct guesses\n",
      "BANANAUSDT 0.2 tensor(0.8931) 8 days 50.94% correct guesses\n",
      "BATUSDT 0.2 tensor(1.2697) 38 days 51.93% correct guesses\n",
      "BLZUSDT 0.2 tensor(1.3289) 38 days 50.21% correct guesses\n",
      "BNBUSDT 0.2 tensor(0.9008) 38 days 48.50% correct guesses\n",
      "BRETTUSDT 0.2 tensor(1.5986) 38 days 51.50% correct guesses\n",
      "BSVUSDT 0.2 tensor(0.9711) 38 days 48.07% correct guesses\n",
      "BTCUSDT 0.2 tensor(0.8345) 38 days 49.79% correct guesses\n",
      "C98USDT 0.2 tensor(0.9002) 39 days 47.44% correct guesses\n",
      "CEEKUSDT 0.2 tensor(0.6059) 38 days 44.21% correct guesses\n",
      "DOGEUSDT 0.2 tensor(1.7079) 39 days 58.12% correct guesses\n",
      "ETHUSDT 0.2 tensor(0.9255) 38 days 46.35% correct guesses\n",
      "LINKUSDT 0.2 tensor(1.7404) 38 days 54.51% correct guesses\n",
      "MEMEUSDT 0.2 tensor(1.0381) 38 days 50.64% correct guesses\n",
      "MNTUSDT 0.2 tensor(0.8440) 38 days 48.93% correct guesses\n",
      "ONDOUSDT 0.2 tensor(1.1679) 39 days 49.57% correct guesses\n",
      "OPUSDT 0.2 tensor(2.2606) 38 days 54.08% correct guesses\n",
      "POPCATUSDT 0.2 tensor(1.1461) 38 days 52.36% correct guesses\n",
      "SOLUSDT 0.2 tensor(1.1093) 39 days 48.72% correct guesses\n",
      "SUIUSDT 0.2 tensor(2.2397) 38 days 54.08% correct guesses\n",
      "TONUSDT 0.2 tensor(1.2920) 39 days 51.28% correct guesses\n",
      "WIFUSDT 0.2 tensor(1.0528) 39 days 53.85% correct guesses\n",
      "XRPUSDT 0.2 tensor(1.1047) 39 days 49.15% correct guesses\n",
      "ZENUSDT 0.2 tensor(1.4545) 38 days 52.79% correct guesses\n",
      "ZETAUSDT 0.2 tensor(0.6936) 39 days 44.87% correct guesses\n"
     ]
    },
    {
     "name": "stderr",
     "output_type": "stream",
     "text": [
      "                                               \r"
     ]
    },
    {
     "name": "stdout",
     "output_type": "stream",
     "text": [
      "Epoch 12600 Loss: 2.1678159100702032e-05\n"
     ]
    },
    {
     "name": "stderr",
     "output_type": "stream",
     "text": [
      "                                               \r"
     ]
    },
    {
     "name": "stdout",
     "output_type": "stream",
     "text": [
      "Epoch 12700 Loss: 1.8948392607853748e-05\n"
     ]
    },
    {
     "name": "stderr",
     "output_type": "stream",
     "text": [
      "                                               \r"
     ]
    },
    {
     "name": "stdout",
     "output_type": "stream",
     "text": [
      "Epoch 12800 Loss: 2.1111625756020658e-05\n"
     ]
    },
    {
     "name": "stderr",
     "output_type": "stream",
     "text": [
      "                                               \r"
     ]
    },
    {
     "name": "stdout",
     "output_type": "stream",
     "text": [
      "Epoch 12900 Loss: 1.9140437871101312e-05\n"
     ]
    },
    {
     "name": "stderr",
     "output_type": "stream",
     "text": [
      "                                               \r"
     ]
    },
    {
     "name": "stdout",
     "output_type": "stream",
     "text": [
      "Epoch 13000 Loss: 2.312660581083037e-05\n",
      "ADAUSDT 0.2 tensor(1.2614) 38 days 46.35% correct guesses\n",
      "APTUSDT 0.2 tensor(1.0498) 39 days 51.71% correct guesses\n",
      "AVAXUSDT 0.2 tensor(1.3746) 38 days 51.07% correct guesses\n",
      "BANANAUSDT 0.2 tensor(0.7731) 8 days 47.17% correct guesses\n",
      "BATUSDT 0.2 tensor(1.1817) 38 days 51.07% correct guesses\n",
      "BLZUSDT 0.2 tensor(1.2401) 38 days 51.07% correct guesses\n",
      "BNBUSDT 0.2 tensor(0.8313) 38 days 48.50% correct guesses\n",
      "BRETTUSDT 0.2 tensor(1.3151) 38 days 50.64% correct guesses\n",
      "BSVUSDT 0.2 tensor(0.9073) 38 days 47.64% correct guesses\n",
      "BTCUSDT 0.2 tensor(0.8343) 38 days 50.64% correct guesses\n",
      "C98USDT 0.2 tensor(0.8775) 39 days 47.01% correct guesses\n",
      "CEEKUSDT 0.2 tensor(0.7515) 38 days 45.49% correct guesses\n",
      "DOGEUSDT 0.2 tensor(1.4508) 39 days 57.26% correct guesses\n",
      "ETHUSDT 0.2 tensor(0.9796) 38 days 46.35% correct guesses\n",
      "LINKUSDT 0.2 tensor(1.2563) 38 days 56.22% correct guesses\n",
      "MEMEUSDT 0.2 tensor(1.1068) 38 days 50.21% correct guesses\n",
      "MNTUSDT 0.2 tensor(0.9027) 38 days 50.21% correct guesses\n",
      "ONDOUSDT 0.2 tensor(0.8844) 39 days 47.86% correct guesses\n",
      "OPUSDT 0.2 tensor(1.7232) 38 days 51.93% correct guesses\n",
      "POPCATUSDT 0.2 tensor(1.0304) 38 days 52.79% correct guesses\n",
      "SOLUSDT 0.2 tensor(1.1530) 39 days 49.57% correct guesses\n",
      "SUIUSDT 0.2 tensor(1.9302) 38 days 52.36% correct guesses\n",
      "TONUSDT 0.2 tensor(1.3092) 39 days 53.85% correct guesses\n",
      "WIFUSDT 0.2 tensor(0.8055) 39 days 51.28% correct guesses\n",
      "XRPUSDT 0.2 tensor(0.9982) 39 days 47.86% correct guesses\n",
      "ZENUSDT 0.2 tensor(1.4112) 38 days 51.50% correct guesses\n",
      "ZETAUSDT 0.2 tensor(0.5819) 39 days 42.74% correct guesses\n"
     ]
    },
    {
     "name": "stderr",
     "output_type": "stream",
     "text": [
      "                                               \r"
     ]
    },
    {
     "name": "stdout",
     "output_type": "stream",
     "text": [
      "Epoch 13100 Loss: 2.2284877559286542e-05\n"
     ]
    },
    {
     "name": "stderr",
     "output_type": "stream",
     "text": [
      "                                               \r"
     ]
    },
    {
     "name": "stdout",
     "output_type": "stream",
     "text": [
      "Epoch 13200 Loss: 2.2524987798533402e-05\n"
     ]
    },
    {
     "name": "stderr",
     "output_type": "stream",
     "text": [
      "                                               \r"
     ]
    },
    {
     "name": "stdout",
     "output_type": "stream",
     "text": [
      "Epoch 13300 Loss: 2.020426472881809e-05\n"
     ]
    },
    {
     "name": "stderr",
     "output_type": "stream",
     "text": [
      "                                               \r"
     ]
    },
    {
     "name": "stdout",
     "output_type": "stream",
     "text": [
      "Epoch 13400 Loss: 1.896879075502511e-05\n"
     ]
    },
    {
     "name": "stderr",
     "output_type": "stream",
     "text": [
      "                                               \r"
     ]
    },
    {
     "name": "stdout",
     "output_type": "stream",
     "text": [
      "Epoch 13500 Loss: 1.957299537025392e-05\n",
      "ADAUSDT 0.2 tensor(1.1872) 38 days 47.21% correct guesses\n",
      "APTUSDT 0.2 tensor(0.9925) 39 days 52.14% correct guesses\n",
      "AVAXUSDT 0.2 tensor(1.2729) 38 days 50.64% correct guesses\n",
      "BANANAUSDT 0.2 tensor(0.8036) 8 days 49.06% correct guesses\n",
      "BATUSDT 0.2 tensor(1.2092) 38 days 50.64% correct guesses\n",
      "BLZUSDT 0.2 tensor(1.5637) 38 days 53.22% correct guesses\n",
      "BNBUSDT 0.2 tensor(0.7153) 38 days 46.35% correct guesses\n",
      "BRETTUSDT 0.2 tensor(0.8947) 38 days 51.50% correct guesses\n",
      "BSVUSDT 0.2 tensor(0.8565) 38 days 46.35% correct guesses\n",
      "BTCUSDT 0.2 tensor(0.8220) 38 days 49.79% correct guesses\n",
      "C98USDT 0.2 tensor(0.7990) 39 days 47.01% correct guesses\n",
      "CEEKUSDT 0.2 tensor(0.7073) 38 days 43.78% correct guesses\n",
      "DOGEUSDT 0.2 tensor(1.5676) 39 days 58.12% correct guesses\n",
      "ETHUSDT 0.2 tensor(0.9831) 38 days 48.07% correct guesses\n",
      "LINKUSDT 0.2 tensor(1.1686) 38 days 55.36% correct guesses\n",
      "MEMEUSDT 0.2 tensor(0.9925) 38 days 49.36% correct guesses\n",
      "MNTUSDT 0.2 tensor(0.9039) 38 days 50.64% correct guesses\n",
      "ONDOUSDT 0.2 tensor(1.2172) 39 days 49.57% correct guesses\n",
      "OPUSDT 0.2 tensor(1.7088) 38 days 51.07% correct guesses\n",
      "POPCATUSDT 0.2 tensor(1.4964) 38 days 53.65% correct guesses\n",
      "SOLUSDT 0.2 tensor(0.9353) 39 days 47.01% correct guesses\n",
      "SUIUSDT 0.2 tensor(1.5458) 38 days 52.36% correct guesses\n",
      "TONUSDT 0.2 tensor(1.2198) 39 days 53.85% correct guesses\n",
      "WIFUSDT 0.2 tensor(0.8472) 39 days 51.28% correct guesses\n",
      "XRPUSDT 0.2 tensor(1.0991) 39 days 49.15% correct guesses\n",
      "ZENUSDT 0.2 tensor(1.3423) 38 days 51.07% correct guesses\n",
      "ZETAUSDT 0.2 tensor(0.5957) 39 days 44.44% correct guesses\n"
     ]
    },
    {
     "name": "stderr",
     "output_type": "stream",
     "text": [
      "                                               \r"
     ]
    },
    {
     "name": "stdout",
     "output_type": "stream",
     "text": [
      "Epoch 13600 Loss: 2.0829967979807407e-05\n"
     ]
    },
    {
     "name": "stderr",
     "output_type": "stream",
     "text": [
      "                                               \r"
     ]
    },
    {
     "name": "stdout",
     "output_type": "stream",
     "text": [
      "Epoch 13700 Loss: 1.770952258084435e-05\n"
     ]
    },
    {
     "name": "stderr",
     "output_type": "stream",
     "text": [
      "                                               \r"
     ]
    },
    {
     "name": "stdout",
     "output_type": "stream",
     "text": [
      "Epoch 13800 Loss: 1.910766695800703e-05\n"
     ]
    },
    {
     "name": "stderr",
     "output_type": "stream",
     "text": [
      "                                               \r"
     ]
    },
    {
     "name": "stdout",
     "output_type": "stream",
     "text": [
      "Epoch 13900 Loss: 2.0659366782638244e-05\n"
     ]
    },
    {
     "name": "stderr",
     "output_type": "stream",
     "text": [
      "                                               \r"
     ]
    },
    {
     "name": "stdout",
     "output_type": "stream",
     "text": [
      "Epoch 14000 Loss: 1.942094968399033e-05\n",
      "ADAUSDT 0.2 tensor(1.1619) 38 days 47.21% correct guesses\n",
      "APTUSDT 0.2 tensor(0.8373) 39 days 50.00% correct guesses\n",
      "AVAXUSDT 0.2 tensor(1.1969) 38 days 49.79% correct guesses\n",
      "BANANAUSDT 0.2 tensor(0.7838) 8 days 49.06% correct guesses\n",
      "BATUSDT 0.2 tensor(1.1088) 38 days 48.93% correct guesses\n",
      "BLZUSDT 0.2 tensor(1.1075) 38 days 50.21% correct guesses\n",
      "BNBUSDT 0.2 tensor(0.8584) 38 days 45.92% correct guesses\n",
      "BRETTUSDT 0.2 tensor(0.6908) 38 days 50.21% correct guesses\n",
      "BSVUSDT 0.2 tensor(1.1910) 38 days 48.07% correct guesses\n",
      "BTCUSDT 0.2 tensor(0.9859) 38 days 51.07% correct guesses\n",
      "C98USDT 0.2 tensor(0.8877) 39 days 47.01% correct guesses\n",
      "CEEKUSDT 0.2 tensor(0.6790) 38 days 44.64% correct guesses\n",
      "DOGEUSDT 0.2 tensor(1.4344) 39 days 56.84% correct guesses\n",
      "ETHUSDT 0.2 tensor(0.8465) 38 days 46.35% correct guesses\n",
      "LINKUSDT 0.2 tensor(1.3977) 38 days 54.08% correct guesses\n",
      "MEMEUSDT 0.2 tensor(1.0642) 38 days 48.93% correct guesses\n",
      "MNTUSDT 0.2 tensor(0.9971) 38 days 50.21% correct guesses\n",
      "ONDOUSDT 0.2 tensor(0.4166) 39 days 46.15% correct guesses\n",
      "OPUSDT 0.2 tensor(1.6257) 38 days 52.79% correct guesses\n",
      "POPCATUSDT 0.2 tensor(0.9798) 38 days 52.79% correct guesses\n",
      "SOLUSDT 0.2 tensor(1.0245) 39 days 47.86% correct guesses\n",
      "SUIUSDT 0.2 tensor(1.3984) 38 days 51.07% correct guesses\n",
      "TONUSDT 0.2 tensor(1.2488) 39 days 50.85% correct guesses\n",
      "WIFUSDT 0.2 tensor(0.7817) 39 days 50.85% correct guesses\n",
      "XRPUSDT 0.2 tensor(0.9318) 39 days 47.01% correct guesses\n",
      "ZENUSDT 0.2 tensor(1.0304) 38 days 47.64% correct guesses\n",
      "ZETAUSDT 0.2 tensor(0.6362) 39 days 44.44% correct guesses\n"
     ]
    },
    {
     "name": "stderr",
     "output_type": "stream",
     "text": [
      "                                               \r"
     ]
    },
    {
     "name": "stdout",
     "output_type": "stream",
     "text": [
      "Epoch 14100 Loss: 2.085052983602509e-05\n"
     ]
    },
    {
     "name": "stderr",
     "output_type": "stream",
     "text": [
      "                                               \r"
     ]
    },
    {
     "name": "stdout",
     "output_type": "stream",
     "text": [
      "Epoch 14200 Loss: 2.2256412194110453e-05\n"
     ]
    },
    {
     "name": "stderr",
     "output_type": "stream",
     "text": [
      "                                               \r"
     ]
    },
    {
     "name": "stdout",
     "output_type": "stream",
     "text": [
      "Epoch 14300 Loss: 1.7124100850196555e-05\n"
     ]
    },
    {
     "name": "stderr",
     "output_type": "stream",
     "text": [
      "                                               \r"
     ]
    },
    {
     "name": "stdout",
     "output_type": "stream",
     "text": [
      "Epoch 14400 Loss: 2.0096626030863263e-05\n"
     ]
    },
    {
     "name": "stderr",
     "output_type": "stream",
     "text": [
      "                                               \r"
     ]
    },
    {
     "name": "stdout",
     "output_type": "stream",
     "text": [
      "Epoch 14500 Loss: 1.973818325495813e-05\n",
      "ADAUSDT 0.2 tensor(1.1375) 38 days 46.35% correct guesses\n",
      "APTUSDT 0.2 tensor(0.9581) 39 days 50.85% correct guesses\n",
      "AVAXUSDT 0.2 tensor(1.3613) 38 days 50.64% correct guesses\n",
      "BANANAUSDT 0.2 tensor(0.7797) 8 days 49.06% correct guesses\n",
      "BATUSDT 0.2 tensor(1.1327) 38 days 49.79% correct guesses\n",
      "BLZUSDT 0.2 tensor(1.4689) 38 days 52.79% correct guesses\n",
      "BNBUSDT 0.2 tensor(0.8490) 38 days 45.49% correct guesses\n",
      "BRETTUSDT 0.2 tensor(0.8095) 38 days 49.36% correct guesses\n",
      "BSVUSDT 0.2 tensor(1.1368) 38 days 48.93% correct guesses\n",
      "BTCUSDT 0.2 tensor(0.9936) 38 days 50.64% correct guesses\n",
      "C98USDT 0.2 tensor(0.8931) 39 days 46.58% correct guesses\n",
      "CEEKUSDT 0.2 tensor(0.6826) 38 days 45.06% correct guesses\n",
      "DOGEUSDT 0.2 tensor(1.4809) 39 days 56.41% correct guesses\n",
      "ETHUSDT 0.2 tensor(0.9472) 38 days 46.35% correct guesses\n",
      "LINKUSDT 0.2 tensor(1.3274) 38 days 53.22% correct guesses\n",
      "MEMEUSDT 0.2 tensor(1.0571) 38 days 49.79% correct guesses\n",
      "MNTUSDT 0.2 tensor(0.9601) 38 days 50.64% correct guesses\n",
      "ONDOUSDT 0.2 tensor(0.5994) 39 days 48.29% correct guesses\n",
      "OPUSDT 0.2 tensor(1.6769) 38 days 53.22% correct guesses\n",
      "POPCATUSDT 0.2 tensor(1.4086) 38 days 54.08% correct guesses\n",
      "SOLUSDT 0.2 tensor(1.0032) 39 days 47.01% correct guesses\n",
      "SUIUSDT 0.2 tensor(1.3205) 38 days 51.93% correct guesses\n",
      "TONUSDT 0.2 tensor(1.4132) 39 days 52.14% correct guesses\n",
      "WIFUSDT 0.2 tensor(0.8720) 39 days 50.85% correct guesses\n",
      "XRPUSDT 0.2 tensor(0.9633) 39 days 47.01% correct guesses\n",
      "ZENUSDT 0.2 tensor(1.0596) 38 days 48.50% correct guesses\n",
      "ZETAUSDT 0.2 tensor(0.5743) 39 days 44.02% correct guesses\n"
     ]
    },
    {
     "name": "stderr",
     "output_type": "stream",
     "text": [
      "                                               \r"
     ]
    },
    {
     "name": "stdout",
     "output_type": "stream",
     "text": [
      "Epoch 14600 Loss: 1.9385064661037177e-05\n"
     ]
    },
    {
     "name": "stderr",
     "output_type": "stream",
     "text": [
      "                                               \r"
     ]
    },
    {
     "name": "stdout",
     "output_type": "stream",
     "text": [
      "Epoch 14700 Loss: 1.772793439158704e-05\n"
     ]
    },
    {
     "name": "stderr",
     "output_type": "stream",
     "text": [
      "                                               \r"
     ]
    },
    {
     "name": "stdout",
     "output_type": "stream",
     "text": [
      "Epoch 14800 Loss: 1.982068715733476e-05\n"
     ]
    },
    {
     "name": "stderr",
     "output_type": "stream",
     "text": [
      "                                               \r"
     ]
    },
    {
     "name": "stdout",
     "output_type": "stream",
     "text": [
      "Epoch 14900 Loss: 1.7817181287682615e-05\n"
     ]
    },
    {
     "name": "stderr",
     "output_type": "stream",
     "text": [
      "                                               \r"
     ]
    },
    {
     "name": "stdout",
     "output_type": "stream",
     "text": [
      "Epoch 15000 Loss: 1.6431518815807067e-05\n",
      "ADAUSDT 0.2 tensor(1.0478) 38 days 44.21% correct guesses\n",
      "APTUSDT 0.2 tensor(0.9546) 39 days 51.28% correct guesses\n",
      "AVAXUSDT 0.2 tensor(1.2208) 38 days 50.21% correct guesses\n",
      "BANANAUSDT 0.2 tensor(0.7791) 8 days 49.06% correct guesses\n",
      "BATUSDT 0.2 tensor(1.0829) 38 days 48.50% correct guesses\n",
      "BLZUSDT 0.2 tensor(1.4622) 38 days 53.22% correct guesses\n",
      "BNBUSDT 0.2 tensor(0.8341) 38 days 46.35% correct guesses\n",
      "BRETTUSDT 0.2 tensor(0.8852) 38 days 51.07% correct guesses\n",
      "BSVUSDT 0.2 tensor(1.0663) 38 days 47.64% correct guesses\n",
      "BTCUSDT 0.2 tensor(0.9665) 38 days 49.36% correct guesses\n",
      "C98USDT 0.2 tensor(0.7585) 39 days 45.30% correct guesses\n",
      "CEEKUSDT 0.2 tensor(0.7632) 38 days 44.64% correct guesses\n",
      "DOGEUSDT 0.2 tensor(1.4890) 39 days 55.98% correct guesses\n",
      "ETHUSDT 0.2 tensor(0.9787) 38 days 47.21% correct guesses\n",
      "LINKUSDT 0.2 tensor(1.5385) 38 days 54.51% correct guesses\n",
      "MEMEUSDT 0.2 tensor(0.9720) 38 days 48.93% correct guesses\n",
      "MNTUSDT 0.2 tensor(0.9362) 38 days 50.64% correct guesses\n",
      "ONDOUSDT 0.2 tensor(1.1109) 39 days 47.86% correct guesses\n",
      "OPUSDT 0.2 tensor(1.6117) 38 days 51.50% correct guesses\n",
      "POPCATUSDT 0.2 tensor(1.3773) 38 days 53.65% correct guesses\n",
      "SOLUSDT 0.2 tensor(0.9902) 39 days 47.86% correct guesses\n",
      "SUIUSDT 0.2 tensor(1.3842) 38 days 51.50% correct guesses\n",
      "TONUSDT 0.2 tensor(1.1347) 39 days 51.71% correct guesses\n",
      "WIFUSDT 0.2 tensor(0.7817) 39 days 49.57% correct guesses\n",
      "XRPUSDT 0.2 tensor(1.1987) 39 days 47.44% correct guesses\n",
      "ZENUSDT 0.2 tensor(1.0983) 38 days 48.50% correct guesses\n",
      "ZETAUSDT 0.2 tensor(0.5418) 39 days 42.74% correct guesses\n"
     ]
    },
    {
     "name": "stderr",
     "output_type": "stream",
     "text": [
      "                                               \r"
     ]
    },
    {
     "name": "stdout",
     "output_type": "stream",
     "text": [
      "Epoch 15100 Loss: 2.039775063167326e-05\n"
     ]
    },
    {
     "name": "stderr",
     "output_type": "stream",
     "text": [
      "                                               \r"
     ]
    },
    {
     "name": "stdout",
     "output_type": "stream",
     "text": [
      "Epoch 15200 Loss: 1.718860221444629e-05\n"
     ]
    },
    {
     "name": "stderr",
     "output_type": "stream",
     "text": [
      "                                               \r"
     ]
    },
    {
     "name": "stdout",
     "output_type": "stream",
     "text": [
      "Epoch 15300 Loss: 2.073390714940615e-05\n"
     ]
    },
    {
     "name": "stderr",
     "output_type": "stream",
     "text": [
      "                                               \r"
     ]
    },
    {
     "name": "stdout",
     "output_type": "stream",
     "text": [
      "Epoch 15400 Loss: 2.025207140832208e-05\n"
     ]
    },
    {
     "name": "stderr",
     "output_type": "stream",
     "text": [
      "                                               \r"
     ]
    },
    {
     "name": "stdout",
     "output_type": "stream",
     "text": [
      "Epoch 15500 Loss: 1.8898970665759407e-05\n",
      "ADAUSDT 0.2 tensor(1.1118) 38 days 46.78% correct guesses\n",
      "APTUSDT 0.2 tensor(0.9626) 39 days 51.71% correct guesses\n",
      "AVAXUSDT 0.2 tensor(1.2053) 38 days 49.79% correct guesses\n",
      "BANANAUSDT 0.2 tensor(0.7942) 8 days 49.06% correct guesses\n",
      "BATUSDT 0.2 tensor(1.0653) 38 days 48.50% correct guesses\n",
      "BLZUSDT 0.2 tensor(1.4773) 38 days 52.36% correct guesses\n",
      "BNBUSDT 0.2 tensor(0.8430) 38 days 45.49% correct guesses\n",
      "BRETTUSDT 0.2 tensor(1.0607) 38 days 52.79% correct guesses\n",
      "BSVUSDT 0.2 tensor(1.1075) 38 days 47.21% correct guesses\n",
      "BTCUSDT 0.2 tensor(0.9122) 38 days 48.50% correct guesses\n",
      "C98USDT 0.2 tensor(0.8833) 39 days 47.44% correct guesses\n",
      "CEEKUSDT 0.2 tensor(0.7665) 38 days 45.06% correct guesses\n",
      "DOGEUSDT 0.2 tensor(1.4907) 39 days 55.98% correct guesses\n",
      "ETHUSDT 0.2 tensor(0.9268) 38 days 45.92% correct guesses\n",
      "LINKUSDT 0.2 tensor(1.4852) 38 days 53.65% correct guesses\n",
      "MEMEUSDT 0.2 tensor(1.0320) 38 days 49.36% correct guesses\n",
      "MNTUSDT 0.2 tensor(0.9727) 38 days 50.64% correct guesses\n",
      "ONDOUSDT 0.2 tensor(1.0848) 39 days 47.01% correct guesses\n",
      "OPUSDT 0.2 tensor(1.7002) 38 days 52.79% correct guesses\n",
      "POPCATUSDT 0.2 tensor(1.0036) 38 days 53.65% correct guesses\n",
      "SOLUSDT 0.2 tensor(1.0075) 39 days 48.29% correct guesses\n",
      "SUIUSDT 0.2 tensor(1.3353) 38 days 50.64% correct guesses\n",
      "TONUSDT 0.2 tensor(1.1295) 39 days 51.71% correct guesses\n",
      "WIFUSDT 0.2 tensor(0.7733) 39 days 50.85% correct guesses\n",
      "XRPUSDT 0.2 tensor(1.2384) 39 days 47.01% correct guesses\n",
      "ZENUSDT 0.2 tensor(1.1500) 38 days 49.79% correct guesses\n",
      "ZETAUSDT 0.2 tensor(0.4697) 39 days 42.31% correct guesses\n"
     ]
    },
    {
     "name": "stderr",
     "output_type": "stream",
     "text": [
      "                                               \r"
     ]
    },
    {
     "name": "stdout",
     "output_type": "stream",
     "text": [
      "Epoch 15600 Loss: 2.492698149580974e-05\n"
     ]
    },
    {
     "name": "stderr",
     "output_type": "stream",
     "text": [
      "                                               \r"
     ]
    },
    {
     "name": "stdout",
     "output_type": "stream",
     "text": [
      "Epoch 15700 Loss: 1.734671604936011e-05\n"
     ]
    },
    {
     "name": "stderr",
     "output_type": "stream",
     "text": [
      "                                               \r"
     ]
    },
    {
     "name": "stdout",
     "output_type": "stream",
     "text": [
      "Epoch 15800 Loss: 1.7876522178994492e-05\n"
     ]
    },
    {
     "name": "stderr",
     "output_type": "stream",
     "text": [
      "                                               \r"
     ]
    },
    {
     "name": "stdout",
     "output_type": "stream",
     "text": [
      "Epoch 15900 Loss: 2.5587069103494287e-05\n"
     ]
    },
    {
     "name": "stderr",
     "output_type": "stream",
     "text": [
      "                                               \r"
     ]
    },
    {
     "name": "stdout",
     "output_type": "stream",
     "text": [
      "Epoch 16000 Loss: 1.5872907169978134e-05\n",
      "ADAUSDT 0.2 tensor(1.0877) 38 days 47.64% correct guesses\n",
      "APTUSDT 0.2 tensor(1.0129) 39 days 51.71% correct guesses\n",
      "AVAXUSDT 0.2 tensor(1.1022) 38 days 48.50% correct guesses\n",
      "BANANAUSDT 0.2 tensor(0.7344) 8 days 45.28% correct guesses\n",
      "BATUSDT 0.2 tensor(1.0905) 38 days 48.50% correct guesses\n",
      "BLZUSDT 0.2 tensor(1.5047) 38 days 53.22% correct guesses\n",
      "BNBUSDT 0.2 tensor(0.8665) 38 days 47.21% correct guesses\n",
      "BRETTUSDT 0.2 tensor(0.9242) 38 days 51.50% correct guesses\n",
      "BSVUSDT 0.2 tensor(1.1068) 38 days 46.78% correct guesses\n",
      "BTCUSDT 0.2 tensor(1.1019) 38 days 52.36% correct guesses\n",
      "C98USDT 0.2 tensor(0.9096) 39 days 47.44% correct guesses\n",
      "CEEKUSDT 0.2 tensor(0.7881) 38 days 45.06% correct guesses\n",
      "DOGEUSDT 0.2 tensor(1.6962) 39 days 56.41% correct guesses\n",
      "ETHUSDT 0.2 tensor(0.9873) 38 days 47.21% correct guesses\n",
      "LINKUSDT 0.2 tensor(1.7990) 38 days 55.36% correct guesses\n",
      "MEMEUSDT 0.2 tensor(0.8969) 38 days 49.36% correct guesses\n",
      "MNTUSDT 0.2 tensor(0.8572) 38 days 50.21% correct guesses\n",
      "ONDOUSDT 0.2 tensor(1.0308) 39 days 47.44% correct guesses\n",
      "OPUSDT 0.2 tensor(1.7756) 38 days 54.08% correct guesses\n",
      "POPCATUSDT 0.2 tensor(0.6024) 38 days 50.64% correct guesses\n",
      "SOLUSDT 0.2 tensor(0.9631) 39 days 48.72% correct guesses\n",
      "SUIUSDT 0.2 tensor(1.1533) 38 days 48.50% correct guesses\n",
      "TONUSDT 0.2 tensor(1.1942) 39 days 52.56% correct guesses\n",
      "WIFUSDT 0.2 tensor(0.9385) 39 days 51.28% correct guesses\n",
      "XRPUSDT 0.2 tensor(0.9012) 39 days 46.15% correct guesses\n",
      "ZENUSDT 0.2 tensor(1.1699) 38 days 49.79% correct guesses\n",
      "ZETAUSDT 0.2 tensor(0.4089) 39 days 41.45% correct guesses\n"
     ]
    },
    {
     "name": "stderr",
     "output_type": "stream",
     "text": [
      "                                               \r"
     ]
    },
    {
     "name": "stdout",
     "output_type": "stream",
     "text": [
      "Epoch 16100 Loss: 1.8266262486577034e-05\n"
     ]
    },
    {
     "name": "stderr",
     "output_type": "stream",
     "text": [
      "                                               \r"
     ]
    },
    {
     "name": "stdout",
     "output_type": "stream",
     "text": [
      "Epoch 16200 Loss: 1.772891300788615e-05\n"
     ]
    },
    {
     "name": "stderr",
     "output_type": "stream",
     "text": [
      "                                               \r"
     ]
    },
    {
     "name": "stdout",
     "output_type": "stream",
     "text": [
      "Epoch 16300 Loss: 1.7566431779414415e-05\n"
     ]
    },
    {
     "name": "stderr",
     "output_type": "stream",
     "text": [
      "                                               \r"
     ]
    },
    {
     "name": "stdout",
     "output_type": "stream",
     "text": [
      "Epoch 16400 Loss: 2.0455665435292758e-05\n"
     ]
    },
    {
     "name": "stderr",
     "output_type": "stream",
     "text": [
      "                                               \r"
     ]
    },
    {
     "name": "stdout",
     "output_type": "stream",
     "text": [
      "Epoch 16500 Loss: 1.9197172150597908e-05\n",
      "ADAUSDT 0.2 tensor(1.0943) 38 days 46.35% correct guesses\n",
      "APTUSDT 0.2 tensor(0.9637) 39 days 52.14% correct guesses\n",
      "AVAXUSDT 0.2 tensor(1.0619) 38 days 48.50% correct guesses\n",
      "BANANAUSDT 0.2 tensor(0.8095) 8 days 49.06% correct guesses\n",
      "BATUSDT 0.2 tensor(1.0911) 38 days 48.93% correct guesses\n",
      "BLZUSDT 0.2 tensor(1.2526) 38 days 51.93% correct guesses\n",
      "BNBUSDT 0.2 tensor(0.8474) 38 days 48.50% correct guesses\n",
      "BRETTUSDT 0.2 tensor(0.8495) 38 days 51.07% correct guesses\n",
      "BSVUSDT 0.2 tensor(1.0389) 38 days 47.21% correct guesses\n",
      "BTCUSDT 0.2 tensor(1.0527) 38 days 53.22% correct guesses\n",
      "C98USDT 0.2 tensor(0.8676) 39 days 47.01% correct guesses\n",
      "CEEKUSDT 0.2 tensor(0.7458) 38 days 45.06% correct guesses\n",
      "DOGEUSDT 0.2 tensor(1.5047) 39 days 57.26% correct guesses\n",
      "ETHUSDT 0.2 tensor(1.0359) 38 days 46.35% correct guesses\n",
      "LINKUSDT 0.2 tensor(1.6236) 38 days 55.36% correct guesses\n",
      "MEMEUSDT 0.2 tensor(0.8467) 38 days 47.64% correct guesses\n",
      "MNTUSDT 0.2 tensor(0.9957) 38 days 52.36% correct guesses\n",
      "ONDOUSDT 0.2 tensor(1.1034) 39 days 49.15% correct guesses\n",
      "OPUSDT 0.2 tensor(1.6257) 38 days 52.36% correct guesses\n",
      "POPCATUSDT 0.2 tensor(0.6261) 38 days 51.07% correct guesses\n",
      "SOLUSDT 0.2 tensor(1.0497) 39 days 47.86% correct guesses\n",
      "SUIUSDT 0.2 tensor(1.3875) 38 days 50.64% correct guesses\n",
      "TONUSDT 0.2 tensor(1.1749) 39 days 51.71% correct guesses\n",
      "WIFUSDT 0.2 tensor(1.0097) 39 days 50.43% correct guesses\n",
      "XRPUSDT 0.2 tensor(1.2838) 39 days 47.01% correct guesses\n",
      "ZENUSDT 0.2 tensor(0.9245) 38 days 47.64% correct guesses\n",
      "ZETAUSDT 0.2 tensor(0.3460) 39 days 39.74% correct guesses\n"
     ]
    },
    {
     "name": "stderr",
     "output_type": "stream",
     "text": [
      "                                               \r"
     ]
    },
    {
     "name": "stdout",
     "output_type": "stream",
     "text": [
      "Epoch 16600 Loss: 1.90219816431636e-05\n"
     ]
    },
    {
     "name": "stderr",
     "output_type": "stream",
     "text": [
      "                                               \r"
     ]
    },
    {
     "name": "stdout",
     "output_type": "stream",
     "text": [
      "Epoch 16700 Loss: 1.7750955521478318e-05\n"
     ]
    },
    {
     "name": "stderr",
     "output_type": "stream",
     "text": [
      "                                               \r"
     ]
    },
    {
     "name": "stdout",
     "output_type": "stream",
     "text": [
      "Epoch 16800 Loss: 1.7769611076801084e-05\n"
     ]
    },
    {
     "name": "stderr",
     "output_type": "stream",
     "text": [
      "                                               \r"
     ]
    },
    {
     "name": "stdout",
     "output_type": "stream",
     "text": [
      "Epoch 16900 Loss: 1.9263599824626e-05\n"
     ]
    },
    {
     "name": "stderr",
     "output_type": "stream",
     "text": [
      "                                               \r"
     ]
    },
    {
     "name": "stdout",
     "output_type": "stream",
     "text": [
      "Epoch 17000 Loss: 1.768873153196182e-05\n",
      "ADAUSDT 0.2 tensor(1.1903) 38 days 47.21% correct guesses\n",
      "APTUSDT 0.2 tensor(0.9722) 39 days 51.28% correct guesses\n",
      "AVAXUSDT 0.2 tensor(1.1721) 38 days 49.79% correct guesses\n",
      "BANANAUSDT 0.2 tensor(0.8095) 8 days 49.06% correct guesses\n",
      "BATUSDT 0.2 tensor(1.1216) 38 days 49.79% correct guesses\n",
      "BLZUSDT 0.2 tensor(1.4432) 38 days 51.93% correct guesses\n",
      "BNBUSDT 0.2 tensor(0.7990) 38 days 45.92% correct guesses\n",
      "BRETTUSDT 0.2 tensor(0.8882) 38 days 51.50% correct guesses\n",
      "BSVUSDT 0.2 tensor(1.1372) 38 days 47.64% correct guesses\n",
      "BTCUSDT 0.2 tensor(0.9474) 38 days 49.79% correct guesses\n",
      "C98USDT 0.2 tensor(0.9543) 39 days 47.86% correct guesses\n",
      "CEEKUSDT 0.2 tensor(0.9170) 38 days 47.21% correct guesses\n",
      "DOGEUSDT 0.2 tensor(1.3548) 39 days 57.26% correct guesses\n",
      "ETHUSDT 0.2 tensor(0.8986) 38 days 46.35% correct guesses\n",
      "LINKUSDT 0.2 tensor(1.4788) 38 days 53.22% correct guesses\n",
      "MEMEUSDT 0.2 tensor(0.9893) 38 days 48.50% correct guesses\n",
      "MNTUSDT 0.2 tensor(0.9518) 38 days 51.50% correct guesses\n",
      "ONDOUSDT 0.2 tensor(1.1083) 39 days 48.72% correct guesses\n",
      "OPUSDT 0.2 tensor(1.7864) 38 days 53.22% correct guesses\n",
      "POPCATUSDT 0.2 tensor(0.5343) 38 days 51.93% correct guesses\n",
      "SOLUSDT 0.2 tensor(0.9202) 39 days 47.86% correct guesses\n",
      "SUIUSDT 0.2 tensor(1.2887) 38 days 51.07% correct guesses\n",
      "TONUSDT 0.2 tensor(0.9491) 39 days 50.43% correct guesses\n",
      "WIFUSDT 0.2 tensor(1.2651) 39 days 52.14% correct guesses\n",
      "XRPUSDT 0.2 tensor(1.1583) 39 days 45.73% correct guesses\n",
      "ZENUSDT 0.2 tensor(1.0211) 38 days 48.07% correct guesses\n",
      "ZETAUSDT 0.2 tensor(0.3544) 39 days 39.32% correct guesses\n"
     ]
    },
    {
     "name": "stderr",
     "output_type": "stream",
     "text": [
      "                                               \r"
     ]
    },
    {
     "name": "stdout",
     "output_type": "stream",
     "text": [
      "Epoch 17100 Loss: 1.856554990808945e-05\n"
     ]
    },
    {
     "name": "stderr",
     "output_type": "stream",
     "text": [
      "                                               \r"
     ]
    },
    {
     "name": "stdout",
     "output_type": "stream",
     "text": [
      "Epoch 17200 Loss: 1.9528361008269712e-05\n"
     ]
    },
    {
     "name": "stderr",
     "output_type": "stream",
     "text": [
      "                                               \r"
     ]
    },
    {
     "name": "stdout",
     "output_type": "stream",
     "text": [
      "Epoch 17300 Loss: 1.6840431271702982e-05\n"
     ]
    },
    {
     "name": "stderr",
     "output_type": "stream",
     "text": [
      "                                               \r"
     ]
    },
    {
     "name": "stdout",
     "output_type": "stream",
     "text": [
      "Epoch 17400 Loss: 1.6535101167391986e-05\n"
     ]
    },
    {
     "name": "stderr",
     "output_type": "stream",
     "text": [
      "                                               \r"
     ]
    },
    {
     "name": "stdout",
     "output_type": "stream",
     "text": [
      "Epoch 17500 Loss: 1.662238901189994e-05\n",
      "ADAUSDT 0.2 tensor(1.1133) 38 days 47.21% correct guesses\n",
      "APTUSDT 0.2 tensor(0.9620) 39 days 50.00% correct guesses\n",
      "AVAXUSDT 0.2 tensor(0.9395) 38 days 47.64% correct guesses\n",
      "BANANAUSDT 0.2 tensor(0.7602) 8 days 47.17% correct guesses\n",
      "BATUSDT 0.2 tensor(1.1629) 38 days 49.79% correct guesses\n",
      "BLZUSDT 0.2 tensor(1.2928) 38 days 51.07% correct guesses\n",
      "BNBUSDT 0.2 tensor(0.7829) 38 days 46.35% correct guesses\n",
      "BRETTUSDT 0.2 tensor(1.0269) 38 days 52.79% correct guesses\n",
      "BSVUSDT 0.2 tensor(1.3037) 38 days 49.79% correct guesses\n",
      "BTCUSDT 0.2 tensor(0.9329) 38 days 49.36% correct guesses\n",
      "C98USDT 0.2 tensor(0.8263) 39 days 46.58% correct guesses\n",
      "CEEKUSDT 0.2 tensor(0.7380) 38 days 43.35% correct guesses\n",
      "DOGEUSDT 0.2 tensor(1.6395) 39 days 56.84% correct guesses\n",
      "ETHUSDT 0.2 tensor(1.0063) 38 days 46.35% correct guesses\n",
      "LINKUSDT 0.2 tensor(1.5101) 38 days 54.51% correct guesses\n",
      "MEMEUSDT 0.2 tensor(1.1336) 38 days 48.93% correct guesses\n",
      "MNTUSDT 0.2 tensor(0.9274) 38 days 51.93% correct guesses\n",
      "ONDOUSDT 0.2 tensor(1.0886) 39 days 48.29% correct guesses\n",
      "OPUSDT 0.2 tensor(1.7516) 38 days 53.65% correct guesses\n",
      "POPCATUSDT 0.2 tensor(0.3543) 38 days 49.79% correct guesses\n",
      "SOLUSDT 0.2 tensor(0.9053) 39 days 47.01% correct guesses\n",
      "SUIUSDT 0.2 tensor(1.1249) 38 days 51.50% correct guesses\n",
      "TONUSDT 0.2 tensor(1.2087) 39 days 51.28% correct guesses\n",
      "WIFUSDT 0.2 tensor(1.0186) 39 days 50.85% correct guesses\n",
      "XRPUSDT 0.2 tensor(1.0928) 39 days 46.58% correct guesses\n",
      "ZENUSDT 0.2 tensor(0.7711) 38 days 48.07% correct guesses\n",
      "ZETAUSDT 0.2 tensor(0.3153) 39 days 39.74% correct guesses\n"
     ]
    },
    {
     "name": "stderr",
     "output_type": "stream",
     "text": [
      "                                               \r"
     ]
    },
    {
     "name": "stdout",
     "output_type": "stream",
     "text": [
      "Epoch 17600 Loss: 2.0558609321597032e-05\n"
     ]
    },
    {
     "name": "stderr",
     "output_type": "stream",
     "text": [
      "                                               \r"
     ]
    },
    {
     "name": "stdout",
     "output_type": "stream",
     "text": [
      "Epoch 17700 Loss: 1.907267142087221e-05\n"
     ]
    },
    {
     "name": "stderr",
     "output_type": "stream",
     "text": [
      "                                               \r"
     ]
    },
    {
     "name": "stdout",
     "output_type": "stream",
     "text": [
      "Epoch 17800 Loss: 1.7657044736552052e-05\n"
     ]
    },
    {
     "name": "stderr",
     "output_type": "stream",
     "text": [
      "                                               \r"
     ]
    },
    {
     "name": "stdout",
     "output_type": "stream",
     "text": [
      "Epoch 17900 Loss: 1.6549209249205887e-05\n"
     ]
    },
    {
     "name": "stderr",
     "output_type": "stream",
     "text": [
      "                                               \r"
     ]
    },
    {
     "name": "stdout",
     "output_type": "stream",
     "text": [
      "Epoch 18000 Loss: 1.7391277651768178e-05\n",
      "ADAUSDT 0.2 tensor(1.0770) 38 days 47.64% correct guesses\n",
      "APTUSDT 0.2 tensor(1.1423) 39 days 52.56% correct guesses\n",
      "AVAXUSDT 0.2 tensor(1.0485) 38 days 48.93% correct guesses\n",
      "BANANAUSDT 0.2 tensor(0.7219) 8 days 45.28% correct guesses\n",
      "BATUSDT 0.2 tensor(1.2087) 38 days 51.50% correct guesses\n",
      "BLZUSDT 0.2 tensor(1.3508) 38 days 51.50% correct guesses\n",
      "BNBUSDT 0.2 tensor(0.7546) 38 days 44.64% correct guesses\n",
      "BRETTUSDT 0.2 tensor(0.9948) 38 days 53.65% correct guesses\n",
      "BSVUSDT 0.2 tensor(1.0521) 38 days 48.50% correct guesses\n",
      "BTCUSDT 0.2 tensor(0.8467) 38 days 51.07% correct guesses\n",
      "C98USDT 0.2 tensor(0.9109) 39 days 47.01% correct guesses\n",
      "CEEKUSDT 0.2 tensor(0.7032) 38 days 43.78% correct guesses\n",
      "DOGEUSDT 0.2 tensor(1.3466) 39 days 56.84% correct guesses\n",
      "ETHUSDT 0.2 tensor(0.9186) 38 days 45.92% correct guesses\n",
      "LINKUSDT 0.2 tensor(1.4070) 38 days 54.08% correct guesses\n",
      "MEMEUSDT 0.2 tensor(0.8776) 38 days 45.92% correct guesses\n",
      "MNTUSDT 0.2 tensor(0.8132) 38 days 50.21% correct guesses\n",
      "ONDOUSDT 0.2 tensor(1.0201) 39 days 47.86% correct guesses\n",
      "OPUSDT 0.2 tensor(1.8781) 38 days 54.08% correct guesses\n",
      "POPCATUSDT 0.2 tensor(0.5824) 38 days 51.07% correct guesses\n",
      "SOLUSDT 0.2 tensor(1.3173) 39 days 50.43% correct guesses\n",
      "SUIUSDT 0.2 tensor(1.2692) 38 days 51.07% correct guesses\n",
      "TONUSDT 0.2 tensor(1.1512) 39 days 50.43% correct guesses\n",
      "WIFUSDT 0.2 tensor(1.4403) 39 days 51.71% correct guesses\n",
      "XRPUSDT 0.2 tensor(0.8364) 39 days 47.86% correct guesses\n",
      "ZENUSDT 0.2 tensor(1.1367) 38 days 48.50% correct guesses\n",
      "ZETAUSDT 0.2 tensor(0.4049) 39 days 41.88% correct guesses\n"
     ]
    },
    {
     "name": "stderr",
     "output_type": "stream",
     "text": [
      "                                               \r"
     ]
    },
    {
     "name": "stdout",
     "output_type": "stream",
     "text": [
      "Epoch 18100 Loss: 1.8224127416033298e-05\n"
     ]
    },
    {
     "name": "stderr",
     "output_type": "stream",
     "text": [
      "                                               \r"
     ]
    },
    {
     "name": "stdout",
     "output_type": "stream",
     "text": [
      "Epoch 18200 Loss: 1.8417809769744053e-05\n"
     ]
    },
    {
     "name": "stderr",
     "output_type": "stream",
     "text": [
      "                                               \r"
     ]
    },
    {
     "name": "stdout",
     "output_type": "stream",
     "text": [
      "Epoch 18300 Loss: 1.864983823907096e-05\n"
     ]
    },
    {
     "name": "stderr",
     "output_type": "stream",
     "text": [
      "                                               \r"
     ]
    },
    {
     "name": "stdout",
     "output_type": "stream",
     "text": [
      "Epoch 18400 Loss: 1.9355416952748783e-05\n"
     ]
    },
    {
     "name": "stderr",
     "output_type": "stream",
     "text": [
      "                                               \r"
     ]
    },
    {
     "name": "stdout",
     "output_type": "stream",
     "text": [
      "Epoch 18500 Loss: 1.971102574316319e-05\n",
      "ADAUSDT 0.2 tensor(1.1153) 38 days 47.64% correct guesses\n",
      "APTUSDT 0.2 tensor(0.9827) 39 days 51.71% correct guesses\n",
      "AVAXUSDT 0.2 tensor(0.9578) 38 days 48.07% correct guesses\n",
      "BANANAUSDT 0.2 tensor(0.7835) 8 days 49.06% correct guesses\n",
      "BATUSDT 0.2 tensor(1.2498) 38 days 50.64% correct guesses\n",
      "BLZUSDT 0.2 tensor(1.4532) 38 days 53.22% correct guesses\n",
      "BNBUSDT 0.2 tensor(0.8932) 38 days 48.07% correct guesses\n",
      "BRETTUSDT 0.2 tensor(0.8192) 38 days 52.79% correct guesses\n",
      "BSVUSDT 0.2 tensor(1.3125) 38 days 49.36% correct guesses\n",
      "BTCUSDT 0.2 tensor(0.9091) 38 days 48.50% correct guesses\n",
      "C98USDT 0.2 tensor(0.9222) 39 days 47.44% correct guesses\n",
      "CEEKUSDT 0.2 tensor(0.7738) 38 days 43.35% correct guesses\n",
      "DOGEUSDT 0.2 tensor(1.5527) 39 days 56.41% correct guesses\n",
      "ETHUSDT 0.2 tensor(1.0348) 38 days 46.78% correct guesses\n",
      "LINKUSDT 0.2 tensor(1.5455) 38 days 52.79% correct guesses\n",
      "MEMEUSDT 0.2 tensor(1.2032) 38 days 49.79% correct guesses\n",
      "MNTUSDT 0.2 tensor(0.9685) 38 days 51.93% correct guesses\n",
      "ONDOUSDT 0.2 tensor(1.0730) 39 days 48.29% correct guesses\n",
      "OPUSDT 0.2 tensor(1.9275) 38 days 54.08% correct guesses\n",
      "POPCATUSDT 0.2 tensor(0.4584) 38 days 50.64% correct guesses\n",
      "SOLUSDT 0.2 tensor(1.1678) 39 days 49.15% correct guesses\n",
      "SUIUSDT 0.2 tensor(1.1667) 38 days 48.93% correct guesses\n",
      "TONUSDT 0.2 tensor(1.1860) 39 days 51.28% correct guesses\n",
      "WIFUSDT 0.2 tensor(1.3043) 39 days 52.56% correct guesses\n",
      "XRPUSDT 0.2 tensor(1.2527) 39 days 48.29% correct guesses\n",
      "ZENUSDT 0.2 tensor(0.7619) 38 days 48.07% correct guesses\n",
      "ZETAUSDT 0.2 tensor(0.3556) 39 days 40.17% correct guesses\n"
     ]
    },
    {
     "name": "stderr",
     "output_type": "stream",
     "text": [
      "                                               \r"
     ]
    },
    {
     "name": "stdout",
     "output_type": "stream",
     "text": [
      "Epoch 18600 Loss: 1.6990205040201545e-05\n"
     ]
    },
    {
     "name": "stderr",
     "output_type": "stream",
     "text": [
      "                                               \r"
     ]
    },
    {
     "name": "stdout",
     "output_type": "stream",
     "text": [
      "Epoch 18700 Loss: 1.733699900796637e-05\n"
     ]
    },
    {
     "name": "stderr",
     "output_type": "stream",
     "text": [
      "                                               \r"
     ]
    },
    {
     "name": "stdout",
     "output_type": "stream",
     "text": [
      "Epoch 18800 Loss: 1.800689278752543e-05\n"
     ]
    },
    {
     "name": "stderr",
     "output_type": "stream",
     "text": [
      "                                               \r"
     ]
    },
    {
     "name": "stdout",
     "output_type": "stream",
     "text": [
      "Epoch 18900 Loss: 1.7634587493375875e-05\n"
     ]
    },
    {
     "name": "stderr",
     "output_type": "stream",
     "text": [
      "                                               \r"
     ]
    },
    {
     "name": "stdout",
     "output_type": "stream",
     "text": [
      "Epoch 19000 Loss: 2.0420682631083764e-05\n",
      "ADAUSDT 0.2 tensor(1.1358) 38 days 48.07% correct guesses\n",
      "APTUSDT 0.2 tensor(0.9218) 39 days 50.85% correct guesses\n",
      "AVAXUSDT 0.2 tensor(0.9798) 38 days 48.07% correct guesses\n",
      "BANANAUSDT 0.2 tensor(0.7262) 8 days 45.28% correct guesses\n",
      "BATUSDT 0.2 tensor(1.2036) 38 days 51.50% correct guesses\n",
      "BLZUSDT 0.2 tensor(1.1023) 38 days 49.79% correct guesses\n",
      "BNBUSDT 0.2 tensor(0.7741) 38 days 44.64% correct guesses\n",
      "BRETTUSDT 0.2 tensor(0.8682) 38 days 51.07% correct guesses\n",
      "BSVUSDT 0.2 tensor(1.3330) 38 days 48.93% correct guesses\n",
      "BTCUSDT 0.2 tensor(0.9586) 38 days 49.36% correct guesses\n",
      "C98USDT 0.2 tensor(0.8213) 39 days 45.30% correct guesses\n",
      "CEEKUSDT 0.2 tensor(0.7850) 38 days 44.21% correct guesses\n",
      "DOGEUSDT 0.2 tensor(1.4739) 39 days 55.56% correct guesses\n",
      "ETHUSDT 0.2 tensor(0.8765) 38 days 45.06% correct guesses\n",
      "LINKUSDT 0.2 tensor(1.8005) 38 days 54.94% correct guesses\n",
      "MEMEUSDT 0.2 tensor(1.0617) 38 days 48.07% correct guesses\n",
      "MNTUSDT 0.2 tensor(0.8454) 38 days 50.64% correct guesses\n",
      "ONDOUSDT 0.2 tensor(1.3141) 39 days 50.00% correct guesses\n",
      "OPUSDT 0.2 tensor(1.6086) 38 days 52.36% correct guesses\n",
      "POPCATUSDT 0.2 tensor(0.4710) 38 days 49.79% correct guesses\n",
      "SOLUSDT 0.2 tensor(1.0652) 39 days 48.29% correct guesses\n",
      "SUIUSDT 0.2 tensor(1.6325) 38 days 51.93% correct guesses\n",
      "TONUSDT 0.2 tensor(1.2543) 39 days 51.71% correct guesses\n",
      "WIFUSDT 0.2 tensor(1.3037) 39 days 52.99% correct guesses\n",
      "XRPUSDT 0.2 tensor(0.9001) 39 days 45.30% correct guesses\n",
      "ZENUSDT 0.2 tensor(0.7984) 38 days 48.07% correct guesses\n",
      "ZETAUSDT 0.2 tensor(0.4095) 39 days 42.31% correct guesses\n"
     ]
    },
    {
     "name": "stderr",
     "output_type": "stream",
     "text": [
      "                                               \r"
     ]
    },
    {
     "name": "stdout",
     "output_type": "stream",
     "text": [
      "Epoch 19100 Loss: 1.7847161871031858e-05\n"
     ]
    },
    {
     "name": "stderr",
     "output_type": "stream",
     "text": [
      "                                               \r"
     ]
    },
    {
     "name": "stdout",
     "output_type": "stream",
     "text": [
      "Epoch 19200 Loss: 1.8166354493587278e-05\n"
     ]
    },
    {
     "name": "stderr",
     "output_type": "stream",
     "text": [
      "                                               \r"
     ]
    },
    {
     "name": "stdout",
     "output_type": "stream",
     "text": [
      "Epoch 19300 Loss: 1.5541709217359312e-05\n"
     ]
    },
    {
     "name": "stderr",
     "output_type": "stream",
     "text": [
      "                                               \r"
     ]
    },
    {
     "name": "stdout",
     "output_type": "stream",
     "text": [
      "Epoch 19400 Loss: 1.9321923900861293e-05\n"
     ]
    },
    {
     "name": "stderr",
     "output_type": "stream",
     "text": [
      "                                               \r"
     ]
    },
    {
     "name": "stdout",
     "output_type": "stream",
     "text": [
      "Epoch 19500 Loss: 1.6683592548361048e-05\n",
      "ADAUSDT 0.2 tensor(1.1533) 38 days 47.21% correct guesses\n",
      "APTUSDT 0.2 tensor(1.0307) 39 days 52.56% correct guesses\n",
      "AVAXUSDT 0.2 tensor(1.0684) 38 days 49.36% correct guesses\n",
      "BANANAUSDT 0.2 tensor(0.7770) 8 days 47.17% correct guesses\n",
      "BATUSDT 0.2 tensor(1.3221) 38 days 51.93% correct guesses\n",
      "BLZUSDT 0.2 tensor(1.3745) 38 days 51.50% correct guesses\n",
      "BNBUSDT 0.2 tensor(0.8040) 38 days 45.92% correct guesses\n",
      "BRETTUSDT 0.2 tensor(0.7441) 38 days 52.36% correct guesses\n",
      "BSVUSDT 0.2 tensor(1.3385) 38 days 50.64% correct guesses\n",
      "BTCUSDT 0.2 tensor(1.0231) 38 days 50.64% correct guesses\n",
      "C98USDT 0.2 tensor(0.8888) 39 days 46.58% correct guesses\n",
      "CEEKUSDT 0.2 tensor(0.7977) 38 days 45.49% correct guesses\n",
      "DOGEUSDT 0.2 tensor(1.1219) 39 days 55.98% correct guesses\n",
      "ETHUSDT 0.2 tensor(1.0064) 38 days 46.35% correct guesses\n",
      "LINKUSDT 0.2 tensor(1.4942) 38 days 53.22% correct guesses\n",
      "MEMEUSDT 0.2 tensor(1.0475) 38 days 48.50% correct guesses\n",
      "MNTUSDT 0.2 tensor(0.8652) 38 days 50.64% correct guesses\n",
      "ONDOUSDT 0.2 tensor(1.0854) 39 days 48.72% correct guesses\n",
      "OPUSDT 0.2 tensor(1.7958) 38 days 54.08% correct guesses\n",
      "POPCATUSDT 0.2 tensor(0.6286) 38 days 51.07% correct guesses\n",
      "SOLUSDT 0.2 tensor(1.2140) 39 days 49.15% correct guesses\n",
      "SUIUSDT 0.2 tensor(1.3416) 38 days 48.07% correct guesses\n",
      "TONUSDT 0.2 tensor(0.9313) 39 days 49.57% correct guesses\n",
      "WIFUSDT 0.2 tensor(1.0734) 39 days 51.28% correct guesses\n",
      "XRPUSDT 0.2 tensor(1.0569) 39 days 47.44% correct guesses\n",
      "ZENUSDT 0.2 tensor(0.8299) 38 days 48.93% correct guesses\n",
      "ZETAUSDT 0.2 tensor(0.4413) 39 days 42.74% correct guesses\n"
     ]
    },
    {
     "name": "stderr",
     "output_type": "stream",
     "text": [
      "                                               \r"
     ]
    },
    {
     "name": "stdout",
     "output_type": "stream",
     "text": [
      "Epoch 19600 Loss: 2.065033004328143e-05\n"
     ]
    },
    {
     "name": "stderr",
     "output_type": "stream",
     "text": [
      "                                               \r"
     ]
    },
    {
     "name": "stdout",
     "output_type": "stream",
     "text": [
      "Epoch 19700 Loss: 1.891085230454337e-05\n"
     ]
    },
    {
     "name": "stderr",
     "output_type": "stream",
     "text": [
      "                                               \r"
     ]
    },
    {
     "name": "stdout",
     "output_type": "stream",
     "text": [
      "Epoch 19800 Loss: 1.6767176930443384e-05\n"
     ]
    },
    {
     "name": "stderr",
     "output_type": "stream",
     "text": [
      "                                               \r"
     ]
    },
    {
     "name": "stdout",
     "output_type": "stream",
     "text": [
      "Epoch 19900 Loss: 2.0435789338080212e-05\n"
     ]
    },
    {
     "name": "stderr",
     "output_type": "stream",
     "text": [
      "                                               \r"
     ]
    },
    {
     "name": "stdout",
     "output_type": "stream",
     "text": [
      "Epoch 20000 Loss: 1.891847568913363e-05\n",
      "ADAUSDT 0.2 tensor(1.1164) 38 days 48.50% correct guesses\n",
      "APTUSDT 0.2 tensor(1.0283) 39 days 52.99% correct guesses\n",
      "AVAXUSDT 0.2 tensor(1.0619) 38 days 49.79% correct guesses\n",
      "BANANAUSDT 0.2 tensor(0.6841) 8 days 43.40% correct guesses\n",
      "BATUSDT 0.2 tensor(1.2809) 38 days 53.22% correct guesses\n",
      "BLZUSDT 0.2 tensor(1.2335) 38 days 50.64% correct guesses\n",
      "BNBUSDT 0.2 tensor(0.7967) 38 days 46.35% correct guesses\n",
      "BRETTUSDT 0.2 tensor(0.8222) 38 days 53.22% correct guesses\n",
      "BSVUSDT 0.2 tensor(1.3243) 38 days 49.79% correct guesses\n",
      "BTCUSDT 0.2 tensor(1.0134) 38 days 50.21% correct guesses\n",
      "C98USDT 0.2 tensor(0.8721) 39 days 47.44% correct guesses\n",
      "CEEKUSDT 0.2 tensor(0.7629) 38 days 43.78% correct guesses\n",
      "DOGEUSDT 0.2 tensor(1.2530) 39 days 56.41% correct guesses\n",
      "ETHUSDT 0.2 tensor(1.0029) 38 days 47.21% correct guesses\n",
      "LINKUSDT 0.2 tensor(1.6878) 38 days 54.94% correct guesses\n",
      "MEMEUSDT 0.2 tensor(1.0448) 38 days 47.64% correct guesses\n",
      "MNTUSDT 0.2 tensor(0.9342) 38 days 51.93% correct guesses\n",
      "ONDOUSDT 0.2 tensor(1.1187) 39 days 47.44% correct guesses\n",
      "OPUSDT 0.2 tensor(1.8123) 38 days 54.51% correct guesses\n",
      "POPCATUSDT 0.2 tensor(0.6933) 38 days 51.50% correct guesses\n",
      "SOLUSDT 0.2 tensor(1.1664) 39 days 49.15% correct guesses\n",
      "SUIUSDT 0.2 tensor(1.3538) 38 days 51.07% correct guesses\n",
      "TONUSDT 0.2 tensor(1.1369) 39 days 49.57% correct guesses\n",
      "WIFUSDT 0.2 tensor(0.9947) 39 days 49.57% correct guesses\n",
      "XRPUSDT 0.2 tensor(1.0845) 39 days 48.72% correct guesses\n",
      "ZENUSDT 0.2 tensor(0.7642) 38 days 48.07% correct guesses\n",
      "ZETAUSDT 0.2 tensor(0.3239) 39 days 43.16% correct guesses\n"
     ]
    },
    {
     "name": "stderr",
     "output_type": "stream",
     "text": [
      "                                               \r"
     ]
    },
    {
     "name": "stdout",
     "output_type": "stream",
     "text": [
      "Epoch 20100 Loss: 1.7060443497030064e-05\n"
     ]
    },
    {
     "name": "stderr",
     "output_type": "stream",
     "text": [
      "                                               \r"
     ]
    },
    {
     "name": "stdout",
     "output_type": "stream",
     "text": [
      "Epoch 20200 Loss: 1.6664735085214488e-05\n"
     ]
    },
    {
     "name": "stderr",
     "output_type": "stream",
     "text": [
      "                                               \r"
     ]
    },
    {
     "name": "stdout",
     "output_type": "stream",
     "text": [
      "Epoch 20300 Loss: 1.790146779967472e-05\n"
     ]
    },
    {
     "name": "stderr",
     "output_type": "stream",
     "text": [
      "                                               \r"
     ]
    },
    {
     "name": "stdout",
     "output_type": "stream",
     "text": [
      "Epoch 20400 Loss: 1.620545117475558e-05\n"
     ]
    },
    {
     "name": "stderr",
     "output_type": "stream",
     "text": [
      "                                               \r"
     ]
    },
    {
     "name": "stdout",
     "output_type": "stream",
     "text": [
      "Epoch 20500 Loss: 1.970802441064734e-05\n",
      "ADAUSDT 0.2 tensor(1.1669) 38 days 48.93% correct guesses\n",
      "APTUSDT 0.2 tensor(0.8903) 39 days 51.28% correct guesses\n",
      "AVAXUSDT 0.2 tensor(1.0950) 38 days 48.93% correct guesses\n",
      "BANANAUSDT 0.2 tensor(0.6784) 8 days 41.51% correct guesses\n",
      "BATUSDT 0.2 tensor(1.2353) 38 days 51.93% correct guesses\n",
      "BLZUSDT 0.2 tensor(1.2328) 38 days 51.93% correct guesses\n",
      "BNBUSDT 0.2 tensor(0.7969) 38 days 45.92% correct guesses\n",
      "BRETTUSDT 0.2 tensor(0.6615) 38 days 52.36% correct guesses\n",
      "BSVUSDT 0.2 tensor(1.1743) 38 days 49.79% correct guesses\n",
      "BTCUSDT 0.2 tensor(1.0149) 38 days 50.21% correct guesses\n",
      "C98USDT 0.2 tensor(0.7745) 39 days 45.73% correct guesses\n",
      "CEEKUSDT 0.2 tensor(0.6966) 38 days 44.21% correct guesses\n",
      "DOGEUSDT 0.2 tensor(1.3481) 39 days 55.98% correct guesses\n",
      "ETHUSDT 0.2 tensor(1.0724) 38 days 48.07% correct guesses\n",
      "LINKUSDT 0.2 tensor(1.8387) 38 days 54.94% correct guesses\n",
      "MEMEUSDT 0.2 tensor(1.0377) 38 days 47.21% correct guesses\n",
      "MNTUSDT 0.2 tensor(0.8731) 38 days 51.07% correct guesses\n",
      "ONDOUSDT 0.2 tensor(1.4218) 39 days 49.57% correct guesses\n",
      "OPUSDT 0.2 tensor(2.1916) 38 days 56.65% correct guesses\n",
      "POPCATUSDT 0.2 tensor(0.5439) 38 days 48.93% correct guesses\n",
      "SOLUSDT 0.2 tensor(0.9993) 39 days 49.15% correct guesses\n",
      "SUIUSDT 0.2 tensor(0.7672) 38 days 47.21% correct guesses\n",
      "TONUSDT 0.2 tensor(1.0687) 39 days 49.15% correct guesses\n",
      "WIFUSDT 0.2 tensor(1.1113) 39 days 50.00% correct guesses\n",
      "XRPUSDT 0.2 tensor(0.7537) 39 days 44.87% correct guesses\n",
      "ZENUSDT 0.2 tensor(0.7669) 38 days 48.50% correct guesses\n",
      "ZETAUSDT 0.2 tensor(0.4286) 39 days 44.44% correct guesses\n"
     ]
    },
    {
     "name": "stderr",
     "output_type": "stream",
     "text": [
      "                                               \r"
     ]
    },
    {
     "name": "stdout",
     "output_type": "stream",
     "text": [
      "Epoch 20600 Loss: 1.714593599899672e-05\n"
     ]
    },
    {
     "name": "stderr",
     "output_type": "stream",
     "text": [
      "                                               \r"
     ]
    },
    {
     "name": "stdout",
     "output_type": "stream",
     "text": [
      "Epoch 20700 Loss: 1.680439709161874e-05\n"
     ]
    },
    {
     "name": "stderr",
     "output_type": "stream",
     "text": [
      "                                               \r"
     ]
    },
    {
     "name": "stdout",
     "output_type": "stream",
     "text": [
      "Epoch 20800 Loss: 1.7538161046104506e-05\n"
     ]
    },
    {
     "name": "stderr",
     "output_type": "stream",
     "text": [
      "                                               \r"
     ]
    },
    {
     "name": "stdout",
     "output_type": "stream",
     "text": [
      "Epoch 20900 Loss: 1.6408475858042948e-05\n"
     ]
    },
    {
     "name": "stderr",
     "output_type": "stream",
     "text": [
      "                                               \r"
     ]
    },
    {
     "name": "stdout",
     "output_type": "stream",
     "text": [
      "Epoch 21000 Loss: 1.635666012589354e-05\n",
      "ADAUSDT 0.2 tensor(1.0659) 38 days 47.21% correct guesses\n",
      "APTUSDT 0.2 tensor(0.9077) 39 days 51.28% correct guesses\n",
      "AVAXUSDT 0.2 tensor(0.9778) 38 days 48.07% correct guesses\n",
      "BANANAUSDT 0.2 tensor(1.0160) 8 days 49.06% correct guesses\n",
      "BATUSDT 0.2 tensor(1.3298) 38 days 51.93% correct guesses\n",
      "BLZUSDT 0.2 tensor(1.1440) 38 days 51.07% correct guesses\n",
      "BNBUSDT 0.2 tensor(0.8523) 38 days 47.21% correct guesses\n",
      "BRETTUSDT 0.2 tensor(0.7777) 38 days 51.93% correct guesses\n",
      "BSVUSDT 0.2 tensor(1.3399) 38 days 50.64% correct guesses\n",
      "BTCUSDT 0.2 tensor(1.0786) 38 days 51.50% correct guesses\n",
      "C98USDT 0.2 tensor(0.7927) 39 days 44.44% correct guesses\n",
      "CEEKUSDT 0.2 tensor(0.8268) 38 days 44.64% correct guesses\n",
      "DOGEUSDT 0.2 tensor(1.0034) 39 days 55.13% correct guesses\n",
      "ETHUSDT 0.2 tensor(1.0715) 38 days 47.21% correct guesses\n",
      "LINKUSDT 0.2 tensor(1.6167) 38 days 54.08% correct guesses\n",
      "MEMEUSDT 0.2 tensor(1.0526) 38 days 46.78% correct guesses\n",
      "MNTUSDT 0.2 tensor(0.8491) 38 days 51.07% correct guesses\n",
      "ONDOUSDT 0.2 tensor(1.2307) 39 days 48.72% correct guesses\n",
      "OPUSDT 0.2 tensor(1.9471) 38 days 56.22% correct guesses\n",
      "POPCATUSDT 0.2 tensor(0.4982) 38 days 49.79% correct guesses\n",
      "SOLUSDT 0.2 tensor(1.0464) 39 days 49.57% correct guesses\n",
      "SUIUSDT 0.2 tensor(0.9350) 38 days 49.36% correct guesses\n",
      "TONUSDT 0.2 tensor(1.2277) 39 days 52.14% correct guesses\n",
      "WIFUSDT 0.2 tensor(1.0244) 39 days 50.00% correct guesses\n",
      "XRPUSDT 0.2 tensor(0.8063) 39 days 47.01% correct guesses\n",
      "ZENUSDT 0.2 tensor(0.7001) 38 days 47.64% correct guesses\n",
      "ZETAUSDT 0.2 tensor(0.3642) 39 days 42.74% correct guesses\n"
     ]
    },
    {
     "name": "stderr",
     "output_type": "stream",
     "text": [
      "                                               \r"
     ]
    },
    {
     "name": "stdout",
     "output_type": "stream",
     "text": [
      "Epoch 21100 Loss: 1.5232762962114066e-05\n"
     ]
    },
    {
     "name": "stderr",
     "output_type": "stream",
     "text": [
      "                                               \r"
     ]
    },
    {
     "name": "stdout",
     "output_type": "stream",
     "text": [
      "Epoch 21200 Loss: 1.846190934884362e-05\n"
     ]
    },
    {
     "name": "stderr",
     "output_type": "stream",
     "text": [
      "                                               \r"
     ]
    },
    {
     "name": "stdout",
     "output_type": "stream",
     "text": [
      "Epoch 21300 Loss: 1.715574398986064e-05\n"
     ]
    },
    {
     "name": "stderr",
     "output_type": "stream",
     "text": [
      "                                               \r"
     ]
    },
    {
     "name": "stdout",
     "output_type": "stream",
     "text": [
      "Epoch 21400 Loss: 1.9667373635456897e-05\n"
     ]
    },
    {
     "name": "stderr",
     "output_type": "stream",
     "text": [
      "                                               \r"
     ]
    },
    {
     "name": "stdout",
     "output_type": "stream",
     "text": [
      "Epoch 21500 Loss: 1.831361987569835e-05\n",
      "ADAUSDT 0.2 tensor(1.1561) 38 days 48.93% correct guesses\n",
      "APTUSDT 0.2 tensor(1.0374) 39 days 51.28% correct guesses\n",
      "AVAXUSDT 0.2 tensor(1.0253) 38 days 48.07% correct guesses\n",
      "BANANAUSDT 0.2 tensor(0.9652) 8 days 47.17% correct guesses\n",
      "BATUSDT 0.2 tensor(1.2808) 38 days 52.79% correct guesses\n",
      "BLZUSDT 0.2 tensor(1.0771) 38 days 49.36% correct guesses\n",
      "BNBUSDT 0.2 tensor(0.8367) 38 days 46.35% correct guesses\n",
      "BRETTUSDT 0.2 tensor(0.7491) 38 days 52.36% correct guesses\n",
      "BSVUSDT 0.2 tensor(1.1343) 38 days 51.07% correct guesses\n",
      "BTCUSDT 0.2 tensor(1.0431) 38 days 50.64% correct guesses\n",
      "C98USDT 0.2 tensor(0.7416) 39 days 44.44% correct guesses\n",
      "CEEKUSDT 0.2 tensor(0.8335) 38 days 45.49% correct guesses\n",
      "DOGEUSDT 0.2 tensor(1.0914) 39 days 56.41% correct guesses\n",
      "ETHUSDT 0.2 tensor(1.0584) 38 days 46.35% correct guesses\n",
      "LINKUSDT 0.2 tensor(1.4263) 38 days 52.79% correct guesses\n",
      "MEMEUSDT 0.2 tensor(1.1112) 38 days 48.50% correct guesses\n",
      "MNTUSDT 0.2 tensor(0.7547) 38 days 49.79% correct guesses\n",
      "ONDOUSDT 0.2 tensor(1.1398) 39 days 48.29% correct guesses\n",
      "OPUSDT 0.2 tensor(2.0509) 38 days 54.08% correct guesses\n",
      "POPCATUSDT 0.2 tensor(0.4095) 38 days 48.93% correct guesses\n",
      "SOLUSDT 0.2 tensor(1.0723) 39 days 49.15% correct guesses\n",
      "SUIUSDT 0.2 tensor(0.9266) 38 days 46.78% correct guesses\n",
      "TONUSDT 0.2 tensor(1.1244) 39 days 51.28% correct guesses\n",
      "WIFUSDT 0.2 tensor(1.0834) 39 days 50.43% correct guesses\n",
      "XRPUSDT 0.2 tensor(0.7453) 39 days 45.73% correct guesses\n",
      "ZENUSDT 0.2 tensor(0.9015) 38 days 45.92% correct guesses\n",
      "ZETAUSDT 0.2 tensor(0.3664) 39 days 43.59% correct guesses\n"
     ]
    },
    {
     "name": "stderr",
     "output_type": "stream",
     "text": [
      "                                               \r"
     ]
    },
    {
     "name": "stdout",
     "output_type": "stream",
     "text": [
      "Epoch 21600 Loss: 1.8109678421751596e-05\n"
     ]
    },
    {
     "name": "stderr",
     "output_type": "stream",
     "text": [
      "                                               \r"
     ]
    },
    {
     "name": "stdout",
     "output_type": "stream",
     "text": [
      "Epoch 21700 Loss: 1.7769662008504383e-05\n"
     ]
    },
    {
     "name": "stderr",
     "output_type": "stream",
     "text": [
      "                                               \r"
     ]
    },
    {
     "name": "stdout",
     "output_type": "stream",
     "text": [
      "Epoch 21800 Loss: 1.653635081311222e-05\n"
     ]
    },
    {
     "name": "stderr",
     "output_type": "stream",
     "text": [
      "                                               \r"
     ]
    },
    {
     "name": "stdout",
     "output_type": "stream",
     "text": [
      "Epoch 21900 Loss: 1.8461225408827886e-05\n"
     ]
    },
    {
     "name": "stderr",
     "output_type": "stream",
     "text": [
      "                                               \r"
     ]
    },
    {
     "name": "stdout",
     "output_type": "stream",
     "text": [
      "Epoch 22000 Loss: 1.722710112517234e-05\n",
      "ADAUSDT 0.2 tensor(1.2174) 38 days 48.07% correct guesses\n",
      "APTUSDT 0.2 tensor(1.0484) 39 days 52.99% correct guesses\n",
      "AVAXUSDT 0.2 tensor(1.0641) 38 days 48.07% correct guesses\n",
      "BANANAUSDT 0.2 tensor(0.8602) 8 days 47.17% correct guesses\n",
      "BATUSDT 0.2 tensor(1.2650) 38 days 52.79% correct guesses\n",
      "BLZUSDT 0.2 tensor(1.2070) 38 days 50.64% correct guesses\n",
      "BNBUSDT 0.2 tensor(0.8842) 38 days 48.07% correct guesses\n",
      "BRETTUSDT 0.2 tensor(0.6233) 38 days 52.36% correct guesses\n",
      "BSVUSDT 0.2 tensor(1.0797) 38 days 49.79% correct guesses\n",
      "BTCUSDT 0.2 tensor(1.0559) 38 days 51.07% correct guesses\n",
      "C98USDT 0.2 tensor(0.7918) 39 days 45.73% correct guesses\n",
      "CEEKUSDT 0.2 tensor(0.8114) 38 days 45.49% correct guesses\n",
      "DOGEUSDT 0.2 tensor(1.1475) 39 days 57.26% correct guesses\n",
      "ETHUSDT 0.2 tensor(1.1156) 38 days 47.64% correct guesses\n",
      "LINKUSDT 0.2 tensor(1.6400) 38 days 54.51% correct guesses\n",
      "MEMEUSDT 0.2 tensor(1.0432) 38 days 47.64% correct guesses\n",
      "MNTUSDT 0.2 tensor(0.9232) 38 days 51.07% correct guesses\n",
      "ONDOUSDT 0.2 tensor(1.3442) 39 days 47.86% correct guesses\n",
      "OPUSDT 0.2 tensor(2.0820) 38 days 55.36% correct guesses\n",
      "POPCATUSDT 0.2 tensor(0.2538) 38 days 48.50% correct guesses\n",
      "SOLUSDT 0.2 tensor(1.1555) 39 days 49.15% correct guesses\n",
      "SUIUSDT 0.2 tensor(0.9026) 38 days 48.50% correct guesses\n",
      "TONUSDT 0.2 tensor(1.1467) 39 days 50.85% correct guesses\n",
      "WIFUSDT 0.2 tensor(0.9155) 39 days 49.15% correct guesses\n",
      "XRPUSDT 0.2 tensor(0.8322) 39 days 45.73% correct guesses\n",
      "ZENUSDT 0.2 tensor(0.6984) 38 days 47.21% correct guesses\n",
      "ZETAUSDT 0.2 tensor(0.6527) 39 days 45.73% correct guesses\n"
     ]
    },
    {
     "name": "stderr",
     "output_type": "stream",
     "text": [
      "                                               \r"
     ]
    },
    {
     "name": "stdout",
     "output_type": "stream",
     "text": [
      "Epoch 22100 Loss: 1.5856425306992605e-05\n"
     ]
    },
    {
     "name": "stderr",
     "output_type": "stream",
     "text": [
      "                                               \r"
     ]
    },
    {
     "name": "stdout",
     "output_type": "stream",
     "text": [
      "Epoch 22200 Loss: 1.7296413716394454e-05\n"
     ]
    },
    {
     "name": "stderr",
     "output_type": "stream",
     "text": [
      "                                               \r"
     ]
    },
    {
     "name": "stdout",
     "output_type": "stream",
     "text": [
      "Epoch 22300 Loss: 2.0346689780126326e-05\n"
     ]
    },
    {
     "name": "stderr",
     "output_type": "stream",
     "text": [
      "                                               \r"
     ]
    },
    {
     "name": "stdout",
     "output_type": "stream",
     "text": [
      "Epoch 22400 Loss: 2.0344405129435472e-05\n"
     ]
    },
    {
     "name": "stderr",
     "output_type": "stream",
     "text": [
      "                                               \r"
     ]
    },
    {
     "name": "stdout",
     "output_type": "stream",
     "text": [
      "Epoch 22500 Loss: 1.955746120074764e-05\n",
      "ADAUSDT 0.2 tensor(1.1709) 38 days 48.50% correct guesses\n",
      "APTUSDT 0.2 tensor(1.1316) 39 days 52.56% correct guesses\n",
      "AVAXUSDT 0.2 tensor(1.1123) 38 days 48.07% correct guesses\n",
      "BANANAUSDT 0.2 tensor(0.9407) 8 days 47.17% correct guesses\n",
      "BATUSDT 0.2 tensor(1.2515) 38 days 53.22% correct guesses\n",
      "BLZUSDT 0.2 tensor(1.1962) 38 days 49.36% correct guesses\n",
      "BNBUSDT 0.2 tensor(0.7703) 38 days 46.78% correct guesses\n",
      "BRETTUSDT 0.2 tensor(0.5176) 38 days 49.79% correct guesses\n",
      "BSVUSDT 0.2 tensor(1.1251) 38 days 50.64% correct guesses\n",
      "BTCUSDT 0.2 tensor(1.0345) 38 days 51.50% correct guesses\n",
      "C98USDT 0.2 tensor(0.7659) 39 days 45.73% correct guesses\n",
      "CEEKUSDT 0.2 tensor(0.8170) 38 days 46.35% correct guesses\n",
      "DOGEUSDT 0.2 tensor(1.1547) 39 days 56.84% correct guesses\n",
      "ETHUSDT 0.2 tensor(1.0954) 38 days 46.35% correct guesses\n",
      "LINKUSDT 0.2 tensor(1.6076) 38 days 54.94% correct guesses\n",
      "MEMEUSDT 0.2 tensor(1.0045) 38 days 49.36% correct guesses\n",
      "MNTUSDT 0.2 tensor(0.7234) 38 days 47.64% correct guesses\n",
      "ONDOUSDT 0.2 tensor(1.2243) 39 days 48.29% correct guesses\n",
      "OPUSDT 0.2 tensor(1.9174) 38 days 55.36% correct guesses\n",
      "POPCATUSDT 0.2 tensor(0.2582) 38 days 48.50% correct guesses\n",
      "SOLUSDT 0.2 tensor(1.0902) 39 days 49.15% correct guesses\n",
      "SUIUSDT 0.2 tensor(0.8276) 38 days 48.50% correct guesses\n",
      "TONUSDT 0.2 tensor(0.9820) 39 days 49.57% correct guesses\n",
      "WIFUSDT 0.2 tensor(1.2309) 39 days 50.43% correct guesses\n",
      "XRPUSDT 0.2 tensor(0.8693) 39 days 48.29% correct guesses\n",
      "ZENUSDT 0.2 tensor(0.7420) 38 days 47.64% correct guesses\n",
      "ZETAUSDT 0.2 tensor(0.4837) 39 days 44.44% correct guesses\n"
     ]
    },
    {
     "name": "stderr",
     "output_type": "stream",
     "text": [
      "                                               \r"
     ]
    },
    {
     "name": "stdout",
     "output_type": "stream",
     "text": [
      "Epoch 22600 Loss: 1.635644366615452e-05\n"
     ]
    },
    {
     "name": "stderr",
     "output_type": "stream",
     "text": [
      "                                               \r"
     ]
    },
    {
     "name": "stdout",
     "output_type": "stream",
     "text": [
      "Epoch 22700 Loss: 1.7584754459676333e-05\n"
     ]
    },
    {
     "name": "stderr",
     "output_type": "stream",
     "text": [
      "                                               \r"
     ]
    },
    {
     "name": "stdout",
     "output_type": "stream",
     "text": [
      "Epoch 22800 Loss: 1.5608004105160944e-05\n"
     ]
    },
    {
     "name": "stderr",
     "output_type": "stream",
     "text": [
      "                                               \r"
     ]
    },
    {
     "name": "stdout",
     "output_type": "stream",
     "text": [
      "Epoch 22900 Loss: 1.8468987036612816e-05\n"
     ]
    },
    {
     "name": "stderr",
     "output_type": "stream",
     "text": [
      "                                               \r"
     ]
    },
    {
     "name": "stdout",
     "output_type": "stream",
     "text": [
      "Epoch 23000 Loss: 1.6733216398279183e-05\n",
      "ADAUSDT 0.2 tensor(1.2174) 38 days 47.64% correct guesses\n",
      "APTUSDT 0.2 tensor(1.1142) 39 days 52.56% correct guesses\n",
      "AVAXUSDT 0.2 tensor(0.9904) 38 days 47.64% correct guesses\n",
      "BANANAUSDT 0.2 tensor(1.0314) 8 days 50.94% correct guesses\n",
      "BATUSDT 0.2 tensor(1.2696) 38 days 52.79% correct guesses\n",
      "BLZUSDT 0.2 tensor(1.3293) 38 days 50.21% correct guesses\n",
      "BNBUSDT 0.2 tensor(0.8633) 38 days 48.07% correct guesses\n",
      "BRETTUSDT 0.2 tensor(0.3963) 38 days 47.64% correct guesses\n",
      "BSVUSDT 0.2 tensor(1.4698) 38 days 51.93% correct guesses\n",
      "BTCUSDT 0.2 tensor(1.0070) 38 days 50.21% correct guesses\n",
      "C98USDT 0.2 tensor(0.7988) 39 days 44.87% correct guesses\n",
      "CEEKUSDT 0.2 tensor(0.8468) 38 days 46.78% correct guesses\n",
      "DOGEUSDT 0.2 tensor(0.9876) 39 days 54.70% correct guesses\n",
      "ETHUSDT 0.2 tensor(1.0836) 38 days 47.64% correct guesses\n",
      "LINKUSDT 0.2 tensor(1.5093) 38 days 54.08% correct guesses\n",
      "MEMEUSDT 0.2 tensor(1.0147) 38 days 47.64% correct guesses\n",
      "MNTUSDT 0.2 tensor(0.8609) 38 days 50.21% correct guesses\n",
      "ONDOUSDT 0.2 tensor(1.4477) 39 days 47.44% correct guesses\n",
      "OPUSDT 0.2 tensor(1.9981) 38 days 54.08% correct guesses\n",
      "POPCATUSDT 0.2 tensor(0.2302) 38 days 46.78% correct guesses\n",
      "SOLUSDT 0.2 tensor(1.0052) 39 days 47.86% correct guesses\n",
      "SUIUSDT 0.2 tensor(0.9904) 38 days 50.64% correct guesses\n",
      "TONUSDT 0.2 tensor(1.1006) 39 days 50.85% correct guesses\n",
      "WIFUSDT 0.2 tensor(1.0695) 39 days 50.85% correct guesses\n",
      "XRPUSDT 0.2 tensor(1.0194) 39 days 47.86% correct guesses\n",
      "ZENUSDT 0.2 tensor(0.8043) 38 days 48.50% correct guesses\n",
      "ZETAUSDT 0.2 tensor(0.3878) 39 days 44.87% correct guesses\n"
     ]
    },
    {
     "name": "stderr",
     "output_type": "stream",
     "text": [
      "                                               \r"
     ]
    },
    {
     "name": "stdout",
     "output_type": "stream",
     "text": [
      "Epoch 23100 Loss: 1.7167674741358496e-05\n"
     ]
    },
    {
     "name": "stderr",
     "output_type": "stream",
     "text": [
      "                                               \r"
     ]
    },
    {
     "name": "stdout",
     "output_type": "stream",
     "text": [
      "Epoch 23200 Loss: 1.8860058844438754e-05\n"
     ]
    },
    {
     "name": "stderr",
     "output_type": "stream",
     "text": [
      "                                               \r"
     ]
    },
    {
     "name": "stdout",
     "output_type": "stream",
     "text": [
      "Epoch 23300 Loss: 1.808007073123008e-05\n"
     ]
    },
    {
     "name": "stderr",
     "output_type": "stream",
     "text": [
      "                                               \r"
     ]
    },
    {
     "name": "stdout",
     "output_type": "stream",
     "text": [
      "Epoch 23400 Loss: 1.9269738913862966e-05\n"
     ]
    },
    {
     "name": "stderr",
     "output_type": "stream",
     "text": [
      "                                               \r"
     ]
    },
    {
     "name": "stdout",
     "output_type": "stream",
     "text": [
      "Epoch 23500 Loss: 1.9291284843347967e-05\n",
      "ADAUSDT 0.2 tensor(1.1201) 38 days 47.21% correct guesses\n",
      "APTUSDT 0.2 tensor(0.9914) 39 days 52.14% correct guesses\n",
      "AVAXUSDT 0.2 tensor(0.9675) 38 days 48.50% correct guesses\n",
      "BANANAUSDT 0.2 tensor(1.0315) 8 days 52.83% correct guesses\n",
      "BATUSDT 0.2 tensor(1.2350) 38 days 52.36% correct guesses\n",
      "BLZUSDT 0.2 tensor(1.2374) 38 days 51.50% correct guesses\n",
      "BNBUSDT 0.2 tensor(0.9470) 38 days 48.50% correct guesses\n",
      "BRETTUSDT 0.2 tensor(0.4107) 38 days 47.21% correct guesses\n",
      "BSVUSDT 0.2 tensor(1.4556) 38 days 52.36% correct guesses\n",
      "BTCUSDT 0.2 tensor(1.0280) 38 days 51.50% correct guesses\n",
      "C98USDT 0.2 tensor(0.7307) 39 days 44.44% correct guesses\n",
      "CEEKUSDT 0.2 tensor(0.8671) 38 days 45.92% correct guesses\n",
      "DOGEUSDT 0.2 tensor(1.2255) 39 days 55.98% correct guesses\n",
      "ETHUSDT 0.2 tensor(1.1279) 38 days 48.50% correct guesses\n",
      "LINKUSDT 0.2 tensor(1.3925) 38 days 53.22% correct guesses\n",
      "MEMEUSDT 0.2 tensor(0.9631) 38 days 46.78% correct guesses\n",
      "MNTUSDT 0.2 tensor(0.8767) 38 days 49.36% correct guesses\n",
      "ONDOUSDT 0.2 tensor(1.1522) 39 days 47.86% correct guesses\n",
      "OPUSDT 0.2 tensor(2.3715) 38 days 58.37% correct guesses\n",
      "POPCATUSDT 0.2 tensor(0.1680) 38 days 45.92% correct guesses\n",
      "SOLUSDT 0.2 tensor(0.9674) 39 days 48.29% correct guesses\n",
      "SUIUSDT 0.2 tensor(0.9455) 38 days 48.07% correct guesses\n",
      "TONUSDT 0.2 tensor(1.3024) 39 days 50.43% correct guesses\n",
      "WIFUSDT 0.2 tensor(1.1262) 39 days 50.43% correct guesses\n",
      "XRPUSDT 0.2 tensor(1.0958) 39 days 47.86% correct guesses\n",
      "ZENUSDT 0.2 tensor(0.8182) 38 days 48.07% correct guesses\n",
      "ZETAUSDT 0.2 tensor(0.3813) 39 days 44.87% correct guesses\n"
     ]
    },
    {
     "name": "stderr",
     "output_type": "stream",
     "text": [
      "                                               \r"
     ]
    },
    {
     "name": "stdout",
     "output_type": "stream",
     "text": [
      "Epoch 23600 Loss: 1.8408756659482606e-05\n"
     ]
    },
    {
     "name": "stderr",
     "output_type": "stream",
     "text": [
      "                                               \r"
     ]
    },
    {
     "name": "stdout",
     "output_type": "stream",
     "text": [
      "Epoch 23700 Loss: 1.717156010272447e-05\n"
     ]
    },
    {
     "name": "stderr",
     "output_type": "stream",
     "text": [
      "                                               \r"
     ]
    },
    {
     "name": "stdout",
     "output_type": "stream",
     "text": [
      "Epoch 23800 Loss: 1.665206036705058e-05\n"
     ]
    },
    {
     "name": "stderr",
     "output_type": "stream",
     "text": [
      "                                               \r"
     ]
    },
    {
     "name": "stdout",
     "output_type": "stream",
     "text": [
      "Epoch 23900 Loss: 2.2260450350586325e-05\n"
     ]
    },
    {
     "name": "stderr",
     "output_type": "stream",
     "text": [
      "                                               \r"
     ]
    },
    {
     "name": "stdout",
     "output_type": "stream",
     "text": [
      "Epoch 24000 Loss: 1.8922875824500807e-05\n",
      "ADAUSDT 0.2 tensor(1.1277) 38 days 47.64% correct guesses\n",
      "APTUSDT 0.2 tensor(1.0566) 39 days 51.71% correct guesses\n",
      "AVAXUSDT 0.2 tensor(1.1656) 38 days 51.07% correct guesses\n",
      "BANANAUSDT 0.2 tensor(1.0108) 8 days 50.94% correct guesses\n",
      "BATUSDT 0.2 tensor(1.2533) 38 days 53.22% correct guesses\n",
      "BLZUSDT 0.2 tensor(1.3015) 38 days 51.50% correct guesses\n",
      "BNBUSDT 0.2 tensor(0.9265) 38 days 48.93% correct guesses\n",
      "BRETTUSDT 0.2 tensor(0.3273) 38 days 47.21% correct guesses\n",
      "BSVUSDT 0.2 tensor(1.4264) 38 days 51.50% correct guesses\n",
      "BTCUSDT 0.2 tensor(0.9694) 38 days 49.79% correct guesses\n",
      "C98USDT 0.2 tensor(0.8232) 39 days 46.58% correct guesses\n",
      "CEEKUSDT 0.2 tensor(0.8871) 38 days 45.92% correct guesses\n",
      "DOGEUSDT 0.2 tensor(1.1700) 39 days 56.84% correct guesses\n",
      "ETHUSDT 0.2 tensor(1.1752) 38 days 48.50% correct guesses\n",
      "LINKUSDT 0.2 tensor(1.3603) 38 days 52.79% correct guesses\n",
      "MEMEUSDT 0.2 tensor(0.9818) 38 days 48.50% correct guesses\n",
      "MNTUSDT 0.2 tensor(0.7270) 38 days 48.50% correct guesses\n",
      "ONDOUSDT 0.2 tensor(1.1138) 39 days 46.58% correct guesses\n",
      "OPUSDT 0.2 tensor(1.9593) 38 days 56.65% correct guesses\n",
      "POPCATUSDT 0.2 tensor(0.1766) 38 days 46.35% correct guesses\n",
      "SOLUSDT 0.2 tensor(1.1045) 39 days 49.15% correct guesses\n",
      "SUIUSDT 0.2 tensor(1.0117) 38 days 49.79% correct guesses\n",
      "TONUSDT 0.2 tensor(1.0967) 39 days 49.15% correct guesses\n",
      "WIFUSDT 0.2 tensor(0.9943) 39 days 50.00% correct guesses\n",
      "XRPUSDT 0.2 tensor(0.7212) 39 days 48.72% correct guesses\n",
      "ZENUSDT 0.2 tensor(0.8876) 38 days 48.93% correct guesses\n",
      "ZETAUSDT 0.2 tensor(0.3835) 39 days 44.87% correct guesses\n"
     ]
    },
    {
     "name": "stderr",
     "output_type": "stream",
     "text": [
      "                                               \r"
     ]
    },
    {
     "name": "stdout",
     "output_type": "stream",
     "text": [
      "Epoch 24100 Loss: 1.8025943063548766e-05\n"
     ]
    },
    {
     "name": "stderr",
     "output_type": "stream",
     "text": [
      "                                               \r"
     ]
    },
    {
     "name": "stdout",
     "output_type": "stream",
     "text": [
      "Epoch 24200 Loss: 1.9876704755006358e-05\n"
     ]
    },
    {
     "name": "stderr",
     "output_type": "stream",
     "text": [
      "                                               \r"
     ]
    },
    {
     "name": "stdout",
     "output_type": "stream",
     "text": [
      "Epoch 24300 Loss: 1.6795798728708178e-05\n"
     ]
    },
    {
     "name": "stderr",
     "output_type": "stream",
     "text": [
      "                                               \r"
     ]
    },
    {
     "name": "stdout",
     "output_type": "stream",
     "text": [
      "Epoch 24400 Loss: 1.4856675079499837e-05\n"
     ]
    },
    {
     "name": "stderr",
     "output_type": "stream",
     "text": [
      "                                               \r"
     ]
    },
    {
     "name": "stdout",
     "output_type": "stream",
     "text": [
      "Epoch 24500 Loss: 1.633898682484869e-05\n",
      "ADAUSDT 0.2 tensor(1.2719) 38 days 47.64% correct guesses\n",
      "APTUSDT 0.2 tensor(1.2632) 39 days 53.85% correct guesses\n",
      "AVAXUSDT 0.2 tensor(1.2088) 38 days 51.93% correct guesses\n",
      "BANANAUSDT 0.2 tensor(0.9516) 8 days 47.17% correct guesses\n",
      "BATUSDT 0.2 tensor(1.2218) 38 days 52.36% correct guesses\n",
      "BLZUSDT 0.2 tensor(1.2160) 38 days 50.64% correct guesses\n",
      "BNBUSDT 0.2 tensor(0.8704) 38 days 47.64% correct guesses\n",
      "BRETTUSDT 0.2 tensor(0.4837) 38 days 49.36% correct guesses\n",
      "BSVUSDT 0.2 tensor(1.4514) 38 days 52.36% correct guesses\n",
      "BTCUSDT 0.2 tensor(1.0540) 38 days 51.93% correct guesses\n",
      "C98USDT 0.2 tensor(0.8296) 39 days 46.15% correct guesses\n",
      "CEEKUSDT 0.2 tensor(0.8343) 38 days 45.49% correct guesses\n",
      "DOGEUSDT 0.2 tensor(1.1617) 39 days 56.41% correct guesses\n",
      "ETHUSDT 0.2 tensor(1.2286) 38 days 48.93% correct guesses\n",
      "LINKUSDT 0.2 tensor(1.3519) 38 days 52.79% correct guesses\n",
      "MEMEUSDT 0.2 tensor(1.1324) 38 days 49.36% correct guesses\n",
      "MNTUSDT 0.2 tensor(1.0952) 38 days 51.50% correct guesses\n",
      "ONDOUSDT 0.2 tensor(1.0051) 39 days 46.15% correct guesses\n",
      "OPUSDT 0.2 tensor(1.7356) 38 days 55.36% correct guesses\n",
      "POPCATUSDT 0.2 tensor(0.3420) 38 days 49.36% correct guesses\n",
      "SOLUSDT 0.2 tensor(0.9195) 39 days 47.44% correct guesses\n",
      "SUIUSDT 0.2 tensor(1.0751) 38 days 50.21% correct guesses\n",
      "TONUSDT 0.2 tensor(1.1621) 39 days 50.00% correct guesses\n",
      "WIFUSDT 0.2 tensor(1.0071) 39 days 50.85% correct guesses\n",
      "XRPUSDT 0.2 tensor(0.8552) 39 days 49.15% correct guesses\n",
      "ZENUSDT 0.2 tensor(0.9325) 38 days 50.21% correct guesses\n",
      "ZETAUSDT 0.2 tensor(0.3792) 39 days 45.30% correct guesses\n"
     ]
    },
    {
     "name": "stderr",
     "output_type": "stream",
     "text": [
      "                                               \r"
     ]
    },
    {
     "name": "stdout",
     "output_type": "stream",
     "text": [
      "Epoch 24600 Loss: 1.7952181224245578e-05\n"
     ]
    },
    {
     "name": "stderr",
     "output_type": "stream",
     "text": [
      "                                               \r"
     ]
    },
    {
     "name": "stdout",
     "output_type": "stream",
     "text": [
      "Epoch 24700 Loss: 1.59886203618953e-05\n"
     ]
    },
    {
     "name": "stderr",
     "output_type": "stream",
     "text": [
      "                                               \r"
     ]
    },
    {
     "name": "stdout",
     "output_type": "stream",
     "text": [
      "Epoch 24800 Loss: 1.7703052435535938e-05\n"
     ]
    },
    {
     "name": "stderr",
     "output_type": "stream",
     "text": [
      "                                               \r"
     ]
    },
    {
     "name": "stdout",
     "output_type": "stream",
     "text": [
      "Epoch 24900 Loss: 1.7491092876298353e-05\n"
     ]
    },
    {
     "name": "stderr",
     "output_type": "stream",
     "text": [
      "                                               \r"
     ]
    },
    {
     "name": "stdout",
     "output_type": "stream",
     "text": [
      "Epoch 25000 Loss: 1.602966949576512e-05\n",
      "ADAUSDT 0.2 tensor(1.1975) 38 days 47.21% correct guesses\n",
      "APTUSDT 0.2 tensor(1.2215) 39 days 52.56% correct guesses\n",
      "AVAXUSDT 0.2 tensor(1.0734) 38 days 49.36% correct guesses\n",
      "BANANAUSDT 0.2 tensor(0.8965) 8 days 43.40% correct guesses\n",
      "BATUSDT 0.2 tensor(1.3208) 38 days 54.08% correct guesses\n",
      "BLZUSDT 0.2 tensor(1.3016) 38 days 51.50% correct guesses\n",
      "BNBUSDT 0.2 tensor(0.9182) 38 days 48.50% correct guesses\n",
      "BRETTUSDT 0.2 tensor(0.4108) 38 days 48.50% correct guesses\n",
      "BSVUSDT 0.2 tensor(1.2221) 38 days 52.79% correct guesses\n",
      "BTCUSDT 0.2 tensor(1.0798) 38 days 50.64% correct guesses\n",
      "C98USDT 0.2 tensor(0.8018) 39 days 44.44% correct guesses\n",
      "CEEKUSDT 0.2 tensor(0.7782) 38 days 45.49% correct guesses\n",
      "DOGEUSDT 0.2 tensor(1.0367) 39 days 56.84% correct guesses\n",
      "ETHUSDT 0.2 tensor(1.0886) 38 days 45.92% correct guesses\n",
      "LINKUSDT 0.2 tensor(1.7154) 38 days 54.51% correct guesses\n",
      "MEMEUSDT 0.2 tensor(0.7954) 38 days 47.64% correct guesses\n",
      "MNTUSDT 0.2 tensor(0.8611) 38 days 50.21% correct guesses\n",
      "ONDOUSDT 0.2 tensor(1.1055) 39 days 47.01% correct guesses\n",
      "OPUSDT 0.2 tensor(2.3715) 38 days 57.08% correct guesses\n",
      "POPCATUSDT 0.2 tensor(0.3325) 38 days 48.50% correct guesses\n",
      "SOLUSDT 0.2 tensor(0.9452) 39 days 48.29% correct guesses\n",
      "SUIUSDT 0.2 tensor(1.0659) 38 days 48.50% correct guesses\n",
      "TONUSDT 0.2 tensor(0.9429) 39 days 50.00% correct guesses\n",
      "WIFUSDT 0.2 tensor(0.9372) 39 days 50.43% correct guesses\n",
      "XRPUSDT 0.2 tensor(0.9131) 39 days 48.29% correct guesses\n",
      "ZENUSDT 0.2 tensor(0.8399) 38 days 49.36% correct guesses\n",
      "ZETAUSDT 0.2 tensor(0.4029) 39 days 44.87% correct guesses\n"
     ]
    },
    {
     "name": "stderr",
     "output_type": "stream",
     "text": [
      "                                               \r"
     ]
    },
    {
     "name": "stdout",
     "output_type": "stream",
     "text": [
      "Epoch 25100 Loss: 2.126623621734325e-05\n"
     ]
    },
    {
     "name": "stderr",
     "output_type": "stream",
     "text": [
      "                                               \r"
     ]
    },
    {
     "name": "stdout",
     "output_type": "stream",
     "text": [
      "Epoch 25200 Loss: 1.6434103599749506e-05\n"
     ]
    },
    {
     "name": "stderr",
     "output_type": "stream",
     "text": [
      "                                               \r"
     ]
    },
    {
     "name": "stdout",
     "output_type": "stream",
     "text": [
      "Epoch 25300 Loss: 1.5816263839951716e-05\n"
     ]
    },
    {
     "name": "stderr",
     "output_type": "stream",
     "text": [
      "                                               \r"
     ]
    },
    {
     "name": "stdout",
     "output_type": "stream",
     "text": [
      "Epoch 25400 Loss: 1.718428757158108e-05\n"
     ]
    },
    {
     "name": "stderr",
     "output_type": "stream",
     "text": [
      "                                               \r"
     ]
    },
    {
     "name": "stdout",
     "output_type": "stream",
     "text": [
      "Epoch 25500 Loss: 1.7678510630503297e-05\n",
      "ADAUSDT 0.2 tensor(1.1999) 38 days 46.78% correct guesses\n",
      "APTUSDT 0.2 tensor(1.2058) 39 days 52.99% correct guesses\n",
      "AVAXUSDT 0.2 tensor(1.3421) 38 days 51.93% correct guesses\n",
      "BANANAUSDT 0.2 tensor(0.8872) 8 days 43.40% correct guesses\n",
      "BATUSDT 0.2 tensor(1.2136) 38 days 52.36% correct guesses\n",
      "BLZUSDT 0.2 tensor(1.6599) 38 days 51.07% correct guesses\n",
      "BNBUSDT 0.2 tensor(0.8538) 38 days 47.64% correct guesses\n",
      "BRETTUSDT 0.2 tensor(0.4054) 38 days 47.64% correct guesses\n",
      "BSVUSDT 0.2 tensor(1.3125) 38 days 54.51% correct guesses\n",
      "BTCUSDT 0.2 tensor(1.0850) 38 days 52.36% correct guesses\n",
      "C98USDT 0.2 tensor(0.8395) 39 days 45.73% correct guesses\n",
      "CEEKUSDT 0.2 tensor(0.8001) 38 days 45.49% correct guesses\n",
      "DOGEUSDT 0.2 tensor(1.0681) 39 days 57.26% correct guesses\n",
      "ETHUSDT 0.2 tensor(1.1821) 38 days 47.21% correct guesses\n",
      "LINKUSDT 0.2 tensor(1.3811) 38 days 52.79% correct guesses\n",
      "MEMEUSDT 0.2 tensor(0.8179) 38 days 47.64% correct guesses\n",
      "MNTUSDT 0.2 tensor(0.9340) 38 days 49.79% correct guesses\n",
      "ONDOUSDT 0.2 tensor(1.1292) 39 days 47.01% correct guesses\n",
      "OPUSDT 0.2 tensor(1.6497) 38 days 55.36% correct guesses\n",
      "POPCATUSDT 0.2 tensor(0.3434) 38 days 50.21% correct guesses\n",
      "SOLUSDT 0.2 tensor(1.0400) 39 days 49.15% correct guesses\n",
      "SUIUSDT 0.2 tensor(1.0782) 38 days 48.93% correct guesses\n",
      "TONUSDT 0.2 tensor(1.0223) 39 days 50.85% correct guesses\n",
      "WIFUSDT 0.2 tensor(1.0999) 39 days 51.71% correct guesses\n",
      "XRPUSDT 0.2 tensor(0.9665) 39 days 48.72% correct guesses\n",
      "ZENUSDT 0.2 tensor(0.7550) 38 days 48.93% correct guesses\n",
      "ZETAUSDT 0.2 tensor(0.3809) 39 days 44.44% correct guesses\n"
     ]
    },
    {
     "name": "stderr",
     "output_type": "stream",
     "text": [
      "                                               \r"
     ]
    },
    {
     "name": "stdout",
     "output_type": "stream",
     "text": [
      "Epoch 25600 Loss: 1.5231490579026286e-05\n"
     ]
    },
    {
     "name": "stderr",
     "output_type": "stream",
     "text": [
      "                                               \r"
     ]
    },
    {
     "name": "stdout",
     "output_type": "stream",
     "text": [
      "Epoch 25700 Loss: 2.022398439294193e-05\n"
     ]
    },
    {
     "name": "stderr",
     "output_type": "stream",
     "text": [
      "                                               \r"
     ]
    },
    {
     "name": "stdout",
     "output_type": "stream",
     "text": [
      "Epoch 25800 Loss: 1.766807326930575e-05\n"
     ]
    },
    {
     "name": "stderr",
     "output_type": "stream",
     "text": [
      "                                               \r"
     ]
    },
    {
     "name": "stdout",
     "output_type": "stream",
     "text": [
      "Epoch 25900 Loss: 1.799258097889833e-05\n"
     ]
    },
    {
     "name": "stderr",
     "output_type": "stream",
     "text": [
      "                                               \r"
     ]
    },
    {
     "name": "stdout",
     "output_type": "stream",
     "text": [
      "Epoch 26000 Loss: 1.6780581063358113e-05\n",
      "ADAUSDT 0.2 tensor(1.1742) 38 days 47.21% correct guesses\n",
      "APTUSDT 0.2 tensor(1.0813) 39 days 52.14% correct guesses\n",
      "AVAXUSDT 0.2 tensor(1.0365) 38 days 50.21% correct guesses\n",
      "BANANAUSDT 0.2 tensor(0.8838) 8 days 43.40% correct guesses\n",
      "BATUSDT 0.2 tensor(1.1999) 38 days 51.93% correct guesses\n",
      "BLZUSDT 0.2 tensor(1.5804) 38 days 53.65% correct guesses\n",
      "BNBUSDT 0.2 tensor(0.8594) 38 days 47.21% correct guesses\n",
      "BRETTUSDT 0.2 tensor(0.4591) 38 days 48.50% correct guesses\n",
      "BSVUSDT 0.2 tensor(1.1060) 38 days 51.50% correct guesses\n",
      "BTCUSDT 0.2 tensor(1.0697) 38 days 51.93% correct guesses\n",
      "C98USDT 0.2 tensor(0.9166) 39 days 47.86% correct guesses\n",
      "CEEKUSDT 0.2 tensor(0.7163) 38 days 43.78% correct guesses\n",
      "DOGEUSDT 0.2 tensor(1.2543) 39 days 55.98% correct guesses\n",
      "ETHUSDT 0.2 tensor(1.1854) 38 days 48.50% correct guesses\n",
      "LINKUSDT 0.2 tensor(1.4512) 38 days 52.79% correct guesses\n",
      "MEMEUSDT 0.2 tensor(0.8732) 38 days 46.35% correct guesses\n",
      "MNTUSDT 0.2 tensor(1.0875) 38 days 50.64% correct guesses\n",
      "ONDOUSDT 0.2 tensor(1.2324) 39 days 47.44% correct guesses\n",
      "OPUSDT 0.2 tensor(1.5244) 38 days 54.94% correct guesses\n",
      "POPCATUSDT 0.2 tensor(0.6108) 38 days 50.21% correct guesses\n",
      "SOLUSDT 0.2 tensor(0.8649) 39 days 47.44% correct guesses\n",
      "SUIUSDT 0.2 tensor(1.2175) 38 days 49.79% correct guesses\n",
      "TONUSDT 0.2 tensor(1.4153) 39 days 51.71% correct guesses\n",
      "WIFUSDT 0.2 tensor(1.0385) 39 days 51.28% correct guesses\n",
      "XRPUSDT 0.2 tensor(0.8074) 39 days 48.29% correct guesses\n",
      "ZENUSDT 0.2 tensor(0.9119) 38 days 49.79% correct guesses\n",
      "ZETAUSDT 0.2 tensor(0.3441) 39 days 44.02% correct guesses\n"
     ]
    },
    {
     "name": "stderr",
     "output_type": "stream",
     "text": [
      "                                               \r"
     ]
    },
    {
     "name": "stdout",
     "output_type": "stream",
     "text": [
      "Epoch 26100 Loss: 1.6512965885340236e-05\n"
     ]
    },
    {
     "name": "stderr",
     "output_type": "stream",
     "text": [
      "                                               \r"
     ]
    },
    {
     "name": "stdout",
     "output_type": "stream",
     "text": [
      "Epoch 26200 Loss: 1.6218564269365743e-05\n"
     ]
    },
    {
     "name": "stderr",
     "output_type": "stream",
     "text": [
      "                                               \r"
     ]
    },
    {
     "name": "stdout",
     "output_type": "stream",
     "text": [
      "Epoch 26300 Loss: 1.5592469935654663e-05\n"
     ]
    },
    {
     "name": "stderr",
     "output_type": "stream",
     "text": [
      "                                               \r"
     ]
    },
    {
     "name": "stdout",
     "output_type": "stream",
     "text": [
      "Epoch 26400 Loss: 1.6755824617575854e-05\n"
     ]
    },
    {
     "name": "stderr",
     "output_type": "stream",
     "text": [
      "                                               \r"
     ]
    },
    {
     "name": "stdout",
     "output_type": "stream",
     "text": [
      "Epoch 26500 Loss: 1.7220907466253266e-05\n",
      "ADAUSDT 0.2 tensor(1.3836) 38 days 47.64% correct guesses\n",
      "APTUSDT 0.2 tensor(1.1122) 39 days 52.99% correct guesses\n",
      "AVAXUSDT 0.2 tensor(0.9920) 38 days 48.93% correct guesses\n",
      "BANANAUSDT 0.2 tensor(0.9253) 8 days 45.28% correct guesses\n",
      "BATUSDT 0.2 tensor(1.2152) 38 days 52.79% correct guesses\n",
      "BLZUSDT 0.2 tensor(1.3527) 38 days 53.22% correct guesses\n",
      "BNBUSDT 0.2 tensor(0.7987) 38 days 45.49% correct guesses\n",
      "BRETTUSDT 0.2 tensor(0.5088) 38 days 49.36% correct guesses\n",
      "BSVUSDT 0.2 tensor(1.4496) 38 days 54.51% correct guesses\n",
      "BTCUSDT 0.2 tensor(0.9541) 38 days 50.64% correct guesses\n",
      "C98USDT 0.2 tensor(0.8584) 39 days 47.01% correct guesses\n",
      "CEEKUSDT 0.2 tensor(0.7025) 38 days 43.35% correct guesses\n",
      "DOGEUSDT 0.2 tensor(1.3875) 39 days 57.26% correct guesses\n",
      "ETHUSDT 0.2 tensor(1.1853) 38 days 48.50% correct guesses\n",
      "LINKUSDT 0.2 tensor(1.3970) 38 days 51.93% correct guesses\n",
      "MEMEUSDT 0.2 tensor(0.8125) 38 days 47.64% correct guesses\n",
      "MNTUSDT 0.2 tensor(0.9212) 38 days 50.21% correct guesses\n",
      "ONDOUSDT 0.2 tensor(1.2636) 39 days 50.00% correct guesses\n",
      "OPUSDT 0.2 tensor(2.0507) 38 days 57.94% correct guesses\n",
      "POPCATUSDT 0.2 tensor(0.3886) 38 days 49.79% correct guesses\n",
      "SOLUSDT 0.2 tensor(0.9472) 39 days 48.29% correct guesses\n",
      "SUIUSDT 0.2 tensor(1.1673) 38 days 50.21% correct guesses\n",
      "TONUSDT 0.2 tensor(1.1401) 39 days 50.43% correct guesses\n",
      "WIFUSDT 0.2 tensor(1.1072) 39 days 51.71% correct guesses\n",
      "XRPUSDT 0.2 tensor(0.6614) 39 days 47.01% correct guesses\n",
      "ZENUSDT 0.2 tensor(0.8236) 38 days 48.93% correct guesses\n",
      "ZETAUSDT 0.2 tensor(0.3132) 39 days 42.74% correct guesses\n"
     ]
    },
    {
     "name": "stderr",
     "output_type": "stream",
     "text": [
      "                                               \r"
     ]
    },
    {
     "name": "stdout",
     "output_type": "stream",
     "text": [
      "Epoch 26600 Loss: 1.851128945418168e-05\n"
     ]
    },
    {
     "name": "stderr",
     "output_type": "stream",
     "text": [
      "                                               \r"
     ]
    },
    {
     "name": "stdout",
     "output_type": "stream",
     "text": [
      "Epoch 26700 Loss: 2.0621815565391444e-05\n"
     ]
    },
    {
     "name": "stderr",
     "output_type": "stream",
     "text": [
      "                                               \r"
     ]
    },
    {
     "name": "stdout",
     "output_type": "stream",
     "text": [
      "Epoch 26800 Loss: 1.565850652696099e-05\n"
     ]
    },
    {
     "name": "stderr",
     "output_type": "stream",
     "text": [
      "                                               \r"
     ]
    },
    {
     "name": "stdout",
     "output_type": "stream",
     "text": [
      "Epoch 26900 Loss: 1.7000696971081197e-05\n"
     ]
    },
    {
     "name": "stderr",
     "output_type": "stream",
     "text": [
      "                                               \r"
     ]
    },
    {
     "name": "stdout",
     "output_type": "stream",
     "text": [
      "Epoch 27000 Loss: 1.7787766410037875e-05\n",
      "ADAUSDT 0.2 tensor(1.2383) 38 days 47.21% correct guesses\n",
      "APTUSDT 0.2 tensor(1.0092) 39 days 51.28% correct guesses\n",
      "AVAXUSDT 0.2 tensor(1.1149) 38 days 48.07% correct guesses\n",
      "BANANAUSDT 0.2 tensor(0.9369) 8 days 47.17% correct guesses\n",
      "BATUSDT 0.2 tensor(1.1600) 38 days 52.36% correct guesses\n",
      "BLZUSDT 0.2 tensor(1.6708) 38 days 53.22% correct guesses\n",
      "BNBUSDT 0.2 tensor(0.9043) 38 days 48.50% correct guesses\n",
      "BRETTUSDT 0.2 tensor(0.4065) 38 days 48.07% correct guesses\n",
      "BSVUSDT 0.2 tensor(1.1584) 38 days 52.79% correct guesses\n",
      "BTCUSDT 0.2 tensor(1.1491) 38 days 52.36% correct guesses\n",
      "C98USDT 0.2 tensor(0.8242) 39 days 45.73% correct guesses\n",
      "CEEKUSDT 0.2 tensor(0.7468) 38 days 45.06% correct guesses\n",
      "DOGEUSDT 0.2 tensor(1.3582) 39 days 56.84% correct guesses\n",
      "ETHUSDT 0.2 tensor(1.2074) 38 days 48.93% correct guesses\n",
      "LINKUSDT 0.2 tensor(1.6901) 38 days 54.51% correct guesses\n",
      "MEMEUSDT 0.2 tensor(0.9392) 38 days 49.79% correct guesses\n",
      "MNTUSDT 0.2 tensor(0.8510) 38 days 49.36% correct guesses\n",
      "ONDOUSDT 0.2 tensor(1.2090) 39 days 47.44% correct guesses\n",
      "OPUSDT 0.2 tensor(1.8810) 38 days 54.94% correct guesses\n",
      "POPCATUSDT 0.2 tensor(0.3641) 38 days 49.36% correct guesses\n",
      "SOLUSDT 0.2 tensor(0.6954) 39 days 47.01% correct guesses\n",
      "SUIUSDT 0.2 tensor(1.7319) 38 days 51.07% correct guesses\n",
      "TONUSDT 0.2 tensor(0.9316) 39 days 49.57% correct guesses\n",
      "WIFUSDT 0.2 tensor(1.0702) 39 days 52.14% correct guesses\n",
      "XRPUSDT 0.2 tensor(0.7787) 39 days 49.15% correct guesses\n",
      "ZENUSDT 0.2 tensor(0.9934) 38 days 49.79% correct guesses\n",
      "ZETAUSDT 0.2 tensor(0.3558) 39 days 42.74% correct guesses\n"
     ]
    },
    {
     "name": "stderr",
     "output_type": "stream",
     "text": [
      "                                               \r"
     ]
    },
    {
     "name": "stdout",
     "output_type": "stream",
     "text": [
      "Epoch 27100 Loss: 1.593163142388221e-05\n"
     ]
    },
    {
     "name": "stderr",
     "output_type": "stream",
     "text": [
      "                                               \r"
     ]
    },
    {
     "name": "stdout",
     "output_type": "stream",
     "text": [
      "Epoch 27200 Loss: 1.5200746929622255e-05\n"
     ]
    },
    {
     "name": "stderr",
     "output_type": "stream",
     "text": [
      "                                               \r"
     ]
    },
    {
     "name": "stdout",
     "output_type": "stream",
     "text": [
      "Epoch 27300 Loss: 1.7690243112156168e-05\n"
     ]
    },
    {
     "name": "stderr",
     "output_type": "stream",
     "text": [
      "                                               \r"
     ]
    },
    {
     "name": "stdout",
     "output_type": "stream",
     "text": [
      "Epoch 27400 Loss: 1.641244671191089e-05\n"
     ]
    },
    {
     "name": "stderr",
     "output_type": "stream",
     "text": [
      "                                               \r"
     ]
    },
    {
     "name": "stdout",
     "output_type": "stream",
     "text": [
      "Epoch 27500 Loss: 1.5088058717083186e-05\n",
      "ADAUSDT 0.2 tensor(1.2599) 38 days 46.78% correct guesses\n",
      "APTUSDT 0.2 tensor(1.3358) 39 days 52.56% correct guesses\n",
      "AVAXUSDT 0.2 tensor(1.1730) 38 days 50.64% correct guesses\n",
      "BANANAUSDT 0.2 tensor(1.0129) 8 days 47.17% correct guesses\n",
      "BATUSDT 0.2 tensor(1.2864) 38 days 53.22% correct guesses\n",
      "BLZUSDT 0.2 tensor(1.5777) 38 days 54.08% correct guesses\n",
      "BNBUSDT 0.2 tensor(0.8915) 38 days 48.07% correct guesses\n",
      "BRETTUSDT 0.2 tensor(0.5148) 38 days 48.93% correct guesses\n",
      "BSVUSDT 0.2 tensor(1.3805) 38 days 53.22% correct guesses\n",
      "BTCUSDT 0.2 tensor(0.9936) 38 days 50.64% correct guesses\n",
      "C98USDT 0.2 tensor(0.8619) 39 days 46.15% correct guesses\n",
      "CEEKUSDT 0.2 tensor(0.7462) 38 days 44.21% correct guesses\n",
      "DOGEUSDT 0.2 tensor(1.1634) 39 days 55.13% correct guesses\n",
      "ETHUSDT 0.2 tensor(1.1759) 38 days 48.50% correct guesses\n",
      "LINKUSDT 0.2 tensor(1.7289) 38 days 55.36% correct guesses\n",
      "MEMEUSDT 0.2 tensor(0.8367) 38 days 47.21% correct guesses\n",
      "MNTUSDT 0.2 tensor(1.1371) 38 days 51.07% correct guesses\n",
      "ONDOUSDT 0.2 tensor(1.2823) 39 days 47.86% correct guesses\n",
      "OPUSDT 0.2 tensor(1.5465) 38 days 54.51% correct guesses\n",
      "POPCATUSDT 0.2 tensor(0.4886) 38 days 51.50% correct guesses\n",
      "SOLUSDT 0.2 tensor(0.6500) 39 days 46.15% correct guesses\n",
      "SUIUSDT 0.2 tensor(1.2553) 38 days 52.36% correct guesses\n",
      "TONUSDT 0.2 tensor(0.9375) 39 days 49.15% correct guesses\n",
      "WIFUSDT 0.2 tensor(1.0668) 39 days 50.85% correct guesses\n",
      "XRPUSDT 0.2 tensor(1.0866) 39 days 49.15% correct guesses\n",
      "ZENUSDT 0.2 tensor(0.8683) 38 days 48.50% correct guesses\n",
      "ZETAUSDT 0.2 tensor(0.4041) 39 days 44.44% correct guesses\n"
     ]
    },
    {
     "name": "stderr",
     "output_type": "stream",
     "text": [
      "                                               \r"
     ]
    },
    {
     "name": "stdout",
     "output_type": "stream",
     "text": [
      "Epoch 27600 Loss: 1.9044298824155703e-05\n"
     ]
    },
    {
     "name": "stderr",
     "output_type": "stream",
     "text": [
      "                                               \r"
     ]
    },
    {
     "name": "stdout",
     "output_type": "stream",
     "text": [
      "Epoch 27700 Loss: 1.775931923475582e-05\n"
     ]
    },
    {
     "name": "stderr",
     "output_type": "stream",
     "text": [
      "                                               \r"
     ]
    },
    {
     "name": "stdout",
     "output_type": "stream",
     "text": [
      "Epoch 27800 Loss: 1.6001871699700132e-05\n"
     ]
    },
    {
     "name": "stderr",
     "output_type": "stream",
     "text": [
      "                                               \r"
     ]
    },
    {
     "name": "stdout",
     "output_type": "stream",
     "text": [
      "Epoch 27900 Loss: 1.5533651094301604e-05\n"
     ]
    },
    {
     "name": "stderr",
     "output_type": "stream",
     "text": [
      "                                               \r"
     ]
    },
    {
     "name": "stdout",
     "output_type": "stream",
     "text": [
      "Epoch 28000 Loss: 1.8398783140582964e-05\n",
      "ADAUSDT 0.2 tensor(1.3232) 38 days 47.64% correct guesses\n",
      "APTUSDT 0.2 tensor(1.0626) 39 days 52.56% correct guesses\n",
      "AVAXUSDT 0.2 tensor(1.0984) 38 days 48.93% correct guesses\n",
      "BANANAUSDT 0.2 tensor(1.0467) 8 days 47.17% correct guesses\n",
      "BATUSDT 0.2 tensor(1.3295) 38 days 54.51% correct guesses\n",
      "BLZUSDT 0.2 tensor(1.4374) 38 days 53.65% correct guesses\n",
      "BNBUSDT 0.2 tensor(0.9184) 38 days 48.50% correct guesses\n",
      "BRETTUSDT 0.2 tensor(0.5639) 38 days 50.64% correct guesses\n",
      "BSVUSDT 0.2 tensor(1.4364) 38 days 54.08% correct guesses\n",
      "BTCUSDT 0.2 tensor(1.1564) 38 days 51.93% correct guesses\n",
      "C98USDT 0.2 tensor(0.8815) 39 days 47.86% correct guesses\n",
      "CEEKUSDT 0.2 tensor(0.7330) 38 days 44.21% correct guesses\n",
      "DOGEUSDT 0.2 tensor(1.2466) 39 days 55.13% correct guesses\n",
      "ETHUSDT 0.2 tensor(1.0760) 38 days 46.35% correct guesses\n",
      "LINKUSDT 0.2 tensor(1.7706) 38 days 53.22% correct guesses\n",
      "MEMEUSDT 0.2 tensor(0.8360) 38 days 47.64% correct guesses\n",
      "MNTUSDT 0.2 tensor(0.9292) 38 days 50.21% correct guesses\n",
      "ONDOUSDT 0.2 tensor(1.3544) 39 days 49.57% correct guesses\n",
      "OPUSDT 0.2 tensor(1.9482) 38 days 57.08% correct guesses\n",
      "POPCATUSDT 0.2 tensor(0.4624) 38 days 51.07% correct guesses\n",
      "SOLUSDT 0.2 tensor(0.9196) 39 days 47.86% correct guesses\n",
      "SUIUSDT 0.2 tensor(1.5846) 38 days 51.50% correct guesses\n",
      "TONUSDT 0.2 tensor(1.1566) 39 days 51.71% correct guesses\n",
      "WIFUSDT 0.2 tensor(1.0408) 39 days 52.56% correct guesses\n",
      "XRPUSDT 0.2 tensor(1.1640) 39 days 49.57% correct guesses\n",
      "ZENUSDT 0.2 tensor(0.9193) 38 days 50.21% correct guesses\n",
      "ZETAUSDT 0.2 tensor(0.5145) 39 days 46.15% correct guesses\n"
     ]
    },
    {
     "name": "stderr",
     "output_type": "stream",
     "text": [
      "                                               \r"
     ]
    },
    {
     "name": "stdout",
     "output_type": "stream",
     "text": [
      "Epoch 28100 Loss: 1.595340836502146e-05\n"
     ]
    },
    {
     "name": "stderr",
     "output_type": "stream",
     "text": [
      "                                               \r"
     ]
    },
    {
     "name": "stdout",
     "output_type": "stream",
     "text": [
      "Epoch 28200 Loss: 1.7230129742529243e-05\n"
     ]
    },
    {
     "name": "stderr",
     "output_type": "stream",
     "text": [
      "                                               \r"
     ]
    },
    {
     "name": "stdout",
     "output_type": "stream",
     "text": [
      "Epoch 28300 Loss: 1.8679706045077182e-05\n"
     ]
    },
    {
     "name": "stderr",
     "output_type": "stream",
     "text": [
      "                                               \r"
     ]
    },
    {
     "name": "stdout",
     "output_type": "stream",
     "text": [
      "Epoch 28400 Loss: 1.6785312254796736e-05\n"
     ]
    },
    {
     "name": "stderr",
     "output_type": "stream",
     "text": [
      "                                               \r"
     ]
    },
    {
     "name": "stdout",
     "output_type": "stream",
     "text": [
      "Epoch 28500 Loss: 1.6741585568524897e-05\n",
      "ADAUSDT 0.2 tensor(1.2737) 38 days 47.64% correct guesses\n",
      "APTUSDT 0.2 tensor(1.0765) 39 days 52.99% correct guesses\n",
      "AVAXUSDT 0.2 tensor(1.0735) 38 days 48.93% correct guesses\n",
      "BANANAUSDT 0.2 tensor(0.9343) 8 days 47.17% correct guesses\n",
      "BATUSDT 0.2 tensor(1.3078) 38 days 53.65% correct guesses\n",
      "BLZUSDT 0.2 tensor(1.4605) 38 days 53.22% correct guesses\n",
      "BNBUSDT 0.2 tensor(0.9056) 38 days 48.07% correct guesses\n",
      "BRETTUSDT 0.2 tensor(0.5541) 38 days 49.79% correct guesses\n",
      "BSVUSDT 0.2 tensor(1.3532) 38 days 52.79% correct guesses\n",
      "BTCUSDT 0.2 tensor(1.1234) 38 days 53.22% correct guesses\n",
      "C98USDT 0.2 tensor(0.8423) 39 days 46.58% correct guesses\n",
      "CEEKUSDT 0.2 tensor(0.7358) 38 days 45.49% correct guesses\n",
      "DOGEUSDT 0.2 tensor(1.1565) 39 days 55.56% correct guesses\n",
      "ETHUSDT 0.2 tensor(1.1942) 38 days 48.07% correct guesses\n",
      "LINKUSDT 0.2 tensor(1.4829) 38 days 52.36% correct guesses\n",
      "MEMEUSDT 0.2 tensor(0.8659) 38 days 47.64% correct guesses\n",
      "MNTUSDT 0.2 tensor(1.1339) 38 days 50.21% correct guesses\n",
      "ONDOUSDT 0.2 tensor(1.1202) 39 days 47.86% correct guesses\n",
      "OPUSDT 0.2 tensor(1.6952) 38 days 55.79% correct guesses\n",
      "POPCATUSDT 0.2 tensor(0.3780) 38 days 49.79% correct guesses\n",
      "SOLUSDT 0.2 tensor(0.7983) 39 days 47.01% correct guesses\n",
      "SUIUSDT 0.2 tensor(1.2156) 38 days 51.07% correct guesses\n",
      "TONUSDT 0.2 tensor(0.9792) 39 days 50.43% correct guesses\n",
      "WIFUSDT 0.2 tensor(1.1364) 39 days 52.99% correct guesses\n",
      "XRPUSDT 0.2 tensor(0.9188) 39 days 48.72% correct guesses\n",
      "ZENUSDT 0.2 tensor(0.7243) 38 days 49.36% correct guesses\n",
      "ZETAUSDT 0.2 tensor(0.4531) 39 days 44.87% correct guesses\n"
     ]
    },
    {
     "name": "stderr",
     "output_type": "stream",
     "text": [
      "                                               \r"
     ]
    },
    {
     "name": "stdout",
     "output_type": "stream",
     "text": [
      "Epoch 28600 Loss: 1.818494638428092e-05\n"
     ]
    },
    {
     "name": "stderr",
     "output_type": "stream",
     "text": [
      "                                               \r"
     ]
    },
    {
     "name": "stdout",
     "output_type": "stream",
     "text": [
      "Epoch 28700 Loss: 1.8576049114926718e-05\n"
     ]
    },
    {
     "name": "stderr",
     "output_type": "stream",
     "text": [
      "                                               \r"
     ]
    },
    {
     "name": "stdout",
     "output_type": "stream",
     "text": [
      "Epoch 28800 Loss: 1.682138281466905e-05\n"
     ]
    },
    {
     "name": "stderr",
     "output_type": "stream",
     "text": [
      "                                               \r"
     ]
    },
    {
     "name": "stdout",
     "output_type": "stream",
     "text": [
      "Epoch 28900 Loss: 1.6592741303611547e-05\n"
     ]
    },
    {
     "name": "stderr",
     "output_type": "stream",
     "text": [
      "                                               \r"
     ]
    },
    {
     "name": "stdout",
     "output_type": "stream",
     "text": [
      "Epoch 29000 Loss: 1.5166610864980612e-05\n",
      "ADAUSDT 0.2 tensor(1.1581) 38 days 46.78% correct guesses\n",
      "APTUSDT 0.2 tensor(0.9661) 39 days 51.28% correct guesses\n",
      "AVAXUSDT 0.2 tensor(0.9861) 38 days 46.35% correct guesses\n",
      "BANANAUSDT 0.2 tensor(1.1053) 8 days 49.06% correct guesses\n",
      "BATUSDT 0.2 tensor(1.2982) 38 days 53.22% correct guesses\n",
      "BLZUSDT 0.2 tensor(1.2707) 38 days 51.93% correct guesses\n",
      "BNBUSDT 0.2 tensor(0.8420) 38 days 46.78% correct guesses\n",
      "BRETTUSDT 0.2 tensor(0.4968) 38 days 48.93% correct guesses\n",
      "BSVUSDT 0.2 tensor(1.4214) 38 days 54.08% correct guesses\n",
      "BTCUSDT 0.2 tensor(1.1743) 38 days 53.22% correct guesses\n",
      "C98USDT 0.2 tensor(0.8463) 39 days 46.15% correct guesses\n",
      "CEEKUSDT 0.2 tensor(0.7479) 38 days 45.92% correct guesses\n",
      "DOGEUSDT 0.2 tensor(1.1861) 39 days 55.13% correct guesses\n",
      "ETHUSDT 0.2 tensor(1.2070) 38 days 49.36% correct guesses\n",
      "LINKUSDT 0.2 tensor(1.7538) 38 days 53.65% correct guesses\n",
      "MEMEUSDT 0.2 tensor(0.8413) 38 days 48.50% correct guesses\n",
      "MNTUSDT 0.2 tensor(1.2622) 38 days 52.36% correct guesses\n",
      "ONDOUSDT 0.2 tensor(1.2360) 39 days 47.44% correct guesses\n",
      "OPUSDT 0.2 tensor(1.6126) 38 days 54.94% correct guesses\n",
      "POPCATUSDT 0.2 tensor(0.4536) 38 days 48.93% correct guesses\n",
      "SOLUSDT 0.2 tensor(0.6593) 39 days 47.01% correct guesses\n",
      "SUIUSDT 0.2 tensor(1.3309) 38 days 52.36% correct guesses\n",
      "TONUSDT 0.2 tensor(1.0313) 39 days 50.43% correct guesses\n",
      "WIFUSDT 0.2 tensor(1.1197) 39 days 52.56% correct guesses\n",
      "XRPUSDT 0.2 tensor(0.7493) 39 days 47.86% correct guesses\n",
      "ZENUSDT 0.2 tensor(0.8324) 38 days 48.93% correct guesses\n",
      "ZETAUSDT 0.2 tensor(0.3955) 39 days 43.59% correct guesses\n"
     ]
    },
    {
     "name": "stderr",
     "output_type": "stream",
     "text": [
      "                                               \r"
     ]
    },
    {
     "name": "stdout",
     "output_type": "stream",
     "text": [
      "Epoch 29100 Loss: 1.807110857043881e-05\n"
     ]
    },
    {
     "name": "stderr",
     "output_type": "stream",
     "text": [
      "                                               \r"
     ]
    },
    {
     "name": "stdout",
     "output_type": "stream",
     "text": [
      "Epoch 29200 Loss: 1.627146230021026e-05\n"
     ]
    },
    {
     "name": "stderr",
     "output_type": "stream",
     "text": [
      "                                               \r"
     ]
    },
    {
     "name": "stdout",
     "output_type": "stream",
     "text": [
      "Epoch 29300 Loss: 1.6730346033000387e-05\n"
     ]
    },
    {
     "name": "stderr",
     "output_type": "stream",
     "text": [
      "                                               \r"
     ]
    },
    {
     "name": "stdout",
     "output_type": "stream",
     "text": [
      "Epoch 29400 Loss: 1.521428202977404e-05\n"
     ]
    },
    {
     "name": "stderr",
     "output_type": "stream",
     "text": [
      "                                               \r"
     ]
    },
    {
     "name": "stdout",
     "output_type": "stream",
     "text": [
      "Epoch 29500 Loss: 1.5026895198388956e-05\n",
      "ADAUSDT 0.2 tensor(1.2494) 38 days 46.78% correct guesses\n",
      "APTUSDT 0.2 tensor(1.1556) 39 days 52.56% correct guesses\n",
      "AVAXUSDT 0.2 tensor(1.0224) 38 days 48.93% correct guesses\n",
      "BANANAUSDT 0.2 tensor(1.1190) 8 days 50.94% correct guesses\n",
      "BATUSDT 0.2 tensor(1.3020) 38 days 54.08% correct guesses\n",
      "BLZUSDT 0.2 tensor(1.3245) 38 days 52.79% correct guesses\n",
      "BNBUSDT 0.2 tensor(0.8611) 38 days 47.64% correct guesses\n",
      "BRETTUSDT 0.2 tensor(0.4969) 38 days 49.36% correct guesses\n",
      "BSVUSDT 0.2 tensor(1.2704) 38 days 52.36% correct guesses\n",
      "BTCUSDT 0.2 tensor(1.1221) 38 days 51.50% correct guesses\n",
      "C98USDT 0.2 tensor(0.8839) 39 days 47.86% correct guesses\n",
      "CEEKUSDT 0.2 tensor(0.6715) 38 days 44.64% correct guesses\n",
      "DOGEUSDT 0.2 tensor(1.1851) 39 days 56.41% correct guesses\n",
      "ETHUSDT 0.2 tensor(1.0991) 38 days 48.07% correct guesses\n",
      "LINKUSDT 0.2 tensor(1.6645) 38 days 52.79% correct guesses\n",
      "MEMEUSDT 0.2 tensor(0.7727) 38 days 48.07% correct guesses\n",
      "MNTUSDT 0.2 tensor(1.0472) 38 days 50.21% correct guesses\n",
      "ONDOUSDT 0.2 tensor(1.2528) 39 days 48.72% correct guesses\n",
      "OPUSDT 0.2 tensor(1.7597) 38 days 55.79% correct guesses\n",
      "POPCATUSDT 0.2 tensor(0.3943) 38 days 49.79% correct guesses\n",
      "SOLUSDT 0.2 tensor(0.7849) 39 days 47.44% correct guesses\n",
      "SUIUSDT 0.2 tensor(1.4241) 38 days 49.79% correct guesses\n",
      "TONUSDT 0.2 tensor(0.9967) 39 days 48.72% correct guesses\n",
      "WIFUSDT 0.2 tensor(1.4090) 39 days 52.99% correct guesses\n",
      "XRPUSDT 0.2 tensor(0.8667) 39 days 49.57% correct guesses\n",
      "ZENUSDT 0.2 tensor(0.8437) 38 days 49.79% correct guesses\n",
      "ZETAUSDT 0.2 tensor(0.3566) 39 days 43.16% correct guesses\n"
     ]
    },
    {
     "name": "stderr",
     "output_type": "stream",
     "text": [
      "                                               \r"
     ]
    },
    {
     "name": "stdout",
     "output_type": "stream",
     "text": [
      "Epoch 29600 Loss: 1.669658195169177e-05\n"
     ]
    },
    {
     "name": "stderr",
     "output_type": "stream",
     "text": [
      "                                               \r"
     ]
    },
    {
     "name": "stdout",
     "output_type": "stream",
     "text": [
      "Epoch 29700 Loss: 1.6943133232416585e-05\n"
     ]
    },
    {
     "name": "stderr",
     "output_type": "stream",
     "text": [
      "                                               \r"
     ]
    },
    {
     "name": "stdout",
     "output_type": "stream",
     "text": [
      "Epoch 29800 Loss: 1.569644155097194e-05\n"
     ]
    },
    {
     "name": "stderr",
     "output_type": "stream",
     "text": [
      "                                               \r"
     ]
    },
    {
     "name": "stdout",
     "output_type": "stream",
     "text": [
      "Epoch 29900 Loss: 1.9908846297767013e-05\n"
     ]
    },
    {
     "name": "stderr",
     "output_type": "stream",
     "text": [
      "                                               \r"
     ]
    },
    {
     "name": "stdout",
     "output_type": "stream",
     "text": [
      "Epoch 30000 Loss: 1.86687884706771e-05\n",
      "ADAUSDT 0.2 tensor(1.2689) 38 days 45.92% correct guesses\n",
      "APTUSDT 0.2 tensor(1.1422) 39 days 54.27% correct guesses\n",
      "AVAXUSDT 0.2 tensor(1.0531) 38 days 48.50% correct guesses\n",
      "BANANAUSDT 0.2 tensor(1.1048) 8 days 49.06% correct guesses\n",
      "BATUSDT 0.2 tensor(1.2664) 38 days 54.51% correct guesses\n",
      "BLZUSDT 0.2 tensor(1.2678) 38 days 52.36% correct guesses\n",
      "BNBUSDT 0.2 tensor(0.8843) 38 days 48.07% correct guesses\n",
      "BRETTUSDT 0.2 tensor(0.4467) 38 days 48.50% correct guesses\n",
      "BSVUSDT 0.2 tensor(1.3664) 38 days 51.93% correct guesses\n",
      "BTCUSDT 0.2 tensor(1.1261) 38 days 52.36% correct guesses\n",
      "C98USDT 0.2 tensor(0.7700) 39 days 45.30% correct guesses\n",
      "CEEKUSDT 0.2 tensor(0.8525) 38 days 44.21% correct guesses\n",
      "DOGEUSDT 0.2 tensor(1.1899) 39 days 55.98% correct guesses\n",
      "ETHUSDT 0.2 tensor(1.0872) 38 days 47.64% correct guesses\n",
      "LINKUSDT 0.2 tensor(1.6838) 38 days 53.22% correct guesses\n",
      "MEMEUSDT 0.2 tensor(0.9300) 38 days 49.79% correct guesses\n",
      "MNTUSDT 0.2 tensor(1.2281) 38 days 52.79% correct guesses\n",
      "ONDOUSDT 0.2 tensor(1.0902) 39 days 47.86% correct guesses\n",
      "OPUSDT 0.2 tensor(1.5568) 38 days 52.36% correct guesses\n",
      "POPCATUSDT 0.2 tensor(0.6076) 38 days 51.07% correct guesses\n",
      "SOLUSDT 0.2 tensor(0.7485) 39 days 46.15% correct guesses\n",
      "SUIUSDT 0.2 tensor(1.7407) 38 days 51.93% correct guesses\n",
      "TONUSDT 0.2 tensor(1.0872) 39 days 52.14% correct guesses\n",
      "WIFUSDT 0.2 tensor(1.4078) 39 days 52.14% correct guesses\n",
      "XRPUSDT 0.2 tensor(1.0083) 39 days 50.00% correct guesses\n",
      "ZENUSDT 0.2 tensor(0.7172) 38 days 48.07% correct guesses\n",
      "ZETAUSDT 0.2 tensor(0.3632) 39 days 42.74% correct guesses\n"
     ]
    },
    {
     "name": "stderr",
     "output_type": "stream",
     "text": [
      "                                               \r"
     ]
    },
    {
     "name": "stdout",
     "output_type": "stream",
     "text": [
      "Epoch 30100 Loss: 1.660084308241494e-05\n"
     ]
    },
    {
     "name": "stderr",
     "output_type": "stream",
     "text": [
      "                                               \r"
     ]
    },
    {
     "name": "stdout",
     "output_type": "stream",
     "text": [
      "Epoch 30200 Loss: 1.8960439774673432e-05\n"
     ]
    },
    {
     "name": "stderr",
     "output_type": "stream",
     "text": [
      "                                               \r"
     ]
    },
    {
     "name": "stdout",
     "output_type": "stream",
     "text": [
      "Epoch 30300 Loss: 1.6549382053199224e-05\n"
     ]
    },
    {
     "name": "stderr",
     "output_type": "stream",
     "text": [
      "                                               \r"
     ]
    },
    {
     "name": "stdout",
     "output_type": "stream",
     "text": [
      "Epoch 30400 Loss: 1.7984066289500333e-05\n"
     ]
    },
    {
     "name": "stderr",
     "output_type": "stream",
     "text": [
      "                                               \r"
     ]
    },
    {
     "name": "stdout",
     "output_type": "stream",
     "text": [
      "Epoch 30500 Loss: 1.8115562852472067e-05\n",
      "ADAUSDT 0.2 tensor(1.1711) 38 days 45.49% correct guesses\n",
      "APTUSDT 0.2 tensor(1.0173) 39 days 52.14% correct guesses\n",
      "AVAXUSDT 0.2 tensor(1.1561) 38 days 50.64% correct guesses\n",
      "BANANAUSDT 0.2 tensor(1.2677) 8 days 52.83% correct guesses\n",
      "BATUSDT 0.2 tensor(1.3378) 38 days 53.65% correct guesses\n",
      "BLZUSDT 0.2 tensor(1.2601) 38 days 52.36% correct guesses\n",
      "BNBUSDT 0.2 tensor(0.7897) 38 days 46.78% correct guesses\n",
      "BRETTUSDT 0.2 tensor(0.3504) 38 days 48.07% correct guesses\n",
      "BSVUSDT 0.2 tensor(1.4268) 38 days 53.22% correct guesses\n",
      "BTCUSDT 0.2 tensor(1.0320) 38 days 50.64% correct guesses\n",
      "C98USDT 0.2 tensor(0.8019) 39 days 45.30% correct guesses\n",
      "CEEKUSDT 0.2 tensor(0.7357) 38 days 45.49% correct guesses\n",
      "DOGEUSDT 0.2 tensor(1.1557) 39 days 55.56% correct guesses\n",
      "ETHUSDT 0.2 tensor(1.0144) 38 days 46.78% correct guesses\n",
      "LINKUSDT 0.2 tensor(1.7697) 38 days 53.65% correct guesses\n",
      "MEMEUSDT 0.2 tensor(0.8180) 38 days 48.50% correct guesses\n",
      "MNTUSDT 0.2 tensor(1.0943) 38 days 49.36% correct guesses\n",
      "ONDOUSDT 0.2 tensor(1.1361) 39 days 48.29% correct guesses\n",
      "OPUSDT 0.2 tensor(1.5366) 38 days 52.36% correct guesses\n",
      "POPCATUSDT 0.2 tensor(0.2374) 38 days 49.79% correct guesses\n",
      "SOLUSDT 0.2 tensor(0.7603) 39 days 48.29% correct guesses\n",
      "SUIUSDT 0.2 tensor(1.4146) 38 days 51.50% correct guesses\n",
      "TONUSDT 0.2 tensor(1.1072) 39 days 50.85% correct guesses\n",
      "WIFUSDT 0.2 tensor(1.5641) 39 days 54.27% correct guesses\n",
      "XRPUSDT 0.2 tensor(0.9455) 39 days 49.57% correct guesses\n",
      "ZENUSDT 0.2 tensor(0.6172) 38 days 46.78% correct guesses\n",
      "ZETAUSDT 0.2 tensor(0.3635) 39 days 43.16% correct guesses\n"
     ]
    },
    {
     "name": "stderr",
     "output_type": "stream",
     "text": [
      "                                               \r"
     ]
    },
    {
     "name": "stdout",
     "output_type": "stream",
     "text": [
      "Epoch 30600 Loss: 1.6971043805824593e-05\n"
     ]
    },
    {
     "name": "stderr",
     "output_type": "stream",
     "text": [
      "                                               \r"
     ]
    },
    {
     "name": "stdout",
     "output_type": "stream",
     "text": [
      "Epoch 30700 Loss: 2.0714865968329832e-05\n"
     ]
    },
    {
     "name": "stderr",
     "output_type": "stream",
     "text": [
      "                                               \r"
     ]
    },
    {
     "name": "stdout",
     "output_type": "stream",
     "text": [
      "Epoch 30800 Loss: 1.984458685910795e-05\n"
     ]
    },
    {
     "name": "stderr",
     "output_type": "stream",
     "text": [
      "                                               \r"
     ]
    },
    {
     "name": "stdout",
     "output_type": "stream",
     "text": [
      "Epoch 30900 Loss: 1.4890248166921083e-05\n"
     ]
    },
    {
     "name": "stderr",
     "output_type": "stream",
     "text": [
      "                                               \r"
     ]
    },
    {
     "name": "stdout",
     "output_type": "stream",
     "text": [
      "Epoch 31000 Loss: 1.720445288810879e-05\n",
      "ADAUSDT 0.2 tensor(1.2540) 38 days 46.78% correct guesses\n",
      "APTUSDT 0.2 tensor(1.1376) 39 days 52.56% correct guesses\n",
      "AVAXUSDT 0.2 tensor(1.0045) 38 days 46.78% correct guesses\n",
      "BANANAUSDT 0.2 tensor(1.1432) 8 days 52.83% correct guesses\n",
      "BATUSDT 0.2 tensor(1.4524) 38 days 55.79% correct guesses\n",
      "BLZUSDT 0.2 tensor(1.4210) 38 days 53.65% correct guesses\n",
      "BNBUSDT 0.2 tensor(0.8500) 38 days 47.64% correct guesses\n",
      "BRETTUSDT 0.2 tensor(0.4934) 38 days 49.36% correct guesses\n",
      "BSVUSDT 0.2 tensor(1.4852) 38 days 53.22% correct guesses\n",
      "BTCUSDT 0.2 tensor(1.1528) 38 days 51.93% correct guesses\n",
      "C98USDT 0.2 tensor(0.7966) 39 days 44.87% correct guesses\n",
      "CEEKUSDT 0.2 tensor(0.6991) 38 days 43.78% correct guesses\n",
      "DOGEUSDT 0.2 tensor(1.1911) 39 days 56.84% correct guesses\n",
      "ETHUSDT 0.2 tensor(1.0622) 38 days 45.49% correct guesses\n",
      "LINKUSDT 0.2 tensor(1.6605) 38 days 53.65% correct guesses\n",
      "MEMEUSDT 0.2 tensor(0.8256) 38 days 48.93% correct guesses\n",
      "MNTUSDT 0.2 tensor(0.9806) 38 days 48.07% correct guesses\n",
      "ONDOUSDT 0.2 tensor(1.1873) 39 days 48.72% correct guesses\n",
      "OPUSDT 0.2 tensor(1.4757) 38 days 53.22% correct guesses\n",
      "POPCATUSDT 0.2 tensor(0.5256) 38 days 50.64% correct guesses\n",
      "SOLUSDT 0.2 tensor(0.7058) 39 days 48.72% correct guesses\n",
      "SUIUSDT 0.2 tensor(1.6118) 38 days 51.93% correct guesses\n",
      "TONUSDT 0.2 tensor(1.0091) 39 days 50.85% correct guesses\n",
      "WIFUSDT 0.2 tensor(1.1981) 39 days 52.14% correct guesses\n",
      "XRPUSDT 0.2 tensor(1.0164) 39 days 50.00% correct guesses\n",
      "ZENUSDT 0.2 tensor(0.8543) 38 days 49.36% correct guesses\n",
      "ZETAUSDT 0.2 tensor(0.4518) 39 days 44.02% correct guesses\n"
     ]
    },
    {
     "name": "stderr",
     "output_type": "stream",
     "text": [
      "                                               \r"
     ]
    },
    {
     "name": "stdout",
     "output_type": "stream",
     "text": [
      "Epoch 31100 Loss: 1.3542403394239955e-05\n"
     ]
    },
    {
     "name": "stderr",
     "output_type": "stream",
     "text": [
      "                                               \r"
     ]
    },
    {
     "name": "stdout",
     "output_type": "stream",
     "text": [
      "Epoch 31200 Loss: 1.7037098587024957e-05\n"
     ]
    },
    {
     "name": "stderr",
     "output_type": "stream",
     "text": [
      "                                               \r"
     ]
    },
    {
     "name": "stdout",
     "output_type": "stream",
     "text": [
      "Epoch 31300 Loss: 1.921524017234333e-05\n"
     ]
    },
    {
     "name": "stderr",
     "output_type": "stream",
     "text": [
      "                                               \r"
     ]
    },
    {
     "name": "stdout",
     "output_type": "stream",
     "text": [
      "Epoch 31400 Loss: 1.5193280887615401e-05\n"
     ]
    },
    {
     "name": "stderr",
     "output_type": "stream",
     "text": [
      "                                               \r"
     ]
    },
    {
     "name": "stdout",
     "output_type": "stream",
     "text": [
      "Epoch 31500 Loss: 1.3305567335919477e-05\n",
      "ADAUSDT 0.2 tensor(1.1405) 38 days 45.92% correct guesses\n",
      "APTUSDT 0.2 tensor(1.3380) 39 days 52.99% correct guesses\n",
      "AVAXUSDT 0.2 tensor(1.0003) 38 days 47.64% correct guesses\n",
      "BANANAUSDT 0.2 tensor(1.1724) 8 days 52.83% correct guesses\n",
      "BATUSDT 0.2 tensor(1.3986) 38 days 55.36% correct guesses\n",
      "BLZUSDT 0.2 tensor(1.2243) 38 days 52.36% correct guesses\n",
      "BNBUSDT 0.2 tensor(0.8272) 38 days 45.92% correct guesses\n",
      "BRETTUSDT 0.2 tensor(0.3852) 38 days 46.78% correct guesses\n",
      "BSVUSDT 0.2 tensor(1.4000) 38 days 52.36% correct guesses\n",
      "BTCUSDT 0.2 tensor(1.1676) 38 days 52.36% correct guesses\n",
      "C98USDT 0.2 tensor(0.8512) 39 days 47.01% correct guesses\n",
      "CEEKUSDT 0.2 tensor(0.7961) 38 days 43.78% correct guesses\n",
      "DOGEUSDT 0.2 tensor(1.1353) 39 days 55.56% correct guesses\n",
      "ETHUSDT 0.2 tensor(1.0516) 38 days 46.78% correct guesses\n",
      "LINKUSDT 0.2 tensor(1.8428) 38 days 54.51% correct guesses\n",
      "MEMEUSDT 0.2 tensor(0.8446) 38 days 47.21% correct guesses\n",
      "MNTUSDT 0.2 tensor(1.0880) 38 days 51.50% correct guesses\n",
      "ONDOUSDT 0.2 tensor(1.1365) 39 days 48.72% correct guesses\n",
      "OPUSDT 0.2 tensor(1.4618) 38 days 51.50% correct guesses\n",
      "POPCATUSDT 0.2 tensor(0.3381) 38 days 49.79% correct guesses\n",
      "SOLUSDT 0.2 tensor(0.7960) 39 days 48.29% correct guesses\n",
      "SUIUSDT 0.2 tensor(1.4314) 38 days 51.07% correct guesses\n",
      "TONUSDT 0.2 tensor(0.9637) 39 days 48.72% correct guesses\n",
      "WIFUSDT 0.2 tensor(1.9811) 39 days 54.27% correct guesses\n",
      "XRPUSDT 0.2 tensor(0.9395) 39 days 49.15% correct guesses\n",
      "ZENUSDT 0.2 tensor(0.7047) 38 days 48.50% correct guesses\n",
      "ZETAUSDT 0.2 tensor(0.3869) 39 days 44.44% correct guesses\n"
     ]
    },
    {
     "name": "stderr",
     "output_type": "stream",
     "text": [
      "                                               \r"
     ]
    },
    {
     "name": "stdout",
     "output_type": "stream",
     "text": [
      "Epoch 31600 Loss: 1.710921605990734e-05\n"
     ]
    },
    {
     "name": "stderr",
     "output_type": "stream",
     "text": [
      "                                               \r"
     ]
    },
    {
     "name": "stdout",
     "output_type": "stream",
     "text": [
      "Epoch 31700 Loss: 1.6193331248359755e-05\n"
     ]
    },
    {
     "name": "stderr",
     "output_type": "stream",
     "text": [
      "                                               \r"
     ]
    },
    {
     "name": "stdout",
     "output_type": "stream",
     "text": [
      "Epoch 31800 Loss: 1.6564006728003733e-05\n"
     ]
    },
    {
     "name": "stderr",
     "output_type": "stream",
     "text": [
      "                                               \r"
     ]
    },
    {
     "name": "stdout",
     "output_type": "stream",
     "text": [
      "Epoch 31900 Loss: 1.530668669147417e-05\n"
     ]
    },
    {
     "name": "stderr",
     "output_type": "stream",
     "text": [
      "                                               \r"
     ]
    },
    {
     "name": "stdout",
     "output_type": "stream",
     "text": [
      "Epoch 32000 Loss: 1.5689145584474318e-05\n",
      "ADAUSDT 0.2 tensor(1.2833) 38 days 47.64% correct guesses\n",
      "APTUSDT 0.2 tensor(1.1083) 39 days 50.00% correct guesses\n",
      "AVAXUSDT 0.2 tensor(1.1583) 38 days 49.79% correct guesses\n",
      "BANANAUSDT 0.2 tensor(1.0625) 8 days 49.06% correct guesses\n",
      "BATUSDT 0.2 tensor(1.3597) 38 days 54.08% correct guesses\n",
      "BLZUSDT 0.2 tensor(1.3993) 38 days 53.65% correct guesses\n",
      "BNBUSDT 0.2 tensor(0.8336) 38 days 46.78% correct guesses\n",
      "BRETTUSDT 0.2 tensor(0.3155) 38 days 46.35% correct guesses\n",
      "BSVUSDT 0.2 tensor(1.4279) 38 days 52.79% correct guesses\n",
      "BTCUSDT 0.2 tensor(1.0714) 38 days 50.21% correct guesses\n",
      "C98USDT 0.2 tensor(0.8047) 39 days 45.73% correct guesses\n",
      "CEEKUSDT 0.2 tensor(0.6830) 38 days 42.49% correct guesses\n",
      "DOGEUSDT 0.2 tensor(1.1880) 39 days 56.41% correct guesses\n",
      "ETHUSDT 0.2 tensor(1.0292) 38 days 45.06% correct guesses\n",
      "LINKUSDT 0.2 tensor(1.7434) 38 days 54.08% correct guesses\n",
      "MEMEUSDT 0.2 tensor(0.8573) 38 days 48.50% correct guesses\n",
      "MNTUSDT 0.2 tensor(1.1096) 38 days 50.21% correct guesses\n",
      "ONDOUSDT 0.2 tensor(1.1872) 39 days 48.29% correct guesses\n",
      "OPUSDT 0.2 tensor(1.4024) 38 days 51.50% correct guesses\n",
      "POPCATUSDT 0.2 tensor(0.2882) 38 days 50.64% correct guesses\n",
      "SOLUSDT 0.2 tensor(0.7519) 39 days 49.15% correct guesses\n",
      "SUIUSDT 0.2 tensor(1.2744) 38 days 52.36% correct guesses\n",
      "TONUSDT 0.2 tensor(1.0790) 39 days 50.85% correct guesses\n",
      "WIFUSDT 0.2 tensor(1.3773) 39 days 52.56% correct guesses\n",
      "XRPUSDT 0.2 tensor(1.0503) 39 days 51.28% correct guesses\n",
      "ZENUSDT 0.2 tensor(1.0083) 38 days 49.36% correct guesses\n",
      "ZETAUSDT 0.2 tensor(0.4457) 39 days 43.16% correct guesses\n"
     ]
    },
    {
     "name": "stderr",
     "output_type": "stream",
     "text": [
      "                                               \r"
     ]
    },
    {
     "name": "stdout",
     "output_type": "stream",
     "text": [
      "Epoch 32100 Loss: 1.5682684534112923e-05\n"
     ]
    },
    {
     "name": "stderr",
     "output_type": "stream",
     "text": [
      "                                               \r"
     ]
    },
    {
     "name": "stdout",
     "output_type": "stream",
     "text": [
      "Epoch 32200 Loss: 1.8983746485901065e-05\n"
     ]
    },
    {
     "name": "stderr",
     "output_type": "stream",
     "text": [
      "                                               \r"
     ]
    },
    {
     "name": "stdout",
     "output_type": "stream",
     "text": [
      "Epoch 32300 Loss: 1.6042034985730425e-05\n"
     ]
    },
    {
     "name": "stderr",
     "output_type": "stream",
     "text": [
      "                                               \r"
     ]
    },
    {
     "name": "stdout",
     "output_type": "stream",
     "text": [
      "Epoch 32400 Loss: 1.7351167116430588e-05\n"
     ]
    },
    {
     "name": "stderr",
     "output_type": "stream",
     "text": [
      "                                               \r"
     ]
    },
    {
     "name": "stdout",
     "output_type": "stream",
     "text": [
      "Epoch 32500 Loss: 1.5149606952036265e-05\n",
      "ADAUSDT 0.2 tensor(1.2937) 38 days 48.50% correct guesses\n",
      "APTUSDT 0.2 tensor(0.9570) 39 days 51.71% correct guesses\n",
      "AVAXUSDT 0.2 tensor(0.9768) 38 days 47.64% correct guesses\n",
      "BANANAUSDT 0.2 tensor(1.2937) 8 days 52.83% correct guesses\n",
      "BATUSDT 0.2 tensor(1.2354) 38 days 53.22% correct guesses\n",
      "BLZUSDT 0.2 tensor(1.4280) 38 days 53.65% correct guesses\n",
      "BNBUSDT 0.2 tensor(0.8471) 38 days 46.35% correct guesses\n",
      "BRETTUSDT 0.2 tensor(0.3315) 38 days 47.21% correct guesses\n",
      "BSVUSDT 0.2 tensor(1.4215) 38 days 52.79% correct guesses\n",
      "BTCUSDT 0.2 tensor(1.1753) 38 days 50.64% correct guesses\n",
      "C98USDT 0.2 tensor(0.7815) 39 days 45.73% correct guesses\n",
      "CEEKUSDT 0.2 tensor(0.7782) 38 days 41.63% correct guesses\n",
      "DOGEUSDT 0.2 tensor(1.2608) 39 days 58.55% correct guesses\n",
      "ETHUSDT 0.2 tensor(1.0987) 38 days 45.92% correct guesses\n",
      "LINKUSDT 0.2 tensor(1.5534) 38 days 53.22% correct guesses\n",
      "MEMEUSDT 0.2 tensor(0.9360) 38 days 50.21% correct guesses\n",
      "MNTUSDT 0.2 tensor(1.1118) 38 days 51.07% correct guesses\n",
      "ONDOUSDT 0.2 tensor(1.1450) 39 days 47.01% correct guesses\n",
      "OPUSDT 0.2 tensor(1.3821) 38 days 50.64% correct guesses\n",
      "POPCATUSDT 0.2 tensor(0.3139) 38 days 50.21% correct guesses\n",
      "SOLUSDT 0.2 tensor(0.6330) 39 days 46.58% correct guesses\n",
      "SUIUSDT 0.2 tensor(0.9706) 38 days 51.07% correct guesses\n",
      "TONUSDT 0.2 tensor(1.0891) 39 days 50.85% correct guesses\n",
      "WIFUSDT 0.2 tensor(1.6027) 39 days 52.56% correct guesses\n",
      "XRPUSDT 0.2 tensor(0.9456) 39 days 49.57% correct guesses\n",
      "ZENUSDT 0.2 tensor(0.7847) 38 days 47.64% correct guesses\n",
      "ZETAUSDT 0.2 tensor(0.5854) 39 days 45.73% correct guesses\n"
     ]
    },
    {
     "name": "stderr",
     "output_type": "stream",
     "text": [
      "                                               \r"
     ]
    },
    {
     "name": "stdout",
     "output_type": "stream",
     "text": [
      "Epoch 32600 Loss: 1.6799695004010573e-05\n"
     ]
    },
    {
     "name": "stderr",
     "output_type": "stream",
     "text": [
      "                                               \r"
     ]
    },
    {
     "name": "stdout",
     "output_type": "stream",
     "text": [
      "Epoch 32700 Loss: 1.6343097740900703e-05\n"
     ]
    },
    {
     "name": "stderr",
     "output_type": "stream",
     "text": [
      "                                               \r"
     ]
    },
    {
     "name": "stdout",
     "output_type": "stream",
     "text": [
      "Epoch 32800 Loss: 1.7342135834041983e-05\n"
     ]
    },
    {
     "name": "stderr",
     "output_type": "stream",
     "text": [
      "                                               \r"
     ]
    },
    {
     "name": "stdout",
     "output_type": "stream",
     "text": [
      "Epoch 32900 Loss: 1.514728592155734e-05\n"
     ]
    },
    {
     "name": "stderr",
     "output_type": "stream",
     "text": [
      "                                               \r"
     ]
    },
    {
     "name": "stdout",
     "output_type": "stream",
     "text": [
      "Epoch 33000 Loss: 1.4890556485624984e-05\n",
      "ADAUSDT 0.2 tensor(1.2592) 38 days 46.35% correct guesses\n",
      "APTUSDT 0.2 tensor(1.1863) 39 days 54.27% correct guesses\n",
      "AVAXUSDT 0.2 tensor(0.9576) 38 days 47.21% correct guesses\n",
      "BANANAUSDT 0.2 tensor(1.0990) 8 days 50.94% correct guesses\n",
      "BATUSDT 0.2 tensor(1.3763) 38 days 54.51% correct guesses\n",
      "BLZUSDT 0.2 tensor(1.7822) 38 days 55.79% correct guesses\n",
      "BNBUSDT 0.2 tensor(0.9342) 38 days 47.21% correct guesses\n",
      "BRETTUSDT 0.2 tensor(0.3695) 38 days 48.07% correct guesses\n",
      "BSVUSDT 0.2 tensor(1.3509) 38 days 51.07% correct guesses\n",
      "BTCUSDT 0.2 tensor(1.0918) 38 days 50.21% correct guesses\n",
      "C98USDT 0.2 tensor(0.7965) 39 days 45.73% correct guesses\n",
      "CEEKUSDT 0.2 tensor(0.6666) 38 days 41.20% correct guesses\n",
      "DOGEUSDT 0.2 tensor(1.1825) 39 days 56.84% correct guesses\n",
      "ETHUSDT 0.2 tensor(1.0425) 38 days 45.92% correct guesses\n",
      "LINKUSDT 0.2 tensor(1.6935) 38 days 53.65% correct guesses\n",
      "MEMEUSDT 0.2 tensor(0.7734) 38 days 48.93% correct guesses\n",
      "MNTUSDT 0.2 tensor(1.1879) 38 days 51.93% correct guesses\n",
      "ONDOUSDT 0.2 tensor(1.1244) 39 days 47.44% correct guesses\n",
      "OPUSDT 0.2 tensor(1.5251) 38 days 52.79% correct guesses\n",
      "POPCATUSDT 0.2 tensor(0.2270) 38 days 50.21% correct guesses\n",
      "SOLUSDT 0.2 tensor(0.6868) 39 days 47.44% correct guesses\n",
      "SUIUSDT 0.2 tensor(1.3528) 38 days 51.07% correct guesses\n",
      "TONUSDT 0.2 tensor(1.3767) 39 days 51.28% correct guesses\n",
      "WIFUSDT 0.2 tensor(1.3605) 39 days 52.14% correct guesses\n",
      "XRPUSDT 0.2 tensor(1.2139) 39 days 50.85% correct guesses\n",
      "ZENUSDT 0.2 tensor(0.6738) 38 days 49.36% correct guesses\n",
      "ZETAUSDT 0.2 tensor(0.4873) 39 days 45.30% correct guesses\n"
     ]
    },
    {
     "name": "stderr",
     "output_type": "stream",
     "text": [
      "                                               \r"
     ]
    },
    {
     "name": "stdout",
     "output_type": "stream",
     "text": [
      "Epoch 33100 Loss: 1.7356034732074477e-05\n"
     ]
    },
    {
     "name": "stderr",
     "output_type": "stream",
     "text": [
      "                                               \r"
     ]
    },
    {
     "name": "stdout",
     "output_type": "stream",
     "text": [
      "Epoch 33200 Loss: 1.699555832601618e-05\n"
     ]
    },
    {
     "name": "stderr",
     "output_type": "stream",
     "text": [
      "                                               \r"
     ]
    },
    {
     "name": "stdout",
     "output_type": "stream",
     "text": [
      "Epoch 33300 Loss: 1.6232006601057947e-05\n"
     ]
    },
    {
     "name": "stderr",
     "output_type": "stream",
     "text": [
      "                                               \r"
     ]
    },
    {
     "name": "stdout",
     "output_type": "stream",
     "text": [
      "Epoch 33400 Loss: 1.6715403035050258e-05\n"
     ]
    },
    {
     "name": "stderr",
     "output_type": "stream",
     "text": [
      "                                               \r"
     ]
    },
    {
     "name": "stdout",
     "output_type": "stream",
     "text": [
      "Epoch 33500 Loss: 1.7278172890655696e-05\n",
      "ADAUSDT 0.2 tensor(0.9826) 38 days 44.64% correct guesses\n",
      "APTUSDT 0.2 tensor(1.0393) 39 days 51.71% correct guesses\n",
      "AVAXUSDT 0.2 tensor(0.9202) 38 days 46.35% correct guesses\n",
      "BANANAUSDT 0.2 tensor(1.3582) 8 days 52.83% correct guesses\n",
      "BATUSDT 0.2 tensor(1.2785) 38 days 53.22% correct guesses\n",
      "BLZUSDT 0.2 tensor(1.1690) 38 days 52.36% correct guesses\n",
      "BNBUSDT 0.2 tensor(0.8470) 38 days 46.78% correct guesses\n",
      "BRETTUSDT 0.2 tensor(0.4252) 38 days 46.35% correct guesses\n",
      "BSVUSDT 0.2 tensor(1.5185) 38 days 54.08% correct guesses\n",
      "BTCUSDT 0.2 tensor(1.1045) 38 days 50.21% correct guesses\n",
      "C98USDT 0.2 tensor(0.8116) 39 days 46.15% correct guesses\n",
      "CEEKUSDT 0.2 tensor(0.6628) 38 days 41.63% correct guesses\n",
      "DOGEUSDT 0.2 tensor(1.1665) 39 days 55.13% correct guesses\n",
      "ETHUSDT 0.2 tensor(0.9797) 38 days 44.64% correct guesses\n",
      "LINKUSDT 0.2 tensor(1.5797) 38 days 52.79% correct guesses\n",
      "MEMEUSDT 0.2 tensor(0.8041) 38 days 49.36% correct guesses\n",
      "MNTUSDT 0.2 tensor(1.1857) 38 days 51.93% correct guesses\n",
      "ONDOUSDT 0.2 tensor(1.1335) 39 days 47.01% correct guesses\n",
      "OPUSDT 0.2 tensor(1.2919) 38 days 51.07% correct guesses\n",
      "POPCATUSDT 0.2 tensor(0.4007) 38 days 50.64% correct guesses\n",
      "SOLUSDT 0.2 tensor(0.7696) 39 days 49.15% correct guesses\n",
      "SUIUSDT 0.2 tensor(0.9559) 38 days 50.64% correct guesses\n",
      "TONUSDT 0.2 tensor(1.1247) 39 days 52.14% correct guesses\n",
      "WIFUSDT 0.2 tensor(2.5200) 39 days 53.85% correct guesses\n",
      "XRPUSDT 0.2 tensor(1.0839) 39 days 48.72% correct guesses\n",
      "ZENUSDT 0.2 tensor(0.6822) 38 days 48.07% correct guesses\n",
      "ZETAUSDT 0.2 tensor(0.5436) 39 days 44.87% correct guesses\n"
     ]
    },
    {
     "name": "stderr",
     "output_type": "stream",
     "text": [
      "                                               \r"
     ]
    },
    {
     "name": "stdout",
     "output_type": "stream",
     "text": [
      "Epoch 33600 Loss: 1.6336998669430614e-05\n"
     ]
    },
    {
     "name": "stderr",
     "output_type": "stream",
     "text": [
      "                                               \r"
     ]
    },
    {
     "name": "stdout",
     "output_type": "stream",
     "text": [
      "Epoch 33700 Loss: 1.4622361959482078e-05\n"
     ]
    },
    {
     "name": "stderr",
     "output_type": "stream",
     "text": [
      "                                               \r"
     ]
    },
    {
     "name": "stdout",
     "output_type": "stream",
     "text": [
      "Epoch 33800 Loss: 1.797981167328544e-05\n"
     ]
    },
    {
     "name": "stderr",
     "output_type": "stream",
     "text": [
      "                                               \r"
     ]
    },
    {
     "name": "stdout",
     "output_type": "stream",
     "text": [
      "Epoch 33900 Loss: 1.5548568626400083e-05\n"
     ]
    },
    {
     "name": "stderr",
     "output_type": "stream",
     "text": [
      "                                               \r"
     ]
    },
    {
     "name": "stdout",
     "output_type": "stream",
     "text": [
      "Epoch 34000 Loss: 1.4039127563592046e-05\n",
      "ADAUSDT 0.2 tensor(1.1902) 38 days 46.78% correct guesses\n",
      "APTUSDT 0.2 tensor(0.9088) 39 days 51.71% correct guesses\n",
      "AVAXUSDT 0.2 tensor(0.9237) 38 days 48.50% correct guesses\n",
      "BANANAUSDT 0.2 tensor(1.2200) 8 days 52.83% correct guesses\n",
      "BATUSDT 0.2 tensor(1.2406) 38 days 52.36% correct guesses\n",
      "BLZUSDT 0.2 tensor(1.3110) 38 days 52.79% correct guesses\n",
      "BNBUSDT 0.2 tensor(0.8213) 38 days 46.35% correct guesses\n",
      "BRETTUSDT 0.2 tensor(0.4017) 38 days 48.07% correct guesses\n",
      "BSVUSDT 0.2 tensor(1.7331) 38 days 54.94% correct guesses\n",
      "BTCUSDT 0.2 tensor(1.2974) 38 days 52.36% correct guesses\n",
      "C98USDT 0.2 tensor(0.8642) 39 days 47.44% correct guesses\n",
      "CEEKUSDT 0.2 tensor(0.6419) 38 days 41.63% correct guesses\n",
      "DOGEUSDT 0.2 tensor(1.1051) 39 days 55.13% correct guesses\n",
      "ETHUSDT 0.2 tensor(1.1662) 38 days 47.64% correct guesses\n",
      "LINKUSDT 0.2 tensor(1.7281) 38 days 54.08% correct guesses\n",
      "MEMEUSDT 0.2 tensor(0.8243) 38 days 48.50% correct guesses\n",
      "MNTUSDT 0.2 tensor(1.1491) 38 days 51.93% correct guesses\n",
      "ONDOUSDT 0.2 tensor(1.1644) 39 days 47.86% correct guesses\n",
      "OPUSDT 0.2 tensor(1.2555) 38 days 50.64% correct guesses\n",
      "POPCATUSDT 0.2 tensor(0.3917) 38 days 51.50% correct guesses\n",
      "SOLUSDT 0.2 tensor(0.7920) 39 days 50.00% correct guesses\n",
      "SUIUSDT 0.2 tensor(1.2262) 38 days 50.64% correct guesses\n",
      "TONUSDT 0.2 tensor(1.0788) 39 days 50.43% correct guesses\n",
      "WIFUSDT 0.2 tensor(1.8358) 39 days 51.28% correct guesses\n",
      "XRPUSDT 0.2 tensor(0.9377) 39 days 49.57% correct guesses\n",
      "ZENUSDT 0.2 tensor(0.7070) 38 days 48.93% correct guesses\n",
      "ZETAUSDT 0.2 tensor(0.5790) 39 days 45.73% correct guesses\n"
     ]
    },
    {
     "name": "stderr",
     "output_type": "stream",
     "text": [
      "                                               \r"
     ]
    },
    {
     "name": "stdout",
     "output_type": "stream",
     "text": [
      "Epoch 34100 Loss: 1.654571678955108e-05\n"
     ]
    },
    {
     "name": "stderr",
     "output_type": "stream",
     "text": [
      "                                               \r"
     ]
    },
    {
     "name": "stdout",
     "output_type": "stream",
     "text": [
      "Epoch 34200 Loss: 1.5671635992475785e-05\n"
     ]
    },
    {
     "name": "stderr",
     "output_type": "stream",
     "text": [
      "                                                \r"
     ]
    },
    {
     "name": "stdout",
     "output_type": "stream",
     "text": [
      "Epoch 34300 Loss: 1.660716770857107e-05\n"
     ]
    },
    {
     "name": "stderr",
     "output_type": "stream",
     "text": [
      "                                               \r"
     ]
    },
    {
     "name": "stdout",
     "output_type": "stream",
     "text": [
      "Epoch 34400 Loss: 1.500815233157482e-05\n"
     ]
    },
    {
     "name": "stderr",
     "output_type": "stream",
     "text": [
      "                                               \r"
     ]
    },
    {
     "name": "stdout",
     "output_type": "stream",
     "text": [
      "Epoch 34500 Loss: 1.718321436783299e-05\n",
      "ADAUSDT 0.2 tensor(0.9872) 38 days 44.64% correct guesses\n",
      "APTUSDT 0.2 tensor(1.5166) 39 days 52.99% correct guesses\n",
      "AVAXUSDT 0.2 tensor(0.9200) 38 days 46.78% correct guesses\n",
      "BANANAUSDT 0.2 tensor(1.2200) 8 days 52.83% correct guesses\n",
      "BATUSDT 0.2 tensor(1.2807) 38 days 52.79% correct guesses\n",
      "BLZUSDT 0.2 tensor(1.5152) 38 days 52.36% correct guesses\n",
      "BNBUSDT 0.2 tensor(0.8605) 38 days 47.64% correct guesses\n",
      "BRETTUSDT 0.2 tensor(0.4529) 38 days 47.21% correct guesses\n",
      "BSVUSDT 0.2 tensor(1.5499) 38 days 52.79% correct guesses\n",
      "BTCUSDT 0.2 tensor(1.2127) 38 days 51.93% correct guesses\n",
      "C98USDT 0.2 tensor(0.7961) 39 days 44.87% correct guesses\n",
      "CEEKUSDT 0.2 tensor(0.6661) 38 days 42.92% correct guesses\n",
      "DOGEUSDT 0.2 tensor(1.0470) 39 days 55.98% correct guesses\n",
      "ETHUSDT 0.2 tensor(1.0374) 38 days 45.92% correct guesses\n",
      "LINKUSDT 0.2 tensor(1.4802) 38 days 52.36% correct guesses\n",
      "MEMEUSDT 0.2 tensor(0.6655) 38 days 48.07% correct guesses\n",
      "MNTUSDT 0.2 tensor(1.1343) 38 days 51.07% correct guesses\n",
      "ONDOUSDT 0.2 tensor(1.2443) 39 days 48.72% correct guesses\n",
      "OPUSDT 0.2 tensor(1.3214) 38 days 51.50% correct guesses\n",
      "POPCATUSDT 0.2 tensor(0.4407) 38 days 51.50% correct guesses\n",
      "SOLUSDT 0.2 tensor(0.6942) 39 days 48.72% correct guesses\n",
      "SUIUSDT 0.2 tensor(1.3798) 38 days 54.08% correct guesses\n",
      "TONUSDT 0.2 tensor(0.9870) 39 days 50.43% correct guesses\n",
      "WIFUSDT 0.2 tensor(2.5410) 39 days 52.99% correct guesses\n",
      "XRPUSDT 0.2 tensor(0.9238) 39 days 49.15% correct guesses\n",
      "ZENUSDT 0.2 tensor(0.7017) 38 days 48.93% correct guesses\n",
      "ZETAUSDT 0.2 tensor(0.5399) 39 days 44.44% correct guesses\n"
     ]
    },
    {
     "name": "stderr",
     "output_type": "stream",
     "text": [
      "                                               \r"
     ]
    },
    {
     "name": "stdout",
     "output_type": "stream",
     "text": [
      "Epoch 34600 Loss: 1.7198564819409512e-05\n"
     ]
    },
    {
     "name": "stderr",
     "output_type": "stream",
     "text": [
      "                                               \r"
     ]
    },
    {
     "name": "stdout",
     "output_type": "stream",
     "text": [
      "Epoch 34700 Loss: 1.5947445717756636e-05\n"
     ]
    },
    {
     "name": "stderr",
     "output_type": "stream",
     "text": [
      "                                               \r"
     ]
    },
    {
     "name": "stdout",
     "output_type": "stream",
     "text": [
      "Epoch 34800 Loss: 1.5122355762287043e-05\n"
     ]
    },
    {
     "name": "stderr",
     "output_type": "stream",
     "text": [
      "                                               \r"
     ]
    },
    {
     "name": "stdout",
     "output_type": "stream",
     "text": [
      "Epoch 34900 Loss: 1.7606860637897626e-05\n"
     ]
    },
    {
     "name": "stderr",
     "output_type": "stream",
     "text": [
      "                                               \r"
     ]
    },
    {
     "name": "stdout",
     "output_type": "stream",
     "text": [
      "Epoch 35000 Loss: 1.7774222214939073e-05\n",
      "ADAUSDT 0.2 tensor(1.0728) 38 days 45.49% correct guesses\n",
      "APTUSDT 0.2 tensor(1.4316) 39 days 53.42% correct guesses\n",
      "AVAXUSDT 0.2 tensor(1.1042) 38 days 48.93% correct guesses\n",
      "BANANAUSDT 0.2 tensor(1.1767) 8 days 50.94% correct guesses\n",
      "BATUSDT 0.2 tensor(1.2863) 38 days 51.93% correct guesses\n",
      "BLZUSDT 0.2 tensor(1.3990) 38 days 51.93% correct guesses\n",
      "BNBUSDT 0.2 tensor(0.8533) 38 days 47.21% correct guesses\n",
      "BRETTUSDT 0.2 tensor(0.4281) 38 days 46.35% correct guesses\n",
      "BSVUSDT 0.2 tensor(1.4458) 38 days 51.93% correct guesses\n",
      "BTCUSDT 0.2 tensor(1.1339) 38 days 50.64% correct guesses\n",
      "C98USDT 0.2 tensor(0.8815) 39 days 48.29% correct guesses\n",
      "CEEKUSDT 0.2 tensor(0.6195) 38 days 41.63% correct guesses\n",
      "DOGEUSDT 0.2 tensor(1.1425) 39 days 55.56% correct guesses\n",
      "ETHUSDT 0.2 tensor(1.0400) 38 days 45.06% correct guesses\n",
      "LINKUSDT 0.2 tensor(1.6359) 38 days 53.65% correct guesses\n",
      "MEMEUSDT 0.2 tensor(0.6543) 38 days 47.64% correct guesses\n",
      "MNTUSDT 0.2 tensor(1.1326) 38 days 50.64% correct guesses\n",
      "ONDOUSDT 0.2 tensor(1.1354) 39 days 47.44% correct guesses\n",
      "OPUSDT 0.2 tensor(1.3329) 38 days 51.93% correct guesses\n",
      "POPCATUSDT 0.2 tensor(0.4114) 38 days 51.07% correct guesses\n",
      "SOLUSDT 0.2 tensor(0.7130) 39 days 48.72% correct guesses\n",
      "SUIUSDT 0.2 tensor(0.8737) 38 days 50.21% correct guesses\n",
      "TONUSDT 0.2 tensor(0.9958) 39 days 49.15% correct guesses\n",
      "WIFUSDT 0.2 tensor(2.4120) 39 days 52.56% correct guesses\n",
      "XRPUSDT 0.2 tensor(1.0438) 39 days 50.43% correct guesses\n",
      "ZENUSDT 0.2 tensor(0.7937) 38 days 48.93% correct guesses\n",
      "ZETAUSDT 0.2 tensor(0.4943) 39 days 43.59% correct guesses\n"
     ]
    },
    {
     "name": "stderr",
     "output_type": "stream",
     "text": [
      "                                               \r"
     ]
    },
    {
     "name": "stdout",
     "output_type": "stream",
     "text": [
      "Epoch 35100 Loss: 1.55443703988567e-05\n"
     ]
    },
    {
     "name": "stderr",
     "output_type": "stream",
     "text": [
      "                                               \r"
     ]
    },
    {
     "name": "stdout",
     "output_type": "stream",
     "text": [
      "Epoch 35200 Loss: 1.5006026842456777e-05\n"
     ]
    },
    {
     "name": "stderr",
     "output_type": "stream",
     "text": [
      "                                               \r"
     ]
    },
    {
     "name": "stdout",
     "output_type": "stream",
     "text": [
      "Epoch 35300 Loss: 1.6025449440348893e-05\n"
     ]
    },
    {
     "name": "stderr",
     "output_type": "stream",
     "text": [
      "                                               \r"
     ]
    },
    {
     "name": "stdout",
     "output_type": "stream",
     "text": [
      "Epoch 35400 Loss: 1.725889705994632e-05\n"
     ]
    },
    {
     "name": "stderr",
     "output_type": "stream",
     "text": [
      "                                               \r"
     ]
    },
    {
     "name": "stdout",
     "output_type": "stream",
     "text": [
      "Epoch 35500 Loss: 1.6208257875405252e-05\n",
      "ADAUSDT 0.2 tensor(1.0577) 38 days 46.35% correct guesses\n",
      "APTUSDT 0.2 tensor(0.9182) 39 days 50.00% correct guesses\n",
      "AVAXUSDT 0.2 tensor(0.8216) 38 days 46.35% correct guesses\n",
      "BANANAUSDT 0.2 tensor(1.3045) 8 days 56.60% correct guesses\n",
      "BATUSDT 0.2 tensor(1.2749) 38 days 53.22% correct guesses\n",
      "BLZUSDT 0.2 tensor(1.5327) 38 days 52.36% correct guesses\n",
      "BNBUSDT 0.2 tensor(0.8608) 38 days 46.35% correct guesses\n",
      "BRETTUSDT 0.2 tensor(0.3752) 38 days 47.64% correct guesses\n",
      "BSVUSDT 0.2 tensor(1.4332) 38 days 51.93% correct guesses\n",
      "BTCUSDT 0.2 tensor(1.1786) 38 days 51.07% correct guesses\n",
      "C98USDT 0.2 tensor(0.8588) 39 days 47.44% correct guesses\n",
      "CEEKUSDT 0.2 tensor(0.7529) 38 days 43.35% correct guesses\n",
      "DOGEUSDT 0.2 tensor(1.3510) 39 days 58.55% correct guesses\n",
      "ETHUSDT 0.2 tensor(1.1568) 38 days 47.64% correct guesses\n",
      "LINKUSDT 0.2 tensor(1.7103) 38 days 54.08% correct guesses\n",
      "MEMEUSDT 0.2 tensor(0.7880) 38 days 48.93% correct guesses\n",
      "MNTUSDT 0.2 tensor(1.1775) 38 days 51.93% correct guesses\n",
      "ONDOUSDT 0.2 tensor(1.2127) 39 days 50.00% correct guesses\n",
      "OPUSDT 0.2 tensor(1.3806) 38 days 51.50% correct guesses\n",
      "POPCATUSDT 0.2 tensor(0.3750) 38 days 50.64% correct guesses\n",
      "SOLUSDT 0.2 tensor(0.6102) 39 days 48.29% correct guesses\n",
      "SUIUSDT 0.2 tensor(0.8987) 38 days 50.21% correct guesses\n",
      "TONUSDT 0.2 tensor(1.1302) 39 days 51.28% correct guesses\n",
      "WIFUSDT 0.2 tensor(2.0665) 39 days 52.56% correct guesses\n",
      "XRPUSDT 0.2 tensor(1.2055) 39 days 49.57% correct guesses\n",
      "ZENUSDT 0.2 tensor(0.8809) 38 days 48.07% correct guesses\n",
      "ZETAUSDT 0.2 tensor(0.4947) 39 days 43.59% correct guesses\n"
     ]
    },
    {
     "name": "stderr",
     "output_type": "stream",
     "text": [
      "                                               \r"
     ]
    },
    {
     "name": "stdout",
     "output_type": "stream",
     "text": [
      "Epoch 35600 Loss: 1.6819682059576735e-05\n"
     ]
    },
    {
     "name": "stderr",
     "output_type": "stream",
     "text": [
      "                                               \r"
     ]
    },
    {
     "name": "stdout",
     "output_type": "stream",
     "text": [
      "Epoch 35700 Loss: 1.6393762052757666e-05\n"
     ]
    },
    {
     "name": "stderr",
     "output_type": "stream",
     "text": [
      "                                               \r"
     ]
    },
    {
     "name": "stdout",
     "output_type": "stream",
     "text": [
      "Epoch 35800 Loss: 1.595313733560033e-05\n"
     ]
    },
    {
     "name": "stderr",
     "output_type": "stream",
     "text": [
      "                                               \r"
     ]
    },
    {
     "name": "stdout",
     "output_type": "stream",
     "text": [
      "Epoch 35900 Loss: 1.627085111977067e-05\n"
     ]
    },
    {
     "name": "stderr",
     "output_type": "stream",
     "text": [
      "                                               \r"
     ]
    },
    {
     "name": "stdout",
     "output_type": "stream",
     "text": [
      "Epoch 36000 Loss: 1.5608900866936892e-05\n",
      "ADAUSDT 0.2 tensor(1.1632) 38 days 46.78% correct guesses\n",
      "APTUSDT 0.2 tensor(1.0749) 39 days 51.28% correct guesses\n",
      "AVAXUSDT 0.2 tensor(0.9291) 38 days 45.92% correct guesses\n",
      "BANANAUSDT 0.2 tensor(1.3348) 8 days 54.72% correct guesses\n",
      "BATUSDT 0.2 tensor(1.3178) 38 days 52.36% correct guesses\n",
      "BLZUSDT 0.2 tensor(1.4548) 38 days 53.65% correct guesses\n",
      "BNBUSDT 0.2 tensor(0.9282) 38 days 45.92% correct guesses\n",
      "BRETTUSDT 0.2 tensor(0.3726) 38 days 46.78% correct guesses\n",
      "BSVUSDT 0.2 tensor(1.6377) 38 days 53.65% correct guesses\n",
      "BTCUSDT 0.2 tensor(1.1189) 38 days 49.79% correct guesses\n",
      "C98USDT 0.2 tensor(0.8215) 39 days 47.01% correct guesses\n",
      "CEEKUSDT 0.2 tensor(0.6389) 38 days 40.34% correct guesses\n",
      "DOGEUSDT 0.2 tensor(1.0851) 39 days 55.56% correct guesses\n",
      "ETHUSDT 0.2 tensor(1.0281) 38 days 45.49% correct guesses\n",
      "LINKUSDT 0.2 tensor(1.5242) 38 days 52.36% correct guesses\n",
      "MEMEUSDT 0.2 tensor(0.6985) 38 days 48.50% correct guesses\n",
      "MNTUSDT 0.2 tensor(1.2050) 38 days 52.36% correct guesses\n",
      "ONDOUSDT 0.2 tensor(1.0635) 39 days 47.01% correct guesses\n",
      "OPUSDT 0.2 tensor(1.1764) 38 days 50.21% correct guesses\n",
      "POPCATUSDT 0.2 tensor(0.3057) 38 days 50.21% correct guesses\n",
      "SOLUSDT 0.2 tensor(0.6597) 39 days 47.86% correct guesses\n",
      "SUIUSDT 0.2 tensor(0.7895) 38 days 51.07% correct guesses\n",
      "TONUSDT 0.2 tensor(1.2911) 39 days 50.85% correct guesses\n",
      "WIFUSDT 0.2 tensor(2.3393) 39 days 53.42% correct guesses\n",
      "XRPUSDT 0.2 tensor(1.7447) 39 days 50.43% correct guesses\n",
      "ZENUSDT 0.2 tensor(0.8447) 38 days 48.93% correct guesses\n",
      "ZETAUSDT 0.2 tensor(0.5178) 39 days 43.59% correct guesses\n"
     ]
    },
    {
     "name": "stderr",
     "output_type": "stream",
     "text": [
      "                                               \r"
     ]
    },
    {
     "name": "stdout",
     "output_type": "stream",
     "text": [
      "Epoch 36100 Loss: 1.532843270979356e-05\n"
     ]
    },
    {
     "name": "stderr",
     "output_type": "stream",
     "text": [
      "                                               \r"
     ]
    },
    {
     "name": "stdout",
     "output_type": "stream",
     "text": [
      "Epoch 36200 Loss: 1.618134047021158e-05\n"
     ]
    },
    {
     "name": "stderr",
     "output_type": "stream",
     "text": [
      "                                               \r"
     ]
    },
    {
     "name": "stdout",
     "output_type": "stream",
     "text": [
      "Epoch 36300 Loss: 1.5221995454339776e-05\n"
     ]
    },
    {
     "name": "stderr",
     "output_type": "stream",
     "text": [
      "                                               \r"
     ]
    },
    {
     "name": "stdout",
     "output_type": "stream",
     "text": [
      "Epoch 36400 Loss: 1.7778031178750098e-05\n"
     ]
    },
    {
     "name": "stderr",
     "output_type": "stream",
     "text": [
      "                                               \r"
     ]
    },
    {
     "name": "stdout",
     "output_type": "stream",
     "text": [
      "Epoch 36500 Loss: 1.5837942555663176e-05\n",
      "ADAUSDT 0.2 tensor(1.0676) 38 days 45.92% correct guesses\n",
      "APTUSDT 0.2 tensor(1.3416) 39 days 52.56% correct guesses\n",
      "AVAXUSDT 0.2 tensor(0.9001) 38 days 46.78% correct guesses\n",
      "BANANAUSDT 0.2 tensor(1.4075) 8 days 56.60% correct guesses\n",
      "BATUSDT 0.2 tensor(1.1992) 38 days 50.64% correct guesses\n",
      "BLZUSDT 0.2 tensor(1.4518) 38 days 53.65% correct guesses\n",
      "BNBUSDT 0.2 tensor(0.8791) 38 days 47.64% correct guesses\n",
      "BRETTUSDT 0.2 tensor(0.2746) 38 days 45.06% correct guesses\n",
      "BSVUSDT 0.2 tensor(1.5410) 38 days 54.94% correct guesses\n",
      "BTCUSDT 0.2 tensor(1.1382) 38 days 50.64% correct guesses\n",
      "C98USDT 0.2 tensor(0.9021) 39 days 49.57% correct guesses\n",
      "CEEKUSDT 0.2 tensor(0.6823) 38 days 42.49% correct guesses\n",
      "DOGEUSDT 0.2 tensor(1.2415) 39 days 56.41% correct guesses\n",
      "ETHUSDT 0.2 tensor(1.1241) 38 days 44.64% correct guesses\n",
      "LINKUSDT 0.2 tensor(1.5321) 38 days 52.36% correct guesses\n",
      "MEMEUSDT 0.2 tensor(0.8171) 38 days 48.93% correct guesses\n",
      "MNTUSDT 0.2 tensor(1.1734) 38 days 51.07% correct guesses\n",
      "ONDOUSDT 0.2 tensor(1.1204) 39 days 47.01% correct guesses\n",
      "OPUSDT 0.2 tensor(1.3508) 38 days 51.07% correct guesses\n",
      "POPCATUSDT 0.2 tensor(0.3378) 38 days 51.50% correct guesses\n",
      "SOLUSDT 0.2 tensor(0.6471) 39 days 47.44% correct guesses\n",
      "SUIUSDT 0.2 tensor(0.9717) 38 days 51.07% correct guesses\n",
      "TONUSDT 0.2 tensor(0.9565) 39 days 49.57% correct guesses\n",
      "WIFUSDT 0.2 tensor(2.3183) 39 days 53.85% correct guesses\n",
      "XRPUSDT 0.2 tensor(1.3001) 39 days 48.72% correct guesses\n",
      "ZENUSDT 0.2 tensor(0.8753) 38 days 48.93% correct guesses\n",
      "ZETAUSDT 0.2 tensor(0.4929) 39 days 44.02% correct guesses\n"
     ]
    },
    {
     "name": "stderr",
     "output_type": "stream",
     "text": [
      "                                               \r"
     ]
    },
    {
     "name": "stdout",
     "output_type": "stream",
     "text": [
      "Epoch 36600 Loss: 1.7126996681327e-05\n"
     ]
    },
    {
     "name": "stderr",
     "output_type": "stream",
     "text": [
      "                                               \r"
     ]
    },
    {
     "name": "stdout",
     "output_type": "stream",
     "text": [
      "Epoch 36700 Loss: 1.912833067763131e-05\n"
     ]
    },
    {
     "name": "stderr",
     "output_type": "stream",
     "text": [
      "                                               \r"
     ]
    },
    {
     "name": "stdout",
     "output_type": "stream",
     "text": [
      "Epoch 36800 Loss: 1.5990941392374225e-05\n"
     ]
    },
    {
     "name": "stderr",
     "output_type": "stream",
     "text": [
      "                                               \r"
     ]
    },
    {
     "name": "stdout",
     "output_type": "stream",
     "text": [
      "Epoch 36900 Loss: 1.6215932191698812e-05\n"
     ]
    },
    {
     "name": "stderr",
     "output_type": "stream",
     "text": [
      "                                               \r"
     ]
    },
    {
     "name": "stdout",
     "output_type": "stream",
     "text": [
      "Epoch 37000 Loss: 1.4625329640693963e-05\n",
      "ADAUSDT 0.2 tensor(1.1383) 38 days 46.35% correct guesses\n",
      "APTUSDT 0.2 tensor(1.2899) 39 days 52.56% correct guesses\n",
      "AVAXUSDT 0.2 tensor(1.0136) 38 days 47.64% correct guesses\n",
      "BANANAUSDT 0.2 tensor(1.3348) 8 days 54.72% correct guesses\n",
      "BATUSDT 0.2 tensor(1.3585) 38 days 52.79% correct guesses\n",
      "BLZUSDT 0.2 tensor(1.6449) 38 days 53.65% correct guesses\n",
      "BNBUSDT 0.2 tensor(0.9371) 38 days 48.07% correct guesses\n",
      "BRETTUSDT 0.2 tensor(0.4386) 38 days 46.78% correct guesses\n",
      "BSVUSDT 0.2 tensor(1.5024) 38 days 51.93% correct guesses\n",
      "BTCUSDT 0.2 tensor(1.2132) 38 days 50.64% correct guesses\n",
      "C98USDT 0.2 tensor(0.8537) 39 days 47.86% correct guesses\n",
      "CEEKUSDT 0.2 tensor(0.6956) 38 days 41.63% correct guesses\n",
      "DOGEUSDT 0.2 tensor(1.1071) 39 days 54.70% correct guesses\n",
      "ETHUSDT 0.2 tensor(1.0523) 38 days 45.06% correct guesses\n",
      "LINKUSDT 0.2 tensor(1.5069) 38 days 53.22% correct guesses\n",
      "MEMEUSDT 0.2 tensor(0.8242) 38 days 49.79% correct guesses\n",
      "MNTUSDT 0.2 tensor(1.0856) 38 days 50.64% correct guesses\n",
      "ONDOUSDT 0.2 tensor(1.0105) 39 days 46.15% correct guesses\n",
      "OPUSDT 0.2 tensor(1.2415) 38 days 50.64% correct guesses\n",
      "POPCATUSDT 0.2 tensor(0.5039) 38 days 52.36% correct guesses\n",
      "SOLUSDT 0.2 tensor(0.6114) 39 days 47.44% correct guesses\n",
      "SUIUSDT 0.2 tensor(1.0109) 38 days 51.93% correct guesses\n",
      "TONUSDT 0.2 tensor(1.1685) 39 days 51.71% correct guesses\n",
      "WIFUSDT 0.2 tensor(2.2002) 39 days 52.99% correct guesses\n",
      "XRPUSDT 0.2 tensor(0.9330) 39 days 47.44% correct guesses\n",
      "ZENUSDT 0.2 tensor(0.9066) 38 days 50.64% correct guesses\n",
      "ZETAUSDT 0.2 tensor(0.5210) 39 days 43.16% correct guesses\n"
     ]
    },
    {
     "name": "stderr",
     "output_type": "stream",
     "text": [
      "                                               \r"
     ]
    },
    {
     "name": "stdout",
     "output_type": "stream",
     "text": [
      "Epoch 37100 Loss: 1.4128163456916809e-05\n"
     ]
    },
    {
     "name": "stderr",
     "output_type": "stream",
     "text": [
      "                                               \r"
     ]
    },
    {
     "name": "stdout",
     "output_type": "stream",
     "text": [
      "Epoch 37200 Loss: 1.8829900000127964e-05\n"
     ]
    },
    {
     "name": "stderr",
     "output_type": "stream",
     "text": [
      "                                               \r"
     ]
    },
    {
     "name": "stdout",
     "output_type": "stream",
     "text": [
      "Epoch 37300 Loss: 1.5952366084093228e-05\n"
     ]
    },
    {
     "name": "stderr",
     "output_type": "stream",
     "text": [
      "                                               \r"
     ]
    },
    {
     "name": "stdout",
     "output_type": "stream",
     "text": [
      "Epoch 37400 Loss: 1.4276189176598564e-05\n"
     ]
    },
    {
     "name": "stderr",
     "output_type": "stream",
     "text": [
      "                                               \r"
     ]
    },
    {
     "name": "stdout",
     "output_type": "stream",
     "text": [
      "Epoch 37500 Loss: 1.4845851183054037e-05\n",
      "ADAUSDT 0.2 tensor(1.1833) 38 days 47.21% correct guesses\n",
      "APTUSDT 0.2 tensor(1.0887) 39 days 52.56% correct guesses\n",
      "AVAXUSDT 0.2 tensor(0.8314) 38 days 46.35% correct guesses\n",
      "BANANAUSDT 0.2 tensor(1.3348) 8 days 54.72% correct guesses\n",
      "BATUSDT 0.2 tensor(1.3111) 38 days 52.79% correct guesses\n",
      "BLZUSDT 0.2 tensor(1.3754) 38 days 53.22% correct guesses\n",
      "BNBUSDT 0.2 tensor(0.8829) 38 days 47.21% correct guesses\n",
      "BRETTUSDT 0.2 tensor(0.3652) 38 days 46.78% correct guesses\n",
      "BSVUSDT 0.2 tensor(1.8200) 38 days 55.36% correct guesses\n",
      "BTCUSDT 0.2 tensor(1.1107) 38 days 49.79% correct guesses\n",
      "C98USDT 0.2 tensor(0.8644) 39 days 47.44% correct guesses\n",
      "CEEKUSDT 0.2 tensor(0.7500) 38 days 42.92% correct guesses\n",
      "DOGEUSDT 0.2 tensor(1.2995) 39 days 56.41% correct guesses\n",
      "ETHUSDT 0.2 tensor(1.1659) 38 days 46.78% correct guesses\n",
      "LINKUSDT 0.2 tensor(1.5654) 38 days 53.22% correct guesses\n",
      "MEMEUSDT 0.2 tensor(0.7269) 38 days 48.07% correct guesses\n",
      "MNTUSDT 0.2 tensor(1.2706) 38 days 51.07% correct guesses\n",
      "ONDOUSDT 0.2 tensor(1.0793) 39 days 47.86% correct guesses\n",
      "OPUSDT 0.2 tensor(1.5037) 38 days 52.36% correct guesses\n",
      "POPCATUSDT 0.2 tensor(0.3457) 38 days 50.21% correct guesses\n",
      "SOLUSDT 0.2 tensor(0.6645) 39 days 47.44% correct guesses\n",
      "SUIUSDT 0.2 tensor(0.9439) 38 days 51.07% correct guesses\n",
      "TONUSDT 0.2 tensor(1.3241) 39 days 50.85% correct guesses\n",
      "WIFUSDT 0.2 tensor(2.2253) 39 days 53.42% correct guesses\n",
      "XRPUSDT 0.2 tensor(1.3451) 39 days 49.15% correct guesses\n",
      "ZENUSDT 0.2 tensor(0.8509) 38 days 48.07% correct guesses\n",
      "ZETAUSDT 0.2 tensor(0.5129) 39 days 41.45% correct guesses\n"
     ]
    },
    {
     "name": "stderr",
     "output_type": "stream",
     "text": [
      "                                               \r"
     ]
    },
    {
     "name": "stdout",
     "output_type": "stream",
     "text": [
      "Epoch 37600 Loss: 1.656241511227563e-05\n"
     ]
    },
    {
     "name": "stderr",
     "output_type": "stream",
     "text": [
      "                                               \r"
     ]
    },
    {
     "name": "stdout",
     "output_type": "stream",
     "text": [
      "Epoch 37700 Loss: 1.754833101585973e-05\n"
     ]
    },
    {
     "name": "stderr",
     "output_type": "stream",
     "text": [
      "                                               \r"
     ]
    },
    {
     "name": "stdout",
     "output_type": "stream",
     "text": [
      "Epoch 37800 Loss: 1.808934575819876e-05\n"
     ]
    },
    {
     "name": "stderr",
     "output_type": "stream",
     "text": [
      "                                               \r"
     ]
    },
    {
     "name": "stdout",
     "output_type": "stream",
     "text": [
      "Epoch 37900 Loss: 1.5069516848598141e-05\n"
     ]
    },
    {
     "name": "stderr",
     "output_type": "stream",
     "text": [
      "                                               \r"
     ]
    },
    {
     "name": "stdout",
     "output_type": "stream",
     "text": [
      "Epoch 38000 Loss: 1.5611329217790626e-05\n",
      "ADAUSDT 0.2 tensor(1.1054) 38 days 45.49% correct guesses\n",
      "APTUSDT 0.2 tensor(1.4983) 39 days 54.70% correct guesses\n",
      "AVAXUSDT 0.2 tensor(0.9900) 38 days 47.21% correct guesses\n",
      "BANANAUSDT 0.2 tensor(1.4271) 8 days 58.49% correct guesses\n",
      "BATUSDT 0.2 tensor(1.3297) 38 days 53.22% correct guesses\n",
      "BLZUSDT 0.2 tensor(1.6972) 38 days 52.79% correct guesses\n",
      "BNBUSDT 0.2 tensor(0.9674) 38 days 49.36% correct guesses\n",
      "BRETTUSDT 0.2 tensor(0.3748) 38 days 46.35% correct guesses\n",
      "BSVUSDT 0.2 tensor(1.7944) 38 days 53.22% correct guesses\n",
      "BTCUSDT 0.2 tensor(1.0582) 38 days 50.21% correct guesses\n",
      "C98USDT 0.2 tensor(0.8004) 39 days 47.01% correct guesses\n",
      "CEEKUSDT 0.2 tensor(0.7875) 38 days 42.92% correct guesses\n",
      "DOGEUSDT 0.2 tensor(1.1581) 39 days 55.56% correct guesses\n",
      "ETHUSDT 0.2 tensor(0.9103) 38 days 42.49% correct guesses\n",
      "LINKUSDT 0.2 tensor(1.6939) 38 days 53.65% correct guesses\n",
      "MEMEUSDT 0.2 tensor(0.8373) 38 days 49.36% correct guesses\n",
      "MNTUSDT 0.2 tensor(1.1915) 38 days 52.79% correct guesses\n",
      "ONDOUSDT 0.2 tensor(0.8917) 39 days 44.44% correct guesses\n",
      "OPUSDT 0.2 tensor(1.4305) 38 days 51.93% correct guesses\n",
      "POPCATUSDT 0.2 tensor(0.3210) 38 days 50.21% correct guesses\n",
      "SOLUSDT 0.2 tensor(0.5906) 39 days 47.44% correct guesses\n",
      "SUIUSDT 0.2 tensor(0.8650) 38 days 50.21% correct guesses\n",
      "TONUSDT 0.2 tensor(1.0572) 39 days 50.43% correct guesses\n",
      "WIFUSDT 0.2 tensor(1.5957) 39 days 52.14% correct guesses\n",
      "XRPUSDT 0.2 tensor(1.1907) 39 days 48.72% correct guesses\n",
      "ZENUSDT 0.2 tensor(0.8549) 38 days 47.21% correct guesses\n",
      "ZETAUSDT 0.2 tensor(0.4920) 39 days 43.16% correct guesses\n"
     ]
    },
    {
     "name": "stderr",
     "output_type": "stream",
     "text": [
      "                                               \r"
     ]
    },
    {
     "name": "stdout",
     "output_type": "stream",
     "text": [
      "Epoch 38100 Loss: 1.5177493878582027e-05\n"
     ]
    },
    {
     "name": "stderr",
     "output_type": "stream",
     "text": [
      "                                               \r"
     ]
    },
    {
     "name": "stdout",
     "output_type": "stream",
     "text": [
      "Epoch 38200 Loss: 1.3596428289019968e-05\n"
     ]
    },
    {
     "name": "stderr",
     "output_type": "stream",
     "text": [
      "                                               \r"
     ]
    },
    {
     "name": "stdout",
     "output_type": "stream",
     "text": [
      "Epoch 38300 Loss: 1.6549840438528918e-05\n"
     ]
    },
    {
     "name": "stderr",
     "output_type": "stream",
     "text": [
      "                                               \r"
     ]
    },
    {
     "name": "stdout",
     "output_type": "stream",
     "text": [
      "Epoch 38400 Loss: 1.4483895029115956e-05\n"
     ]
    },
    {
     "name": "stderr",
     "output_type": "stream",
     "text": [
      "                                               \r"
     ]
    },
    {
     "name": "stdout",
     "output_type": "stream",
     "text": [
      "Epoch 38500 Loss: 1.6202899132622406e-05\n",
      "ADAUSDT 0.2 tensor(1.1857) 38 days 47.64% correct guesses\n",
      "APTUSDT 0.2 tensor(1.3719) 39 days 52.99% correct guesses\n",
      "AVAXUSDT 0.2 tensor(0.9070) 38 days 46.35% correct guesses\n",
      "BANANAUSDT 0.2 tensor(1.4075) 8 days 56.60% correct guesses\n",
      "BATUSDT 0.2 tensor(1.4025) 38 days 54.08% correct guesses\n",
      "BLZUSDT 0.2 tensor(1.3950) 38 days 51.93% correct guesses\n",
      "BNBUSDT 0.2 tensor(0.8779) 38 days 46.78% correct guesses\n",
      "BRETTUSDT 0.2 tensor(0.3074) 38 days 45.49% correct guesses\n",
      "BSVUSDT 0.2 tensor(1.8871) 38 days 55.79% correct guesses\n",
      "BTCUSDT 0.2 tensor(0.9868) 38 days 49.36% correct guesses\n",
      "C98USDT 0.2 tensor(0.7799) 39 days 46.58% correct guesses\n",
      "CEEKUSDT 0.2 tensor(0.7458) 38 days 42.49% correct guesses\n",
      "DOGEUSDT 0.2 tensor(1.1243) 39 days 55.13% correct guesses\n",
      "ETHUSDT 0.2 tensor(1.0900) 38 days 46.35% correct guesses\n",
      "LINKUSDT 0.2 tensor(1.3935) 38 days 52.36% correct guesses\n",
      "MEMEUSDT 0.2 tensor(0.8255) 38 days 49.36% correct guesses\n",
      "MNTUSDT 0.2 tensor(1.1959) 38 days 52.79% correct guesses\n",
      "ONDOUSDT 0.2 tensor(1.0270) 39 days 46.15% correct guesses\n",
      "OPUSDT 0.2 tensor(1.4939) 38 days 50.64% correct guesses\n",
      "POPCATUSDT 0.2 tensor(0.3789) 38 days 51.50% correct guesses\n",
      "SOLUSDT 0.2 tensor(0.6406) 39 days 47.01% correct guesses\n",
      "SUIUSDT 0.2 tensor(0.9466) 38 days 50.64% correct guesses\n",
      "TONUSDT 0.2 tensor(0.9925) 39 days 49.15% correct guesses\n",
      "WIFUSDT 0.2 tensor(1.9411) 39 days 52.99% correct guesses\n",
      "XRPUSDT 0.2 tensor(0.9710) 39 days 47.44% correct guesses\n",
      "ZENUSDT 0.2 tensor(0.8730) 38 days 48.50% correct guesses\n",
      "ZETAUSDT 0.2 tensor(0.5218) 39 days 44.02% correct guesses\n"
     ]
    },
    {
     "name": "stderr",
     "output_type": "stream",
     "text": [
      "                                               \r"
     ]
    },
    {
     "name": "stdout",
     "output_type": "stream",
     "text": [
      "Epoch 38600 Loss: 1.703404814179521e-05\n"
     ]
    },
    {
     "name": "stderr",
     "output_type": "stream",
     "text": [
      "                                               \r"
     ]
    },
    {
     "name": "stdout",
     "output_type": "stream",
     "text": [
      "Epoch 38700 Loss: 1.5859488485148177e-05\n"
     ]
    },
    {
     "name": "stderr",
     "output_type": "stream",
     "text": [
      "                                               \r"
     ]
    },
    {
     "name": "stdout",
     "output_type": "stream",
     "text": [
      "Epoch 38800 Loss: 1.4529026884702034e-05\n"
     ]
    },
    {
     "name": "stderr",
     "output_type": "stream",
     "text": [
      "                                               \r"
     ]
    },
    {
     "name": "stdout",
     "output_type": "stream",
     "text": [
      "Epoch 38900 Loss: 1.719071951811202e-05\n"
     ]
    },
    {
     "name": "stderr",
     "output_type": "stream",
     "text": [
      "                                               \r"
     ]
    },
    {
     "name": "stdout",
     "output_type": "stream",
     "text": [
      "Epoch 39000 Loss: 1.644053918425925e-05\n",
      "ADAUSDT 0.2 tensor(1.1239) 38 days 46.35% correct guesses\n",
      "APTUSDT 0.2 tensor(1.3445) 39 days 52.99% correct guesses\n",
      "AVAXUSDT 0.2 tensor(0.9141) 38 days 46.35% correct guesses\n",
      "BANANAUSDT 0.2 tensor(1.4075) 8 days 56.60% correct guesses\n",
      "BATUSDT 0.2 tensor(1.2721) 38 days 51.07% correct guesses\n",
      "BLZUSDT 0.2 tensor(1.4631) 38 days 52.36% correct guesses\n",
      "BNBUSDT 0.2 tensor(0.8979) 38 days 48.50% correct guesses\n",
      "BRETTUSDT 0.2 tensor(0.3735) 38 days 45.49% correct guesses\n",
      "BSVUSDT 0.2 tensor(1.8352) 38 days 53.65% correct guesses\n",
      "BTCUSDT 0.2 tensor(1.0450) 38 days 49.79% correct guesses\n",
      "C98USDT 0.2 tensor(0.8258) 39 days 47.86% correct guesses\n",
      "CEEKUSDT 0.2 tensor(0.8172) 38 days 42.92% correct guesses\n",
      "DOGEUSDT 0.2 tensor(1.3278) 39 days 57.69% correct guesses\n",
      "ETHUSDT 0.2 tensor(1.1693) 38 days 46.78% correct guesses\n",
      "LINKUSDT 0.2 tensor(1.4584) 38 days 53.22% correct guesses\n",
      "MEMEUSDT 0.2 tensor(0.6866) 38 days 47.21% correct guesses\n",
      "MNTUSDT 0.2 tensor(0.9981) 38 days 49.36% correct guesses\n",
      "ONDOUSDT 0.2 tensor(0.9284) 39 days 44.87% correct guesses\n",
      "OPUSDT 0.2 tensor(1.4785) 38 days 51.93% correct guesses\n",
      "POPCATUSDT 0.2 tensor(0.2838) 38 days 49.79% correct guesses\n",
      "SOLUSDT 0.2 tensor(0.7093) 39 days 48.29% correct guesses\n",
      "SUIUSDT 0.2 tensor(1.0283) 38 days 51.07% correct guesses\n",
      "TONUSDT 0.2 tensor(1.1640) 39 days 50.00% correct guesses\n",
      "WIFUSDT 0.2 tensor(2.0075) 39 days 52.99% correct guesses\n",
      "XRPUSDT 0.2 tensor(1.0053) 39 days 47.44% correct guesses\n",
      "ZENUSDT 0.2 tensor(0.8159) 38 days 49.36% correct guesses\n",
      "ZETAUSDT 0.2 tensor(0.6053) 39 days 44.02% correct guesses\n"
     ]
    },
    {
     "name": "stderr",
     "output_type": "stream",
     "text": [
      "                                               \r"
     ]
    },
    {
     "name": "stdout",
     "output_type": "stream",
     "text": [
      "Epoch 39100 Loss: 1.4804188140260521e-05\n"
     ]
    },
    {
     "name": "stderr",
     "output_type": "stream",
     "text": [
      "                                               \r"
     ]
    },
    {
     "name": "stdout",
     "output_type": "stream",
     "text": [
      "Epoch 39200 Loss: 1.5075743249326479e-05\n"
     ]
    },
    {
     "name": "stderr",
     "output_type": "stream",
     "text": [
      "                                               \r"
     ]
    },
    {
     "name": "stdout",
     "output_type": "stream",
     "text": [
      "Epoch 39300 Loss: 1.715429243631661e-05\n"
     ]
    },
    {
     "name": "stderr",
     "output_type": "stream",
     "text": [
      "                                               \r"
     ]
    },
    {
     "name": "stdout",
     "output_type": "stream",
     "text": [
      "Epoch 39400 Loss: 1.615028304513544e-05\n"
     ]
    },
    {
     "name": "stderr",
     "output_type": "stream",
     "text": [
      "                                               \r"
     ]
    },
    {
     "name": "stdout",
     "output_type": "stream",
     "text": [
      "Epoch 39500 Loss: 1.7259513697354123e-05\n",
      "ADAUSDT 0.2 tensor(1.1493) 38 days 45.92% correct guesses\n",
      "APTUSDT 0.2 tensor(1.4438) 39 days 52.99% correct guesses\n",
      "AVAXUSDT 0.2 tensor(0.9978) 38 days 48.50% correct guesses\n",
      "BANANAUSDT 0.2 tensor(1.6076) 8 days 58.49% correct guesses\n",
      "BATUSDT 0.2 tensor(1.3740) 38 days 52.79% correct guesses\n",
      "BLZUSDT 0.2 tensor(1.3048) 38 days 52.36% correct guesses\n",
      "BNBUSDT 0.2 tensor(0.9122) 38 days 48.93% correct guesses\n",
      "BRETTUSDT 0.2 tensor(0.3795) 38 days 46.35% correct guesses\n",
      "BSVUSDT 0.2 tensor(1.7770) 38 days 54.51% correct guesses\n",
      "BTCUSDT 0.2 tensor(1.0997) 38 days 49.79% correct guesses\n",
      "C98USDT 0.2 tensor(0.9081) 39 days 48.29% correct guesses\n",
      "CEEKUSDT 0.2 tensor(0.7957) 38 days 43.35% correct guesses\n",
      "DOGEUSDT 0.2 tensor(1.1487) 39 days 56.41% correct guesses\n",
      "ETHUSDT 0.2 tensor(1.1005) 38 days 44.21% correct guesses\n",
      "LINKUSDT 0.2 tensor(1.7458) 38 days 53.22% correct guesses\n",
      "MEMEUSDT 0.2 tensor(0.7188) 38 days 47.64% correct guesses\n",
      "MNTUSDT 0.2 tensor(1.0594) 38 days 50.64% correct guesses\n",
      "ONDOUSDT 0.2 tensor(1.0556) 39 days 46.58% correct guesses\n",
      "OPUSDT 0.2 tensor(1.5006) 38 days 51.50% correct guesses\n",
      "POPCATUSDT 0.2 tensor(0.3109) 38 days 50.21% correct guesses\n",
      "SOLUSDT 0.2 tensor(0.6762) 39 days 48.29% correct guesses\n",
      "SUIUSDT 0.2 tensor(0.8924) 38 days 51.07% correct guesses\n",
      "TONUSDT 0.2 tensor(0.9316) 39 days 48.72% correct guesses\n",
      "WIFUSDT 0.2 tensor(2.1878) 39 days 54.27% correct guesses\n",
      "XRPUSDT 0.2 tensor(1.1262) 39 days 48.72% correct guesses\n",
      "ZENUSDT 0.2 tensor(0.8336) 38 days 47.21% correct guesses\n",
      "ZETAUSDT 0.2 tensor(0.6182) 39 days 42.74% correct guesses\n"
     ]
    },
    {
     "name": "stderr",
     "output_type": "stream",
     "text": [
      "                                               \r"
     ]
    },
    {
     "name": "stdout",
     "output_type": "stream",
     "text": [
      "Epoch 39600 Loss: 1.7188966012327e-05\n"
     ]
    },
    {
     "name": "stderr",
     "output_type": "stream",
     "text": [
      "                                               \r"
     ]
    },
    {
     "name": "stdout",
     "output_type": "stream",
     "text": [
      "Epoch 39700 Loss: 1.5720683222752996e-05\n"
     ]
    },
    {
     "name": "stderr",
     "output_type": "stream",
     "text": [
      "                                               \r"
     ]
    },
    {
     "name": "stdout",
     "output_type": "stream",
     "text": [
      "Epoch 39800 Loss: 1.7510265024611726e-05\n"
     ]
    },
    {
     "name": "stderr",
     "output_type": "stream",
     "text": [
      "                                               \r"
     ]
    },
    {
     "name": "stdout",
     "output_type": "stream",
     "text": [
      "Epoch 39900 Loss: 1.6370671801269054e-05\n"
     ]
    },
    {
     "name": "stderr",
     "output_type": "stream",
     "text": [
      "                                               \r"
     ]
    },
    {
     "name": "stdout",
     "output_type": "stream",
     "text": [
      "Epoch 40000 Loss: 1.4157858458929695e-05\n",
      "ADAUSDT 0.2 tensor(1.0257) 38 days 44.64% correct guesses\n",
      "APTUSDT 0.2 tensor(1.1746) 39 days 53.85% correct guesses\n",
      "AVAXUSDT 0.2 tensor(0.8326) 38 days 45.49% correct guesses\n",
      "BANANAUSDT 0.2 tensor(1.6861) 8 days 60.38% correct guesses\n",
      "BATUSDT 0.2 tensor(1.3118) 38 days 52.79% correct guesses\n",
      "BLZUSDT 0.2 tensor(1.3649) 38 days 53.65% correct guesses\n",
      "BNBUSDT 0.2 tensor(0.8835) 38 days 47.64% correct guesses\n",
      "BRETTUSDT 0.2 tensor(0.3945) 38 days 45.92% correct guesses\n",
      "BSVUSDT 0.2 tensor(1.8517) 38 days 53.65% correct guesses\n",
      "BTCUSDT 0.2 tensor(1.0690) 38 days 48.93% correct guesses\n",
      "C98USDT 0.2 tensor(0.8249) 39 days 46.58% correct guesses\n",
      "CEEKUSDT 0.2 tensor(0.8878) 38 days 45.06% correct guesses\n",
      "DOGEUSDT 0.2 tensor(1.1967) 39 days 55.98% correct guesses\n",
      "ETHUSDT 0.2 tensor(1.1763) 38 days 46.35% correct guesses\n",
      "LINKUSDT 0.2 tensor(1.7122) 38 days 53.22% correct guesses\n",
      "MEMEUSDT 0.2 tensor(0.6390) 38 days 48.07% correct guesses\n",
      "MNTUSDT 0.2 tensor(1.0195) 38 days 49.79% correct guesses\n",
      "ONDOUSDT 0.2 tensor(1.0475) 39 days 46.58% correct guesses\n",
      "OPUSDT 0.2 tensor(1.4745) 38 days 51.07% correct guesses\n",
      "POPCATUSDT 0.2 tensor(0.6286) 38 days 50.64% correct guesses\n",
      "SOLUSDT 0.2 tensor(0.7191) 39 days 49.15% correct guesses\n",
      "SUIUSDT 0.2 tensor(0.8874) 38 days 51.50% correct guesses\n",
      "TONUSDT 0.2 tensor(0.9825) 39 days 48.72% correct guesses\n",
      "WIFUSDT 0.2 tensor(2.0340) 39 days 53.85% correct guesses\n",
      "XRPUSDT 0.2 tensor(0.7587) 39 days 47.01% correct guesses\n",
      "ZENUSDT 0.2 tensor(0.8243) 38 days 46.78% correct guesses\n",
      "ZETAUSDT 0.2 tensor(0.6599) 39 days 43.16% correct guesses\n"
     ]
    },
    {
     "name": "stderr",
     "output_type": "stream",
     "text": [
      "                                               \r"
     ]
    },
    {
     "name": "stdout",
     "output_type": "stream",
     "text": [
      "Epoch 40100 Loss: 1.8137354345526546e-05\n"
     ]
    },
    {
     "name": "stderr",
     "output_type": "stream",
     "text": [
      "                                               \r"
     ]
    },
    {
     "name": "stdout",
     "output_type": "stream",
     "text": [
      "Epoch 40200 Loss: 1.7102709534810856e-05\n"
     ]
    },
    {
     "name": "stderr",
     "output_type": "stream",
     "text": [
      "                                               \r"
     ]
    },
    {
     "name": "stdout",
     "output_type": "stream",
     "text": [
      "Epoch 40300 Loss: 1.7377431504428387e-05\n"
     ]
    },
    {
     "name": "stderr",
     "output_type": "stream",
     "text": [
      "                                               \r"
     ]
    },
    {
     "name": "stdout",
     "output_type": "stream",
     "text": [
      "Epoch 40400 Loss: 1.4923341950634494e-05\n"
     ]
    },
    {
     "name": "stderr",
     "output_type": "stream",
     "text": [
      "                                               \r"
     ]
    },
    {
     "name": "stdout",
     "output_type": "stream",
     "text": [
      "Epoch 40500 Loss: 1.542986683489289e-05\n",
      "ADAUSDT 0.2 tensor(1.0480) 38 days 44.21% correct guesses\n",
      "APTUSDT 0.2 tensor(1.1562) 39 days 52.56% correct guesses\n",
      "AVAXUSDT 0.2 tensor(0.9987) 38 days 46.78% correct guesses\n",
      "BANANAUSDT 0.2 tensor(1.6414) 8 days 60.38% correct guesses\n",
      "BATUSDT 0.2 tensor(1.4299) 38 days 53.65% correct guesses\n",
      "BLZUSDT 0.2 tensor(1.2428) 38 days 51.07% correct guesses\n",
      "BNBUSDT 0.2 tensor(0.9056) 38 days 48.50% correct guesses\n",
      "BRETTUSDT 0.2 tensor(0.3648) 38 days 47.64% correct guesses\n",
      "BSVUSDT 0.2 tensor(1.8035) 38 days 54.51% correct guesses\n",
      "BTCUSDT 0.2 tensor(1.1668) 38 days 51.07% correct guesses\n",
      "C98USDT 0.2 tensor(0.8578) 39 days 48.29% correct guesses\n",
      "CEEKUSDT 0.2 tensor(0.7772) 38 days 43.35% correct guesses\n",
      "DOGEUSDT 0.2 tensor(1.1702) 39 days 55.56% correct guesses\n",
      "ETHUSDT 0.2 tensor(0.9987) 38 days 44.21% correct guesses\n",
      "LINKUSDT 0.2 tensor(1.8078) 38 days 53.65% correct guesses\n",
      "MEMEUSDT 0.2 tensor(0.6835) 38 days 47.64% correct guesses\n",
      "MNTUSDT 0.2 tensor(0.9526) 38 days 49.79% correct guesses\n",
      "ONDOUSDT 0.2 tensor(1.0390) 39 days 45.30% correct guesses\n",
      "OPUSDT 0.2 tensor(1.4025) 38 days 50.21% correct guesses\n",
      "POPCATUSDT 0.2 tensor(0.1846) 38 days 48.50% correct guesses\n",
      "SOLUSDT 0.2 tensor(0.7205) 39 days 49.15% correct guesses\n",
      "SUIUSDT 0.2 tensor(0.9197) 38 days 52.79% correct guesses\n",
      "TONUSDT 0.2 tensor(0.9893) 39 days 50.00% correct guesses\n",
      "WIFUSDT 0.2 tensor(1.9661) 39 days 53.85% correct guesses\n",
      "XRPUSDT 0.2 tensor(1.1538) 39 days 48.29% correct guesses\n",
      "ZENUSDT 0.2 tensor(0.8257) 38 days 47.64% correct guesses\n",
      "ZETAUSDT 0.2 tensor(0.5374) 39 days 42.74% correct guesses\n"
     ]
    },
    {
     "name": "stderr",
     "output_type": "stream",
     "text": [
      "                                               \r"
     ]
    },
    {
     "name": "stdout",
     "output_type": "stream",
     "text": [
      "Epoch 40600 Loss: 1.445987345505273e-05\n"
     ]
    },
    {
     "name": "stderr",
     "output_type": "stream",
     "text": [
      "                                               \r"
     ]
    },
    {
     "name": "stdout",
     "output_type": "stream",
     "text": [
      "Epoch 40700 Loss: 1.4810708307777531e-05\n"
     ]
    },
    {
     "name": "stderr",
     "output_type": "stream",
     "text": [
      "                                               \r"
     ]
    },
    {
     "name": "stdout",
     "output_type": "stream",
     "text": [
      "Epoch 40800 Loss: 2.1709483917220496e-05\n"
     ]
    },
    {
     "name": "stderr",
     "output_type": "stream",
     "text": [
      "                                               \r"
     ]
    },
    {
     "name": "stdout",
     "output_type": "stream",
     "text": [
      "Epoch 40900 Loss: 1.6722604414098896e-05\n"
     ]
    },
    {
     "name": "stderr",
     "output_type": "stream",
     "text": [
      "                                               \r"
     ]
    },
    {
     "name": "stdout",
     "output_type": "stream",
     "text": [
      "Epoch 41000 Loss: 1.691299257799983e-05\n",
      "ADAUSDT 0.2 tensor(1.1050) 38 days 45.92% correct guesses\n",
      "APTUSDT 0.2 tensor(1.1135) 39 days 52.99% correct guesses\n",
      "AVAXUSDT 0.2 tensor(0.8905) 38 days 46.35% correct guesses\n",
      "BANANAUSDT 0.2 tensor(1.7069) 8 days 60.38% correct guesses\n",
      "BATUSDT 0.2 tensor(1.3021) 38 days 52.79% correct guesses\n",
      "BLZUSDT 0.2 tensor(1.6660) 38 days 53.22% correct guesses\n",
      "BNBUSDT 0.2 tensor(0.9147) 38 days 48.50% correct guesses\n",
      "BRETTUSDT 0.2 tensor(0.5177) 38 days 47.64% correct guesses\n",
      "BSVUSDT 0.2 tensor(1.7574) 38 days 54.51% correct guesses\n",
      "BTCUSDT 0.2 tensor(0.9236) 38 days 47.64% correct guesses\n",
      "C98USDT 0.2 tensor(0.9104) 39 days 48.29% correct guesses\n",
      "CEEKUSDT 0.2 tensor(0.6689) 38 days 42.49% correct guesses\n",
      "DOGEUSDT 0.2 tensor(1.2444) 39 days 55.98% correct guesses\n",
      "ETHUSDT 0.2 tensor(1.0286) 38 days 43.78% correct guesses\n",
      "LINKUSDT 0.2 tensor(1.6161) 38 days 51.07% correct guesses\n",
      "MEMEUSDT 0.2 tensor(0.6888) 38 days 47.21% correct guesses\n",
      "MNTUSDT 0.2 tensor(0.9666) 38 days 50.21% correct guesses\n",
      "ONDOUSDT 0.2 tensor(1.1961) 39 days 47.01% correct guesses\n",
      "OPUSDT 0.2 tensor(1.4866) 38 days 51.07% correct guesses\n",
      "POPCATUSDT 0.2 tensor(0.2949) 38 days 49.79% correct guesses\n",
      "SOLUSDT 0.2 tensor(0.7096) 39 days 48.29% correct guesses\n",
      "SUIUSDT 0.2 tensor(1.2932) 38 days 52.36% correct guesses\n",
      "TONUSDT 0.2 tensor(1.0989) 39 days 47.86% correct guesses\n",
      "WIFUSDT 0.2 tensor(1.8978) 39 days 52.99% correct guesses\n",
      "XRPUSDT 0.2 tensor(0.9405) 39 days 48.72% correct guesses\n",
      "ZENUSDT 0.2 tensor(0.8196) 38 days 48.07% correct guesses\n",
      "ZETAUSDT 0.2 tensor(0.6154) 39 days 44.44% correct guesses\n"
     ]
    },
    {
     "name": "stderr",
     "output_type": "stream",
     "text": [
      "                                               \r"
     ]
    },
    {
     "name": "stdout",
     "output_type": "stream",
     "text": [
      "Epoch 41100 Loss: 2.0054289052495733e-05\n"
     ]
    },
    {
     "name": "stderr",
     "output_type": "stream",
     "text": [
      "                                               \r"
     ]
    },
    {
     "name": "stdout",
     "output_type": "stream",
     "text": [
      "Epoch 41200 Loss: 1.557988070999272e-05\n"
     ]
    },
    {
     "name": "stderr",
     "output_type": "stream",
     "text": [
      "                                               \r"
     ]
    },
    {
     "name": "stdout",
     "output_type": "stream",
     "text": [
      "Epoch 41300 Loss: 1.4939825632609427e-05\n"
     ]
    },
    {
     "name": "stderr",
     "output_type": "stream",
     "text": [
      "                                               \r"
     ]
    },
    {
     "name": "stdout",
     "output_type": "stream",
     "text": [
      "Epoch 41400 Loss: 1.5010838069429155e-05\n"
     ]
    },
    {
     "name": "stderr",
     "output_type": "stream",
     "text": [
      "                                               \r"
     ]
    },
    {
     "name": "stdout",
     "output_type": "stream",
     "text": [
      "Epoch 41500 Loss: 1.4810448192292824e-05\n",
      "ADAUSDT 0.2 tensor(1.0617) 38 days 45.06% correct guesses\n",
      "APTUSDT 0.2 tensor(1.5494) 39 days 53.85% correct guesses\n",
      "AVAXUSDT 0.2 tensor(0.9255) 38 days 47.21% correct guesses\n",
      "BANANAUSDT 0.2 tensor(1.6952) 8 days 58.49% correct guesses\n",
      "BATUSDT 0.2 tensor(1.4783) 38 days 54.08% correct guesses\n",
      "BLZUSDT 0.2 tensor(1.0605) 38 days 49.36% correct guesses\n",
      "BNBUSDT 0.2 tensor(0.9884) 38 days 49.36% correct guesses\n",
      "BRETTUSDT 0.2 tensor(0.3984) 38 days 45.92% correct guesses\n",
      "BSVUSDT 0.2 tensor(1.7757) 38 days 54.51% correct guesses\n",
      "BTCUSDT 0.2 tensor(1.1694) 38 days 50.21% correct guesses\n",
      "C98USDT 0.2 tensor(0.8636) 39 days 47.86% correct guesses\n",
      "CEEKUSDT 0.2 tensor(0.8303) 38 days 43.78% correct guesses\n",
      "DOGEUSDT 0.2 tensor(1.1388) 39 days 55.13% correct guesses\n",
      "ETHUSDT 0.2 tensor(1.0923) 38 days 45.06% correct guesses\n",
      "LINKUSDT 0.2 tensor(1.5519) 38 days 52.36% correct guesses\n",
      "MEMEUSDT 0.2 tensor(0.7222) 38 days 47.21% correct guesses\n",
      "MNTUSDT 0.2 tensor(0.9044) 38 days 48.93% correct guesses\n",
      "ONDOUSDT 0.2 tensor(1.0737) 39 days 45.30% correct guesses\n",
      "OPUSDT 0.2 tensor(1.5985) 38 days 51.07% correct guesses\n",
      "POPCATUSDT 0.2 tensor(0.4186) 38 days 50.21% correct guesses\n",
      "SOLUSDT 0.2 tensor(0.7244) 39 days 49.57% correct guesses\n",
      "SUIUSDT 0.2 tensor(0.8073) 38 days 51.50% correct guesses\n",
      "TONUSDT 0.2 tensor(1.3664) 39 days 50.00% correct guesses\n",
      "WIFUSDT 0.2 tensor(2.0354) 39 days 53.85% correct guesses\n",
      "XRPUSDT 0.2 tensor(1.0126) 39 days 46.15% correct guesses\n",
      "ZENUSDT 0.2 tensor(0.7939) 38 days 47.21% correct guesses\n",
      "ZETAUSDT 0.2 tensor(0.5843) 39 days 44.02% correct guesses\n"
     ]
    },
    {
     "name": "stderr",
     "output_type": "stream",
     "text": [
      "                                               \r"
     ]
    },
    {
     "name": "stdout",
     "output_type": "stream",
     "text": [
      "Epoch 41600 Loss: 1.513927782070823e-05\n"
     ]
    },
    {
     "name": "stderr",
     "output_type": "stream",
     "text": [
      "                                               \r"
     ]
    },
    {
     "name": "stdout",
     "output_type": "stream",
     "text": [
      "Epoch 41700 Loss: 1.666500247665681e-05\n"
     ]
    },
    {
     "name": "stderr",
     "output_type": "stream",
     "text": [
      "                                               \r"
     ]
    },
    {
     "name": "stdout",
     "output_type": "stream",
     "text": [
      "Epoch 41800 Loss: 1.573963527334854e-05\n"
     ]
    },
    {
     "name": "stderr",
     "output_type": "stream",
     "text": [
      "                                               \r"
     ]
    },
    {
     "name": "stdout",
     "output_type": "stream",
     "text": [
      "Epoch 41900 Loss: 1.618363785382826e-05\n"
     ]
    },
    {
     "name": "stderr",
     "output_type": "stream",
     "text": [
      "                                               \r"
     ]
    },
    {
     "name": "stdout",
     "output_type": "stream",
     "text": [
      "Epoch 42000 Loss: 1.6687914467183873e-05\n",
      "ADAUSDT 0.2 tensor(1.1613) 38 days 45.92% correct guesses\n",
      "APTUSDT 0.2 tensor(1.1114) 39 days 52.56% correct guesses\n",
      "AVAXUSDT 0.2 tensor(0.9423) 38 days 46.35% correct guesses\n",
      "BANANAUSDT 0.2 tensor(1.6834) 8 days 58.49% correct guesses\n",
      "BATUSDT 0.2 tensor(1.4340) 38 days 53.65% correct guesses\n",
      "BLZUSDT 0.2 tensor(1.1697) 38 days 51.50% correct guesses\n",
      "BNBUSDT 0.2 tensor(0.9868) 38 days 48.93% correct guesses\n",
      "BRETTUSDT 0.2 tensor(0.4783) 38 days 47.21% correct guesses\n",
      "BSVUSDT 0.2 tensor(1.6760) 38 days 54.08% correct guesses\n",
      "BTCUSDT 0.2 tensor(1.0608) 38 days 49.79% correct guesses\n",
      "C98USDT 0.2 tensor(0.9217) 39 days 47.86% correct guesses\n",
      "CEEKUSDT 0.2 tensor(0.7347) 38 days 42.49% correct guesses\n",
      "DOGEUSDT 0.2 tensor(1.1979) 39 days 55.98% correct guesses\n",
      "ETHUSDT 0.2 tensor(1.1137) 38 days 45.49% correct guesses\n",
      "LINKUSDT 0.2 tensor(1.9350) 38 days 54.94% correct guesses\n",
      "MEMEUSDT 0.2 tensor(0.7432) 38 days 48.07% correct guesses\n",
      "MNTUSDT 0.2 tensor(0.9639) 38 days 50.64% correct guesses\n",
      "ONDOUSDT 0.2 tensor(1.1597) 39 days 46.15% correct guesses\n",
      "OPUSDT 0.2 tensor(1.7434) 38 days 51.93% correct guesses\n",
      "POPCATUSDT 0.2 tensor(0.2498) 38 days 48.93% correct guesses\n",
      "SOLUSDT 0.2 tensor(0.7422) 39 days 50.43% correct guesses\n",
      "SUIUSDT 0.2 tensor(0.9976) 38 days 50.21% correct guesses\n",
      "TONUSDT 0.2 tensor(1.3105) 39 days 51.28% correct guesses\n",
      "WIFUSDT 0.2 tensor(1.7699) 39 days 52.99% correct guesses\n",
      "XRPUSDT 0.2 tensor(0.9919) 39 days 49.15% correct guesses\n",
      "ZENUSDT 0.2 tensor(0.7746) 38 days 47.21% correct guesses\n",
      "ZETAUSDT 0.2 tensor(0.5736) 39 days 43.59% correct guesses\n"
     ]
    },
    {
     "name": "stderr",
     "output_type": "stream",
     "text": [
      "                                               \r"
     ]
    },
    {
     "name": "stdout",
     "output_type": "stream",
     "text": [
      "Epoch 42100 Loss: 1.5513553080381826e-05\n"
     ]
    },
    {
     "name": "stderr",
     "output_type": "stream",
     "text": [
      "                                               \r"
     ]
    },
    {
     "name": "stdout",
     "output_type": "stream",
     "text": [
      "Epoch 42200 Loss: 1.4481334801530465e-05\n"
     ]
    },
    {
     "name": "stderr",
     "output_type": "stream",
     "text": [
      "                                               \r"
     ]
    },
    {
     "name": "stdout",
     "output_type": "stream",
     "text": [
      "Epoch 42300 Loss: 1.4681721950182691e-05\n"
     ]
    },
    {
     "name": "stderr",
     "output_type": "stream",
     "text": [
      "                                               \r"
     ]
    },
    {
     "name": "stdout",
     "output_type": "stream",
     "text": [
      "Epoch 42400 Loss: 1.6733649317757227e-05\n"
     ]
    },
    {
     "name": "stderr",
     "output_type": "stream",
     "text": [
      "                                               \r"
     ]
    },
    {
     "name": "stdout",
     "output_type": "stream",
     "text": [
      "Epoch 42500 Loss: 1.4735212971572764e-05\n",
      "ADAUSDT 0.2 tensor(1.1375) 38 days 46.35% correct guesses\n",
      "APTUSDT 0.2 tensor(1.4580) 39 days 53.85% correct guesses\n",
      "AVAXUSDT 0.2 tensor(0.9699) 38 days 46.78% correct guesses\n",
      "BANANAUSDT 0.2 tensor(1.6834) 8 days 58.49% correct guesses\n",
      "BATUSDT 0.2 tensor(1.5059) 38 days 53.65% correct guesses\n",
      "BLZUSDT 0.2 tensor(1.4050) 38 days 53.65% correct guesses\n",
      "BNBUSDT 0.2 tensor(0.9222) 38 days 47.64% correct guesses\n",
      "BRETTUSDT 0.2 tensor(0.4274) 38 days 46.35% correct guesses\n",
      "BSVUSDT 0.2 tensor(1.7763) 38 days 54.51% correct guesses\n",
      "BTCUSDT 0.2 tensor(1.0229) 38 days 50.21% correct guesses\n",
      "C98USDT 0.2 tensor(0.8516) 39 days 47.44% correct guesses\n",
      "CEEKUSDT 0.2 tensor(0.8908) 38 days 44.64% correct guesses\n",
      "DOGEUSDT 0.2 tensor(1.3307) 39 days 57.26% correct guesses\n",
      "ETHUSDT 0.2 tensor(1.0526) 38 days 45.06% correct guesses\n",
      "LINKUSDT 0.2 tensor(1.6137) 38 days 52.79% correct guesses\n",
      "MEMEUSDT 0.2 tensor(0.6238) 38 days 46.78% correct guesses\n",
      "MNTUSDT 0.2 tensor(1.0040) 38 days 49.79% correct guesses\n",
      "ONDOUSDT 0.2 tensor(1.0977) 39 days 46.58% correct guesses\n",
      "OPUSDT 0.2 tensor(1.6269) 38 days 51.93% correct guesses\n",
      "POPCATUSDT 0.2 tensor(0.2377) 38 days 46.78% correct guesses\n",
      "SOLUSDT 0.2 tensor(0.8028) 39 days 50.85% correct guesses\n",
      "SUIUSDT 0.2 tensor(0.9947) 38 days 52.79% correct guesses\n",
      "TONUSDT 0.2 tensor(1.1840) 39 days 50.00% correct guesses\n",
      "WIFUSDT 0.2 tensor(2.0076) 39 days 53.85% correct guesses\n",
      "XRPUSDT 0.2 tensor(1.3530) 39 days 49.57% correct guesses\n",
      "ZENUSDT 0.2 tensor(0.7943) 38 days 47.64% correct guesses\n",
      "ZETAUSDT 0.2 tensor(0.6422) 39 days 43.59% correct guesses\n"
     ]
    },
    {
     "name": "stderr",
     "output_type": "stream",
     "text": [
      "                                               \r"
     ]
    },
    {
     "name": "stdout",
     "output_type": "stream",
     "text": [
      "Epoch 42600 Loss: 1.6026035154936835e-05\n"
     ]
    },
    {
     "name": "stderr",
     "output_type": "stream",
     "text": [
      "                                               \r"
     ]
    },
    {
     "name": "stdout",
     "output_type": "stream",
     "text": [
      "Epoch 42700 Loss: 1.413445806974778e-05\n"
     ]
    },
    {
     "name": "stderr",
     "output_type": "stream",
     "text": [
      "                                               \r"
     ]
    },
    {
     "name": "stdout",
     "output_type": "stream",
     "text": [
      "Epoch 42800 Loss: 1.478149260947248e-05\n"
     ]
    },
    {
     "name": "stderr",
     "output_type": "stream",
     "text": [
      "                                               \r"
     ]
    },
    {
     "name": "stdout",
     "output_type": "stream",
     "text": [
      "Epoch 42900 Loss: 1.4187475244398229e-05\n"
     ]
    },
    {
     "name": "stderr",
     "output_type": "stream",
     "text": [
      "                                               \r"
     ]
    },
    {
     "name": "stdout",
     "output_type": "stream",
     "text": [
      "Epoch 43000 Loss: 1.5525229173363186e-05\n",
      "ADAUSDT 0.2 tensor(1.0001) 38 days 45.06% correct guesses\n",
      "APTUSDT 0.2 tensor(1.2720) 39 days 54.27% correct guesses\n",
      "AVAXUSDT 0.2 tensor(0.9461) 38 days 47.64% correct guesses\n",
      "BANANAUSDT 0.2 tensor(1.7042) 8 days 60.38% correct guesses\n",
      "BATUSDT 0.2 tensor(1.3882) 38 days 52.79% correct guesses\n",
      "BLZUSDT 0.2 tensor(1.4542) 38 days 53.65% correct guesses\n",
      "BNBUSDT 0.2 tensor(0.8601) 38 days 47.64% correct guesses\n",
      "BRETTUSDT 0.2 tensor(0.4575) 38 days 46.35% correct guesses\n",
      "BSVUSDT 0.2 tensor(1.9014) 38 days 54.51% correct guesses\n",
      "BTCUSDT 0.2 tensor(1.0591) 38 days 49.79% correct guesses\n",
      "C98USDT 0.2 tensor(0.9182) 39 days 48.29% correct guesses\n",
      "CEEKUSDT 0.2 tensor(0.8994) 38 days 45.06% correct guesses\n",
      "DOGEUSDT 0.2 tensor(1.1319) 39 days 55.13% correct guesses\n",
      "ETHUSDT 0.2 tensor(1.0908) 38 days 44.64% correct guesses\n",
      "LINKUSDT 0.2 tensor(1.7795) 38 days 54.51% correct guesses\n",
      "MEMEUSDT 0.2 tensor(0.7339) 38 days 48.07% correct guesses\n",
      "MNTUSDT 0.2 tensor(0.9473) 38 days 49.36% correct guesses\n",
      "ONDOUSDT 0.2 tensor(0.9393) 39 days 44.44% correct guesses\n",
      "OPUSDT 0.2 tensor(1.5444) 38 days 51.50% correct guesses\n",
      "POPCATUSDT 0.2 tensor(0.3061) 38 days 47.21% correct guesses\n",
      "SOLUSDT 0.2 tensor(0.7871) 39 days 50.43% correct guesses\n",
      "SUIUSDT 0.2 tensor(1.3499) 38 days 53.65% correct guesses\n",
      "TONUSDT 0.2 tensor(1.1870) 39 days 49.15% correct guesses\n",
      "WIFUSDT 0.2 tensor(2.0825) 39 days 54.27% correct guesses\n",
      "XRPUSDT 0.2 tensor(0.8362) 39 days 45.73% correct guesses\n",
      "ZENUSDT 0.2 tensor(0.7635) 38 days 47.64% correct guesses\n",
      "ZETAUSDT 0.2 tensor(0.6534) 39 days 44.44% correct guesses\n"
     ]
    },
    {
     "name": "stderr",
     "output_type": "stream",
     "text": [
      "                                               \r"
     ]
    },
    {
     "name": "stdout",
     "output_type": "stream",
     "text": [
      "Epoch 43100 Loss: 1.8150436517316848e-05\n"
     ]
    },
    {
     "name": "stderr",
     "output_type": "stream",
     "text": [
      "                                               \r"
     ]
    },
    {
     "name": "stdout",
     "output_type": "stream",
     "text": [
      "Epoch 43200 Loss: 1.672634061833378e-05\n"
     ]
    },
    {
     "name": "stderr",
     "output_type": "stream",
     "text": [
      "                                               \r"
     ]
    },
    {
     "name": "stdout",
     "output_type": "stream",
     "text": [
      "Epoch 43300 Loss: 1.329460610577371e-05\n"
     ]
    },
    {
     "name": "stderr",
     "output_type": "stream",
     "text": [
      "                                               \r"
     ]
    },
    {
     "name": "stdout",
     "output_type": "stream",
     "text": [
      "Epoch 43400 Loss: 1.613276072021108e-05\n"
     ]
    },
    {
     "name": "stderr",
     "output_type": "stream",
     "text": [
      "                                               \r"
     ]
    },
    {
     "name": "stdout",
     "output_type": "stream",
     "text": [
      "Epoch 43500 Loss: 1.8521906895330176e-05\n",
      "ADAUSDT 0.2 tensor(1.2449) 38 days 47.21% correct guesses\n",
      "APTUSDT 0.2 tensor(1.5686) 39 days 53.85% correct guesses\n",
      "AVAXUSDT 0.2 tensor(1.0258) 38 days 47.21% correct guesses\n",
      "BANANAUSDT 0.2 tensor(1.7308) 8 days 62.26% correct guesses\n",
      "BATUSDT 0.2 tensor(1.5130) 38 days 56.22% correct guesses\n",
      "BLZUSDT 0.2 tensor(1.2371) 38 days 51.93% correct guesses\n",
      "BNBUSDT 0.2 tensor(0.9800) 38 days 49.36% correct guesses\n",
      "BRETTUSDT 0.2 tensor(0.3936) 38 days 45.49% correct guesses\n",
      "BSVUSDT 0.2 tensor(1.8216) 38 days 53.65% correct guesses\n",
      "BTCUSDT 0.2 tensor(1.0919) 38 days 48.50% correct guesses\n",
      "C98USDT 0.2 tensor(0.9099) 39 days 50.00% correct guesses\n",
      "CEEKUSDT 0.2 tensor(0.8230) 38 days 43.78% correct guesses\n",
      "DOGEUSDT 0.2 tensor(1.1186) 39 days 55.13% correct guesses\n",
      "ETHUSDT 0.2 tensor(0.9856) 38 days 44.21% correct guesses\n",
      "LINKUSDT 0.2 tensor(1.6455) 38 days 52.36% correct guesses\n",
      "MEMEUSDT 0.2 tensor(0.6615) 38 days 46.78% correct guesses\n",
      "MNTUSDT 0.2 tensor(0.9670) 38 days 49.79% correct guesses\n",
      "ONDOUSDT 0.2 tensor(0.9932) 39 days 46.15% correct guesses\n",
      "OPUSDT 0.2 tensor(1.7370) 38 days 51.93% correct guesses\n",
      "POPCATUSDT 0.2 tensor(0.3908) 38 days 48.50% correct guesses\n",
      "SOLUSDT 0.2 tensor(0.9249) 39 days 51.28% correct guesses\n",
      "SUIUSDT 0.2 tensor(1.0847) 38 days 52.36% correct guesses\n",
      "TONUSDT 0.2 tensor(1.0338) 39 days 49.57% correct guesses\n",
      "WIFUSDT 0.2 tensor(2.0759) 39 days 53.85% correct guesses\n",
      "XRPUSDT 0.2 tensor(1.0044) 39 days 48.72% correct guesses\n",
      "ZENUSDT 0.2 tensor(0.7766) 38 days 48.50% correct guesses\n",
      "ZETAUSDT 0.2 tensor(0.6793) 39 days 44.87% correct guesses\n"
     ]
    },
    {
     "name": "stderr",
     "output_type": "stream",
     "text": [
      "                                               \r"
     ]
    },
    {
     "name": "stdout",
     "output_type": "stream",
     "text": [
      "Epoch 43600 Loss: 1.5577965314150788e-05\n"
     ]
    },
    {
     "name": "stderr",
     "output_type": "stream",
     "text": [
      "                                               \r"
     ]
    },
    {
     "name": "stdout",
     "output_type": "stream",
     "text": [
      "Epoch 43700 Loss: 1.6533442249055952e-05\n"
     ]
    },
    {
     "name": "stderr",
     "output_type": "stream",
     "text": [
      "                                               \r"
     ]
    },
    {
     "name": "stdout",
     "output_type": "stream",
     "text": [
      "Epoch 43800 Loss: 2.225885691586882e-05\n"
     ]
    },
    {
     "name": "stderr",
     "output_type": "stream",
     "text": [
      "                                               \r"
     ]
    },
    {
     "name": "stdout",
     "output_type": "stream",
     "text": [
      "Epoch 43900 Loss: 1.7432232198189013e-05\n"
     ]
    },
    {
     "name": "stderr",
     "output_type": "stream",
     "text": [
      "                                               \r"
     ]
    },
    {
     "name": "stdout",
     "output_type": "stream",
     "text": [
      "Epoch 44000 Loss: 1.8675280443858355e-05\n",
      "ADAUSDT 0.2 tensor(1.1970) 38 days 46.78% correct guesses\n",
      "APTUSDT 0.2 tensor(1.7324) 39 days 54.70% correct guesses\n",
      "AVAXUSDT 0.2 tensor(1.0309) 38 days 47.64% correct guesses\n",
      "BANANAUSDT 0.2 tensor(1.7070) 8 days 60.38% correct guesses\n",
      "BATUSDT 0.2 tensor(1.4783) 38 days 53.65% correct guesses\n",
      "BLZUSDT 0.2 tensor(1.3135) 38 days 53.22% correct guesses\n",
      "BNBUSDT 0.2 tensor(0.9294) 38 days 48.93% correct guesses\n",
      "BRETTUSDT 0.2 tensor(0.3922) 38 days 46.35% correct guesses\n",
      "BSVUSDT 0.2 tensor(1.6452) 38 days 53.22% correct guesses\n",
      "BTCUSDT 0.2 tensor(1.1478) 38 days 51.93% correct guesses\n",
      "C98USDT 0.2 tensor(0.8573) 39 days 48.29% correct guesses\n",
      "CEEKUSDT 0.2 tensor(0.7773) 38 days 42.49% correct guesses\n",
      "DOGEUSDT 0.2 tensor(1.0341) 39 days 54.70% correct guesses\n",
      "ETHUSDT 0.2 tensor(0.9690) 38 days 42.92% correct guesses\n",
      "LINKUSDT 0.2 tensor(1.7503) 38 days 52.79% correct guesses\n",
      "MEMEUSDT 0.2 tensor(0.7203) 38 days 49.36% correct guesses\n",
      "MNTUSDT 0.2 tensor(0.9556) 38 days 49.79% correct guesses\n",
      "ONDOUSDT 0.2 tensor(0.9354) 39 days 46.15% correct guesses\n",
      "OPUSDT 0.2 tensor(1.9667) 38 days 54.08% correct guesses\n",
      "POPCATUSDT 0.2 tensor(0.2682) 38 days 45.49% correct guesses\n",
      "SOLUSDT 0.2 tensor(0.9336) 39 days 52.56% correct guesses\n",
      "SUIUSDT 0.2 tensor(1.4569) 38 days 53.65% correct guesses\n",
      "TONUSDT 0.2 tensor(0.7900) 39 days 47.01% correct guesses\n",
      "WIFUSDT 0.2 tensor(2.1664) 39 days 53.42% correct guesses\n",
      "XRPUSDT 0.2 tensor(0.8721) 39 days 48.29% correct guesses\n",
      "ZENUSDT 0.2 tensor(0.7844) 38 days 48.50% correct guesses\n",
      "ZETAUSDT 0.2 tensor(0.6028) 39 days 44.02% correct guesses\n"
     ]
    },
    {
     "name": "stderr",
     "output_type": "stream",
     "text": [
      "                                               \r"
     ]
    },
    {
     "name": "stdout",
     "output_type": "stream",
     "text": [
      "Epoch 44100 Loss: 1.7568669136380777e-05\n"
     ]
    },
    {
     "name": "stderr",
     "output_type": "stream",
     "text": [
      "                                               \r"
     ]
    },
    {
     "name": "stdout",
     "output_type": "stream",
     "text": [
      "Epoch 44200 Loss: 1.761246494424995e-05\n"
     ]
    },
    {
     "name": "stderr",
     "output_type": "stream",
     "text": [
      "                                               \r"
     ]
    },
    {
     "name": "stdout",
     "output_type": "stream",
     "text": [
      "Epoch 44300 Loss: 1.743322536640335e-05\n"
     ]
    },
    {
     "name": "stderr",
     "output_type": "stream",
     "text": [
      "                                               \r"
     ]
    },
    {
     "name": "stdout",
     "output_type": "stream",
     "text": [
      "Epoch 44400 Loss: 1.577895091031678e-05\n"
     ]
    },
    {
     "name": "stderr",
     "output_type": "stream",
     "text": [
      "                                               \r"
     ]
    },
    {
     "name": "stdout",
     "output_type": "stream",
     "text": [
      "Epoch 44500 Loss: 1.67010093719e-05\n",
      "ADAUSDT 0.2 tensor(1.0516) 38 days 45.49% correct guesses\n",
      "APTUSDT 0.2 tensor(1.5239) 39 days 53.85% correct guesses\n",
      "AVAXUSDT 0.2 tensor(1.0613) 38 days 48.50% correct guesses\n",
      "BANANAUSDT 0.2 tensor(1.7042) 8 days 60.38% correct guesses\n",
      "BATUSDT 0.2 tensor(1.5308) 38 days 56.22% correct guesses\n",
      "BLZUSDT 0.2 tensor(1.4511) 38 days 54.94% correct guesses\n",
      "BNBUSDT 0.2 tensor(1.0427) 38 days 49.79% correct guesses\n",
      "BRETTUSDT 0.2 tensor(0.4375) 38 days 45.92% correct guesses\n",
      "BSVUSDT 0.2 tensor(1.8154) 38 days 54.94% correct guesses\n",
      "BTCUSDT 0.2 tensor(1.1386) 38 days 51.93% correct guesses\n",
      "C98USDT 0.2 tensor(0.8892) 39 days 49.15% correct guesses\n",
      "CEEKUSDT 0.2 tensor(0.8028) 38 days 42.49% correct guesses\n",
      "DOGEUSDT 0.2 tensor(1.2283) 39 days 55.98% correct guesses\n",
      "ETHUSDT 0.2 tensor(1.0978) 38 days 45.49% correct guesses\n",
      "LINKUSDT 0.2 tensor(1.9994) 38 days 54.08% correct guesses\n",
      "MEMEUSDT 0.2 tensor(0.6194) 38 days 46.35% correct guesses\n",
      "MNTUSDT 0.2 tensor(0.9601) 38 days 49.79% correct guesses\n",
      "ONDOUSDT 0.2 tensor(0.8494) 39 days 45.30% correct guesses\n",
      "OPUSDT 0.2 tensor(1.4993) 38 days 50.21% correct guesses\n",
      "POPCATUSDT 0.2 tensor(0.4703) 38 days 48.50% correct guesses\n",
      "SOLUSDT 0.2 tensor(0.8265) 39 days 50.85% correct guesses\n",
      "SUIUSDT 0.2 tensor(1.2083) 38 days 52.36% correct guesses\n",
      "TONUSDT 0.2 tensor(0.9816) 39 days 47.86% correct guesses\n",
      "WIFUSDT 0.2 tensor(2.3595) 39 days 54.70% correct guesses\n",
      "XRPUSDT 0.2 tensor(0.9944) 39 days 49.15% correct guesses\n",
      "ZENUSDT 0.2 tensor(0.8229) 38 days 48.07% correct guesses\n",
      "ZETAUSDT 0.2 tensor(0.5971) 39 days 43.59% correct guesses\n"
     ]
    },
    {
     "name": "stderr",
     "output_type": "stream",
     "text": [
      "                                                \r"
     ]
    },
    {
     "name": "stdout",
     "output_type": "stream",
     "text": [
      "Epoch 44600 Loss: 1.3632940863317344e-05\n"
     ]
    },
    {
     "name": "stderr",
     "output_type": "stream",
     "text": [
      "                                               \r"
     ]
    },
    {
     "name": "stdout",
     "output_type": "stream",
     "text": [
      "Epoch 44700 Loss: 1.6838299416122027e-05\n"
     ]
    },
    {
     "name": "stderr",
     "output_type": "stream",
     "text": [
      "                                               \r"
     ]
    },
    {
     "name": "stdout",
     "output_type": "stream",
     "text": [
      "Epoch 44800 Loss: 1.4779366210859735e-05\n"
     ]
    },
    {
     "name": "stderr",
     "output_type": "stream",
     "text": [
      "                                               \r"
     ]
    },
    {
     "name": "stdout",
     "output_type": "stream",
     "text": [
      "Epoch 44900 Loss: 1.576271461090073e-05\n"
     ]
    },
    {
     "name": "stderr",
     "output_type": "stream",
     "text": [
      "                                               \r"
     ]
    },
    {
     "name": "stdout",
     "output_type": "stream",
     "text": [
      "Epoch 45000 Loss: 1.5797755622770637e-05\n",
      "ADAUSDT 0.2 tensor(1.0917) 38 days 45.06% correct guesses\n",
      "APTUSDT 0.2 tensor(1.6055) 39 days 54.27% correct guesses\n",
      "AVAXUSDT 0.2 tensor(1.0220) 38 days 48.50% correct guesses\n",
      "BANANAUSDT 0.2 tensor(1.6952) 8 days 60.38% correct guesses\n",
      "BATUSDT 0.2 tensor(1.4691) 38 days 56.22% correct guesses\n",
      "BLZUSDT 0.2 tensor(1.5300) 38 days 54.94% correct guesses\n",
      "BNBUSDT 0.2 tensor(1.0228) 38 days 50.21% correct guesses\n",
      "BRETTUSDT 0.2 tensor(0.4656) 38 days 47.21% correct guesses\n",
      "BSVUSDT 0.2 tensor(1.6162) 38 days 54.51% correct guesses\n",
      "BTCUSDT 0.2 tensor(1.0857) 38 days 51.50% correct guesses\n",
      "C98USDT 0.2 tensor(0.9732) 39 days 50.00% correct guesses\n",
      "CEEKUSDT 0.2 tensor(0.8465) 38 days 43.78% correct guesses\n",
      "DOGEUSDT 0.2 tensor(1.0881) 39 days 54.70% correct guesses\n",
      "ETHUSDT 0.2 tensor(1.0169) 38 days 43.78% correct guesses\n",
      "LINKUSDT 0.2 tensor(1.7215) 38 days 53.22% correct guesses\n",
      "MEMEUSDT 0.2 tensor(0.6558) 38 days 46.78% correct guesses\n",
      "MNTUSDT 0.2 tensor(0.9383) 38 days 49.36% correct guesses\n",
      "ONDOUSDT 0.2 tensor(0.9395) 39 days 45.30% correct guesses\n",
      "OPUSDT 0.2 tensor(1.6567) 38 days 52.36% correct guesses\n",
      "POPCATUSDT 0.2 tensor(0.3390) 38 days 46.78% correct guesses\n",
      "SOLUSDT 0.2 tensor(0.7514) 39 days 50.43% correct guesses\n",
      "SUIUSDT 0.2 tensor(1.0488) 38 days 50.64% correct guesses\n",
      "TONUSDT 0.2 tensor(0.8894) 39 days 48.72% correct guesses\n",
      "WIFUSDT 0.2 tensor(2.2715) 39 days 53.85% correct guesses\n",
      "XRPUSDT 0.2 tensor(0.9074) 39 days 49.15% correct guesses\n",
      "ZENUSDT 0.2 tensor(0.6799) 38 days 47.21% correct guesses\n",
      "ZETAUSDT 0.2 tensor(0.6901) 39 days 46.15% correct guesses\n"
     ]
    },
    {
     "name": "stderr",
     "output_type": "stream",
     "text": [
      "                                               \r"
     ]
    },
    {
     "name": "stdout",
     "output_type": "stream",
     "text": [
      "Epoch 45100 Loss: 1.4140903658699244e-05\n"
     ]
    },
    {
     "name": "stderr",
     "output_type": "stream",
     "text": [
      "                                               \r"
     ]
    },
    {
     "name": "stdout",
     "output_type": "stream",
     "text": [
      "Epoch 45200 Loss: 1.64020384545438e-05\n"
     ]
    },
    {
     "name": "stderr",
     "output_type": "stream",
     "text": [
      "                                               \r"
     ]
    },
    {
     "name": "stdout",
     "output_type": "stream",
     "text": [
      "Epoch 45300 Loss: 1.566549326526001e-05\n"
     ]
    },
    {
     "name": "stderr",
     "output_type": "stream",
     "text": [
      "                                               \r"
     ]
    },
    {
     "name": "stdout",
     "output_type": "stream",
     "text": [
      "Epoch 45400 Loss: 1.596890615473967e-05\n"
     ]
    },
    {
     "name": "stderr",
     "output_type": "stream",
     "text": [
      "                                               \r"
     ]
    },
    {
     "name": "stdout",
     "output_type": "stream",
     "text": [
      "Epoch 45500 Loss: 1.5142003576329444e-05\n",
      "ADAUSDT 0.2 tensor(1.1478) 38 days 45.92% correct guesses\n",
      "APTUSDT 0.2 tensor(1.6476) 39 days 55.13% correct guesses\n",
      "AVAXUSDT 0.2 tensor(1.0459) 38 days 48.50% correct guesses\n",
      "BANANAUSDT 0.2 tensor(1.6624) 8 days 56.60% correct guesses\n",
      "BATUSDT 0.2 tensor(1.4653) 38 days 54.08% correct guesses\n",
      "BLZUSDT 0.2 tensor(1.2792) 38 days 53.22% correct guesses\n",
      "BNBUSDT 0.2 tensor(1.0515) 38 days 49.79% correct guesses\n",
      "BRETTUSDT 0.2 tensor(0.5251) 38 days 47.64% correct guesses\n",
      "BSVUSDT 0.2 tensor(1.6088) 38 days 55.36% correct guesses\n",
      "BTCUSDT 0.2 tensor(1.0847) 38 days 51.50% correct guesses\n",
      "C98USDT 0.2 tensor(0.9388) 39 days 49.57% correct guesses\n",
      "CEEKUSDT 0.2 tensor(0.8765) 38 days 44.21% correct guesses\n",
      "DOGEUSDT 0.2 tensor(1.0930) 39 days 55.56% correct guesses\n",
      "ETHUSDT 0.2 tensor(1.0523) 38 days 44.64% correct guesses\n",
      "LINKUSDT 0.2 tensor(1.8255) 38 days 53.22% correct guesses\n",
      "MEMEUSDT 0.2 tensor(0.7365) 38 days 47.64% correct guesses\n",
      "MNTUSDT 0.2 tensor(1.0307) 38 days 50.64% correct guesses\n",
      "ONDOUSDT 0.2 tensor(0.8677) 39 days 45.30% correct guesses\n",
      "OPUSDT 0.2 tensor(1.7866) 38 days 51.93% correct guesses\n",
      "POPCATUSDT 0.2 tensor(0.3487) 38 days 47.21% correct guesses\n",
      "SOLUSDT 0.2 tensor(0.8892) 39 days 50.85% correct guesses\n",
      "SUIUSDT 0.2 tensor(1.1960) 38 days 52.79% correct guesses\n",
      "TONUSDT 0.2 tensor(0.7818) 39 days 47.01% correct guesses\n",
      "WIFUSDT 0.2 tensor(2.2967) 39 days 53.42% correct guesses\n",
      "XRPUSDT 0.2 tensor(0.8991) 39 days 47.44% correct guesses\n",
      "ZENUSDT 0.2 tensor(0.7772) 38 days 48.50% correct guesses\n",
      "ZETAUSDT 0.2 tensor(0.6811) 39 days 45.30% correct guesses\n"
     ]
    },
    {
     "name": "stderr",
     "output_type": "stream",
     "text": [
      "                                               \r"
     ]
    },
    {
     "name": "stdout",
     "output_type": "stream",
     "text": [
      "Epoch 45600 Loss: 1.6945488823694177e-05\n"
     ]
    },
    {
     "name": "stderr",
     "output_type": "stream",
     "text": [
      "                                               \r"
     ]
    },
    {
     "name": "stdout",
     "output_type": "stream",
     "text": [
      "Epoch 45700 Loss: 1.4381194887391757e-05\n"
     ]
    },
    {
     "name": "stderr",
     "output_type": "stream",
     "text": [
      "                                               \r"
     ]
    },
    {
     "name": "stdout",
     "output_type": "stream",
     "text": [
      "Epoch 45800 Loss: 1.6724819943192415e-05\n"
     ]
    },
    {
     "name": "stderr",
     "output_type": "stream",
     "text": [
      "                                               \r"
     ]
    },
    {
     "name": "stdout",
     "output_type": "stream",
     "text": [
      "Epoch 45900 Loss: 1.3113747627357952e-05\n"
     ]
    },
    {
     "name": "stderr",
     "output_type": "stream",
     "text": [
      "                                               "
     ]
    }
   ],
   "source": [
    "model = TradingNN()\n",
    "criterion = nn.MSELoss()\n",
    "optimizer = torch.optim.AdamW(model.parameters(), lr=0.001)\n",
    "\n",
    "best_sum_of_logs = 0\n",
    "\n",
    "for epoch in range(NUM_EPOCHS):\n",
    "    for X_batch, Y_batch in tqdm(dataloader, leave=False):\n",
    "        X_batch = X_batch\n",
    "        optimizer.zero_grad()\n",
    "        Y_pred, mean, std = model(X_batch)\n",
    "        loss = criterion(Y_pred, Y_batch)\n",
    "        loss.backward()\n",
    "        optimizer.step()\n",
    "\n",
    "    Ypred_test, _, _ = model(Xtest)\n",
    "    loss_test = criterion(Ypred_test, Ytest)\n",
    "\n",
    "    wandb.log({\"loss\": {\n",
    "        \"train\": loss.item(),\n",
    "        \"test\": loss_test\n",
    "    }},\n",
    "              commit=False)\n",
    "\n",
    "    if (epoch + 1) % 100 == 0 or epoch == 0:\n",
    "        print(f\"Epoch {epoch+1} Loss: {loss.item()}\")\n",
    "\n",
    "        model.eval()\n",
    "\n",
    "        sum_of_logs = {}\n",
    "\n",
    "        for symbol in Xtest_dict.keys():\n",
    "\n",
    "            confidence_money_values = {}\n",
    "\n",
    "            for confidence_threshold in CONFIDENCE_THRESHOLDS:\n",
    "                money, days, _, correct_rate = test_run(\n",
    "                    model,\n",
    "                    Xtest_dict[symbol],\n",
    "                    Ytest_dict[symbol],\n",
    "                    confidence_threshold,\n",
    "                    f\"output/{symbol.split('-')[0]}\",\n",
    "                    f\"{epoch+1}.txt\",\n",
    "                    fee=0)\n",
    "\n",
    "                if (epoch + 1) % 500 == 0 or epoch == 0:\n",
    "                    print(symbol, confidence_threshold, money, int(days),\n",
    "                          \"days\",\n",
    "                          f\"{(correct_rate * 100):.2f}% correct guesses\")\n",
    "\n",
    "                if confidence_threshold in sum_of_logs:\n",
    "                    sum_of_logs[confidence_threshold] += torch.log(money)\n",
    "                else:\n",
    "                    sum_of_logs[confidence_threshold] = torch.log(money)\n",
    "                confidence_money_values[confidence_threshold] = money.item()\n",
    "\n",
    "            wandb.log({symbol: confidence_money_values}, commit=False)\n",
    "\n",
    "        wandb.log({\"sum_of_logs\": sum_of_logs}, commit=False)\n",
    "\n",
    "        for conf_thresh, logmoney in sum_of_logs.items():\n",
    "            if logmoney > best_sum_of_logs:\n",
    "                best_sum_of_logs = logmoney\n",
    "                print(f\"New best sum of logs {best_sum_of_logs}\")\n",
    "                torch.save(\n",
    "                    model.state_dict(),\n",
    "                    f\"models/VariationalRatesOfChange_{wandb.run.name}_confidence-{conf_thresh}_BestSumOfLogs-{logmoney:.2f}.pth\"\n",
    "                )\n",
    "\n",
    "        model.train()\n",
    "\n",
    "    wandb.log({\"epoch\": epoch + 1})"
   ]
  },
  {
   "cell_type": "markdown",
   "metadata": {},
   "source": [
    "#### save model"
   ]
  },
  {
   "cell_type": "code",
   "execution_count": 1,
   "metadata": {},
   "outputs": [
    {
     "ename": "NameError",
     "evalue": "name 'torch' is not defined",
     "output_type": "error",
     "traceback": [
      "\u001b[1;31m---------------------------------------------------------------------------\u001b[0m",
      "\u001b[1;31mNameError\u001b[0m                                 Traceback (most recent call last)",
      "Cell \u001b[1;32mIn[1], line 1\u001b[0m\n\u001b[1;32m----> 1\u001b[0m \u001b[43mtorch\u001b[49m\u001b[38;5;241m.\u001b[39msave(model\u001b[38;5;241m.\u001b[39mstate_dict(), \u001b[38;5;124mf\u001b[39m\u001b[38;5;124m\"\u001b[39m\u001b[38;5;124mmodels/VariationalRatesOfChange_\u001b[39m\u001b[38;5;132;01m{\u001b[39;00mwandb\u001b[38;5;241m.\u001b[39mrun\u001b[38;5;241m.\u001b[39mname\u001b[38;5;132;01m}\u001b[39;00m\u001b[38;5;124m.pth\u001b[39m\u001b[38;5;124m\"\u001b[39m)\n",
      "\u001b[1;31mNameError\u001b[0m: name 'torch' is not defined"
     ]
    }
   ],
   "source": [
    "torch.save(model.state_dict(), f\"models/VariationalRatesOfChange_{wandb.run.name}.pth\")"
   ]
  }
 ],
 "metadata": {
  "kernelspec": {
   "display_name": ".venv",
   "language": "python",
   "name": "python3"
  },
  "language_info": {
   "codemirror_mode": {
    "name": "ipython",
    "version": 3
   },
   "file_extension": ".py",
   "mimetype": "text/x-python",
   "name": "python",
   "nbconvert_exporter": "python",
   "pygments_lexer": "ipython3",
   "version": "3.11.4"
  }
 },
 "nbformat": 4,
 "nbformat_minor": 2
}
