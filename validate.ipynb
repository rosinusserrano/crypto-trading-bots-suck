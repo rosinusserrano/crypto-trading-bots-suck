{
 "cells": [
  {
   "cell_type": "code",
   "execution_count": null,
   "metadata": {},
   "outputs": [],
   "source": [
    "MODEL_DIR = \"model_state_dicts/FullyConnectedCrossEntropyClassifier/colorful-oath-91/best_avg_log_return_0.06\""
   ]
  },
  {
   "cell_type": "code",
   "execution_count": null,
   "metadata": {},
   "outputs": [],
   "source": []
  },
  {
   "cell_type": "code",
   "execution_count": null,
   "metadata": {},
   "outputs": [],
   "source": [
    "from models.fully_connected_cross_entropy_classifier import FullyConnectedCrossEntropyClassifier, FullyConnectedCrossEntropyClassifierConfig\n",
    "\n"
   ]
  }
 ],
 "metadata": {
  "language_info": {
   "name": "python"
  }
 },
 "nbformat": 4,
 "nbformat_minor": 2
}
